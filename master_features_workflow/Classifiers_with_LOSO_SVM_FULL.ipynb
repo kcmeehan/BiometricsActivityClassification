{
 "cells": [
  {
   "cell_type": "markdown",
   "metadata": {},
   "source": [
    "#### Tree based selection, feature selection with GA and LOSO with an SVM"
   ]
  },
  {
   "cell_type": "code",
   "execution_count": 2,
   "metadata": {},
   "outputs": [
    {
     "name": "stderr",
     "output_type": "stream",
     "text": [
      "/Users/rmartinshort/anaconda/envs/py36/lib/python3.6/site-packages/statsmodels/compat/pandas.py:56: FutureWarning: The pandas.core.datetools module is deprecated and will be removed in a future version. Please use the pandas.tseries module instead.\n",
      "  from pandas.core import datetools\n"
     ]
    }
   ],
   "source": [
    "from sklearn.svm import SVC\n",
    "from sklearn.model_selection import cross_validate, GridSearchCV, train_test_split\n",
    "from sklearn.feature_selection import SelectFromModel\n",
    "from sklearn.preprocessing import StandardScaler, LabelEncoder\n",
    "from sklearn.pipeline import Pipeline\n",
    "from parameter_feature_search import *\n",
    "import DataProcess as DP\n",
    "import glob\n",
    "import time\n",
    "import pandas as pd\n",
    "from plotting_tools import plot_feature_distributions\n",
    "import numpy as np\n",
    "import matplotlib.pyplot as plt\n",
    "import time\n",
    "import warnings\n",
    "warnings.filterwarnings(\"ignore\")\n",
    "%matplotlib inline"
   ]
  },
  {
   "cell_type": "markdown",
   "metadata": {},
   "source": [
    "#### We can choose to use just the protocol or just the optional datset"
   ]
  },
  {
   "cell_type": "code",
   "execution_count": 9,
   "metadata": {},
   "outputs": [],
   "source": [
    "protocol_datadir = '/Users/rmartinshort/Documents/Berkeley/GDSO/PAMAP2_data/PAMAP2_Dataset/Protocol/'\n",
    "optional_datadir = '/Users/rmartinshort/Documents/Berkeley/GDSO/PAMAP2_data/PAMAP2_Dataset/Optional/'"
   ]
  },
  {
   "cell_type": "code",
   "execution_count": 10,
   "metadata": {},
   "outputs": [],
   "source": [
    "allfiles = list(glob.glob(protocol_datadir+'*.dat'))+list(glob.glob(optional_datadir+'*.dat'))\n",
    "\n",
    "all_dfs = []\n",
    "for fname in allfiles:\n",
    "    subject_index = int(fname.split('/')[-1].split('.')[0][-1])\n",
    "    dp = DP.dataprocess(fname,T=512,stride=512)\n",
    "    \n",
    "    #For LOSO, we need subjectID in the final dataframe\n",
    "    dp.df['subjectID'] = int(subject_index)*np.ones(len(dp.df))\n",
    "    all_dfs.append(dp.df)\n",
    "    \n",
    "feature_df = pd.concat(all_dfs)"
   ]
  },
  {
   "cell_type": "code",
   "execution_count": 11,
   "metadata": {},
   "outputs": [
    {
     "data": {
      "text/plain": [
       "304"
      ]
     },
     "execution_count": 11,
     "metadata": {},
     "output_type": "execute_result"
    }
   ],
   "source": [
    "len(feature_df.columns)"
   ]
  },
  {
   "cell_type": "code",
   "execution_count": 12,
   "metadata": {},
   "outputs": [],
   "source": [
    "feature_df.to_csv(\"Features_df_with_subject.dat\",index=False)"
   ]
  },
  {
   "cell_type": "markdown",
   "metadata": {},
   "source": [
    "#### Load features dataframe"
   ]
  },
  {
   "cell_type": "code",
   "execution_count": 13,
   "metadata": {},
   "outputs": [],
   "source": [
    "feature_df = pd.read_csv(\"Features_df_with_subject.dat\")"
   ]
  },
  {
   "cell_type": "code",
   "execution_count": 14,
   "metadata": {},
   "outputs": [],
   "source": [
    "Y = feature_df['activityID']\n",
    "X = feature_df.drop(['activityID','subjectID'],axis=1)"
   ]
  },
  {
   "cell_type": "markdown",
   "metadata": {},
   "source": [
    "#### Scale the input matrix and generate classification labels from the target column"
   ]
  },
  {
   "cell_type": "code",
   "execution_count": 15,
   "metadata": {},
   "outputs": [],
   "source": [
    "sc = StandardScaler()\n",
    "X_scaled = pd.DataFrame(sc.fit_transform(X),columns=X.columns)\n",
    "le = LabelEncoder()\n",
    "labels = le.fit_transform(Y)"
   ]
  },
  {
   "cell_type": "markdown",
   "metadata": {},
   "source": [
    "#### Set up inputs for initial hyperparameter search function"
   ]
  },
  {
   "cell_type": "code",
   "execution_count": 16,
   "metadata": {},
   "outputs": [],
   "source": [
    "model = SVC()\n",
    "\n",
    "parameters = {\n",
    "    'classify__C': (100,200,500,1000),\n",
    "    'classify__degree': (1,3,4),\n",
    "    'classify__kernel':(\"poly\",\"rbf\",\"sigmoid\"),\n",
    "}"
   ]
  },
  {
   "cell_type": "markdown",
   "metadata": {},
   "source": [
    "#### Select optimal hyperparemeters (cannot select feature columns based on importance with SVM)"
   ]
  },
  {
   "cell_type": "code",
   "execution_count": 17,
   "metadata": {},
   "outputs": [
    {
     "name": "stdout",
     "output_type": "stream",
     "text": [
      "Performing grid search...\n",
      "pipeline: ['classify']\n",
      "parameters:\n",
      "{'classify__C': (100, 200, 500, 1000), 'classify__degree': (1, 3, 4), 'classify__kernel': ('poly', 'rbf', 'sigmoid')}\n",
      "Fitting 5 folds for each of 36 candidates, totalling 180 fits\n"
     ]
    },
    {
     "name": "stderr",
     "output_type": "stream",
     "text": [
      "[Parallel(n_jobs=4)]: Done  42 tasks      | elapsed:   42.7s\n",
      "[Parallel(n_jobs=4)]: Done 180 out of 180 | elapsed:  3.0min finished\n"
     ]
    },
    {
     "name": "stdout",
     "output_type": "stream",
     "text": [
      "done in 180.756s\n",
      "\n",
      "Best score: 0.971\n",
      "Best parameters set:\n",
      "\tclassify__C: 100\n",
      "\tclassify__degree: 1\n",
      "\tclassify__kernel: 'rbf'\n",
      "Hold out score: 0.974\n",
      "             precision    recall  f1-score   support\n",
      "\n",
      "          0       1.00      0.98      0.99        99\n",
      "          1       0.94      0.98      0.96       103\n",
      "          2       0.97      0.93      0.94       120\n",
      "          3       1.00      0.98      0.99       118\n",
      "          4       1.00      1.00      1.00        57\n",
      "          5       1.00      0.99      0.99        82\n",
      "          6       1.00      1.00      1.00       104\n",
      "          7       1.00      1.00      1.00        44\n",
      "          8       0.99      0.99      0.99       162\n",
      "          9       1.00      0.94      0.97        34\n",
      "         10       1.00      1.00      1.00        43\n",
      "         11       0.97      1.00      0.99        38\n",
      "         12       0.99      0.98      0.98        87\n",
      "         13       0.95      0.97      0.96       139\n",
      "         14       0.91      0.85      0.88        46\n",
      "         15       0.91      0.94      0.93       107\n",
      "         16       0.90      1.00      0.95        26\n",
      "         17       1.00      1.00      1.00        25\n",
      "\n",
      "avg / total       0.97      0.97      0.97      1434\n",
      "\n"
     ]
    }
   ],
   "source": [
    "best_classifier = test_model_initial_noselection(model,X_scaled,labels,parameters)"
   ]
  },
  {
   "cell_type": "code",
   "execution_count": 18,
   "metadata": {},
   "outputs": [
    {
     "data": {
      "text/plain": [
       "302"
      ]
     },
     "execution_count": 18,
     "metadata": {},
     "output_type": "execute_result"
    }
   ],
   "source": [
    "len(X.columns)"
   ]
  },
  {
   "cell_type": "markdown",
   "metadata": {},
   "source": [
    "#### Select optimal feature columns using genetic algorithm"
   ]
  },
  {
   "cell_type": "code",
   "execution_count": 19,
   "metadata": {},
   "outputs": [
    {
     "name": "stdout",
     "output_type": "stream",
     "text": [
      "GeneticAlgorithm: Testing generation 1\n",
      "GeneticAlgorithm: Testing generation 2\n",
      "GeneticAlgorithm: Testing generation 3\n",
      "GeneticAlgorithm: Testing generation 4\n",
      "GeneticAlgorithm: Testing generation 5\n",
      "GeneticAlgorithm: Testing generation 6\n",
      "GeneticAlgorithm: Testing generation 7\n",
      "GeneticAlgorithm: Testing generation 8\n",
      "GeneticAlgorithm: Testing generation 9\n",
      "GeneticAlgorithm: Testing generation 10\n",
      "GeneticAlgorithm: Testing generation 11\n",
      "GeneticAlgorithm: Testing generation 12\n",
      "GeneticAlgorithm: Testing generation 13\n",
      "GeneticAlgorithm: Testing generation 14\n",
      "GeneticAlgorithm: Testing generation 15\n",
      "GeneticAlgorithm: Testing generation 16\n",
      "GeneticAlgorithm: Testing generation 17\n",
      "GeneticAlgorithm: Testing generation 18\n",
      "GeneticAlgorithm: Testing generation 19\n",
      "GeneticAlgorithm: Testing generation 20\n",
      "GeneticAlgorithm: Testing generation 21\n",
      "GeneticAlgorithm: Testing generation 22\n",
      "GeneticAlgorithm: Testing generation 23\n",
      "GeneticAlgorithm: Testing generation 24\n",
      "GeneticAlgorithm: Testing generation 25\n",
      "GeneticAlgorithm: Testing generation 26\n",
      "GeneticAlgorithm: Testing generation 27\n",
      "GeneticAlgorithm: Testing generation 28\n",
      "GeneticAlgorithm: Testing generation 29\n",
      "GeneticAlgorithm: Testing generation 30\n",
      "GeneticAlgorithm: Testing generation 31\n",
      "GeneticAlgorithm: Testing generation 32\n",
      "GeneticAlgorithm: Testing generation 33\n",
      "GeneticAlgorithm: Testing generation 34\n",
      "GeneticAlgorithm: Testing generation 35\n",
      "GeneticAlgorithm: Testing generation 36\n",
      "GeneticAlgorithm: Testing generation 37\n",
      "GeneticAlgorithm: Testing generation 38\n",
      "GeneticAlgorithm: Testing generation 39\n",
      "GeneticAlgorithm: Testing generation 40\n",
      "GeneticAlgorithm: Testing generation 41\n",
      "GeneticAlgorithm: Testing generation 42\n",
      "GeneticAlgorithm: Testing generation 43\n",
      "GeneticAlgorithm: Testing generation 44\n",
      "GeneticAlgorithm: Testing generation 45\n",
      "GeneticAlgorithm: Testing generation 46\n",
      "GeneticAlgorithm: Testing generation 47\n",
      "GeneticAlgorithm: Testing generation 48\n",
      "GeneticAlgorithm: Testing generation 49\n",
      "GeneticAlgorithm: Testing generation 50\n",
      "GeneticAlgorithm: Testing generation 51\n",
      "GeneticAlgorithm: Testing generation 52\n",
      "GeneticAlgorithm: Testing generation 53\n",
      "GeneticAlgorithm: Testing generation 54\n",
      "GeneticAlgorithm: Testing generation 55\n",
      "GeneticAlgorithm: Testing generation 56\n",
      "GeneticAlgorithm: Testing generation 57\n",
      "GeneticAlgorithm: Testing generation 58\n",
      "GeneticAlgorithm: Testing generation 59\n",
      "GeneticAlgorithm: Testing generation 60\n",
      "GeneticAlgorithm: Testing generation 61\n",
      "GeneticAlgorithm: Testing generation 62\n",
      "GeneticAlgorithm: Testing generation 63\n",
      "GeneticAlgorithm: Testing generation 64\n",
      "GeneticAlgorithm: Testing generation 65\n",
      "GeneticAlgorithm: Testing generation 66\n",
      "GeneticAlgorithm: Testing generation 67\n",
      "GeneticAlgorithm: Testing generation 68\n",
      "GeneticAlgorithm: Testing generation 69\n",
      "GeneticAlgorithm: Testing generation 70\n",
      "GeneticAlgorithm: Testing generation 71\n",
      "GeneticAlgorithm: Testing generation 72\n",
      "GeneticAlgorithm: Testing generation 73\n",
      "GeneticAlgorithm: Testing generation 74\n",
      "GeneticAlgorithm: Testing generation 75\n",
      "GeneticAlgorithm: Testing generation 76\n",
      "GeneticAlgorithm: Testing generation 77\n",
      "GeneticAlgorithm: Testing generation 78\n",
      "GeneticAlgorithm: Testing generation 79\n",
      "GeneticAlgorithm: Testing generation 80\n",
      "GeneticAlgorithm: Testing generation 81\n",
      "GeneticAlgorithm: Testing generation 82\n",
      "GeneticAlgorithm: Testing generation 83\n",
      "GeneticAlgorithm: Testing generation 84\n",
      "GeneticAlgorithm: Testing generation 85\n",
      "GeneticAlgorithm: Testing generation 86\n",
      "GeneticAlgorithm: Testing generation 87\n",
      "GeneticAlgorithm: Testing generation 88\n",
      "GeneticAlgorithm: Testing generation 89\n",
      "GeneticAlgorithm: Testing generation 90\n",
      "GeneticAlgorithm: Testing generation 91\n",
      "GeneticAlgorithm: Testing generation 92\n",
      "GeneticAlgorithm: Testing generation 93\n",
      "GeneticAlgorithm: Testing generation 94\n",
      "GeneticAlgorithm: Testing generation 95\n",
      "GeneticAlgorithm: Testing generation 96\n",
      "GeneticAlgorithm: Testing generation 97\n",
      "GeneticAlgorithm: Testing generation 98\n",
      "GeneticAlgorithm: Testing generation 99\n"
     ]
    }
   ],
   "source": [
    "GA = Run_GA(X_scaled,labels,best_classifier)"
   ]
  },
  {
   "cell_type": "code",
   "execution_count": 35,
   "metadata": {},
   "outputs": [
    {
     "data": {
      "image/png": "[encoded data removed]",
      "text/plain": [
       "<matplotlib.figure.Figure at 0x1c1a595080>"
      ]
     },
     "metadata": {},
     "output_type": "display_data"
    }
   ],
   "source": [
    "fig = plt.figure(figsize=(8,6))\n",
    "ax = fig.add_subplot(111)\n",
    "ax.plot(GA.fitness_evolution)\n",
    "ax.set_xlabel('GA Iteration')\n",
    "ax.set_ylabel('Test score')\n",
    "plt.grid()\n",
    "plt.savefig('GA_SVD_scores.png',dpi=400)"
   ]
  },
  {
   "cell_type": "code",
   "execution_count": 21,
   "metadata": {},
   "outputs": [
    {
     "data": {
      "text/plain": [
       "0.999302649930265"
      ]
     },
     "execution_count": 21,
     "metadata": {},
     "output_type": "execute_result"
    }
   ],
   "source": [
    "GA.best_fitness"
   ]
  },
  {
   "cell_type": "code",
   "execution_count": 22,
   "metadata": {},
   "outputs": [
    {
     "data": {
      "text/plain": [
       "127"
      ]
     },
     "execution_count": 22,
     "metadata": {},
     "output_type": "execute_result"
    }
   ],
   "source": [
    "len(GA.feature_selection.columns)"
   ]
  },
  {
   "cell_type": "markdown",
   "metadata": {},
   "source": [
    "#### Do LOSO on the original feature columns "
   ]
  },
  {
   "cell_type": "code",
   "execution_count": 26,
   "metadata": {},
   "outputs": [],
   "source": [
    "X_features = X\n",
    "\n",
    "sc = StandardScaler()\n",
    "X_features_scaled = pd.DataFrame(sc.fit_transform(X_features),columns=X_features.columns)\n",
    "X_features_scaled['activityID'] = feature_df['activityID'].values\n",
    "X_features_scaled['subjectID'] = feature_df['subjectID'].values"
   ]
  },
  {
   "cell_type": "code",
   "execution_count": 27,
   "metadata": {},
   "outputs": [
    {
     "name": "stdout",
     "output_type": "stream",
     "text": [
      "Holding out subject 1\n",
      "----------------------------------------------------\n",
      "             precision    recall  f1-score   support\n",
      "\n",
      "        1.0       0.54      0.76      0.63        33\n",
      "        2.0       0.00      0.00      0.00        34\n",
      "        3.0       0.15      0.26      0.19        27\n",
      "        4.0       1.00      0.97      0.98        29\n",
      "        5.0       1.00      1.00      1.00        27\n",
      "        6.0       1.00      1.00      1.00        32\n",
      "        7.0       1.00      0.96      0.98        26\n",
      "        9.0       0.00      0.00      0.00       112\n",
      "       10.0       0.00      0.00      0.00         0\n",
      "       11.0       0.00      0.00      0.00        73\n",
      "       12.0       0.88      1.00      0.93        14\n",
      "       13.0       0.93      1.00      0.97        14\n",
      "       16.0       0.31      1.00      0.47        29\n",
      "       17.0       0.29      0.33      0.31        30\n",
      "       18.0       0.00      0.00      0.00        35\n",
      "       19.0       0.31      0.21      0.25        66\n",
      "       20.0       0.00      0.00      0.00         0\n",
      "       24.0       1.00      0.93      0.96        14\n",
      "\n",
      "avg / total       0.36      0.40      0.37       595\n",
      "\n",
      "----------------------------------------------------\n",
      "Holding out subject 8\n",
      "----------------------------------------------------\n",
      "             precision    recall  f1-score   support\n",
      "\n",
      "        1.0       1.00      1.00      1.00        35\n",
      "        2.0       0.36      0.71      0.48        28\n",
      "        3.0       0.43      1.00      0.60        33\n",
      "        4.0       0.86      1.00      0.93        38\n",
      "        5.0       1.00      0.75      0.86        24\n",
      "        6.0       0.82      1.00      0.90        31\n",
      "        7.0       1.00      0.63      0.77        35\n",
      "       10.0       0.97      0.63      0.76        94\n",
      "       12.0       0.91      1.00      0.95        10\n",
      "       13.0       0.88      1.00      0.93         7\n",
      "       16.0       0.60      1.00      0.75        34\n",
      "       17.0       1.00      0.10      0.17        42\n",
      "       18.0       0.00      0.00      0.00        30\n",
      "       19.0       0.61      0.75      0.67        52\n",
      "       20.0       0.58      0.74      0.65        19\n",
      "       24.0       1.00      0.12      0.22         8\n",
      "\n",
      "avg / total       0.76      0.70      0.67       520\n",
      "\n",
      "----------------------------------------------------\n",
      "Holding out subject 2\n",
      "----------------------------------------------------\n",
      "             precision    recall  f1-score   support\n",
      "\n",
      "        1.0       1.00      0.92      0.96        26\n",
      "        2.0       1.00      0.74      0.85        23\n",
      "        3.0       0.97      1.00      0.99        34\n",
      "        4.0       0.97      0.97      0.97        39\n",
      "        5.0       1.00      0.09      0.17        11\n",
      "        6.0       1.00      1.00      1.00        35\n",
      "        7.0       1.00      1.00      1.00        38\n",
      "       12.0       1.00      0.95      0.97        20\n",
      "       13.0       1.00      0.88      0.93        16\n",
      "       16.0       1.00      1.00      1.00        24\n",
      "       17.0       0.97      0.94      0.96        34\n",
      "       18.0       0.00      0.00      0.00         0\n",
      "       19.0       0.00      0.00      0.00         0\n",
      "       20.0       0.00      0.00      0.00         0\n",
      "       24.0       1.00      0.85      0.92        13\n",
      "\n",
      "avg / total       0.99      0.92      0.94       313\n",
      "\n",
      "----------------------------------------------------\n",
      "Holding out subject 5\n",
      "----------------------------------------------------\n",
      "             precision    recall  f1-score   support\n",
      "\n",
      "        1.0       1.00      1.00      1.00        27\n",
      "        2.0       0.22      0.97      0.35        35\n",
      "        3.0       0.66      0.88      0.75        26\n",
      "        4.0       1.00      1.00      1.00        46\n",
      "        5.0       1.00      0.95      0.97        37\n",
      "        6.0       1.00      1.00      1.00        26\n",
      "        7.0       1.00      1.00      1.00        31\n",
      "       10.0       1.00      0.09      0.16       138\n",
      "       12.0       1.00      1.00      1.00        15\n",
      "       13.0       0.92      1.00      0.96        12\n",
      "       16.0       0.81      0.76      0.79        34\n",
      "       17.0       0.89      0.98      0.93        42\n",
      "       18.0       0.00      0.00      0.00         0\n",
      "       19.0       0.66      0.55      0.60        42\n",
      "       20.0       0.00      0.00      0.00         0\n",
      "       24.0       1.00      0.80      0.89         5\n",
      "\n",
      "avg / total       0.88      0.69      0.66       516\n",
      "\n",
      "----------------------------------------------------\n",
      "Holding out subject 7\n",
      "----------------------------------------------------\n",
      "             precision    recall  f1-score   support\n",
      "\n",
      "        1.0       1.00      1.00      1.00        32\n",
      "        2.0       0.93      1.00      0.97        14\n",
      "        3.0       0.94      0.97      0.95        32\n",
      "        4.0       1.00      1.00      1.00        42\n",
      "        5.0       1.00      0.67      0.80         3\n",
      "        6.0       1.00      1.00      1.00        26\n",
      "        7.0       1.00      1.00      1.00        30\n",
      "       12.0       1.00      1.00      1.00        16\n",
      "       13.0       1.00      1.00      1.00         8\n",
      "       16.0       1.00      0.85      0.92        26\n",
      "       17.0       0.94      0.85      0.89        39\n",
      "       18.0       0.00      0.00      0.00         0\n",
      "       19.0       0.00      0.00      0.00         0\n",
      "\n",
      "avg / total       0.98      0.96      0.97       268\n",
      "\n",
      "----------------------------------------------------\n",
      "Holding out subject 6\n",
      "----------------------------------------------------\n",
      "             precision    recall  f1-score   support\n",
      "\n",
      "        1.0       1.00      1.00      1.00        25\n",
      "        2.0       0.24      1.00      0.39        26\n",
      "        3.0       1.00      0.69      0.81        32\n",
      "        4.0       1.00      1.00      1.00        32\n",
      "        5.0       1.00      0.44      0.61        32\n",
      "        6.0       1.00      0.97      0.98        30\n",
      "        7.0       1.00      1.00      1.00        33\n",
      "       10.0       0.57      0.05      0.09        80\n",
      "       12.0       1.00      1.00      1.00        11\n",
      "       13.0       1.00      1.00      1.00        10\n",
      "       16.0       0.93      1.00      0.96        25\n",
      "       17.0       0.63      0.98      0.76        48\n",
      "       18.0       0.00      0.00      0.00        27\n",
      "       19.0       0.82      0.82      0.82        33\n",
      "       20.0       0.00      0.00      0.00         0\n",
      "\n",
      "avg / total       0.76      0.69      0.66       444\n",
      "\n",
      "----------------------------------------------------\n",
      "Holding out subject 4\n",
      "----------------------------------------------------\n",
      "             precision    recall  f1-score   support\n",
      "\n",
      "        1.0       1.00      1.00      1.00        34\n",
      "        2.0       1.00      0.86      0.93        29\n",
      "        3.0       0.90      0.97      0.94        39\n",
      "        4.0       1.00      0.98      0.99        41\n",
      "        6.0       1.00      1.00      1.00        29\n",
      "        7.0       0.97      1.00      0.99        35\n",
      "       12.0       1.00      1.00      1.00        12\n",
      "       13.0       1.00      0.90      0.95        10\n",
      "       16.0       1.00      0.96      0.98        27\n",
      "       17.0       1.00      0.58      0.73        33\n",
      "       18.0       0.00      0.00      0.00         0\n",
      "       19.0       0.00      0.00      0.00         0\n",
      "\n",
      "avg / total       0.98      0.92      0.95       289\n",
      "\n",
      "----------------------------------------------------\n",
      "Holding out subject 3\n",
      "----------------------------------------------------\n",
      "             precision    recall  f1-score   support\n",
      "\n",
      "        1.0       1.00      1.00      1.00        27\n",
      "        2.0       0.93      0.93      0.93        40\n",
      "        3.0       1.00      0.88      0.93        24\n",
      "        4.0       1.00      1.00      1.00        36\n",
      "       10.0       0.00      0.00      0.00         0\n",
      "       12.0       1.00      1.00      1.00         7\n",
      "       13.0       1.00      1.00      1.00        11\n",
      "       16.0       1.00      0.95      0.98        22\n",
      "       17.0       1.00      0.62      0.77        37\n",
      "       18.0       0.00      0.00      0.00         0\n",
      "       19.0       0.00      0.00      0.00         0\n",
      "\n",
      "avg / total       0.99      0.90      0.93       204\n",
      "\n",
      "----------------------------------------------------\n",
      "Holding out subject 9\n",
      "----------------------------------------------------\n",
      "             precision    recall  f1-score   support\n",
      "\n",
      "        2.0       0.00      0.00      0.00         0\n",
      "        5.0       0.00      0.00      0.00         0\n",
      "        6.0       0.00      0.00      0.00         0\n",
      "       10.0       1.00      0.89      0.94        87\n",
      "       16.0       0.00      0.00      0.00         0\n",
      "       17.0       0.00      0.00      0.00         0\n",
      "       18.0       0.00      0.00      0.00        33\n",
      "       19.0       0.64      0.47      0.55        38\n",
      "       20.0       1.00      0.50      0.67        32\n",
      "       24.0       1.00      1.00      1.00         4\n",
      "\n",
      "avg / total       0.76      0.59      0.66       194\n",
      "\n",
      "----------------------------------------------------\n"
     ]
    }
   ],
   "source": [
    "subject_scores_no_selection = LOSO(X_features_scaled,best_classifier)"
   ]
  },
  {
   "cell_type": "code",
   "execution_count": 28,
   "metadata": {},
   "outputs": [
    {
     "data": {
      "text/plain": [
       "{'1.0': 0.4,\n",
       " '2.0': 0.9169329073482428,\n",
       " '3.0': 0.8970588235294118,\n",
       " '4.0': 0.9238754325259516,\n",
       " '5.0': 0.687984496124031,\n",
       " '6.0': 0.6869369369369369,\n",
       " '7.0': 0.9552238805970149,\n",
       " '8.0': 0.7019230769230769,\n",
       " '9.0': 0.5927835051546392}"
      ]
     },
     "execution_count": 28,
     "metadata": {},
     "output_type": "execute_result"
    }
   ],
   "source": [
    "subject_scores_no_selection"
   ]
  },
  {
   "cell_type": "code",
   "execution_count": 29,
   "metadata": {},
   "outputs": [],
   "source": [
    "mean_LOSO_no_selection = np.mean([subject_scores_no_selection[e] for e in list(subject_scores_no_selection.keys())])"
   ]
  },
  {
   "cell_type": "markdown",
   "metadata": {},
   "source": [
    "#### Do LOSO on the feature columns selected by the GA"
   ]
  },
  {
   "cell_type": "code",
   "execution_count": 30,
   "metadata": {},
   "outputs": [],
   "source": [
    "new_features_GA = list(GA.feature_columns) + ['activityID','subjectID']\n",
    "X_feature_select_GA = feature_df[new_features_GA]\n",
    "\n",
    "sc = StandardScaler()\n",
    "X_feature_select_GA_scaled = pd.DataFrame(sc.fit_transform(X_feature_select_GA),columns=X_feature_select_GA.columns)\n",
    "X_feature_select_GA_scaled['activityID'] = X_feature_select_GA['activityID'].values\n",
    "X_feature_select_GA_scaled['subjectID'] = X_feature_select_GA['subjectID'].values"
   ]
  },
  {
   "cell_type": "code",
   "execution_count": 31,
   "metadata": {},
   "outputs": [
    {
     "name": "stdout",
     "output_type": "stream",
     "text": [
      "Holding out subject 8\n",
      "----------------------------------------------------\n",
      "             precision    recall  f1-score   support\n",
      "\n",
      "        1.0       1.00      0.97      0.98        30\n",
      "        2.0       0.37      0.76      0.49        25\n",
      "        3.0       0.39      1.00      0.56        30\n",
      "        4.0       0.97      0.97      0.97        34\n",
      "        5.0       1.00      0.52      0.69        23\n",
      "        6.0       0.82      1.00      0.90        33\n",
      "        7.0       1.00      0.70      0.82        40\n",
      "       10.0       0.95      0.64      0.76        91\n",
      "       12.0       0.91      1.00      0.95        10\n",
      "       13.0       0.78      1.00      0.88         7\n",
      "       16.0       0.69      0.97      0.80        34\n",
      "       17.0       1.00      0.16      0.27        45\n",
      "       18.0       0.00      0.00      0.00        32\n",
      "       19.0       0.52      0.69      0.60        52\n",
      "       20.0       0.38      0.72      0.50        18\n",
      "       24.0       0.00      0.00      0.00         9\n",
      "\n",
      "avg / total       0.74      0.68      0.65       513\n",
      "\n",
      "----------------------------------------------------\n",
      "Holding out subject 9\n",
      "----------------------------------------------------\n",
      "             precision    recall  f1-score   support\n",
      "\n",
      "        1.0       0.00      0.00      0.00         0\n",
      "        2.0       0.00      0.00      0.00         0\n",
      "        5.0       0.00      0.00      0.00         0\n",
      "        6.0       0.00      0.00      0.00         0\n",
      "        7.0       0.00      0.00      0.00         0\n",
      "       10.0       1.00      0.84      0.91        85\n",
      "       16.0       0.00      0.00      0.00         0\n",
      "       17.0       0.00      0.00      0.00         0\n",
      "       18.0       0.00      0.00      0.00        35\n",
      "       19.0       0.91      0.54      0.68        39\n",
      "       20.0       1.00      0.39      0.56        36\n",
      "       24.0       1.00      1.00      1.00         4\n",
      "\n",
      "avg / total       0.81      0.55      0.64       199\n",
      "\n",
      "----------------------------------------------------\n",
      "Holding out subject 1\n",
      "----------------------------------------------------\n",
      "             precision    recall  f1-score   support\n",
      "\n",
      "        1.0       0.54      0.81      0.64        36\n",
      "        2.0       0.00      0.00      0.00        27\n",
      "        3.0       0.09      0.11      0.10        27\n",
      "        4.0       1.00      0.86      0.93        29\n",
      "        5.0       1.00      0.90      0.95        30\n",
      "        6.0       1.00      1.00      1.00        31\n",
      "        7.0       1.00      0.96      0.98        24\n",
      "        9.0       0.00      0.00      0.00       106\n",
      "       10.0       0.00      0.00      0.00         0\n",
      "       11.0       0.00      0.00      0.00        76\n",
      "       12.0       0.78      1.00      0.88        14\n",
      "       13.0       0.76      1.00      0.87        13\n",
      "       16.0       0.27      1.00      0.43        25\n",
      "       17.0       0.19      0.31      0.24        32\n",
      "       18.0       0.00      0.00      0.00        39\n",
      "       19.0       0.14      0.07      0.10        69\n",
      "       20.0       0.00      0.00      0.00         0\n",
      "       24.0       1.00      1.00      1.00        17\n",
      "\n",
      "avg / total       0.33      0.37      0.34       595\n",
      "\n",
      "----------------------------------------------------\n",
      "Holding out subject 2\n",
      "----------------------------------------------------\n",
      "             precision    recall  f1-score   support\n",
      "\n",
      "        1.0       1.00      0.88      0.94        26\n",
      "        2.0       1.00      0.83      0.91        24\n",
      "        3.0       0.93      1.00      0.96        25\n",
      "        4.0       0.98      1.00      0.99        41\n",
      "        5.0       0.00      0.00      0.00        12\n",
      "        6.0       1.00      1.00      1.00        29\n",
      "        7.0       1.00      1.00      1.00        40\n",
      "       12.0       1.00      0.95      0.98        21\n",
      "       13.0       1.00      0.88      0.93        16\n",
      "       16.0       1.00      1.00      1.00        28\n",
      "       17.0       1.00      0.95      0.97        40\n",
      "       19.0       0.00      0.00      0.00         0\n",
      "       20.0       0.00      0.00      0.00         0\n",
      "       24.0       1.00      0.88      0.93        16\n",
      "\n",
      "avg / total       0.95      0.92      0.93       318\n",
      "\n",
      "----------------------------------------------------\n",
      "Holding out subject 6\n",
      "----------------------------------------------------\n",
      "             precision    recall  f1-score   support\n",
      "\n",
      "        1.0       0.97      1.00      0.98        31\n",
      "        2.0       0.24      1.00      0.38        24\n",
      "        3.0       0.83      0.77      0.80        31\n",
      "        4.0       1.00      1.00      1.00        33\n",
      "        5.0       1.00      0.36      0.53        28\n",
      "        6.0       1.00      0.96      0.98        25\n",
      "        7.0       1.00      1.00      1.00        33\n",
      "       10.0       0.50      0.04      0.07        77\n",
      "       12.0       0.86      1.00      0.92        12\n",
      "       13.0       0.88      1.00      0.93         7\n",
      "       16.0       0.94      0.97      0.95        30\n",
      "       17.0       0.69      0.98      0.81        54\n",
      "       18.0       0.50      0.04      0.08        24\n",
      "       19.0       0.97      0.74      0.84        39\n",
      "       20.0       0.00      0.00      0.00         0\n",
      "\n",
      "avg / total       0.78      0.70      0.67       448\n",
      "\n",
      "----------------------------------------------------\n",
      "Holding out subject 4\n",
      "----------------------------------------------------\n",
      "             precision    recall  f1-score   support\n",
      "\n",
      "        1.0       1.00      1.00      1.00        35\n",
      "        2.0       0.96      0.85      0.90        27\n",
      "        3.0       0.87      0.93      0.90        28\n",
      "        4.0       1.00      1.00      1.00        34\n",
      "        6.0       1.00      1.00      1.00        31\n",
      "        7.0       0.97      1.00      0.99        36\n",
      "       12.0       1.00      1.00      1.00        15\n",
      "       13.0       1.00      0.94      0.97        16\n",
      "       16.0       1.00      0.93      0.96        27\n",
      "       17.0       1.00      0.71      0.83        35\n",
      "       18.0       0.00      0.00      0.00         0\n",
      "       19.0       0.00      0.00      0.00         0\n",
      "\n",
      "avg / total       0.98      0.93      0.95       284\n",
      "\n",
      "----------------------------------------------------\n",
      "Holding out subject 5\n",
      "----------------------------------------------------\n",
      "             precision    recall  f1-score   support\n",
      "\n",
      "        1.0       0.97      1.00      0.99        34\n",
      "        2.0       0.21      0.94      0.34        32\n",
      "        3.0       0.43      0.74      0.54        27\n",
      "        4.0       1.00      1.00      1.00        44\n",
      "        5.0       1.00      0.93      0.97        30\n",
      "        6.0       1.00      1.00      1.00        28\n",
      "        7.0       1.00      1.00      1.00        31\n",
      "       10.0       1.00      0.13      0.23       152\n",
      "       12.0       1.00      1.00      1.00        12\n",
      "       13.0       1.00      1.00      1.00        11\n",
      "       16.0       0.81      0.85      0.83        26\n",
      "       17.0       0.85      0.95      0.90        41\n",
      "       18.0       0.00      0.00      0.00         0\n",
      "       19.0       0.73      0.56      0.63        34\n",
      "       20.0       0.00      0.00      0.00         0\n",
      "       24.0       1.00      0.86      0.92         7\n",
      "\n",
      "avg / total       0.88      0.68      0.66       509\n",
      "\n",
      "----------------------------------------------------\n",
      "Holding out subject 3\n",
      "----------------------------------------------------\n",
      "             precision    recall  f1-score   support\n",
      "\n",
      "        1.0       1.00      0.96      0.98        26\n",
      "        2.0       0.93      0.90      0.91        41\n",
      "        3.0       1.00      0.89      0.94        28\n",
      "        4.0       1.00      1.00      1.00        37\n",
      "       10.0       0.00      0.00      0.00         0\n",
      "       12.0       1.00      1.00      1.00         7\n",
      "       13.0       1.00      1.00      1.00        11\n",
      "       16.0       1.00      1.00      1.00        24\n",
      "       17.0       1.00      0.63      0.78        30\n",
      "       18.0       0.00      0.00      0.00         0\n",
      "       19.0       0.00      0.00      0.00         0\n",
      "\n",
      "avg / total       0.98      0.91      0.94       204\n",
      "\n",
      "----------------------------------------------------\n",
      "Holding out subject 7\n",
      "----------------------------------------------------\n",
      "             precision    recall  f1-score   support\n",
      "\n",
      "        1.0       1.00      1.00      1.00        29\n",
      "        2.0       0.62      1.00      0.76        13\n",
      "        3.0       0.96      0.78      0.86        32\n",
      "        4.0       1.00      1.00      1.00        45\n",
      "        5.0       1.00      1.00      1.00         2\n",
      "        6.0       1.00      1.00      1.00        30\n",
      "        7.0       1.00      1.00      1.00        32\n",
      "       12.0       1.00      1.00      1.00        17\n",
      "       13.0       1.00      1.00      1.00        10\n",
      "       16.0       1.00      0.88      0.93        24\n",
      "       17.0       0.97      0.90      0.93        39\n",
      "       18.0       0.00      0.00      0.00         0\n",
      "       19.0       0.00      0.00      0.00         0\n",
      "\n",
      "avg / total       0.97      0.95      0.96       273\n",
      "\n",
      "----------------------------------------------------\n"
     ]
    }
   ],
   "source": [
    "subject_scores_GA_selection = LOSO(X_feature_select_GA_scaled,best_classifier)"
   ]
  },
  {
   "cell_type": "code",
   "execution_count": 32,
   "metadata": {},
   "outputs": [
    {
     "data": {
      "text/plain": [
       "{'1.0': 0.373109243697479,\n",
       " '2.0': 0.9182389937106918,\n",
       " '3.0': 0.9068627450980392,\n",
       " '4.0': 0.9330985915492958,\n",
       " '5.0': 0.6758349705304518,\n",
       " '6.0': 0.6986607142857143,\n",
       " '7.0': 0.9487179487179487,\n",
       " '8.0': 0.6783625730994152,\n",
       " '9.0': 0.5527638190954773}"
      ]
     },
     "execution_count": 32,
     "metadata": {},
     "output_type": "execute_result"
    }
   ],
   "source": [
    "subject_scores_GA_selection"
   ]
  },
  {
   "cell_type": "code",
   "execution_count": 33,
   "metadata": {},
   "outputs": [],
   "source": [
    "mean_LOSO_GA = np.mean([subject_scores_GA_selection[e] for e in list(subject_scores_GA_selection.keys())])"
   ]
  },
  {
   "cell_type": "markdown",
   "metadata": {},
   "source": [
    "#### Compare final scores"
   ]
  },
  {
   "cell_type": "code",
   "execution_count": 34,
   "metadata": {},
   "outputs": [
    {
     "name": "stdout",
     "output_type": "stream",
     "text": [
      "Mean LOSO score for GA-based selection: 0.743\n",
      "Mean LOSO score for no feature selection: 0.751\n"
     ]
    }
   ],
   "source": [
    "print('Mean LOSO score for GA-based selection: %0.3f' %mean_LOSO_GA)\n",
    "print('Mean LOSO score for no feature selection: %0.3f' %mean_LOSO_no_selection)"
   ]
  },
  {
   "cell_type": "markdown",
   "metadata": {},
   "source": [
    "Conclusion: GA selection of optimal columns improves the scores in the traditional train-test split learning task, but has ne effect on the LOSO test"
   ]
  },
  {
   "cell_type": "code",
   "execution_count": null,
   "metadata": {},
   "outputs": [],
   "source": []
  }
 ],
 "metadata": {
  "kernelspec": {
   "display_name": "Python 3",
   "language": "python",
   "name": "python3"
  },
  "language_info": {
   "codemirror_mode": {
    "name": "ipython",
    "version": 3
   },
   "file_extension": ".py",
   "mimetype": "text/x-python",
   "name": "python",
   "nbconvert_exporter": "python",
   "pygments_lexer": "ipython3",
   "version": "3.6.4"
  }
 },
 "nbformat": 4,
 "nbformat_minor": 2
}
