{
 "cells": [
  {
   "cell_type": "markdown",
   "metadata": {},
   "source": [
    "#### Carry out tree-based feature selection, feature selection with the Genetic Algorithm and LOSO with a random forest classifier"
   ]
  },
  {
   "cell_type": "code",
   "execution_count": 1,
   "metadata": {},
   "outputs": [
    {
     "name": "stderr",
     "output_type": "stream",
     "text": [
      "/home/rmartinshort/anaconda2/envs/python3/lib/python3.6/site-packages/statsmodels/compat/pandas.py:56: FutureWarning: The pandas.core.datetools module is deprecated and will be removed in a future version. Please use the pandas.tseries module instead.\n",
      "  from pandas.core import datetools\n"
     ]
    }
   ],
   "source": [
    "from sklearn.ensemble import RandomForestClassifier\n",
    "from sklearn.model_selection import cross_validate, GridSearchCV, train_test_split\n",
    "from sklearn.feature_selection import SelectFromModel\n",
    "from sklearn.preprocessing import StandardScaler, LabelEncoder\n",
    "from sklearn.pipeline import Pipeline\n",
    "from parameter_feature_search import *\n",
    "import glob\n",
    "import time\n",
    "import pandas as pd\n",
    "from plotting_tools import plot_feature_distributions\n",
    "import numpy as np\n",
    "import matplotlib.pyplot as plt\n",
    "import time\n",
    "import warnings\n",
    "import DataProcess as DP\n",
    "warnings.filterwarnings(\"ignore\")\n",
    "%matplotlib inline"
   ]
  },
  {
   "cell_type": "markdown",
   "metadata": {},
   "source": [
    "#### We can choose to use just the protocol or just the optional datset"
   ]
  },
  {
   "cell_type": "code",
   "execution_count": 2,
   "metadata": {},
   "outputs": [],
   "source": [
    "protocol_datadir = '/home/rmartinshort/Documents/Berkeley/GDSO/PAMAP2_Dataset/Protocol/'\n",
    "optional_datadir = '/home/rmartinshort/Documents/Berkeley/GDSO/PAMAP2_Dataset/Optional/'"
   ]
  },
  {
   "cell_type": "code",
   "execution_count": 3,
   "metadata": {},
   "outputs": [
    {
     "name": "stdout",
     "output_type": "stream",
     "text": [
      "/home/rmartinshort/Documents/Berkeley/GDSO/PAMAP2_Dataset/Protocol/subject101.dat\n",
      "/home/rmartinshort/Documents/Berkeley/GDSO/PAMAP2_Dataset/Protocol/subject107.dat\n",
      "/home/rmartinshort/Documents/Berkeley/GDSO/PAMAP2_Dataset/Protocol/subject105.dat\n",
      "/home/rmartinshort/Documents/Berkeley/GDSO/PAMAP2_Dataset/Protocol/subject106.dat\n",
      "/home/rmartinshort/Documents/Berkeley/GDSO/PAMAP2_Dataset/Protocol/subject103.dat\n",
      "/home/rmartinshort/Documents/Berkeley/GDSO/PAMAP2_Dataset/Protocol/subject109.dat\n",
      "/home/rmartinshort/Documents/Berkeley/GDSO/PAMAP2_Dataset/Protocol/subject104.dat\n",
      "/home/rmartinshort/Documents/Berkeley/GDSO/PAMAP2_Dataset/Protocol/subject102.dat\n",
      "/home/rmartinshort/Documents/Berkeley/GDSO/PAMAP2_Dataset/Protocol/subject108.dat\n",
      "/home/rmartinshort/Documents/Berkeley/GDSO/PAMAP2_Dataset/Optional/subject101.dat\n",
      "/home/rmartinshort/Documents/Berkeley/GDSO/PAMAP2_Dataset/Optional/subject105.dat\n",
      "/home/rmartinshort/Documents/Berkeley/GDSO/PAMAP2_Dataset/Optional/subject106.dat\n",
      "/home/rmartinshort/Documents/Berkeley/GDSO/PAMAP2_Dataset/Optional/subject109.dat\n",
      "/home/rmartinshort/Documents/Berkeley/GDSO/PAMAP2_Dataset/Optional/subject108.dat\n"
     ]
    }
   ],
   "source": [
    "allfiles = list(glob.glob(protocol_datadir+'*.dat'))+list(glob.glob(optional_datadir+'*.dat'))\n",
    "\n",
    "all_dfs = []\n",
    "for fname in allfiles:\n",
    "    print(fname)\n",
    "    subject_index = int(fname.split('/')[-1].split('.')[0][-1])\n",
    "    dp = DP.dataprocess(fname,T=512,stride=512)\n",
    "    \n",
    "    #For LOSO, we need subjectID in the final dataframe\n",
    "    dp.df['subjectID'] = int(subject_index)*np.ones(len(dp.df))\n",
    "    all_dfs.append(dp.df)\n",
    "    \n",
    "feature_df = pd.concat(all_dfs)"
   ]
  },
  {
   "cell_type": "code",
   "execution_count": 5,
   "metadata": {},
   "outputs": [],
   "source": [
    "feature_df.to_csv(\"Features_df_with_subject.dat\",index=False)"
   ]
  },
  {
   "cell_type": "markdown",
   "metadata": {},
   "source": [
    "#### Load features dataframe"
   ]
  },
  {
   "cell_type": "code",
   "execution_count": 2,
   "metadata": {},
   "outputs": [],
   "source": [
    "feature_df = pd.read_csv(\"Features_df_with_subject.dat\")"
   ]
  },
  {
   "cell_type": "code",
   "execution_count": 3,
   "metadata": {},
   "outputs": [],
   "source": [
    "Y = feature_df['activityID']\n",
    "X = feature_df.drop(['activityID','subjectID'],axis=1)"
   ]
  },
  {
   "cell_type": "markdown",
   "metadata": {},
   "source": [
    "#### Scale the input matrix and generate classification labels from the target column"
   ]
  },
  {
   "cell_type": "code",
   "execution_count": 4,
   "metadata": {},
   "outputs": [],
   "source": [
    "sc = StandardScaler()\n",
    "X_scaled = pd.DataFrame(sc.fit_transform(X),columns=X.columns)\n",
    "le = LabelEncoder()\n",
    "labels = le.fit_transform(Y)"
   ]
  },
  {
   "cell_type": "markdown",
   "metadata": {},
   "source": [
    "#### Set up inputs for initial hyperparameter search function"
   ]
  },
  {
   "cell_type": "code",
   "execution_count": 5,
   "metadata": {},
   "outputs": [],
   "source": [
    "model = RandomForestClassifier()\n",
    "\n",
    "parameters = {\n",
    "    'classify__n_estimators': (85,95,100,105),\n",
    "    'classify__max_depth': (10,20,30,50,None),\n",
    "    'classify__class_weight':(\"balanced\",\"balanced_subsample\",None),\n",
    "    'classify__criterion':('gini','entropy')\n",
    "}"
   ]
  },
  {
   "cell_type": "markdown",
   "metadata": {},
   "source": [
    "#### Select optimal hyperparemeters and an estimate of the best feature columns"
   ]
  },
  {
   "cell_type": "code",
   "execution_count": 8,
   "metadata": {},
   "outputs": [
    {
     "name": "stdout",
     "output_type": "stream",
     "text": [
      "Performing grid search...\n",
      "pipeline: ['select', 'classify']\n",
      "parameters:\n",
      "{'classify__n_estimators': (85, 95, 100, 105), 'classify__max_depth': (10, 20, 30, 50, None), 'classify__class_weight': ('balanced', 'balanced_subsample', None), 'classify__criterion': ('gini', 'entropy')}\n",
      "Fitting 5 folds for each of 120 candidates, totalling 600 fits\n"
     ]
    },
    {
     "name": "stderr",
     "output_type": "stream",
     "text": [
      "[Parallel(n_jobs=4)]: Done  42 tasks      | elapsed:   34.3s\n",
      "[Parallel(n_jobs=4)]: Done 192 tasks      | elapsed:  5.4min\n",
      "[Parallel(n_jobs=4)]: Done 442 tasks      | elapsed: 12.1min\n",
      "[Parallel(n_jobs=4)]: Done 600 out of 600 | elapsed: 17.0min finished\n"
     ]
    },
    {
     "name": "stdout",
     "output_type": "stream",
     "text": [
      "done in 1022.114s\n",
      "\n",
      "Best score: 0.987\n",
      "Best parameters set:\n",
      "\tclassify__class_weight: 'balanced_subsample'\n",
      "\tclassify__criterion: 'gini'\n",
      "\tclassify__max_depth: 30\n",
      "\tclassify__n_estimators: 95\n",
      "Hold out score: 0.988\n"
     ]
    }
   ],
   "source": [
    "X_new, best_classifier_fselect = test_model_initial(model,X_scaled,labels,parameters)"
   ]
  },
  {
   "cell_type": "code",
   "execution_count": 7,
   "metadata": {},
   "outputs": [
    {
     "data": {
      "text/plain": [
       "100"
      ]
     },
     "execution_count": 7,
     "metadata": {},
     "output_type": "execute_result"
    }
   ],
   "source": [
    "len(X_new.columns)"
   ]
  },
  {
   "cell_type": "markdown",
   "metadata": {},
   "source": [
    "#### Find the best classifier without selecting feature columns"
   ]
  },
  {
   "cell_type": "code",
   "execution_count": 9,
   "metadata": {},
   "outputs": [
    {
     "name": "stdout",
     "output_type": "stream",
     "text": [
      "Performing grid search...\n",
      "pipeline: ['classify']\n",
      "parameters:\n",
      "{'classify__n_estimators': (85, 95, 100, 105), 'classify__max_depth': (10, 20, 30, 50, None), 'classify__class_weight': ('balanced', 'balanced_subsample', None), 'classify__criterion': ('gini', 'entropy')}\n",
      "Fitting 5 folds for each of 120 candidates, totalling 600 fits\n"
     ]
    },
    {
     "name": "stderr",
     "output_type": "stream",
     "text": [
      "[Parallel(n_jobs=4)]: Done  42 tasks      | elapsed:   49.4s\n",
      "[Parallel(n_jobs=4)]: Done 192 tasks      | elapsed:  9.2min\n",
      "[Parallel(n_jobs=4)]: Done 442 tasks      | elapsed: 20.4min\n",
      "[Parallel(n_jobs=4)]: Done 600 out of 600 | elapsed: 28.9min finished\n"
     ]
    },
    {
     "name": "stdout",
     "output_type": "stream",
     "text": [
      "done in 1740.945s\n",
      "\n",
      "Best score: 0.988\n",
      "Best parameters set:\n",
      "\tclassify__class_weight: 'balanced'\n",
      "\tclassify__criterion: 'gini'\n",
      "\tclassify__max_depth: None\n",
      "\tclassify__n_estimators: 95\n",
      "Hold out score: 0.987\n",
      "             precision    recall  f1-score   support\n",
      "\n",
      "          0       1.00      1.00      1.00       103\n",
      "          1       0.99      0.97      0.98       108\n",
      "          2       0.95      0.99      0.97        91\n",
      "          3       0.99      1.00      1.00       130\n",
      "          4       1.00      1.00      1.00        47\n",
      "          5       1.00      1.00      1.00        78\n",
      "          6       0.99      1.00      0.99        89\n",
      "          7       1.00      1.00      1.00        57\n",
      "          8       1.00      0.99      1.00       166\n",
      "          9       1.00      1.00      1.00        30\n",
      "         10       0.98      1.00      0.99        50\n",
      "         11       1.00      0.95      0.98        44\n",
      "         12       0.98      0.96      0.97        95\n",
      "         13       0.98      0.99      0.98       128\n",
      "         14       1.00      0.98      0.99        52\n",
      "         15       0.95      0.95      0.95       111\n",
      "         16       1.00      1.00      1.00        27\n",
      "         17       1.00      1.00      1.00        28\n",
      "\n",
      "avg / total       0.99      0.99      0.99      1434\n",
      "\n"
     ]
    }
   ],
   "source": [
    "best_classifier_nodrop = test_model_initial_noselection(model,X_scaled,labels,parameters)"
   ]
  },
  {
   "cell_type": "markdown",
   "metadata": {},
   "source": [
    "#### Select optimal feature columns using genetic algorithm"
   ]
  },
  {
   "cell_type": "code",
   "execution_count": 10,
   "metadata": {},
   "outputs": [
    {
     "name": "stdout",
     "output_type": "stream",
     "text": [
      "GeneticAlgorithm: Testing generation 1\n",
      "GeneticAlgorithm: Testing generation 2\n",
      "GeneticAlgorithm: Testing generation 3\n",
      "GeneticAlgorithm: Testing generation 4\n",
      "GeneticAlgorithm: Testing generation 5\n",
      "GeneticAlgorithm: Testing generation 6\n",
      "GeneticAlgorithm: Testing generation 7\n",
      "GeneticAlgorithm: Testing generation 8\n",
      "GeneticAlgorithm: Testing generation 9\n",
      "GeneticAlgorithm: Testing generation 10\n",
      "GeneticAlgorithm: Testing generation 11\n",
      "GeneticAlgorithm: Testing generation 12\n",
      "GeneticAlgorithm: Testing generation 13\n",
      "GeneticAlgorithm: Testing generation 14\n",
      "GeneticAlgorithm: Testing generation 15\n",
      "GeneticAlgorithm: Testing generation 16\n",
      "GeneticAlgorithm: Testing generation 17\n",
      "GeneticAlgorithm: Testing generation 18\n",
      "GeneticAlgorithm: Testing generation 19\n",
      "GeneticAlgorithm: Testing generation 20\n",
      "GeneticAlgorithm: Testing generation 21\n",
      "GeneticAlgorithm: Testing generation 22\n",
      "GeneticAlgorithm: Testing generation 23\n",
      "GeneticAlgorithm: Testing generation 24\n",
      "GeneticAlgorithm: Testing generation 25\n",
      "GeneticAlgorithm: Testing generation 26\n",
      "GeneticAlgorithm: Testing generation 27\n",
      "GeneticAlgorithm: Testing generation 28\n",
      "GeneticAlgorithm: Testing generation 29\n",
      "GeneticAlgorithm: Testing generation 30\n",
      "GeneticAlgorithm: Testing generation 31\n",
      "GeneticAlgorithm: Testing generation 32\n",
      "GeneticAlgorithm: Testing generation 33\n",
      "GeneticAlgorithm: Testing generation 34\n",
      "GeneticAlgorithm: Testing generation 35\n",
      "GeneticAlgorithm: Testing generation 36\n",
      "GeneticAlgorithm: Testing generation 37\n",
      "GeneticAlgorithm: Testing generation 38\n",
      "GeneticAlgorithm: Testing generation 39\n",
      "GeneticAlgorithm: Testing generation 40\n",
      "GeneticAlgorithm: Testing generation 41\n",
      "GeneticAlgorithm: Testing generation 42\n",
      "GeneticAlgorithm: Testing generation 43\n",
      "GeneticAlgorithm: Testing generation 44\n",
      "GeneticAlgorithm: Testing generation 45\n",
      "GeneticAlgorithm: Testing generation 46\n",
      "GeneticAlgorithm: Testing generation 47\n",
      "GeneticAlgorithm: Testing generation 48\n",
      "GeneticAlgorithm: Testing generation 49\n",
      "GeneticAlgorithm: Testing generation 50\n",
      "GeneticAlgorithm: Testing generation 51\n",
      "GeneticAlgorithm: Testing generation 52\n",
      "GeneticAlgorithm: Testing generation 53\n",
      "GeneticAlgorithm: Testing generation 54\n",
      "GeneticAlgorithm: Testing generation 55\n",
      "GeneticAlgorithm: Testing generation 56\n",
      "GeneticAlgorithm: Testing generation 57\n",
      "GeneticAlgorithm: Testing generation 58\n",
      "GeneticAlgorithm: Testing generation 59\n",
      "GeneticAlgorithm: Testing generation 60\n",
      "GeneticAlgorithm: Testing generation 61\n",
      "GeneticAlgorithm: Testing generation 62\n",
      "GeneticAlgorithm: Testing generation 63\n",
      "GeneticAlgorithm: Testing generation 64\n",
      "GeneticAlgorithm: Testing generation 65\n",
      "GeneticAlgorithm: Testing generation 66\n",
      "GeneticAlgorithm: Testing generation 67\n",
      "GeneticAlgorithm: Testing generation 68\n",
      "GeneticAlgorithm: Testing generation 69\n",
      "GeneticAlgorithm: Testing generation 70\n",
      "GeneticAlgorithm: Testing generation 71\n",
      "GeneticAlgorithm: Testing generation 72\n",
      "GeneticAlgorithm: Testing generation 73\n",
      "GeneticAlgorithm: Testing generation 74\n",
      "GeneticAlgorithm: Testing generation 75\n",
      "GeneticAlgorithm: Testing generation 76\n",
      "GeneticAlgorithm: Testing generation 77\n",
      "GeneticAlgorithm: Testing generation 78\n",
      "GeneticAlgorithm: Testing generation 79\n",
      "GeneticAlgorithm: Testing generation 80\n",
      "GeneticAlgorithm: Testing generation 81\n",
      "GeneticAlgorithm: Testing generation 82\n",
      "GeneticAlgorithm: Testing generation 83\n",
      "GeneticAlgorithm: Testing generation 84\n",
      "GeneticAlgorithm: Testing generation 85\n",
      "GeneticAlgorithm: Testing generation 86\n",
      "GeneticAlgorithm: Testing generation 87\n",
      "GeneticAlgorithm: Testing generation 88\n",
      "GeneticAlgorithm: Testing generation 89\n",
      "GeneticAlgorithm: Testing generation 90\n",
      "GeneticAlgorithm: Testing generation 91\n",
      "GeneticAlgorithm: Testing generation 92\n",
      "GeneticAlgorithm: Testing generation 93\n",
      "GeneticAlgorithm: Testing generation 94\n",
      "GeneticAlgorithm: Testing generation 95\n",
      "GeneticAlgorithm: Testing generation 96\n",
      "GeneticAlgorithm: Testing generation 97\n",
      "GeneticAlgorithm: Testing generation 98\n",
      "GeneticAlgorithm: Testing generation 99\n"
     ]
    }
   ],
   "source": [
    "t1 = time.time()\n",
    "GA = Run_GA(X_scaled,labels,best_classifier_fselect)\n",
    "t2 = time.time()"
   ]
  },
  {
   "cell_type": "code",
   "execution_count": 15,
   "metadata": {},
   "outputs": [
    {
     "data": {
      "image/png": "[encoded data removed]",
      "text/plain": [
       "<Figure size 576x432 with 1 Axes>"
      ]
     },
     "metadata": {},
     "output_type": "display_data"
    }
   ],
   "source": [
    "plt.style.use('ggplot')\n",
    "fig = plt.figure(figsize=(8,6))\n",
    "ax = fig.add_subplot(111)\n",
    "ax.plot(GA.fitness_evolution)\n",
    "ax.set_xlabel('GA Iteration')\n",
    "ax.set_ylabel('Test score')\n",
    "plt.grid()\n",
    "fig.savefig('GA_iterations_random_forest.png',dpi=400)"
   ]
  },
  {
   "cell_type": "code",
   "execution_count": 12,
   "metadata": {},
   "outputs": [
    {
     "data": {
      "text/plain": [
       "0.999302649930265"
      ]
     },
     "execution_count": 12,
     "metadata": {},
     "output_type": "execute_result"
    }
   ],
   "source": [
    "GA.best_fitness"
   ]
  },
  {
   "cell_type": "code",
   "execution_count": 13,
   "metadata": {},
   "outputs": [
    {
     "data": {
      "text/plain": [
       "139"
      ]
     },
     "execution_count": 13,
     "metadata": {},
     "output_type": "execute_result"
    }
   ],
   "source": [
    "len(GA.feature_selection.columns)"
   ]
  },
  {
   "cell_type": "markdown",
   "metadata": {},
   "source": [
    "#### Do LOSO on the original feature columns "
   ]
  },
  {
   "cell_type": "markdown",
   "metadata": {},
   "source": [
    "##### First, with the classifier that was chosen without feature selection"
   ]
  },
  {
   "cell_type": "code",
   "execution_count": 16,
   "metadata": {},
   "outputs": [],
   "source": [
    "sc = StandardScaler()\n",
    "X_features_scaled = pd.DataFrame(sc.fit_transform(X),columns=X.columns)\n",
    "X_features_scaled['activityID'] = feature_df['activityID'].values\n",
    "X_features_scaled['subjectID'] = feature_df['subjectID'].values"
   ]
  },
  {
   "cell_type": "code",
   "execution_count": 17,
   "metadata": {},
   "outputs": [
    {
     "name": "stdout",
     "output_type": "stream",
     "text": [
      "Holding out subject 8\n",
      "----------------------------------------------------\n",
      "             precision    recall  f1-score   support\n",
      "\n",
      "        1.0       1.00      1.00      1.00        31\n",
      "        2.0       0.88      1.00      0.93        28\n",
      "        3.0       0.25      1.00      0.39        30\n",
      "        4.0       1.00      1.00      1.00        37\n",
      "        5.0       0.81      1.00      0.89        17\n",
      "        6.0       1.00      1.00      1.00        34\n",
      "        7.0       1.00      1.00      1.00        39\n",
      "       10.0       1.00      0.01      0.02        91\n",
      "       12.0       0.83      1.00      0.91        10\n",
      "       13.0       0.56      1.00      0.72         9\n",
      "       16.0       0.90      0.90      0.90        30\n",
      "       17.0       0.55      0.98      0.70        47\n",
      "       18.0       0.00      0.00      0.00        30\n",
      "       19.0       0.77      0.59      0.67        56\n",
      "       20.0       1.00      0.07      0.13        14\n",
      "       24.0       1.00      1.00      1.00        11\n",
      "\n",
      "avg / total       0.80      0.69      0.63       514\n",
      "\n",
      "----------------------------------------------------\n",
      "Holding out subject 1\n",
      "----------------------------------------------------\n",
      "             precision    recall  f1-score   support\n",
      "\n",
      "        1.0       0.51      1.00      0.67        34\n",
      "        2.0       0.04      0.06      0.04        32\n",
      "        3.0       0.24      0.70      0.36        27\n",
      "        4.0       1.00      1.00      1.00        31\n",
      "        5.0       1.00      1.00      1.00        27\n",
      "        6.0       1.00      1.00      1.00        34\n",
      "        7.0       1.00      1.00      1.00        25\n",
      "        9.0       0.00      0.00      0.00       116\n",
      "       10.0       0.00      0.00      0.00         0\n",
      "       11.0       0.00      0.00      0.00        70\n",
      "       12.0       1.00      1.00      1.00        17\n",
      "       13.0       1.00      1.00      1.00        17\n",
      "       16.0       0.22      1.00      0.36        26\n",
      "       17.0       0.34      0.61      0.44        28\n",
      "       18.0       0.00      0.00      0.00        36\n",
      "       19.0       0.00      0.00      0.00        78\n",
      "       20.0       0.00      0.00      0.00         0\n",
      "       24.0       1.00      0.92      0.96        12\n",
      "\n",
      "avg / total       0.33      0.43      0.36       610\n",
      "\n",
      "----------------------------------------------------\n",
      "Holding out subject 9\n",
      "----------------------------------------------------\n",
      "             precision    recall  f1-score   support\n",
      "\n",
      "        4.0       0.00      0.00      0.00         0\n",
      "        5.0       0.00      0.00      0.00         0\n",
      "       10.0       1.00      0.95      0.98        85\n",
      "       16.0       0.00      0.00      0.00         0\n",
      "       17.0       0.00      0.00      0.00         0\n",
      "       18.0       0.00      0.00      0.00        35\n",
      "       19.0       0.95      0.40      0.57        47\n",
      "       20.0       1.00      0.54      0.70        39\n",
      "       24.0       1.00      1.00      1.00         4\n",
      "\n",
      "avg / total       0.82      0.60      0.67       210\n",
      "\n",
      "----------------------------------------------------\n",
      "Holding out subject 6\n",
      "----------------------------------------------------\n",
      "             precision    recall  f1-score   support\n",
      "\n",
      "        1.0       0.96      1.00      0.98        26\n",
      "        2.0       0.34      1.00      0.51        26\n",
      "        3.0       0.77      0.70      0.73        33\n",
      "        4.0       1.00      0.97      0.98        33\n",
      "        5.0       1.00      1.00      1.00        28\n",
      "        6.0       0.96      1.00      0.98        27\n",
      "        7.0       0.97      1.00      0.99        38\n",
      "       10.0       0.90      0.41      0.56        88\n",
      "       12.0       0.81      0.93      0.87        14\n",
      "       13.0       0.93      1.00      0.96        13\n",
      "       16.0       0.72      0.84      0.78        25\n",
      "       17.0       0.64      0.96      0.77        52\n",
      "       18.0       0.00      0.00      0.00        22\n",
      "       19.0       0.82      0.53      0.64        34\n",
      "\n",
      "avg / total       0.80      0.76      0.75       459\n",
      "\n",
      "----------------------------------------------------\n",
      "Holding out subject 7\n",
      "----------------------------------------------------\n",
      "             precision    recall  f1-score   support\n",
      "\n",
      "        1.0       1.00      1.00      1.00        33\n",
      "        2.0       1.00      1.00      1.00        13\n",
      "        3.0       1.00      1.00      1.00        33\n",
      "        4.0       0.95      1.00      0.98        41\n",
      "        5.0       1.00      1.00      1.00         2\n",
      "        6.0       1.00      0.97      0.98        33\n",
      "        7.0       1.00      1.00      1.00        40\n",
      "       10.0       0.00      0.00      0.00         0\n",
      "       12.0       1.00      0.89      0.94        19\n",
      "       13.0       1.00      1.00      1.00        10\n",
      "       16.0       1.00      0.23      0.37        22\n",
      "       17.0       0.95      0.90      0.92        39\n",
      "       19.0       0.00      0.00      0.00         0\n",
      "\n",
      "avg / total       0.99      0.92      0.93       285\n",
      "\n",
      "----------------------------------------------------\n",
      "Holding out subject 5\n",
      "----------------------------------------------------\n",
      "             precision    recall  f1-score   support\n",
      "\n",
      "        1.0       1.00      1.00      1.00        26\n",
      "        2.0       0.69      1.00      0.82        31\n",
      "        3.0       0.37      0.79      0.51        28\n",
      "        4.0       1.00      1.00      1.00        38\n",
      "        5.0       1.00      1.00      1.00        33\n",
      "        6.0       1.00      0.97      0.98        31\n",
      "        7.0       1.00      1.00      1.00        24\n",
      "       10.0       1.00      0.68      0.81       147\n",
      "       12.0       1.00      1.00      1.00        12\n",
      "       13.0       1.00      1.00      1.00         7\n",
      "       16.0       0.71      0.74      0.72        23\n",
      "       17.0       0.84      0.71      0.77        45\n",
      "       19.0       0.40      0.52      0.45        33\n",
      "       24.0       1.00      1.00      1.00         8\n",
      "\n",
      "avg / total       0.88      0.82      0.83       486\n",
      "\n",
      "----------------------------------------------------\n",
      "Holding out subject 4\n",
      "----------------------------------------------------\n",
      "             precision    recall  f1-score   support\n",
      "\n",
      "        1.0       1.00      1.00      1.00        23\n",
      "        2.0       1.00      1.00      1.00        35\n",
      "        3.0       1.00      0.97      0.99        36\n",
      "        4.0       0.98      1.00      0.99        43\n",
      "        6.0       1.00      0.96      0.98        26\n",
      "        7.0       1.00      1.00      1.00        29\n",
      "       10.0       0.00      0.00      0.00         0\n",
      "       12.0       1.00      1.00      1.00        15\n",
      "       13.0       1.00      0.93      0.96        14\n",
      "       16.0       1.00      0.96      0.98        28\n",
      "       17.0       1.00      0.72      0.84        25\n",
      "       18.0       0.00      0.00      0.00         0\n",
      "       19.0       0.00      0.00      0.00         0\n",
      "\n",
      "avg / total       1.00      0.96      0.98       274\n",
      "\n",
      "----------------------------------------------------\n",
      "Holding out subject 2\n",
      "----------------------------------------------------\n",
      "             precision    recall  f1-score   support\n",
      "\n",
      "        1.0       1.00      0.97      0.98        29\n",
      "        2.0       1.00      0.89      0.94        27\n",
      "        3.0       1.00      0.97      0.98        29\n",
      "        4.0       0.75      1.00      0.85        38\n",
      "        5.0       0.00      0.00      0.00        12\n",
      "        6.0       1.00      1.00      1.00        25\n",
      "        7.0       1.00      0.64      0.78        36\n",
      "       12.0       1.00      1.00      1.00        15\n",
      "       13.0       1.00      1.00      1.00        18\n",
      "       16.0       0.96      1.00      0.98        25\n",
      "       17.0       0.97      1.00      0.98        32\n",
      "       19.0       0.00      0.00      0.00         0\n",
      "       20.0       0.00      0.00      0.00         0\n",
      "       24.0       1.00      1.00      1.00        13\n",
      "\n",
      "avg / total       0.92      0.90      0.90       299\n",
      "\n",
      "----------------------------------------------------\n",
      "Holding out subject 3\n",
      "----------------------------------------------------\n",
      "             precision    recall  f1-score   support\n",
      "\n",
      "        1.0       1.00      1.00      1.00        25\n",
      "        2.0       0.95      0.95      0.95        38\n",
      "        3.0       0.85      0.88      0.86        25\n",
      "        4.0       1.00      1.00      1.00        42\n",
      "       10.0       0.00      0.00      0.00         0\n",
      "       12.0       1.00      1.00      1.00         8\n",
      "       13.0       1.00      1.00      1.00        15\n",
      "       16.0       1.00      0.06      0.12        16\n",
      "       17.0       1.00      0.30      0.46        37\n",
      "       18.0       0.00      0.00      0.00         0\n",
      "       19.0       0.00      0.00      0.00         0\n",
      "\n",
      "avg / total       0.97      0.78      0.81       206\n",
      "\n",
      "----------------------------------------------------\n"
     ]
    }
   ],
   "source": [
    "subject_scores_no_selection_1 = LOSO(X_features_scaled,best_classifier_nodrop)"
   ]
  },
  {
   "cell_type": "code",
   "execution_count": 19,
   "metadata": {},
   "outputs": [],
   "source": [
    "mean_LOSO_no_selection_1 = np.mean([subject_scores_no_selection_1[e] for e in list(subject_scores_no_selection_1.keys())])"
   ]
  },
  {
   "cell_type": "markdown",
   "metadata": {},
   "source": [
    "##### Next, with the classifier that was chosen with featue selection"
   ]
  },
  {
   "cell_type": "code",
   "execution_count": 20,
   "metadata": {},
   "outputs": [],
   "source": [
    "sc = StandardScaler()\n",
    "X_features_scaled = pd.DataFrame(sc.fit_transform(X),columns=X.columns)\n",
    "X_features_scaled['activityID'] = feature_df['activityID'].values\n",
    "X_features_scaled['subjectID'] = feature_df['subjectID'].values"
   ]
  },
  {
   "cell_type": "code",
   "execution_count": 21,
   "metadata": {},
   "outputs": [
    {
     "name": "stdout",
     "output_type": "stream",
     "text": [
      "Holding out subject 6\n",
      "----------------------------------------------------\n",
      "             precision    recall  f1-score   support\n",
      "\n",
      "        1.0       1.00      1.00      1.00        29\n",
      "        2.0       1.00      1.00      1.00        24\n",
      "        3.0       0.86      0.75      0.80        32\n",
      "        4.0       1.00      0.96      0.98        28\n",
      "        5.0       1.00      1.00      1.00        28\n",
      "        6.0       1.00      1.00      1.00        28\n",
      "        7.0       1.00      1.00      1.00        35\n",
      "       10.0       0.95      0.95      0.95        85\n",
      "       12.0       0.59      1.00      0.74        10\n",
      "       13.0       1.00      1.00      1.00        13\n",
      "       16.0       0.69      0.90      0.78        20\n",
      "       17.0       0.59      0.89      0.71        53\n",
      "       18.0       0.00      0.00      0.00        24\n",
      "       19.0       0.78      0.48      0.60        29\n",
      "\n",
      "avg / total       0.84      0.86      0.84       438\n",
      "\n",
      "----------------------------------------------------\n",
      "Holding out subject 8\n",
      "----------------------------------------------------\n",
      "             precision    recall  f1-score   support\n",
      "\n",
      "        1.0       1.00      1.00      1.00        37\n",
      "        2.0       0.52      1.00      0.68        31\n",
      "        3.0       0.29      1.00      0.45        27\n",
      "        4.0       0.98      1.00      0.99        41\n",
      "        5.0       0.81      1.00      0.89        21\n",
      "        6.0       1.00      1.00      1.00        36\n",
      "        7.0       1.00      1.00      1.00        36\n",
      "       10.0       1.00      0.06      0.11        90\n",
      "       12.0       0.92      1.00      0.96        11\n",
      "       13.0       0.67      1.00      0.80         8\n",
      "       16.0       0.92      0.97      0.94        35\n",
      "       17.0       0.52      0.95      0.67        41\n",
      "       18.0       0.00      0.00      0.00        33\n",
      "       19.0       0.84      0.70      0.76        60\n",
      "       20.0       1.00      0.15      0.27        13\n",
      "       24.0       1.00      0.78      0.88         9\n",
      "\n",
      "avg / total       0.80      0.71      0.65       529\n",
      "\n",
      "----------------------------------------------------\n",
      "Holding out subject 3\n",
      "----------------------------------------------------\n",
      "             precision    recall  f1-score   support\n",
      "\n",
      "        1.0       1.00      1.00      1.00        29\n",
      "        2.0       0.94      0.97      0.96        33\n",
      "        3.0       0.85      0.92      0.88        24\n",
      "        4.0       1.00      1.00      1.00        41\n",
      "       12.0       1.00      1.00      1.00         7\n",
      "       13.0       1.00      1.00      1.00         9\n",
      "       16.0       1.00      0.23      0.37        22\n",
      "       17.0       1.00      0.04      0.07        27\n",
      "       18.0       0.00      0.00      0.00         0\n",
      "       19.0       0.00      0.00      0.00         0\n",
      "\n",
      "avg / total       0.97      0.76      0.77       192\n",
      "\n",
      "----------------------------------------------------\n",
      "Holding out subject 7\n",
      "----------------------------------------------------\n",
      "             precision    recall  f1-score   support\n",
      "\n",
      "        1.0       1.00      1.00      1.00        27\n",
      "        2.0       1.00      1.00      1.00        16\n",
      "        3.0       1.00      1.00      1.00        33\n",
      "        4.0       0.97      1.00      0.99        38\n",
      "        5.0       1.00      1.00      1.00         3\n",
      "        6.0       1.00      1.00      1.00        24\n",
      "        7.0       1.00      1.00      1.00        39\n",
      "       10.0       0.00      0.00      0.00         0\n",
      "       12.0       1.00      0.93      0.97        15\n",
      "       13.0       1.00      1.00      1.00        11\n",
      "       16.0       1.00      0.55      0.71        29\n",
      "       17.0       0.96      0.87      0.92        31\n",
      "       19.0       0.00      0.00      0.00         0\n",
      "\n",
      "avg / total       0.99      0.93      0.95       266\n",
      "\n",
      "----------------------------------------------------\n",
      "Holding out subject 5\n",
      "----------------------------------------------------\n",
      "             precision    recall  f1-score   support\n",
      "\n",
      "        1.0       1.00      1.00      1.00        25\n",
      "        2.0       0.63      1.00      0.78        38\n",
      "        3.0       0.40      0.86      0.54        29\n",
      "        4.0       1.00      1.00      1.00        32\n",
      "        5.0       1.00      1.00      1.00        30\n",
      "        6.0       1.00      0.92      0.96        26\n",
      "        7.0       1.00      1.00      1.00        36\n",
      "       10.0       1.00      0.67      0.80       157\n",
      "       12.0       1.00      1.00      1.00        14\n",
      "       13.0       1.00      1.00      1.00        10\n",
      "       16.0       0.68      0.76      0.71        33\n",
      "       17.0       0.85      0.85      0.85        41\n",
      "       19.0       0.36      0.29      0.32        34\n",
      "       24.0       1.00      1.00      1.00         5\n",
      "\n",
      "avg / total       0.86      0.81      0.82       510\n",
      "\n",
      "----------------------------------------------------\n",
      "Holding out subject 1\n",
      "----------------------------------------------------\n",
      "             precision    recall  f1-score   support\n",
      "\n",
      "        1.0       0.29      1.00      0.46        33\n",
      "        2.0       0.00      0.00      0.00        29\n",
      "        3.0       0.40      0.59      0.48        27\n",
      "        4.0       1.00      1.00      1.00        28\n",
      "        5.0       1.00      1.00      1.00        26\n",
      "        6.0       1.00      1.00      1.00        22\n",
      "        7.0       1.00      1.00      1.00        24\n",
      "        9.0       0.00      0.00      0.00       120\n",
      "       10.0       0.00      0.00      0.00         0\n",
      "       11.0       0.00      0.00      0.00        79\n",
      "       12.0       1.00      1.00      1.00        18\n",
      "       13.0       1.00      1.00      1.00        10\n",
      "       16.0       0.22      1.00      0.36        24\n",
      "       17.0       0.35      0.48      0.41        29\n",
      "       18.0       0.00      0.00      0.00        29\n",
      "       19.0       0.00      0.00      0.00        70\n",
      "       24.0       1.00      1.00      1.00        14\n",
      "\n",
      "avg / total       0.31      0.39      0.33       582\n",
      "\n",
      "----------------------------------------------------\n",
      "Holding out subject 9\n",
      "----------------------------------------------------\n",
      "             precision    recall  f1-score   support\n",
      "\n",
      "        3.0       0.00      0.00      0.00         0\n",
      "        4.0       0.00      0.00      0.00         0\n",
      "        5.0       0.00      0.00      0.00         0\n",
      "        6.0       0.00      0.00      0.00         0\n",
      "       10.0       1.00      0.94      0.97        88\n",
      "       16.0       0.00      0.00      0.00         0\n",
      "       17.0       0.00      0.00      0.00         0\n",
      "       18.0       0.00      0.00      0.00        32\n",
      "       19.0       1.00      0.29      0.45        45\n",
      "       20.0       1.00      0.62      0.77        37\n",
      "       24.0       0.86      1.00      0.92         6\n",
      "\n",
      "avg / total       0.84      0.60      0.67       208\n",
      "\n",
      "----------------------------------------------------\n",
      "Holding out subject 2\n",
      "----------------------------------------------------\n",
      "             precision    recall  f1-score   support\n",
      "\n",
      "        1.0       1.00      0.96      0.98        28\n",
      "        2.0       1.00      0.96      0.98        26\n",
      "        3.0       1.00      0.97      0.99        35\n",
      "        4.0       0.85      1.00      0.92        45\n",
      "        5.0       0.00      0.00      0.00         8\n",
      "        6.0       1.00      1.00      1.00        34\n",
      "        7.0       1.00      0.83      0.91        41\n",
      "       10.0       0.00      0.00      0.00         0\n",
      "       12.0       1.00      1.00      1.00        17\n",
      "       13.0       1.00      0.94      0.97        17\n",
      "       16.0       0.96      1.00      0.98        24\n",
      "       17.0       0.97      0.97      0.97        39\n",
      "       19.0       0.00      0.00      0.00         0\n",
      "       20.0       0.00      0.00      0.00         0\n",
      "       24.0       1.00      1.00      1.00        14\n",
      "\n",
      "avg / total       0.95      0.94      0.94       328\n",
      "\n",
      "----------------------------------------------------\n",
      "Holding out subject 4\n",
      "----------------------------------------------------\n",
      "             precision    recall  f1-score   support\n",
      "\n",
      "        1.0       1.00      1.00      1.00        31\n",
      "        2.0       1.00      1.00      1.00        31\n",
      "        3.0       1.00      1.00      1.00        35\n",
      "        4.0       1.00      1.00      1.00        40\n",
      "        6.0       1.00      1.00      1.00        28\n",
      "        7.0       0.97      1.00      0.99        35\n",
      "       12.0       1.00      1.00      1.00        18\n",
      "       13.0       1.00      0.93      0.96        14\n",
      "       16.0       1.00      0.93      0.96        29\n",
      "       17.0       1.00      0.79      0.88        29\n",
      "       18.0       0.00      0.00      0.00         0\n",
      "       19.0       0.00      0.00      0.00         0\n",
      "\n",
      "avg / total       1.00      0.97      0.98       290\n",
      "\n",
      "----------------------------------------------------\n"
     ]
    }
   ],
   "source": [
    "subject_scores_no_selection_2 = LOSO(X_features_scaled,best_classifier_fselect)"
   ]
  },
  {
   "cell_type": "code",
   "execution_count": 22,
   "metadata": {},
   "outputs": [
    {
     "data": {
      "text/plain": [
       "{'1.0': 0.39347079037800686,\n",
       " '2.0': 0.9390243902439024,\n",
       " '3.0': 0.7604166666666666,\n",
       " '4.0': 0.9689655172413794,\n",
       " '5.0': 0.8117647058823529,\n",
       " '6.0': 0.863013698630137,\n",
       " '7.0': 0.9323308270676691,\n",
       " '8.0': 0.7126654064272212,\n",
       " '9.0': 0.6009615384615384}"
      ]
     },
     "execution_count": 22,
     "metadata": {},
     "output_type": "execute_result"
    }
   ],
   "source": [
    "subject_scores_no_selection_2"
   ]
  },
  {
   "cell_type": "code",
   "execution_count": 23,
   "metadata": {},
   "outputs": [],
   "source": [
    "mean_LOSO_no_selection_2 = np.mean([subject_scores_no_selection_2[e] for e in list(subject_scores_no_selection_2.keys())])"
   ]
  },
  {
   "cell_type": "markdown",
   "metadata": {},
   "source": [
    "#### Do LOSO on the feature columns selected by the GA"
   ]
  },
  {
   "cell_type": "code",
   "execution_count": 24,
   "metadata": {},
   "outputs": [],
   "source": [
    "new_features_GA = list(GA.feature_columns) + ['activityID','subjectID']\n",
    "X_feature_select_GA = feature_df[new_features_GA]\n",
    "\n",
    "sc = StandardScaler()\n",
    "X_feature_select_GA_scaled = pd.DataFrame(sc.fit_transform(X_feature_select_GA),columns=X_feature_select_GA.columns)\n",
    "X_feature_select_GA_scaled['activityID'] = X_feature_select_GA['activityID'].values\n",
    "X_feature_select_GA_scaled['subjectID'] = X_feature_select_GA['subjectID'].values"
   ]
  },
  {
   "cell_type": "code",
   "execution_count": 25,
   "metadata": {},
   "outputs": [
    {
     "name": "stdout",
     "output_type": "stream",
     "text": [
      "Holding out subject 5\n",
      "----------------------------------------------------\n",
      "             precision    recall  f1-score   support\n",
      "\n",
      "        1.0       1.00      1.00      1.00        27\n",
      "        2.0       0.64      0.97      0.77        29\n",
      "        3.0       0.34      0.73      0.47        30\n",
      "        4.0       1.00      1.00      1.00        40\n",
      "        5.0       1.00      1.00      1.00        33\n",
      "        6.0       1.00      0.97      0.98        31\n",
      "        7.0       1.00      1.00      1.00        38\n",
      "       10.0       1.00      0.65      0.79       145\n",
      "       11.0       0.00      0.00      0.00         0\n",
      "       12.0       1.00      1.00      1.00        15\n",
      "       13.0       1.00      1.00      1.00        11\n",
      "       16.0       0.73      0.71      0.72        31\n",
      "       17.0       0.79      0.80      0.80        46\n",
      "       19.0       0.51      0.54      0.52        41\n",
      "       24.0       1.00      1.00      1.00         7\n",
      "\n",
      "avg / total       0.87      0.81      0.82       524\n",
      "\n",
      "----------------------------------------------------\n",
      "Holding out subject 4\n",
      "----------------------------------------------------\n",
      "             precision    recall  f1-score   support\n",
      "\n",
      "        1.0       1.00      1.00      1.00        27\n",
      "        2.0       1.00      1.00      1.00        31\n",
      "        3.0       1.00      0.97      0.98        33\n",
      "        4.0       1.00      1.00      1.00        40\n",
      "        6.0       1.00      1.00      1.00        25\n",
      "        7.0       0.97      1.00      0.99        34\n",
      "       12.0       1.00      1.00      1.00        12\n",
      "       13.0       1.00      0.93      0.97        15\n",
      "       16.0       1.00      0.96      0.98        24\n",
      "       17.0       1.00      0.62      0.76        26\n",
      "       18.0       0.00      0.00      0.00         0\n",
      "       19.0       0.00      0.00      0.00         0\n",
      "\n",
      "avg / total       1.00      0.95      0.97       267\n",
      "\n",
      "----------------------------------------------------\n",
      "Holding out subject 1\n",
      "----------------------------------------------------\n",
      "             precision    recall  f1-score   support\n",
      "\n",
      "        1.0       0.36      1.00      0.53        40\n",
      "        2.0       0.00      0.00      0.00        28\n",
      "        3.0       0.38      0.56      0.45        25\n",
      "        4.0       0.96      1.00      0.98        25\n",
      "        5.0       1.00      1.00      1.00        24\n",
      "        6.0       1.00      1.00      1.00        28\n",
      "        7.0       1.00      1.00      1.00        23\n",
      "        9.0       0.00      0.00      0.00       111\n",
      "       10.0       0.00      0.00      0.00         0\n",
      "       11.0       0.00      0.00      0.00        69\n",
      "       12.0       1.00      1.00      1.00        17\n",
      "       13.0       1.00      1.00      1.00        12\n",
      "       16.0       0.20      1.00      0.34        22\n",
      "       17.0       0.28      0.54      0.37        28\n",
      "       18.0       0.00      0.00      0.00        38\n",
      "       19.0       0.00      0.00      0.00        72\n",
      "       20.0       0.00      0.00      0.00         0\n",
      "       24.0       1.00      0.93      0.97        15\n",
      "\n",
      "avg / total       0.31      0.41      0.34       577\n",
      "\n",
      "----------------------------------------------------\n",
      "Holding out subject 7\n",
      "----------------------------------------------------\n",
      "             precision    recall  f1-score   support\n",
      "\n",
      "        1.0       1.00      1.00      1.00        31\n",
      "        2.0       1.00      0.94      0.97        16\n",
      "        3.0       1.00      1.00      1.00        33\n",
      "        4.0       0.98      0.98      0.98        47\n",
      "        5.0       1.00      1.00      1.00         2\n",
      "        6.0       1.00      0.96      0.98        26\n",
      "        7.0       0.97      1.00      0.99        35\n",
      "       10.0       0.00      0.00      0.00         0\n",
      "       12.0       1.00      0.95      0.97        19\n",
      "       13.0       1.00      1.00      1.00         9\n",
      "       16.0       1.00      0.44      0.61        25\n",
      "       17.0       0.97      0.89      0.93        35\n",
      "       19.0       0.00      0.00      0.00         0\n",
      "\n",
      "avg / total       0.99      0.92      0.94       278\n",
      "\n",
      "----------------------------------------------------\n",
      "Holding out subject 2\n",
      "----------------------------------------------------\n",
      "             precision    recall  f1-score   support\n",
      "\n",
      "        1.0       1.00      1.00      1.00        27\n",
      "        2.0       1.00      0.83      0.91        29\n",
      "        3.0       0.97      0.93      0.95        30\n",
      "        4.0       0.74      1.00      0.85        40\n",
      "        5.0       0.00      0.00      0.00        12\n",
      "        6.0       1.00      1.00      1.00        33\n",
      "        7.0       1.00      0.63      0.77        38\n",
      "       12.0       1.00      1.00      1.00        14\n",
      "       13.0       1.00      1.00      1.00        13\n",
      "       16.0       0.96      1.00      0.98        24\n",
      "       17.0       0.97      0.94      0.96        36\n",
      "       18.0       0.00      0.00      0.00         0\n",
      "       19.0       0.00      0.00      0.00         0\n",
      "       20.0       0.00      0.00      0.00         0\n",
      "       24.0       1.00      1.00      1.00        16\n",
      "\n",
      "avg / total       0.92      0.89      0.89       312\n",
      "\n",
      "----------------------------------------------------\n",
      "Holding out subject 9\n",
      "----------------------------------------------------\n",
      "             precision    recall  f1-score   support\n",
      "\n",
      "        4.0       0.00      0.00      0.00         0\n",
      "        5.0       0.00      0.00      0.00         0\n",
      "       10.0       1.00      0.98      0.99        98\n",
      "       16.0       0.00      0.00      0.00         0\n",
      "       17.0       0.00      0.00      0.00         0\n",
      "       18.0       0.00      0.00      0.00        35\n",
      "       19.0       1.00      0.27      0.43        44\n",
      "       20.0       1.00      0.70      0.82        40\n",
      "       24.0       1.00      1.00      1.00         8\n",
      "\n",
      "avg / total       0.84      0.64      0.70       225\n",
      "\n",
      "----------------------------------------------------\n",
      "Holding out subject 8\n",
      "----------------------------------------------------\n",
      "             precision    recall  f1-score   support\n",
      "\n",
      "        1.0       1.00      1.00      1.00        27\n",
      "        2.0       0.90      1.00      0.95        26\n",
      "        3.0       0.24      1.00      0.38        32\n",
      "        4.0       0.97      1.00      0.99        38\n",
      "        5.0       0.86      1.00      0.93        19\n",
      "        6.0       1.00      1.00      1.00        37\n",
      "        7.0       1.00      1.00      1.00        40\n",
      "       10.0       1.00      0.01      0.02        96\n",
      "       12.0       0.90      1.00      0.95         9\n",
      "       13.0       0.35      1.00      0.52         7\n",
      "       16.0       0.97      1.00      0.98        29\n",
      "       17.0       0.62      0.91      0.74        43\n",
      "       18.0       0.00      0.00      0.00        30\n",
      "       19.0       0.70      0.68      0.69        56\n",
      "       20.0       1.00      0.05      0.10        20\n",
      "       24.0       0.91      0.91      0.91        11\n",
      "\n",
      "avg / total       0.81      0.68      0.62       520\n",
      "\n",
      "----------------------------------------------------\n",
      "Holding out subject 6\n",
      "----------------------------------------------------\n",
      "             precision    recall  f1-score   support\n",
      "\n",
      "        1.0       0.97      1.00      0.98        31\n",
      "        2.0       0.33      1.00      0.49        31\n",
      "        3.0       0.79      0.79      0.79        24\n",
      "        4.0       1.00      0.97      0.99        34\n",
      "        5.0       1.00      1.00      1.00        29\n",
      "        6.0       1.00      1.00      1.00        26\n",
      "        7.0       0.97      1.00      0.98        31\n",
      "       10.0       0.62      0.07      0.13        71\n",
      "       12.0       0.87      1.00      0.93        13\n",
      "       13.0       1.00      1.00      1.00        12\n",
      "       16.0       0.79      0.90      0.84        29\n",
      "       17.0       0.55      0.97      0.70        40\n",
      "       18.0       0.00      0.00      0.00        28\n",
      "       19.0       0.78      0.53      0.63        34\n",
      "\n",
      "avg / total       0.73      0.72      0.67       433\n",
      "\n",
      "----------------------------------------------------\n",
      "Holding out subject 3\n",
      "----------------------------------------------------\n",
      "             precision    recall  f1-score   support\n",
      "\n",
      "        1.0       1.00      1.00      1.00        29\n",
      "        2.0       0.97      0.97      0.97        34\n",
      "        3.0       0.87      0.87      0.87        23\n",
      "        4.0       1.00      1.00      1.00        42\n",
      "       10.0       0.00      0.00      0.00         0\n",
      "       12.0       1.00      1.00      1.00         7\n",
      "       13.0       1.00      1.00      1.00        15\n",
      "       16.0       1.00      0.13      0.23        23\n",
      "       17.0       1.00      0.12      0.21        34\n",
      "       18.0       0.00      0.00      0.00         0\n",
      "       19.0       0.00      0.00      0.00         0\n",
      "\n",
      "avg / total       0.98      0.74      0.77       207\n",
      "\n",
      "----------------------------------------------------\n"
     ]
    }
   ],
   "source": [
    "subject_scores_GA_selection = LOSO(X_feature_select_GA_scaled,best_classifier_fselect)"
   ]
  },
  {
   "cell_type": "code",
   "execution_count": 26,
   "metadata": {},
   "outputs": [
    {
     "data": {
      "text/plain": [
       "{'1.0': 0.4055459272097054,\n",
       " '2.0': 0.8878205128205128,\n",
       " '3.0': 0.7391304347826086,\n",
       " '4.0': 0.951310861423221,\n",
       " '5.0': 0.8129770992366412,\n",
       " '6.0': 0.7228637413394919,\n",
       " '7.0': 0.920863309352518,\n",
       " '8.0': 0.6788461538461539,\n",
       " '9.0': 0.64}"
      ]
     },
     "execution_count": 26,
     "metadata": {},
     "output_type": "execute_result"
    }
   ],
   "source": [
    "subject_scores_GA_selection"
   ]
  },
  {
   "cell_type": "code",
   "execution_count": 27,
   "metadata": {},
   "outputs": [],
   "source": [
    "mean_LOSO_GA = np.mean([subject_scores_GA_selection[e] for e in list(subject_scores_GA_selection.keys())])"
   ]
  },
  {
   "cell_type": "markdown",
   "metadata": {},
   "source": [
    "#### Do LOSO on the feature columns selected by the tree-based proceedure"
   ]
  },
  {
   "cell_type": "code",
   "execution_count": 28,
   "metadata": {},
   "outputs": [],
   "source": [
    "new_features_Treebased = list(X_new.columns) + ['activityID','subjectID']\n",
    "X_feature_select_Treebased = feature_df[new_features_Treebased]\n",
    "\n",
    "sc = StandardScaler()\n",
    "X_feature_select_Treebased_scaled = pd.DataFrame(sc.fit_transform(X_feature_select_Treebased),columns=X_feature_select_Treebased.columns)\n",
    "X_feature_select_Treebased_scaled['activityID'] = X_feature_select_Treebased['activityID']\n",
    "X_feature_select_Treebased_scaled['subjectID'] = X_feature_select_Treebased['subjectID']"
   ]
  },
  {
   "cell_type": "code",
   "execution_count": 29,
   "metadata": {},
   "outputs": [
    {
     "name": "stdout",
     "output_type": "stream",
     "text": [
      "Holding out subject 5\n",
      "----------------------------------------------------\n",
      "             precision    recall  f1-score   support\n",
      "\n",
      "        1.0       1.00      1.00      1.00        26\n",
      "        2.0       0.86      0.95      0.90        38\n",
      "        3.0       0.79      0.82      0.81        28\n",
      "        4.0       1.00      1.00      1.00        36\n",
      "        5.0       1.00      1.00      1.00        34\n",
      "        6.0       1.00      0.91      0.95        33\n",
      "        7.0       1.00      1.00      1.00        34\n",
      "        9.0       0.00      0.00      0.00         0\n",
      "       10.0       1.00      0.95      0.98       151\n",
      "       12.0       1.00      1.00      1.00        15\n",
      "       13.0       1.00      1.00      1.00        10\n",
      "       16.0       0.69      0.69      0.69        32\n",
      "       17.0       0.89      0.77      0.83        44\n",
      "       19.0       0.42      0.50      0.46        34\n",
      "       24.0       1.00      1.00      1.00         4\n",
      "\n",
      "avg / total       0.91      0.90      0.90       519\n",
      "\n",
      "----------------------------------------------------\n",
      "Holding out subject 8\n",
      "----------------------------------------------------\n",
      "             precision    recall  f1-score   support\n",
      "\n",
      "        1.0       1.00      1.00      1.00        33\n",
      "        2.0       0.84      1.00      0.92        27\n",
      "        3.0       0.22      0.97      0.36        29\n",
      "        4.0       0.97      1.00      0.99        38\n",
      "        5.0       0.65      1.00      0.79        15\n",
      "        6.0       1.00      1.00      1.00        33\n",
      "        7.0       0.95      1.00      0.97        37\n",
      "       10.0       0.00      0.00      0.00        95\n",
      "       12.0       0.59      1.00      0.74        10\n",
      "       13.0       1.00      1.00      1.00         6\n",
      "       16.0       0.94      1.00      0.97        29\n",
      "       17.0       0.52      1.00      0.68        46\n",
      "       18.0       0.00      0.00      0.00        31\n",
      "       19.0       0.90      0.53      0.67        49\n",
      "       20.0       0.00      0.00      0.00        18\n",
      "       24.0       1.00      0.88      0.93         8\n",
      "\n",
      "avg / total       0.58      0.66      0.59       504\n",
      "\n",
      "----------------------------------------------------\n",
      "Holding out subject 9\n",
      "----------------------------------------------------\n",
      "             precision    recall  f1-score   support\n",
      "\n",
      "        2.0       0.00      0.00      0.00         0\n",
      "        5.0       0.00      0.00      0.00         0\n",
      "       10.0       1.00      0.96      0.98        92\n",
      "       16.0       0.00      0.00      0.00         0\n",
      "       17.0       0.00      0.00      0.00         0\n",
      "       18.0       0.00      0.00      0.00        30\n",
      "       19.0       0.86      0.14      0.24        44\n",
      "       20.0       1.00      0.58      0.73        38\n",
      "       24.0       1.00      1.00      1.00         7\n",
      "\n",
      "avg / total       0.83      0.58      0.64       211\n",
      "\n",
      "----------------------------------------------------\n",
      "Holding out subject 6\n",
      "----------------------------------------------------\n",
      "             precision    recall  f1-score   support\n",
      "\n",
      "        1.0       0.96      1.00      0.98        26\n",
      "        2.0       0.97      1.00      0.98        29\n",
      "        3.0       0.86      0.73      0.79        26\n",
      "        4.0       1.00      0.91      0.96        35\n",
      "        5.0       1.00      1.00      1.00        28\n",
      "        6.0       0.95      1.00      0.97        19\n",
      "        7.0       0.97      1.00      0.98        31\n",
      "       10.0       0.93      0.97      0.95        68\n",
      "       12.0       0.71      1.00      0.83        12\n",
      "       13.0       1.00      1.00      1.00         9\n",
      "       16.0       0.79      0.85      0.81        26\n",
      "       17.0       0.62      0.96      0.75        49\n",
      "       18.0       0.00      0.00      0.00        23\n",
      "       19.0       0.92      0.65      0.76        37\n",
      "\n",
      "avg / total       0.84      0.87      0.85       418\n",
      "\n",
      "----------------------------------------------------\n",
      "Holding out subject 1\n",
      "----------------------------------------------------\n",
      "             precision    recall  f1-score   support\n",
      "\n",
      "        1.0       0.28      1.00      0.44        38\n",
      "        2.0       0.02      0.04      0.02        27\n",
      "        3.0       0.34      0.59      0.43        27\n",
      "        4.0       0.97      1.00      0.98        29\n",
      "        5.0       1.00      1.00      1.00        27\n",
      "        6.0       0.97      1.00      0.98        30\n",
      "        7.0       1.00      1.00      1.00        18\n",
      "        9.0       0.00      0.00      0.00       118\n",
      "       10.0       0.00      0.00      0.00         0\n",
      "       11.0       0.00      0.00      0.00        73\n",
      "       12.0       1.00      1.00      1.00        18\n",
      "       13.0       1.00      1.00      1.00        12\n",
      "       16.0       0.27      0.97      0.42        31\n",
      "       17.0       0.25      0.34      0.29        32\n",
      "       18.0       0.00      0.00      0.00        35\n",
      "       19.0       0.00      0.00      0.00        69\n",
      "       24.0       1.00      1.00      1.00        14\n",
      "\n",
      "avg / total       0.31      0.41      0.33       598\n",
      "\n",
      "----------------------------------------------------\n",
      "Holding out subject 2\n",
      "----------------------------------------------------\n",
      "             precision    recall  f1-score   support\n",
      "\n",
      "        1.0       1.00      1.00      1.00        30\n",
      "        2.0       1.00      0.89      0.94        28\n",
      "        3.0       0.96      0.89      0.93        28\n",
      "        4.0       0.79      1.00      0.88        42\n",
      "        5.0       0.00      0.00      0.00        10\n",
      "        6.0       1.00      1.00      1.00        30\n",
      "        7.0       1.00      0.70      0.83        37\n",
      "       12.0       1.00      1.00      1.00        22\n",
      "       13.0       1.00      1.00      1.00        17\n",
      "       16.0       0.74      1.00      0.85        26\n",
      "       17.0       1.00      0.89      0.94        37\n",
      "       20.0       0.00      0.00      0.00         0\n",
      "       24.0       1.00      1.00      1.00        17\n",
      "\n",
      "avg / total       0.92      0.90      0.90       324\n",
      "\n",
      "----------------------------------------------------\n",
      "Holding out subject 7\n",
      "----------------------------------------------------\n",
      "             precision    recall  f1-score   support\n",
      "\n",
      "        1.0       1.00      1.00      1.00        32\n",
      "        2.0       1.00      1.00      1.00        17\n",
      "        3.0       1.00      1.00      1.00        25\n",
      "        4.0       0.96      0.98      0.97        45\n",
      "        5.0       1.00      1.00      1.00         2\n",
      "        6.0       1.00      0.96      0.98        26\n",
      "        7.0       0.97      1.00      0.99        36\n",
      "       10.0       0.00      0.00      0.00         0\n",
      "       12.0       1.00      0.88      0.94        17\n",
      "       13.0       1.00      1.00      1.00        12\n",
      "       16.0       1.00      0.04      0.07        28\n",
      "       17.0       1.00      0.39      0.57        33\n",
      "       18.0       0.00      0.00      0.00         0\n",
      "       19.0       0.00      0.00      0.00         0\n",
      "\n",
      "avg / total       0.99      0.81      0.84       273\n",
      "\n",
      "----------------------------------------------------\n",
      "Holding out subject 4\n",
      "----------------------------------------------------\n",
      "             precision    recall  f1-score   support\n",
      "\n",
      "        1.0       1.00      1.00      1.00        31\n",
      "        2.0       1.00      1.00      1.00        32\n",
      "        3.0       1.00      0.96      0.98        28\n",
      "        4.0       1.00      1.00      1.00        47\n",
      "        6.0       1.00      1.00      1.00        27\n",
      "        7.0       0.97      1.00      0.99        34\n",
      "       12.0       1.00      1.00      1.00        18\n",
      "       13.0       1.00      0.93      0.97        15\n",
      "       16.0       1.00      0.96      0.98        26\n",
      "       17.0       1.00      0.93      0.96        27\n",
      "       18.0       0.00      0.00      0.00         0\n",
      "       19.0       0.00      0.00      0.00         0\n",
      "\n",
      "avg / total       1.00      0.98      0.99       285\n",
      "\n",
      "----------------------------------------------------\n",
      "Holding out subject 3\n",
      "----------------------------------------------------\n",
      "             precision    recall  f1-score   support\n",
      "\n",
      "        1.0       1.00      1.00      1.00        28\n",
      "        2.0       0.92      1.00      0.96        34\n",
      "        3.0       0.91      0.84      0.87        25\n",
      "        4.0       1.00      1.00      1.00        38\n",
      "       10.0       0.00      0.00      0.00         0\n",
      "       12.0       1.00      1.00      1.00         7\n",
      "       13.0       1.00      1.00      1.00        12\n",
      "       16.0       0.00      0.00      0.00        27\n",
      "       17.0       1.00      0.07      0.14        40\n",
      "       18.0       0.00      0.00      0.00         0\n",
      "       19.0       0.00      0.00      0.00         0\n",
      "\n",
      "avg / total       0.85      0.68      0.69       211\n",
      "\n",
      "----------------------------------------------------\n"
     ]
    }
   ],
   "source": [
    "subject_scores_Treebased_selection = LOSO(X_feature_select_Treebased,best_classifier_fselect)"
   ]
  },
  {
   "cell_type": "code",
   "execution_count": 30,
   "metadata": {},
   "outputs": [
    {
     "data": {
      "text/plain": [
       "{'1.0': 0.4080267558528428,\n",
       " '2.0': 0.904320987654321,\n",
       " '3.0': 0.6777251184834123,\n",
       " '4.0': 0.9824561403508771,\n",
       " '5.0': 0.8959537572254336,\n",
       " '6.0': 0.8708133971291866,\n",
       " '7.0': 0.8131868131868132,\n",
       " '8.0': 0.6646825396825397,\n",
       " '9.0': 0.5829383886255924}"
      ]
     },
     "execution_count": 30,
     "metadata": {},
     "output_type": "execute_result"
    }
   ],
   "source": [
    "subject_scores_Treebased_selection"
   ]
  },
  {
   "cell_type": "code",
   "execution_count": 31,
   "metadata": {},
   "outputs": [],
   "source": [
    "mean_LOSO_Treebased = np.mean([subject_scores_Treebased_selection[e] for e in list(subject_scores_Treebased_selection.keys())])"
   ]
  },
  {
   "cell_type": "markdown",
   "metadata": {},
   "source": [
    "#### Compare final scores"
   ]
  },
  {
   "cell_type": "code",
   "execution_count": 33,
   "metadata": {},
   "outputs": [
    {
     "name": "stdout",
     "output_type": "stream",
     "text": [
      "Mean LOSO score for tree-based selection: 0.756\n",
      "Mean LOSO score for GA-based selection: 0.751\n",
      "Mean LOSO score for no feature selection 1: 0.760\n",
      "Mean LOSO score for no feature selection 2: 0.760\n"
     ]
    }
   ],
   "source": [
    "print('Mean LOSO score for tree-based selection: %0.3f' %mean_LOSO_Treebased)\n",
    "print('Mean LOSO score for GA-based selection: %0.3f' %mean_LOSO_GA)\n",
    "print('Mean LOSO score for no feature selection 1: %0.3f' %mean_LOSO_no_selection_1)\n",
    "print('Mean LOSO score for no feature selection 2: %0.3f' %mean_LOSO_no_selection_1)"
   ]
  },
  {
   "cell_type": "markdown",
   "metadata": {},
   "source": [
    "Conclusion: LOSO is a tough problem. Optimal selection of feature columns doesn't make much difference to the result"
   ]
  },
  {
   "cell_type": "code",
   "execution_count": null,
   "metadata": {},
   "outputs": [],
   "source": []
  }
 ],
 "metadata": {
  "kernelspec": {
   "display_name": "Python 3",
   "language": "python",
   "name": "python3"
  },
  "language_info": {
   "codemirror_mode": {
    "name": "ipython",
    "version": 3
   },
   "file_extension": ".py",
   "mimetype": "text/x-python",
   "name": "python",
   "nbconvert_exporter": "python",
   "pygments_lexer": "ipython3",
   "version": "3.6.4"
  }
 },
 "nbformat": 4,
 "nbformat_minor": 2
}
