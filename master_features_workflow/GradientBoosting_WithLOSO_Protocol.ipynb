{
 "cells": [
  {
   "cell_type": "markdown",
   "metadata": {},
   "source": [
    "### 1. Carry out feature selection with a gradient boosting classifier"
   ]
  },
  {
   "cell_type": "code",
   "execution_count": 1,
   "metadata": {},
   "outputs": [],
   "source": [
    "from sklearn.ensemble import GradientBoostingClassifier\n",
    "from sklearn.model_selection import GridSearchCV, train_test_split\n",
    "from sklearn.feature_selection import SelectFromModel\n",
    "from sklearn.preprocessing import StandardScaler\n",
    "from sklearn.pipeline import Pipeline\n",
    "from parameter_feature_search import *\n",
    "\n",
    "import numpy as np\n",
    "import pandas as pd\n",
    "import matplotlib.pyplot as plt\n",
    "import glob\n",
    "\n",
    "import DataProcess as DP"
   ]
  },
  {
   "cell_type": "markdown",
   "metadata": {},
   "source": [
    "Load the data and extract the features:"
   ]
  },
  {
   "cell_type": "code",
   "execution_count": 2,
   "metadata": {},
   "outputs": [],
   "source": [
    "protocol_datadir = '../../TuringMachines/PAMAP2_Dataset/Protocol/'"
   ]
  },
  {
   "cell_type": "code",
   "execution_count": 3,
   "metadata": {},
   "outputs": [],
   "source": [
    "profiles = list(glob.glob(protocol_datadir+'*.dat'))"
   ]
  },
  {
   "cell_type": "code",
   "execution_count": 5,
   "metadata": {},
   "outputs": [
    {
     "name": "stdout",
     "output_type": "stream",
     "text": [
      "../../TuringMachines/PAMAP2_Dataset/Protocol/subject105.dat\n",
      "../../TuringMachines/PAMAP2_Dataset/Protocol/subject101.dat\n",
      "../../TuringMachines/PAMAP2_Dataset/Protocol/subject107.dat\n",
      "../../TuringMachines/PAMAP2_Dataset/Protocol/subject106.dat\n",
      "../../TuringMachines/PAMAP2_Dataset/Protocol/subject103.dat\n",
      "../../TuringMachines/PAMAP2_Dataset/Protocol/subject102.dat\n",
      "../../TuringMachines/PAMAP2_Dataset/Protocol/subject109.dat\n",
      "../../TuringMachines/PAMAP2_Dataset/Protocol/subject108.dat\n",
      "../../TuringMachines/PAMAP2_Dataset/Protocol/subject104.dat\n"
     ]
    }
   ],
   "source": [
    "all_dfs = []\n",
    "for fname in profiles:\n",
    "    print fname\n",
    "    subject_index = int(fname.split('/')[-1].split('.')[0][-1])\n",
    "    dp = DP.dataprocess(fname,T=512,stride=512)\n",
    "     #For LOSO, we need subjectID in the final dataframe\n",
    "    dp.df['subjectID'] = int(subject_index)*np.ones(len(dp.df))\n",
    "    all_dfs.append(dp.df)\n",
    "    \n",
    "feature_df = pd.concat(all_dfs)"
   ]
  },
  {
   "cell_type": "code",
   "execution_count": 6,
   "metadata": {},
   "outputs": [],
   "source": [
    "Y = feature_df['activityID']\n",
    "X = feature_df.drop(['activityID','subjectID'],axis=1)"
   ]
  },
  {
   "cell_type": "markdown",
   "metadata": {},
   "source": [
    "Scale the features:"
   ]
  },
  {
   "cell_type": "code",
   "execution_count": 7,
   "metadata": {},
   "outputs": [],
   "source": [
    "sc = StandardScaler()\n",
    "X_scaled = pd.DataFrame(sc.fit_transform(X),columns=X.columns)"
   ]
  },
  {
   "cell_type": "markdown",
   "metadata": {},
   "source": [
    "#### 1.1 Find best hyperparameters using tree-selected features"
   ]
  },
  {
   "cell_type": "code",
   "execution_count": 8,
   "metadata": {},
   "outputs": [],
   "source": [
    "model = GradientBoostingClassifier()\n",
    "\n",
    "parameters = {\n",
    "    'classify__n_estimators': (85,95,100,105),\n",
    "    'classify__max_depth': (10,20,30,50,None),\n",
    "    'classify__learning_rate':([0.0001,0.0005,0.001,0.005,0.01,0.05,0.1,0.5])\n",
    "}"
   ]
  },
  {
   "cell_type": "code",
   "execution_count": 11,
   "metadata": {},
   "outputs": [
    {
     "name": "stdout",
     "output_type": "stream",
     "text": [
      "Performing grid search...\n",
      "('pipeline:', ['select', 'classify'])\n",
      "parameters:\n",
      "{'classify__learning_rate': [0.0001, 0.0005, 0.001, 0.005, 0.01, 0.05, 0.1, 0.5], 'classify__n_estimators': (85, 95, 100, 105), 'classify__max_depth': (10, 20, 30, 50, None)}\n",
      "Fitting 5 folds for each of 160 candidates, totalling 800 fits\n"
     ]
    },
    {
     "name": "stderr",
     "output_type": "stream",
     "text": [
      "[Parallel(n_jobs=4)]: Done  42 tasks      | elapsed: 22.4min\n",
      "[Parallel(n_jobs=4)]: Done 192 tasks      | elapsed: 100.6min\n",
      "[Parallel(n_jobs=4)]: Done 442 tasks      | elapsed: 232.9min\n",
      "[Parallel(n_jobs=4)]: Done 792 tasks      | elapsed: 394.3min\n",
      "[Parallel(n_jobs=4)]: Done 800 out of 800 | elapsed: 396.6min finished\n"
     ]
    },
    {
     "name": "stdout",
     "output_type": "stream",
     "text": [
      "done in 23868.118s\n",
      "()\n",
      "Best score: 0.969\n",
      "Best parameters set:\n",
      "\tclassify__learning_rate: 0.05\n",
      "\tclassify__max_depth: 10\n",
      "\tclassify__n_estimators: 85\n",
      "Hold out score: 0.965\n",
      "CPU times: user 2min, sys: 6.89 s, total: 2min 7s\n",
      "Wall time: 6h 37min 48s\n"
     ]
    }
   ],
   "source": [
    "%time X_new, best_classifier_fselect = test_model_initial(model,X_scaled,Y,parameters)"
   ]
  },
  {
   "cell_type": "code",
   "execution_count": 12,
   "metadata": {},
   "outputs": [
    {
     "data": {
      "text/plain": [
       "76"
      ]
     },
     "execution_count": 12,
     "metadata": {},
     "output_type": "execute_result"
    }
   ],
   "source": [
    "len(X_new.columns)"
   ]
  },
  {
   "cell_type": "markdown",
   "metadata": {},
   "source": [
    "#### 1.2 Find the best classifier without reducing features"
   ]
  },
  {
   "cell_type": "code",
   "execution_count": 9,
   "metadata": {},
   "outputs": [
    {
     "name": "stdout",
     "output_type": "stream",
     "text": [
      "Performing grid search...\n",
      "('pipeline:', ['classify'])\n",
      "parameters:\n",
      "{'classify__learning_rate': [0.0001, 0.0005, 0.001, 0.005, 0.01, 0.05, 0.1, 0.5], 'classify__n_estimators': (85, 95, 100, 105), 'classify__max_depth': (10, 20, 30, 50, None)}\n",
      "Fitting 5 folds for each of 160 candidates, totalling 800 fits\n"
     ]
    },
    {
     "name": "stderr",
     "output_type": "stream",
     "text": [
      "[Parallel(n_jobs=4)]: Done  42 tasks      | elapsed: 35.6min\n",
      "[Parallel(n_jobs=4)]: Done 192 tasks      | elapsed: 149.4min\n",
      "[Parallel(n_jobs=4)]: Done 442 tasks      | elapsed: 350.1min\n",
      "[Parallel(n_jobs=4)]: Done 792 tasks      | elapsed: 510.6min\n",
      "[Parallel(n_jobs=4)]: Done 800 out of 800 | elapsed: 511.2min finished\n"
     ]
    },
    {
     "name": "stdout",
     "output_type": "stream",
     "text": [
      "done in 30742.003s\n",
      "()\n",
      "Best score: 0.968\n",
      "Best parameters set:\n",
      "\tclassify__learning_rate: 0.1\n",
      "\tclassify__max_depth: 50\n",
      "\tclassify__n_estimators: 105\n",
      "Hold out score: 0.979\n",
      "             precision    recall  f1-score   support\n",
      "\n",
      "        1.0       1.00      1.00      1.00       103\n",
      "        2.0       0.99      1.00      0.99        81\n",
      "        3.0       0.99      0.96      0.97        91\n",
      "        4.0       0.98      1.00      0.99       129\n",
      "        5.0       1.00      0.98      0.99        56\n",
      "        6.0       1.00      0.98      0.99        91\n",
      "        7.0       1.00      0.99      1.00       112\n",
      "       12.0       0.91      0.90      0.91        48\n",
      "       13.0       1.00      1.00      1.00        37\n",
      "       16.0       0.96      0.96      0.96       100\n",
      "       17.0       0.93      0.97      0.95       129\n",
      "       24.0       1.00      1.00      1.00        22\n",
      "\n",
      "avg / total       0.98      0.98      0.98       999\n",
      "\n",
      "CPU times: user 1min 45s, sys: 5.94 s, total: 1min 51s\n",
      "Wall time: 8h 32min 22s\n"
     ]
    }
   ],
   "source": [
    "%time best_classifier_nodrop = test_model_initial_noselection(model,X_scaled,Y,parameters)"
   ]
  },
  {
   "cell_type": "markdown",
   "metadata": {},
   "source": [
    "#### 1.3 Find the best classifier using the genetic algorithm"
   ]
  },
  {
   "cell_type": "code",
   "execution_count": null,
   "metadata": {},
   "outputs": [],
   "source": [
    "%time GA = Run_GA(X_scaled,Y,best_classifier_fselect)"
   ]
  },
  {
   "cell_type": "code",
   "execution_count": null,
   "metadata": {},
   "outputs": [],
   "source": [
    "GA.best_fitness"
   ]
  },
  {
   "cell_type": "code",
   "execution_count": null,
   "metadata": {},
   "outputs": [],
   "source": [
    "len(GA.feature_selection.columns)"
   ]
  },
  {
   "cell_type": "code",
   "execution_count": null,
   "metadata": {},
   "outputs": [],
   "source": [
    "plt.style.use('ggplot')\n",
    "fig = plt.figure(figsize=(8,6))\n",
    "ax = fig.add_subplot(111)\n",
    "ax.plot(GA.fitness_evolution)\n",
    "ax.set_xlabel('GA Iteration')\n",
    "ax.set_ylabel('Test score')\n",
    "plt.grid()\n",
    "fig.savefig('GA_iterations_random_forest.png',dpi=400)"
   ]
  },
  {
   "cell_type": "markdown",
   "metadata": {},
   "source": [
    "### 2. Gradient Boosting with LOSO Cross-Validation"
   ]
  },
  {
   "cell_type": "markdown",
   "metadata": {},
   "source": [
    "#### 2.1 LOSO on all original features"
   ]
  },
  {
   "cell_type": "code",
   "execution_count": null,
   "metadata": {},
   "outputs": [],
   "source": [
    "sc = StandardScaler()\n",
    "X_features_scaled = pd.DataFrame(sc.fit_transform(X),columns=X.columns)\n",
    "X_features_scaled['activityID'] = feature_df['activityID'].values\n",
    "X_features_scaled['subjectID'] = feature_df['subjectID'].values"
   ]
  },
  {
   "cell_type": "markdown",
   "metadata": {},
   "source": [
    "First using the classifier optimized on all features:"
   ]
  },
  {
   "cell_type": "code",
   "execution_count": null,
   "metadata": {},
   "outputs": [],
   "source": [
    "subject_scores_no_selection_1 = LOSO(X_features_scaled,best_classifier_nodrop)"
   ]
  },
  {
   "cell_type": "code",
   "execution_count": null,
   "metadata": {},
   "outputs": [],
   "source": [
    "mean_LOSO_no_selection_1 = np.mean([subject_scores_no_selection_1[e] for e in list(subject_scores_no_selection_1.keys())])"
   ]
  },
  {
   "cell_type": "markdown",
   "metadata": {},
   "source": [
    "Now using classifier optimized on features selected by tree-based method:"
   ]
  },
  {
   "cell_type": "code",
   "execution_count": null,
   "metadata": {},
   "outputs": [],
   "source": [
    "subject_scores_no_selection_2 = LOSO(X_features_scaled,best_classifier_fselect)"
   ]
  },
  {
   "cell_type": "code",
   "execution_count": null,
   "metadata": {},
   "outputs": [],
   "source": [
    "subject_scores_no_selection_2"
   ]
  },
  {
   "cell_type": "code",
   "execution_count": null,
   "metadata": {},
   "outputs": [],
   "source": [
    "mean_LOSO_no_selection_2 = np.mean([subject_scores_no_selection_2[e] for e in list(subject_scores_no_selection_2.keys())])"
   ]
  },
  {
   "cell_type": "markdown",
   "metadata": {},
   "source": [
    "#### 2.2 LOSO on features selected by genetic algorithm"
   ]
  },
  {
   "cell_type": "code",
   "execution_count": null,
   "metadata": {},
   "outputs": [],
   "source": [
    "new_features_GA = list(GA.feature_columns) + ['activityID','subjectID']\n",
    "X_feature_select_GA = feature_df[new_features_GA]\n",
    "\n",
    "sc = StandardScaler()\n",
    "X_feature_select_GA_scaled = pd.DataFrame(sc.fit_transform(X_feature_select_GA),columns=X_feature_select_GA.columns)\n",
    "X_feature_select_GA_scaled['activityID'] = X_feature_select_GA['activityID'].values\n",
    "X_feature_select_GA_scaled['subjectID'] = X_feature_select_GA['subjectID'].values"
   ]
  },
  {
   "cell_type": "code",
   "execution_count": null,
   "metadata": {},
   "outputs": [],
   "source": [
    "subject_scores_GA_selection = LOSO(X_feature_select_GA_scaled,best_classifier_fselect)"
   ]
  },
  {
   "cell_type": "code",
   "execution_count": null,
   "metadata": {},
   "outputs": [],
   "source": [
    "subject_scores_GA_selection"
   ]
  },
  {
   "cell_type": "code",
   "execution_count": null,
   "metadata": {},
   "outputs": [],
   "source": [
    "mean_LOSO_GA = np.mean([subject_scores_GA_selection[e] for e in list(subject_scores_GA_selection.keys())])"
   ]
  },
  {
   "cell_type": "markdown",
   "metadata": {},
   "source": [
    "#### 2.3 LOSO on tree-based-selected features"
   ]
  },
  {
   "cell_type": "code",
   "execution_count": null,
   "metadata": {},
   "outputs": [],
   "source": [
    "new_features_Treebased = list(X_new.columns) + ['activityID','subjectID']\n",
    "X_feature_select_Treebased = feature_df[new_features_Treebased]\n",
    "\n",
    "sc = StandardScaler()\n",
    "X_feature_select_Treebased_scaled = pd.DataFrame(sc.fit_transform(X_feature_select_Treebased),columns=X_feature_select_Treebased.columns)\n",
    "X_feature_select_Treebased_scaled['activityID'] = X_feature_select_Treebased['activityID']\n",
    "X_feature_select_Treebased_scaled['subjectID'] = X_feature_select_Treebased['subjectID']"
   ]
  },
  {
   "cell_type": "code",
   "execution_count": null,
   "metadata": {},
   "outputs": [],
   "source": [
    "subject_scores_Treebased_selection = LOSO(X_feature_select_Treebased,best_classifier_fselect)"
   ]
  },
  {
   "cell_type": "code",
   "execution_count": null,
   "metadata": {},
   "outputs": [],
   "source": [
    "subject_scores_Treebased_selection"
   ]
  },
  {
   "cell_type": "code",
   "execution_count": null,
   "metadata": {},
   "outputs": [],
   "source": [
    "mean_LOSO_Treebased = np.mean([subject_scores_Treebased_selection[e] for e in list(subject_scores_Treebased_selection.keys())])"
   ]
  },
  {
   "cell_type": "code",
   "execution_count": null,
   "metadata": {},
   "outputs": [],
   "source": [
    "print('Mean LOSO score for tree-based selection: %0.3f' %mean_LOSO_Treebased)\n",
    "print('Mean LOSO score for GA-based selection: %0.3f' %mean_LOSO_GA)\n",
    "print('Mean LOSO score for no feature selection 1: %0.3f' %mean_LOSO_no_selection_1)\n",
    "print('Mean LOSO score for no feature selection 2: %0.3f' %mean_LOSO_no_selection_1)"
   ]
  }
 ],
 "metadata": {
  "kernelspec": {
   "display_name": "Python 2",
   "language": "python",
   "name": "python2"
  },
  "language_info": {
   "codemirror_mode": {
    "name": "ipython",
    "version": 2
   },
   "file_extension": ".py",
   "mimetype": "text/x-python",
   "name": "python",
   "nbconvert_exporter": "python",
   "pygments_lexer": "ipython2",
   "version": "2.7.12"
  }
 },
 "nbformat": 4,
 "nbformat_minor": 2
}
