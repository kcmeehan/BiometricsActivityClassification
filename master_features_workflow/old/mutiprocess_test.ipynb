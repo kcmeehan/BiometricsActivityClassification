{
 "cells": [
  {
   "cell_type": "code",
   "execution_count": 23,
   "metadata": {},
   "outputs": [],
   "source": [
    "import multiprocessing\n",
    "import time\n",
    "import os\n",
    "import numpy as np"
   ]
  },
  {
   "cell_type": "code",
   "execution_count": 24,
   "metadata": {},
   "outputs": [
    {
     "name": "stdout",
     "output_type": "stream",
     "text": [
      "4\n"
     ]
    }
   ],
   "source": [
    "print(multiprocessing.cpu_count())"
   ]
  },
  {
   "cell_type": "code",
   "execution_count": 25,
   "metadata": {},
   "outputs": [],
   "source": [
    "max_number_processes = 2\n",
    "pool = multiprocessing.Pool(max_number_processes)"
   ]
  },
  {
   "cell_type": "code",
   "execution_count": 26,
   "metadata": {},
   "outputs": [],
   "source": [
    "#Make the first generation \n",
    "old_generation = np.zeros([10,10])\n",
    "for i in range(10):\n",
    "    old_generation[i,:] = np.random.binomial(1,0.5,10)"
   ]
  },
  {
   "cell_type": "code",
   "execution_count": 27,
   "metadata": {},
   "outputs": [
    {
     "data": {
      "text/plain": [
       "array([[0., 0., 1., 1., 0., 0., 0., 1., 1., 0.],\n",
       "       [0., 1., 1., 1., 1., 0., 0., 0., 1., 1.],\n",
       "       [1., 0., 0., 1., 1., 0., 0., 1., 0., 0.],\n",
       "       [1., 0., 0., 0., 1., 0., 0., 0., 0., 1.],\n",
       "       [0., 1., 1., 1., 1., 0., 1., 1., 0., 0.],\n",
       "       [1., 0., 1., 1., 1., 1., 0., 1., 0., 0.],\n",
       "       [1., 1., 1., 0., 0., 1., 0., 0., 0., 0.],\n",
       "       [0., 1., 1., 0., 1., 0., 1., 1., 0., 0.],\n",
       "       [0., 0., 0., 0., 0., 0., 1., 1., 1., 1.],\n",
       "       [1., 0., 1., 1., 0., 1., 0., 1., 0., 1.]])"
      ]
     },
     "execution_count": 27,
     "metadata": {},
     "output_type": "execute_result"
    }
   ],
   "source": [
    "old_generation"
   ]
  },
  {
   "cell_type": "code",
   "execution_count": 30,
   "metadata": {},
   "outputs": [],
   "source": [
    "nprocs = 3"
   ]
  },
  {
   "cell_type": "code",
   "execution_count": 32,
   "metadata": {},
   "outputs": [
    {
     "data": {
      "text/plain": [
       "[array([[0., 0., 1., 1., 0., 0., 0., 1., 1., 0.],\n",
       "        [0., 1., 1., 1., 1., 0., 0., 0., 1., 1.],\n",
       "        [1., 0., 0., 1., 1., 0., 0., 1., 0., 0.],\n",
       "        [1., 0., 0., 0., 1., 0., 0., 0., 0., 1.]]),\n",
       " array([[0., 1., 1., 1., 1., 0., 1., 1., 0., 0.],\n",
       "        [1., 0., 1., 1., 1., 1., 0., 1., 0., 0.],\n",
       "        [1., 1., 1., 0., 0., 1., 0., 0., 0., 0.]]),\n",
       " array([[0., 1., 1., 0., 1., 0., 1., 1., 0., 0.],\n",
       "        [0., 0., 0., 0., 0., 0., 1., 1., 1., 1.],\n",
       "        [1., 0., 1., 1., 0., 1., 0., 1., 0., 1.]])]"
      ]
     },
     "execution_count": 32,
     "metadata": {},
     "output_type": "execute_result"
    }
   ],
   "source": [
    "np.array_split(old_generation,nprocs)"
   ]
  },
  {
   "cell_type": "code",
   "execution_count": null,
   "metadata": {},
   "outputs": [],
   "source": []
  }
 ],
 "metadata": {
  "kernelspec": {
   "display_name": "Python 3",
   "language": "python",
   "name": "python3"
  },
  "language_info": {
   "codemirror_mode": {
    "name": "ipython",
    "version": 3
   },
   "file_extension": ".py",
   "mimetype": "text/x-python",
   "name": "python",
   "nbconvert_exporter": "python",
   "pygments_lexer": "ipython3",
   "version": "3.6.4"
  }
 },
 "nbformat": 4,
 "nbformat_minor": 2
}
