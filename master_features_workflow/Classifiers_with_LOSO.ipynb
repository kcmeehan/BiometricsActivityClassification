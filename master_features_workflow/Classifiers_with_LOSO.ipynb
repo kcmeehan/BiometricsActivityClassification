{
 "cells": [
  {
   "cell_type": "markdown",
   "metadata": {},
   "source": [
    "#### Carry out Tree based feature selection, feature selection with the Genetic Algorithm and LOSO with a ramdom forest classifier"
   ]
  },
  {
   "cell_type": "code",
   "execution_count": 1,
   "metadata": {},
   "outputs": [],
   "source": [
    "from sklearn.ensemble import RandomForestClassifier\n",
    "from sklearn.model_selection import cross_validate, GridSearchCV, train_test_split\n",
    "from sklearn.feature_selection import SelectFromModel\n",
    "from sklearn.preprocessing import StandardScaler, LabelEncoder\n",
    "from sklearn.pipeline import Pipeline\n",
    "from parameter_feature_search import *\n",
    "import glob\n",
    "import time\n",
    "import pandas as pd\n",
    "from plotting_tools import plot_feature_distributions\n",
    "import numpy as np\n",
    "import matplotlib.pyplot as plt\n",
    "import time\n",
    "import warnings\n",
    "warnings.filterwarnings(\"ignore\")\n",
    "%matplotlib inline"
   ]
  },
  {
   "cell_type": "markdown",
   "metadata": {},
   "source": [
    "#### We can choose to use just the protocol or just the optional datset"
   ]
  },
  {
   "cell_type": "code",
   "execution_count": 22,
   "metadata": {},
   "outputs": [],
   "source": [
    "protocol_datadir = '/Users/rmartinshort/Documents/Berkeley/GDSO/PAMAP2_data/PAMAP2_Dataset/Protocol/'\n",
    "optional_datadir = '/Users/rmartinshort/Documents/Berkeley/GDSO/PAMAP2_data/PAMAP2_Dataset/Optional/'"
   ]
  },
  {
   "cell_type": "code",
   "execution_count": 24,
   "metadata": {},
   "outputs": [],
   "source": [
    "allfiles = list(glob.glob(protocol_datadir+'*.dat'))+list(glob.glob(optional_datadir+'*.dat'))\n",
    "\n",
    "all_dfs = []\n",
    "for fname in allfiles:\n",
    "    subject_index = int(fname.split('/')[-1].split('.')[0][-1])\n",
    "    dp = DP.dataprocess(fname,T=512,stride=512)\n",
    "    \n",
    "    #For LOSO, we need subjectID in the final dataframe\n",
    "    dp.df['subjectID'] = int(subject_index)*np.ones(len(dp.df))\n",
    "    all_dfs.append(dp.df)\n",
    "    \n",
    "feature_df = pd.concat(all_dfs)"
   ]
  },
  {
   "cell_type": "code",
   "execution_count": 4,
   "metadata": {},
   "outputs": [],
   "source": [
    "feature_df.to_csv(\"Features_df_with_subject.dat\",index=False)"
   ]
  },
  {
   "cell_type": "markdown",
   "metadata": {},
   "source": [
    "#### Load features dataframe"
   ]
  },
  {
   "cell_type": "code",
   "execution_count": 2,
   "metadata": {},
   "outputs": [],
   "source": [
    "feature_df = pd.read_csv(\"Features_df_with_subject.dat\")"
   ]
  },
  {
   "cell_type": "code",
   "execution_count": 3,
   "metadata": {},
   "outputs": [],
   "source": [
    "Y = feature_df['activityID']\n",
    "X = feature_df.drop(['activityID','subjectID'],axis=1)"
   ]
  },
  {
   "cell_type": "markdown",
   "metadata": {},
   "source": [
    "#### Scale the input matrix and generate classification labels from the target column"
   ]
  },
  {
   "cell_type": "code",
   "execution_count": 4,
   "metadata": {},
   "outputs": [],
   "source": [
    "sc = StandardScaler()\n",
    "X_scaled = pd.DataFrame(sc.fit_transform(X),columns=X.columns)\n",
    "le = LabelEncoder()\n",
    "labels = le.fit_transform(Y)"
   ]
  },
  {
   "cell_type": "markdown",
   "metadata": {},
   "source": [
    "#### Set up inputs for initial hyperparameter search function"
   ]
  },
  {
   "cell_type": "code",
   "execution_count": 5,
   "metadata": {},
   "outputs": [],
   "source": [
    "model = RandomForestClassifier()\n",
    "\n",
    "parameters = {\n",
    "    'classify__n_estimators': (85,95,100,105,110),\n",
    "    'classify__min_samples_leaf': (1,4,10),\n",
    "    'classify__max_depth': (10,20,30,None),\n",
    "    'classify__class_weight':(\"balanced\",\"balanced_subsample\",None),\n",
    "    'classify__criterion':('gini','entropy')\n",
    "}"
   ]
  },
  {
   "cell_type": "markdown",
   "metadata": {},
   "source": [
    "#### Select optimal hyperparemeters and an estimate of the best feature columns"
   ]
  },
  {
   "cell_type": "code",
   "execution_count": 6,
   "metadata": {},
   "outputs": [
    {
     "name": "stdout",
     "output_type": "stream",
     "text": [
      "Performing grid search...\n",
      "pipeline: ['select', 'classify']\n",
      "parameters:\n",
      "{'classify__n_estimators': (85, 95, 100, 105, 110), 'classify__min_samples_leaf': (1, 4, 10), 'classify__max_depth': (10, 20, 30, None), 'classify__class_weight': ('balanced', 'balanced_subsample', None), 'classify__criterion': ('gini', 'entropy')}\n",
      "Fitting 5 folds for each of 360 candidates, totalling 1800 fits\n"
     ]
    },
    {
     "name": "stderr",
     "output_type": "stream",
     "text": [
      "[Parallel(n_jobs=4)]: Done  42 tasks      | elapsed:   24.8s\n",
      "[Parallel(n_jobs=4)]: Done 192 tasks      | elapsed:  2.1min\n",
      "[Parallel(n_jobs=4)]: Done 442 tasks      | elapsed:  6.5min\n",
      "[Parallel(n_jobs=4)]: Done 792 tasks      | elapsed: 11.7min\n",
      "[Parallel(n_jobs=4)]: Done 1242 tasks      | elapsed: 19.3min\n",
      "[Parallel(n_jobs=4)]: Done 1792 tasks      | elapsed: 27.3min\n",
      "[Parallel(n_jobs=4)]: Done 1800 out of 1800 | elapsed: 27.5min finished\n"
     ]
    },
    {
     "name": "stdout",
     "output_type": "stream",
     "text": [
      "done in 1653.876s\n",
      "\n",
      "Best score: 0.990\n",
      "Best parameters set:\n",
      "\tclassify__class_weight: 'balanced'\n",
      "\tclassify__criterion: 'entropy'\n",
      "\tclassify__max_depth: 30\n",
      "\tclassify__min_samples_leaf: 1\n",
      "\tclassify__n_estimators: 105\n",
      "Hold out score: 0.979\n"
     ]
    }
   ],
   "source": [
    "X_new, best_classifier = test_model_initial(model,X_scaled,labels,parameters)"
   ]
  },
  {
   "cell_type": "code",
   "execution_count": 7,
   "metadata": {},
   "outputs": [
    {
     "data": {
      "text/plain": [
       "68"
      ]
     },
     "execution_count": 7,
     "metadata": {},
     "output_type": "execute_result"
    }
   ],
   "source": [
    "len(X_new.columns)"
   ]
  },
  {
   "cell_type": "markdown",
   "metadata": {},
   "source": [
    "#### Select optimal feature columns using genetic algorithm"
   ]
  },
  {
   "cell_type": "code",
   "execution_count": null,
   "metadata": {},
   "outputs": [
    {
     "name": "stdout",
     "output_type": "stream",
     "text": [
      "GeneticAlgorithm: Testing generation 1\n",
      "GeneticAlgorithm: Testing generation 2\n",
      "GeneticAlgorithm: Testing generation 3\n",
      "GeneticAlgorithm: Testing generation 4\n",
      "GeneticAlgorithm: Testing generation 5\n",
      "GeneticAlgorithm: Testing generation 6\n",
      "GeneticAlgorithm: Testing generation 7\n",
      "GeneticAlgorithm: Testing generation 8\n",
      "GeneticAlgorithm: Testing generation 9\n",
      "GeneticAlgorithm: Testing generation 10\n",
      "GeneticAlgorithm: Testing generation 11\n",
      "GeneticAlgorithm: Testing generation 12\n",
      "GeneticAlgorithm: Testing generation 13\n",
      "GeneticAlgorithm: Testing generation 14\n",
      "GeneticAlgorithm: Testing generation 15\n",
      "GeneticAlgorithm: Testing generation 16\n",
      "GeneticAlgorithm: Testing generation 17\n",
      "GeneticAlgorithm: Testing generation 18\n",
      "GeneticAlgorithm: Testing generation 19\n",
      "GeneticAlgorithm: Testing generation 20\n",
      "GeneticAlgorithm: Testing generation 21\n"
     ]
    }
   ],
   "source": [
    "GA = Run_GA(X_scaled,labels,best_classifier)"
   ]
  },
  {
   "cell_type": "code",
   "execution_count": 74,
   "metadata": {},
   "outputs": [
    {
     "data": {
      "image/png": "[encoded data removed]",
      "text/plain": [
       "<matplotlib.figure.Figure at 0x1c0d495ba8>"
      ]
     },
     "metadata": {},
     "output_type": "display_data"
    }
   ],
   "source": [
    "fig = plt.figure(figsize=(8,6))\n",
    "ax = fig.add_subplot(111)\n",
    "ax.plot(GA.fitness_evolution)\n",
    "ax.set_xlabel('GA Iteration')\n",
    "ax.set_ylabel('Test score')\n",
    "plt.grid()"
   ]
  },
  {
   "cell_type": "code",
   "execution_count": 75,
   "metadata": {},
   "outputs": [
    {
     "data": {
      "text/plain": [
       "0.898186889818689"
      ]
     },
     "execution_count": 75,
     "metadata": {},
     "output_type": "execute_result"
    }
   ],
   "source": [
    "GA.best_fitness"
   ]
  },
  {
   "cell_type": "code",
   "execution_count": 76,
   "metadata": {},
   "outputs": [
    {
     "data": {
      "text/plain": [
       "93"
      ]
     },
     "execution_count": 76,
     "metadata": {},
     "output_type": "execute_result"
    }
   ],
   "source": [
    "len(GA.feature_selection.columns)"
   ]
  },
  {
   "cell_type": "markdown",
   "metadata": {},
   "source": [
    "#### Do LOSO on the original feature columns "
   ]
  },
  {
   "cell_type": "code",
   "execution_count": 105,
   "metadata": {},
   "outputs": [],
   "source": [
    "X_features = X\n",
    "\n",
    "sc = StandardScaler()\n",
    "X_features_scaled = pd.DataFrame(sc.fit_transform(X_features),columns=X_features.columns)\n",
    "X_features_scaled['activityID'] = X_features['activityID'].values\n",
    "X_features_scaled['subjectID'] = X_features['subjectID'].values"
   ]
  },
  {
   "cell_type": "code",
   "execution_count": 106,
   "metadata": {},
   "outputs": [
    {
     "name": "stdout",
     "output_type": "stream",
     "text": [
      "Holding out subject 6\n",
      "Holding out subject 2\n",
      "Holding out subject 9\n",
      "Holding out subject 8\n",
      "Holding out subject 3\n",
      "Holding out subject 7\n",
      "Holding out subject 5\n",
      "Holding out subject 1\n",
      "Holding out subject 4\n"
     ]
    }
   ],
   "source": [
    "subject_scores_no_selection = LOSO(X_features_scaled,best_classifier)"
   ]
  },
  {
   "cell_type": "code",
   "execution_count": 107,
   "metadata": {},
   "outputs": [
    {
     "data": {
      "text/plain": [
       "{'1.0': 0.41737649063032367,\n",
       " '2.0': 0.904320987654321,\n",
       " '3.0': 0.8071065989847716,\n",
       " '4.0': 0.9138576779026217,\n",
       " '5.0': 0.8159851301115242,\n",
       " '6.0': 0.8510158013544018,\n",
       " '7.0': 0.9630996309963099,\n",
       " '8.0': 0.7009708737864078,\n",
       " '9.0': 0.572139303482587}"
      ]
     },
     "execution_count": 107,
     "metadata": {},
     "output_type": "execute_result"
    }
   ],
   "source": [
    "subject_scores_no_selection"
   ]
  },
  {
   "cell_type": "code",
   "execution_count": 108,
   "metadata": {},
   "outputs": [],
   "source": [
    "mean_LOSO_no_selection = np.mean([subject_scores_no_selection[e] for e in list(subject_scores_no_selection.keys())])"
   ]
  },
  {
   "cell_type": "markdown",
   "metadata": {},
   "source": [
    "#### Do LOSO on the feature columns selected by the GA"
   ]
  },
  {
   "cell_type": "code",
   "execution_count": 84,
   "metadata": {},
   "outputs": [],
   "source": [
    "new_features_GA = list(GA.feature_columns) + ['activityID','subjectID']\n",
    "X_feature_select_GA = feature_df[new_features_GA]\n",
    "\n",
    "sc = StandardScaler()\n",
    "X_feature_select_GA_scaled = pd.DataFrame(sc.fit_transform(X_feature_select_GA),columns=X_feature_select_GA.columns)\n",
    "X_feature_select_GA_scaled['activityID'] = X_feature_select_GA['activityID'].values\n",
    "X_feature_select_GA_scaled['subjectID'] = X_feature_select_GA['subjectID'].values"
   ]
  },
  {
   "cell_type": "code",
   "execution_count": 86,
   "metadata": {},
   "outputs": [
    {
     "name": "stdout",
     "output_type": "stream",
     "text": [
      "Holding out subject 1\n",
      "Holding out subject 5\n",
      "Holding out subject 8\n",
      "Holding out subject 4\n",
      "Holding out subject 6\n",
      "Holding out subject 3\n",
      "Holding out subject 2\n",
      "Holding out subject 7\n",
      "Holding out subject 9\n"
     ]
    }
   ],
   "source": [
    "subject_scores_GA_selection = LOSO(X_feature_select_GA_scaled,best_classifier)"
   ]
  },
  {
   "cell_type": "code",
   "execution_count": 87,
   "metadata": {},
   "outputs": [
    {
     "data": {
      "text/plain": [
       "{'1.0': 0.2928082191780822,\n",
       " '2.0': 0.6719745222929936,\n",
       " '3.0': 0.5817307692307693,\n",
       " '4.0': 0.49110320284697506,\n",
       " '5.0': 0.6431451612903226,\n",
       " '6.0': 0.5381263616557734,\n",
       " '7.0': 0.7676056338028169,\n",
       " '8.0': 0.5009784735812133,\n",
       " '9.0': 0.2961165048543689}"
      ]
     },
     "execution_count": 87,
     "metadata": {},
     "output_type": "execute_result"
    }
   ],
   "source": [
    "subject_scores_GA_selection"
   ]
  },
  {
   "cell_type": "code",
   "execution_count": 94,
   "metadata": {},
   "outputs": [],
   "source": [
    "mean_LOSO_GA = np.mean([subject_scores_GA_selection[e] for e in list(subject_scores_GA_selection.keys())])"
   ]
  },
  {
   "cell_type": "markdown",
   "metadata": {},
   "source": [
    "#### Do LOSO on the feature columns selected by the tree-based proceedure"
   ]
  },
  {
   "cell_type": "code",
   "execution_count": 109,
   "metadata": {},
   "outputs": [],
   "source": [
    "new_features_Treebased = list(X_new.columns) + ['activityID','subjectID']\n",
    "X_feature_select_Treebased = feature_df[new_features_Treebased]\n",
    "\n",
    "sc = StandardScaler()\n",
    "X_feature_select_Treebased_scaled = pd.DataFrame(sc.fit_transform(X_feature_select_Treebased),columns=X_feature_select_Treebased.columns)\n",
    "X_feature_select_Treebased_scaled['activityID'] = X_feature_select_Treebased['activityID'].values\n",
    "X_feature_select_Treebased_scaled['subjectID'] = X_feature_select_Treebased['subjectID'].values"
   ]
  },
  {
   "cell_type": "code",
   "execution_count": 110,
   "metadata": {},
   "outputs": [
    {
     "name": "stdout",
     "output_type": "stream",
     "text": [
      "Holding out subject 9\n",
      "Holding out subject 3\n",
      "Holding out subject 7\n",
      "Holding out subject 6\n",
      "Holding out subject 8\n",
      "Holding out subject 1\n",
      "Holding out subject 4\n",
      "Holding out subject 5\n",
      "Holding out subject 2\n"
     ]
    }
   ],
   "source": [
    "subject_scores_Treebased_selection = LOSO(X_feature_select_Treebased,best_classifier)"
   ]
  },
  {
   "cell_type": "code",
   "execution_count": 111,
   "metadata": {},
   "outputs": [
    {
     "data": {
      "text/plain": [
       "{'1.0': 0.42662116040955633,\n",
       " '2.0': 0.8973509933774835,\n",
       " '3.0': 0.7203791469194313,\n",
       " '4.0': 0.9442508710801394,\n",
       " '5.0': 0.7942307692307692,\n",
       " '6.0': 0.8705357142857143,\n",
       " '7.0': 0.868421052631579,\n",
       " '8.0': 0.6634050880626223,\n",
       " '9.0': 0.5330188679245284}"
      ]
     },
     "execution_count": 111,
     "metadata": {},
     "output_type": "execute_result"
    }
   ],
   "source": [
    "subject_scores_Treebased_selection"
   ]
  },
  {
   "cell_type": "code",
   "execution_count": 112,
   "metadata": {},
   "outputs": [],
   "source": [
    "mean_LOSO_Treebased = np.mean([subject_scores_Treebased_selection[e] for e in list(subject_scores_Treebased_selection.keys())])"
   ]
  },
  {
   "cell_type": "markdown",
   "metadata": {},
   "source": [
    "#### Compare final scores"
   ]
  },
  {
   "cell_type": "code",
   "execution_count": 113,
   "metadata": {},
   "outputs": [
    {
     "name": "stdout",
     "output_type": "stream",
     "text": [
      "Mean LOSO score for tree-based selection: 0.746\n",
      "Mean LOSO score for GA-based selection: 0.532\n",
      "Mean LOSO score for no feature selection: 0.772\n"
     ]
    }
   ],
   "source": [
    "print('Mean LOSO score for tree-based selection: %0.3f' %mean_LOSO_Treebased)\n",
    "print('Mean LOSO score for GA-based selection: %0.3f' %mean_LOSO_GA)\n",
    "print('Mean LOSO score for no feature selection: %0.3f' %mean_LOSO_no_selection)"
   ]
  },
  {
   "cell_type": "code",
   "execution_count": null,
   "metadata": {},
   "outputs": [],
   "source": []
  }
 ],
 "metadata": {
  "kernelspec": {
   "display_name": "Python 3",
   "language": "python",
   "name": "python3"
  },
  "language_info": {
   "codemirror_mode": {
    "name": "ipython",
    "version": 3
   },
   "file_extension": ".py",
   "mimetype": "text/x-python",
   "name": "python",
   "nbconvert_exporter": "python",
   "pygments_lexer": "ipython3",
   "version": "3.6.4"
  }
 },
 "nbformat": 4,
 "nbformat_minor": 2
}
