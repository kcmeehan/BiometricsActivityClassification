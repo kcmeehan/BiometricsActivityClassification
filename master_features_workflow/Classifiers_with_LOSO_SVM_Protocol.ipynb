{
 "cells": [
  {
   "cell_type": "markdown",
   "metadata": {},
   "source": [
    "#### Tree based selection, feature selection with GA and LOSO with an SVM"
   ]
  },
  {
   "cell_type": "code",
   "execution_count": 2,
   "metadata": {},
   "outputs": [
    {
     "name": "stderr",
     "output_type": "stream",
     "text": [
      "/Users/rmartinshort/anaconda/envs/py36/lib/python3.6/site-packages/statsmodels/compat/pandas.py:56: FutureWarning: The pandas.core.datetools module is deprecated and will be removed in a future version. Please use the pandas.tseries module instead.\n",
      "  from pandas.core import datetools\n"
     ]
    }
   ],
   "source": [
    "from sklearn.svm import SVC\n",
    "from sklearn.model_selection import cross_validate, GridSearchCV, train_test_split\n",
    "from sklearn.feature_selection import SelectFromModel\n",
    "from sklearn.preprocessing import StandardScaler, LabelEncoder\n",
    "from sklearn.pipeline import Pipeline\n",
    "from parameter_feature_search import *\n",
    "import DataProcess as DP\n",
    "import glob\n",
    "import time\n",
    "import pandas as pd\n",
    "from plotting_tools import plot_feature_distributions\n",
    "import numpy as np\n",
    "import matplotlib.pyplot as plt\n",
    "import time\n",
    "import warnings\n",
    "warnings.filterwarnings(\"ignore\")\n",
    "%matplotlib inline"
   ]
  },
  {
   "cell_type": "markdown",
   "metadata": {},
   "source": [
    "#### We can choose to use just the protocol or just the optional datset"
   ]
  },
  {
   "cell_type": "code",
   "execution_count": 36,
   "metadata": {},
   "outputs": [],
   "source": [
    "protocol_datadir = '/Users/rmartinshort/Documents/Berkeley/GDSO/PAMAP2_data/PAMAP2_Dataset/Protocol/'\n",
    "optional_datadir = '/Users/rmartinshort/Documents/Berkeley/GDSO/PAMAP2_data/PAMAP2_Dataset/Optional/'"
   ]
  },
  {
   "cell_type": "code",
   "execution_count": 37,
   "metadata": {},
   "outputs": [],
   "source": [
    "allfiles = list(glob.glob(protocol_datadir+'*.dat'))\n",
    "\n",
    "all_dfs = []\n",
    "for fname in allfiles:\n",
    "    subject_index = int(fname.split('/')[-1].split('.')[0][-1])\n",
    "    dp = DP.dataprocess(fname,T=512,stride=512)\n",
    "    \n",
    "    #For LOSO, we need subjectID in the final dataframe\n",
    "    dp.df['subjectID'] = int(subject_index)*np.ones(len(dp.df))\n",
    "    all_dfs.append(dp.df)\n",
    "    \n",
    "feature_df = pd.concat(all_dfs)"
   ]
  },
  {
   "cell_type": "code",
   "execution_count": 38,
   "metadata": {},
   "outputs": [
    {
     "data": {
      "text/plain": [
       "304"
      ]
     },
     "execution_count": 38,
     "metadata": {},
     "output_type": "execute_result"
    }
   ],
   "source": [
    "len(feature_df.columns)"
   ]
  },
  {
   "cell_type": "code",
   "execution_count": 39,
   "metadata": {},
   "outputs": [],
   "source": [
    "feature_df.to_csv(\"Features_df_with_subject_protocol.dat\",index=False)"
   ]
  },
  {
   "cell_type": "markdown",
   "metadata": {},
   "source": [
    "#### Load features dataframe"
   ]
  },
  {
   "cell_type": "code",
   "execution_count": 40,
   "metadata": {},
   "outputs": [],
   "source": [
    "feature_df = pd.read_csv(\"Features_df_with_subject_protocol.dat\")"
   ]
  },
  {
   "cell_type": "code",
   "execution_count": 41,
   "metadata": {},
   "outputs": [],
   "source": [
    "Y = feature_df['activityID']\n",
    "X = feature_df.drop(['activityID','subjectID'],axis=1)"
   ]
  },
  {
   "cell_type": "markdown",
   "metadata": {},
   "source": [
    "#### Scale the input matrix and generate classification labels from the target column"
   ]
  },
  {
   "cell_type": "code",
   "execution_count": 42,
   "metadata": {},
   "outputs": [],
   "source": [
    "sc = StandardScaler()\n",
    "X_scaled = pd.DataFrame(sc.fit_transform(X),columns=X.columns)\n",
    "le = LabelEncoder()\n",
    "labels = le.fit_transform(Y)"
   ]
  },
  {
   "cell_type": "markdown",
   "metadata": {},
   "source": [
    "#### Set up inputs for initial hyperparameter search function"
   ]
  },
  {
   "cell_type": "code",
   "execution_count": 48,
   "metadata": {},
   "outputs": [],
   "source": [
    "model = SVC()\n",
    "\n",
    "parameters = {\n",
    "    'classify__C': (1,10,50,80,100,150),\n",
    "    'classify__degree': (1,3,4),\n",
    "    'classify__kernel':(\"poly\",\"rbf\",\"sigmoid\"),\n",
    "}"
   ]
  },
  {
   "cell_type": "markdown",
   "metadata": {},
   "source": [
    "#### Select optimal hyperparemeters (cannot select feature columns based on importance with SVM)"
   ]
  },
  {
   "cell_type": "code",
   "execution_count": 49,
   "metadata": {},
   "outputs": [
    {
     "name": "stdout",
     "output_type": "stream",
     "text": [
      "Performing grid search...\n",
      "pipeline: ['classify']\n",
      "parameters:\n",
      "{'classify__C': (1, 10, 50, 80, 100, 150), 'classify__degree': (1, 3, 4), 'classify__kernel': ('poly', 'rbf', 'sigmoid')}\n",
      "Fitting 5 folds for each of 54 candidates, totalling 270 fits\n"
     ]
    },
    {
     "name": "stderr",
     "output_type": "stream",
     "text": [
      "[Parallel(n_jobs=4)]: Done  42 tasks      | elapsed:   19.7s\n",
      "[Parallel(n_jobs=4)]: Done 192 tasks      | elapsed:  1.3min\n",
      "[Parallel(n_jobs=4)]: Done 270 out of 270 | elapsed:  1.8min finished\n"
     ]
    },
    {
     "name": "stdout",
     "output_type": "stream",
     "text": [
      "done in 105.928s\n",
      "\n",
      "Best score: 0.987\n",
      "Best parameters set:\n",
      "\tclassify__C: 10\n",
      "\tclassify__degree: 1\n",
      "\tclassify__kernel: 'rbf'\n",
      "Hold out score: 0.983\n",
      "             precision    recall  f1-score   support\n",
      "\n",
      "          0       1.00      0.98      0.99       103\n",
      "          1       0.96      0.96      0.96       111\n",
      "          2       0.96      0.96      0.96       106\n",
      "          3       1.00      0.99      1.00       134\n",
      "          4       1.00      0.98      0.99        54\n",
      "          5       0.99      1.00      0.99        81\n",
      "          6       1.00      1.00      1.00       109\n",
      "          7       1.00      1.00      1.00        39\n",
      "          8       1.00      1.00      1.00        32\n",
      "          9       0.99      0.99      0.99        94\n",
      "         10       0.97      0.97      0.97       115\n",
      "         11       0.84      1.00      0.91        21\n",
      "\n",
      "avg / total       0.98      0.98      0.98       999\n",
      "\n"
     ]
    }
   ],
   "source": [
    "best_classifier = test_model_initial_noselection(model,X_scaled,labels,parameters)"
   ]
  },
  {
   "cell_type": "code",
   "execution_count": 50,
   "metadata": {},
   "outputs": [
    {
     "data": {
      "text/plain": [
       "302"
      ]
     },
     "execution_count": 50,
     "metadata": {},
     "output_type": "execute_result"
    }
   ],
   "source": [
    "len(X.columns)"
   ]
  },
  {
   "cell_type": "markdown",
   "metadata": {},
   "source": [
    "#### Select optimal feature columns using genetic algorithm"
   ]
  },
  {
   "cell_type": "code",
   "execution_count": 51,
   "metadata": {},
   "outputs": [
    {
     "name": "stdout",
     "output_type": "stream",
     "text": [
      "GeneticAlgorithm: Testing generation 1\n",
      "GeneticAlgorithm: Testing generation 2\n",
      "GeneticAlgorithm: Testing generation 3\n",
      "GeneticAlgorithm: Testing generation 4\n",
      "GeneticAlgorithm: Testing generation 5\n",
      "GeneticAlgorithm: Testing generation 6\n",
      "GeneticAlgorithm: Testing generation 7\n",
      "GeneticAlgorithm: Testing generation 8\n",
      "GeneticAlgorithm: Testing generation 9\n",
      "GeneticAlgorithm: Testing generation 10\n",
      "GeneticAlgorithm: Testing generation 11\n",
      "GeneticAlgorithm: Testing generation 12\n",
      "GeneticAlgorithm: Testing generation 13\n",
      "GeneticAlgorithm: Testing generation 14\n",
      "GeneticAlgorithm: Testing generation 15\n",
      "GeneticAlgorithm: Testing generation 16\n",
      "GeneticAlgorithm: Testing generation 17\n",
      "GeneticAlgorithm: Testing generation 18\n",
      "GeneticAlgorithm: Testing generation 19\n",
      "GeneticAlgorithm: Testing generation 20\n",
      "GeneticAlgorithm: Testing generation 21\n",
      "GeneticAlgorithm: Testing generation 22\n",
      "GeneticAlgorithm: Testing generation 23\n",
      "GeneticAlgorithm: Testing generation 24\n",
      "GeneticAlgorithm: Testing generation 25\n",
      "GeneticAlgorithm: Testing generation 26\n",
      "GeneticAlgorithm: Testing generation 27\n",
      "GeneticAlgorithm: Testing generation 28\n",
      "GeneticAlgorithm: Testing generation 29\n",
      "GeneticAlgorithm: Testing generation 30\n",
      "GeneticAlgorithm: Testing generation 31\n",
      "GeneticAlgorithm: Testing generation 32\n",
      "GeneticAlgorithm: Testing generation 33\n",
      "GeneticAlgorithm: Testing generation 34\n",
      "GeneticAlgorithm: Testing generation 35\n",
      "GeneticAlgorithm: Testing generation 36\n",
      "GeneticAlgorithm: Testing generation 37\n",
      "GeneticAlgorithm: Testing generation 38\n",
      "GeneticAlgorithm: Testing generation 39\n",
      "GeneticAlgorithm: Testing generation 40\n",
      "GeneticAlgorithm: Testing generation 41\n",
      "GeneticAlgorithm: Testing generation 42\n",
      "GeneticAlgorithm: Testing generation 43\n",
      "GeneticAlgorithm: Testing generation 44\n",
      "GeneticAlgorithm: Testing generation 45\n",
      "GeneticAlgorithm: Testing generation 46\n",
      "GeneticAlgorithm: Testing generation 47\n",
      "GeneticAlgorithm: Testing generation 48\n",
      "GeneticAlgorithm: Testing generation 49\n",
      "GeneticAlgorithm: Testing generation 50\n",
      "GeneticAlgorithm: Testing generation 51\n",
      "GeneticAlgorithm: Testing generation 52\n",
      "GeneticAlgorithm: Testing generation 53\n",
      "GeneticAlgorithm: Testing generation 54\n",
      "GeneticAlgorithm: Testing generation 55\n",
      "GeneticAlgorithm: Testing generation 56\n",
      "GeneticAlgorithm: Testing generation 57\n",
      "GeneticAlgorithm: Testing generation 58\n",
      "GeneticAlgorithm: Testing generation 59\n",
      "GeneticAlgorithm: Testing generation 60\n",
      "GeneticAlgorithm: Testing generation 61\n",
      "GeneticAlgorithm: Testing generation 62\n",
      "GeneticAlgorithm: Testing generation 63\n",
      "GeneticAlgorithm: Testing generation 64\n",
      "GeneticAlgorithm: Testing generation 65\n",
      "GeneticAlgorithm: Testing generation 66\n",
      "GeneticAlgorithm: Testing generation 67\n",
      "GeneticAlgorithm: Testing generation 68\n",
      "GeneticAlgorithm: Testing generation 69\n",
      "GeneticAlgorithm: Testing generation 70\n",
      "GeneticAlgorithm: Testing generation 71\n",
      "GeneticAlgorithm: Testing generation 72\n",
      "GeneticAlgorithm: Testing generation 73\n",
      "GeneticAlgorithm: Testing generation 74\n",
      "GeneticAlgorithm: Testing generation 75\n",
      "GeneticAlgorithm: Testing generation 76\n",
      "GeneticAlgorithm: Testing generation 77\n",
      "GeneticAlgorithm: Testing generation 78\n",
      "GeneticAlgorithm: Testing generation 79\n",
      "GeneticAlgorithm: Testing generation 80\n",
      "GeneticAlgorithm: Testing generation 81\n",
      "GeneticAlgorithm: Testing generation 82\n",
      "GeneticAlgorithm: Testing generation 83\n",
      "GeneticAlgorithm: Testing generation 84\n",
      "GeneticAlgorithm: Testing generation 85\n",
      "GeneticAlgorithm: Testing generation 86\n",
      "GeneticAlgorithm: Testing generation 87\n",
      "GeneticAlgorithm: Testing generation 88\n",
      "GeneticAlgorithm: Testing generation 89\n",
      "GeneticAlgorithm: Testing generation 90\n",
      "GeneticAlgorithm: Testing generation 91\n",
      "GeneticAlgorithm: Testing generation 92\n",
      "GeneticAlgorithm: Testing generation 93\n",
      "GeneticAlgorithm: Testing generation 94\n",
      "GeneticAlgorithm: Testing generation 95\n",
      "GeneticAlgorithm: Testing generation 96\n",
      "GeneticAlgorithm: Testing generation 97\n",
      "GeneticAlgorithm: Testing generation 98\n",
      "GeneticAlgorithm: Testing generation 99\n"
     ]
    }
   ],
   "source": [
    "GA = Run_GA(X_scaled,labels,best_classifier)"
   ]
  },
  {
   "cell_type": "code",
   "execution_count": 52,
   "metadata": {},
   "outputs": [
    {
     "data": {
      "image/png": "[encoded data removed]",
      "text/plain": [
       "<matplotlib.figure.Figure at 0x1c1a607f60>"
      ]
     },
     "metadata": {},
     "output_type": "display_data"
    }
   ],
   "source": [
    "fig = plt.figure(figsize=(8,6))\n",
    "ax = fig.add_subplot(111)\n",
    "ax.plot(GA.fitness_evolution)\n",
    "ax.set_xlabel('GA Iteration')\n",
    "ax.set_ylabel('Test score')\n",
    "plt.grid()\n",
    "plt.savefig('GA_SVD_scores.png',dpi=400)"
   ]
  },
  {
   "cell_type": "code",
   "execution_count": 53,
   "metadata": {},
   "outputs": [
    {
     "data": {
      "text/plain": [
       "1.0"
      ]
     },
     "execution_count": 53,
     "metadata": {},
     "output_type": "execute_result"
    }
   ],
   "source": [
    "GA.best_fitness"
   ]
  },
  {
   "cell_type": "code",
   "execution_count": 54,
   "metadata": {},
   "outputs": [
    {
     "data": {
      "text/plain": [
       "146"
      ]
     },
     "execution_count": 54,
     "metadata": {},
     "output_type": "execute_result"
    }
   ],
   "source": [
    "len(GA.feature_selection.columns)"
   ]
  },
  {
   "cell_type": "markdown",
   "metadata": {},
   "source": [
    "#### Do LOSO on the original feature columns "
   ]
  },
  {
   "cell_type": "code",
   "execution_count": 55,
   "metadata": {},
   "outputs": [],
   "source": [
    "X_features = X\n",
    "\n",
    "sc = StandardScaler()\n",
    "X_features_scaled = pd.DataFrame(sc.fit_transform(X_features),columns=X_features.columns)\n",
    "X_features_scaled['activityID'] = feature_df['activityID'].values\n",
    "X_features_scaled['subjectID'] = feature_df['subjectID'].values"
   ]
  },
  {
   "cell_type": "code",
   "execution_count": 56,
   "metadata": {},
   "outputs": [
    {
     "name": "stdout",
     "output_type": "stream",
     "text": [
      "Holding out subject 5\n",
      "----------------------------------------------------\n",
      "             precision    recall  f1-score   support\n",
      "\n",
      "        1.0       1.00      0.96      0.98        26\n",
      "        2.0       0.87      0.97      0.92        34\n",
      "        3.0       1.00      0.77      0.87        31\n",
      "        4.0       0.97      1.00      0.99        39\n",
      "        5.0       1.00      0.82      0.90        33\n",
      "        6.0       1.00      0.96      0.98        28\n",
      "        7.0       1.00      1.00      1.00        34\n",
      "       12.0       0.92      1.00      0.96        12\n",
      "       13.0       0.77      1.00      0.87        10\n",
      "       16.0       0.96      0.96      0.96        27\n",
      "       17.0       0.80      0.94      0.87        35\n",
      "       24.0       1.00      1.00      1.00         5\n",
      "\n",
      "avg / total       0.95      0.94      0.94       314\n",
      "\n",
      "----------------------------------------------------\n",
      "Holding out subject 3\n",
      "----------------------------------------------------\n",
      "             precision    recall  f1-score   support\n",
      "\n",
      "        1.0       1.00      0.97      0.98        30\n",
      "        2.0       0.90      1.00      0.95        36\n",
      "        3.0       0.91      0.91      0.91        23\n",
      "        4.0       1.00      1.00      1.00        42\n",
      "       12.0       1.00      1.00      1.00         8\n",
      "       13.0       1.00      1.00      1.00        10\n",
      "       16.0       0.96      1.00      0.98        23\n",
      "       17.0       1.00      0.88      0.94        34\n",
      "\n",
      "avg / total       0.97      0.97      0.97       206\n",
      "\n",
      "----------------------------------------------------\n",
      "Holding out subject 6\n",
      "----------------------------------------------------\n",
      "             precision    recall  f1-score   support\n",
      "\n",
      "        1.0       1.00      1.00      1.00        31\n",
      "        2.0       0.90      0.97      0.94        37\n",
      "        3.0       0.83      0.76      0.79        25\n",
      "        4.0       1.00      1.00      1.00        31\n",
      "        5.0       1.00      0.96      0.98        23\n",
      "        6.0       1.00      1.00      1.00        26\n",
      "        7.0       1.00      1.00      1.00        38\n",
      "       12.0       1.00      1.00      1.00         9\n",
      "       13.0       1.00      1.00      1.00         7\n",
      "       16.0       1.00      0.97      0.98        31\n",
      "       17.0       0.96      0.96      0.96        53\n",
      "       24.0       0.00      0.00      0.00         0\n",
      "\n",
      "avg / total       0.97      0.96      0.97       311\n",
      "\n",
      "----------------------------------------------------\n",
      "Holding out subject 4\n",
      "----------------------------------------------------\n",
      "             precision    recall  f1-score   support\n",
      "\n",
      "        1.0       1.00      1.00      1.00        29\n",
      "        2.0       1.00      0.76      0.86        37\n",
      "        3.0       0.79      1.00      0.88        34\n",
      "        4.0       1.00      1.00      1.00        37\n",
      "        6.0       1.00      1.00      1.00        32\n",
      "        7.0       1.00      1.00      1.00        32\n",
      "       12.0       1.00      1.00      1.00         9\n",
      "       13.0       1.00      1.00      1.00        13\n",
      "       16.0       1.00      1.00      1.00        30\n",
      "       17.0       1.00      1.00      1.00        33\n",
      "\n",
      "avg / total       0.98      0.97      0.97       286\n",
      "\n",
      "----------------------------------------------------\n",
      "Holding out subject 7\n",
      "----------------------------------------------------\n",
      "             precision    recall  f1-score   support\n",
      "\n",
      "        1.0       1.00      1.00      1.00        32\n",
      "        2.0       0.76      1.00      0.86        16\n",
      "        3.0       1.00      0.88      0.94        34\n",
      "        4.0       1.00      1.00      1.00        37\n",
      "        5.0       1.00      1.00      1.00         1\n",
      "        6.0       1.00      1.00      1.00        29\n",
      "        7.0       1.00      1.00      1.00        39\n",
      "       12.0       1.00      1.00      1.00        17\n",
      "       13.0       1.00      1.00      1.00        11\n",
      "       16.0       1.00      0.91      0.95        23\n",
      "       17.0       0.97      1.00      0.99        38\n",
      "\n",
      "avg / total       0.98      0.98      0.98       277\n",
      "\n",
      "----------------------------------------------------\n",
      "Holding out subject 1\n",
      "----------------------------------------------------\n",
      "             precision    recall  f1-score   support\n",
      "\n",
      "        1.0       1.00      0.86      0.92        28\n",
      "        2.0       0.14      0.04      0.06        26\n",
      "        3.0       0.50      0.28      0.36        25\n",
      "        4.0       1.00      0.85      0.92        27\n",
      "        5.0       1.00      1.00      1.00        26\n",
      "        6.0       1.00      1.00      1.00        30\n",
      "        7.0       1.00      0.82      0.90        22\n",
      "       12.0       0.72      1.00      0.84        13\n",
      "       13.0       0.83      1.00      0.91        15\n",
      "       16.0       0.88      1.00      0.94        30\n",
      "       17.0       0.52      1.00      0.69        32\n",
      "       24.0       0.93      1.00      0.97        14\n",
      "\n",
      "avg / total       0.79      0.81      0.78       288\n",
      "\n",
      "----------------------------------------------------\n",
      "Holding out subject 8\n",
      "----------------------------------------------------\n",
      "             precision    recall  f1-score   support\n",
      "\n",
      "        1.0       1.00      1.00      1.00        34\n",
      "        2.0       0.61      0.68      0.64        28\n",
      "        3.0       0.52      1.00      0.68        34\n",
      "        4.0       0.95      1.00      0.98        40\n",
      "        5.0       0.95      1.00      0.97        19\n",
      "        6.0       1.00      0.97      0.99        35\n",
      "        7.0       1.00      0.94      0.97        35\n",
      "       12.0       1.00      1.00      1.00        11\n",
      "       13.0       1.00      1.00      1.00         8\n",
      "       16.0       0.78      1.00      0.88        28\n",
      "       17.0       1.00      0.19      0.32        42\n",
      "       24.0       1.00      0.18      0.31        11\n",
      "\n",
      "avg / total       0.89      0.83      0.80       325\n",
      "\n",
      "----------------------------------------------------\n",
      "Holding out subject 2\n",
      "----------------------------------------------------\n",
      "             precision    recall  f1-score   support\n",
      "\n",
      "        1.0       1.00      0.96      0.98        28\n",
      "        2.0       0.92      0.83      0.87        29\n",
      "        3.0       0.91      1.00      0.96        32\n",
      "        4.0       0.97      1.00      0.99        35\n",
      "        5.0       1.00      1.00      1.00        10\n",
      "        6.0       1.00      1.00      1.00        32\n",
      "        7.0       1.00      1.00      1.00        37\n",
      "       12.0       1.00      0.94      0.97        18\n",
      "       13.0       1.00      0.88      0.93        16\n",
      "       16.0       0.89      1.00      0.94        25\n",
      "       17.0       0.95      0.98      0.96        41\n",
      "       24.0       1.00      0.93      0.97        15\n",
      "\n",
      "avg / total       0.97      0.97      0.97       318\n",
      "\n",
      "----------------------------------------------------\n",
      "Holding out subject 9\n",
      "----------------------------------------------------\n",
      "             precision    recall  f1-score   support\n",
      "\n",
      "       24.0       1.00      1.00      1.00         6\n",
      "\n",
      "avg / total       1.00      1.00      1.00         6\n",
      "\n",
      "----------------------------------------------------\n"
     ]
    }
   ],
   "source": [
    "subject_scores_no_selection = LOSO(X_features_scaled,best_classifier)"
   ]
  },
  {
   "cell_type": "code",
   "execution_count": 57,
   "metadata": {},
   "outputs": [
    {
     "data": {
      "text/plain": [
       "{'1.0': 0.8090277777777778,\n",
       " '2.0': 0.9654088050314465,\n",
       " '3.0': 0.9660194174757282,\n",
       " '4.0': 0.9685314685314685,\n",
       " '5.0': 0.9394904458598726,\n",
       " '6.0': 0.9646302250803859,\n",
       " '7.0': 0.9783393501805054,\n",
       " '8.0': 0.8307692307692308,\n",
       " '9.0': 1.0}"
      ]
     },
     "execution_count": 57,
     "metadata": {},
     "output_type": "execute_result"
    }
   ],
   "source": [
    "subject_scores_no_selection"
   ]
  },
  {
   "cell_type": "code",
   "execution_count": 58,
   "metadata": {},
   "outputs": [],
   "source": [
    "mean_LOSO_no_selection = np.mean([subject_scores_no_selection[e] for e in list(subject_scores_no_selection.keys())])"
   ]
  },
  {
   "cell_type": "markdown",
   "metadata": {},
   "source": [
    "#### Do LOSO on the feature columns selected by the GA"
   ]
  },
  {
   "cell_type": "code",
   "execution_count": 59,
   "metadata": {},
   "outputs": [],
   "source": [
    "new_features_GA = list(GA.feature_columns) + ['activityID','subjectID']\n",
    "X_feature_select_GA = feature_df[new_features_GA]\n",
    "\n",
    "sc = StandardScaler()\n",
    "X_feature_select_GA_scaled = pd.DataFrame(sc.fit_transform(X_feature_select_GA),columns=X_feature_select_GA.columns)\n",
    "X_feature_select_GA_scaled['activityID'] = X_feature_select_GA['activityID'].values\n",
    "X_feature_select_GA_scaled['subjectID'] = X_feature_select_GA['subjectID'].values"
   ]
  },
  {
   "cell_type": "code",
   "execution_count": 60,
   "metadata": {},
   "outputs": [
    {
     "name": "stdout",
     "output_type": "stream",
     "text": [
      "Holding out subject 3\n",
      "----------------------------------------------------\n",
      "             precision    recall  f1-score   support\n",
      "\n",
      "        1.0       1.00      0.96      0.98        25\n",
      "        2.0       0.82      1.00      0.90        33\n",
      "        3.0       0.95      0.78      0.86        23\n",
      "        4.0       1.00      1.00      1.00        34\n",
      "       12.0       1.00      1.00      1.00         9\n",
      "       13.0       1.00      1.00      1.00        12\n",
      "       16.0       0.97      1.00      0.98        28\n",
      "       17.0       1.00      0.92      0.96        37\n",
      "\n",
      "avg / total       0.96      0.96      0.96       201\n",
      "\n",
      "----------------------------------------------------\n",
      "Holding out subject 2\n",
      "----------------------------------------------------\n",
      "             precision    recall  f1-score   support\n",
      "\n",
      "        1.0       1.00      0.93      0.96        29\n",
      "        2.0       0.93      0.88      0.90        32\n",
      "        3.0       0.91      1.00      0.95        31\n",
      "        4.0       1.00      1.00      1.00        41\n",
      "        5.0       1.00      1.00      1.00         8\n",
      "        6.0       1.00      1.00      1.00        27\n",
      "        7.0       1.00      1.00      1.00        33\n",
      "       12.0       1.00      0.94      0.97        17\n",
      "       13.0       1.00      1.00      1.00        13\n",
      "       16.0       0.92      1.00      0.96        24\n",
      "       17.0       0.94      0.97      0.96        34\n",
      "       24.0       1.00      0.93      0.97        15\n",
      "\n",
      "avg / total       0.97      0.97      0.97       304\n",
      "\n",
      "----------------------------------------------------\n",
      "Holding out subject 6\n",
      "----------------------------------------------------\n",
      "             precision    recall  f1-score   support\n",
      "\n",
      "        1.0       1.00      1.00      1.00        31\n",
      "        2.0       0.82      0.96      0.89        28\n",
      "        3.0       0.89      0.71      0.79        35\n",
      "        4.0       1.00      1.00      1.00        31\n",
      "        5.0       1.00      1.00      1.00        26\n",
      "        6.0       1.00      1.00      1.00        30\n",
      "        7.0       1.00      1.00      1.00        26\n",
      "       12.0       1.00      1.00      1.00        14\n",
      "       13.0       1.00      1.00      1.00         9\n",
      "       16.0       1.00      0.96      0.98        26\n",
      "       17.0       0.90      0.96      0.93        47\n",
      "\n",
      "avg / total       0.96      0.95      0.95       303\n",
      "\n",
      "----------------------------------------------------\n",
      "Holding out subject 8\n",
      "----------------------------------------------------\n",
      "             precision    recall  f1-score   support\n",
      "\n",
      "        1.0       1.00      0.97      0.98        33\n",
      "        2.0       0.84      0.79      0.81        33\n",
      "        3.0       0.50      1.00      0.67        37\n",
      "        4.0       0.93      0.98      0.95        41\n",
      "        5.0       0.91      1.00      0.95        20\n",
      "        6.0       1.00      0.97      0.99        35\n",
      "        7.0       1.00      0.90      0.95        29\n",
      "       12.0       1.00      1.00      1.00        11\n",
      "       13.0       1.00      1.00      1.00        10\n",
      "       16.0       0.66      1.00      0.80        33\n",
      "       17.0       1.00      0.02      0.04        48\n",
      "       24.0       1.00      0.50      0.67         8\n",
      "\n",
      "avg / total       0.88      0.81      0.76       338\n",
      "\n",
      "----------------------------------------------------\n",
      "Holding out subject 7\n",
      "----------------------------------------------------\n",
      "             precision    recall  f1-score   support\n",
      "\n",
      "        1.0       1.00      1.00      1.00        28\n",
      "        2.0       0.67      1.00      0.80        12\n",
      "        3.0       0.97      0.88      0.92        34\n",
      "        4.0       1.00      1.00      1.00        44\n",
      "        5.0       1.00      0.50      0.67         2\n",
      "        6.0       1.00      1.00      1.00        32\n",
      "        7.0       1.00      1.00      1.00        32\n",
      "       12.0       1.00      1.00      1.00        15\n",
      "       13.0       1.00      1.00      1.00         8\n",
      "       16.0       1.00      0.76      0.86        25\n",
      "       17.0       0.87      0.97      0.92        35\n",
      "\n",
      "avg / total       0.96      0.96      0.96       267\n",
      "\n",
      "----------------------------------------------------\n",
      "Holding out subject 5\n",
      "----------------------------------------------------\n",
      "             precision    recall  f1-score   support\n",
      "\n",
      "        1.0       1.00      1.00      1.00        25\n",
      "        2.0       0.90      0.93      0.91        28\n",
      "        3.0       0.95      0.80      0.87        25\n",
      "        4.0       1.00      1.00      1.00        39\n",
      "        5.0       1.00      0.96      0.98        28\n",
      "        6.0       1.00      0.96      0.98        28\n",
      "        7.0       1.00      1.00      1.00        35\n",
      "       12.0       1.00      1.00      1.00        16\n",
      "       13.0       1.00      1.00      1.00        13\n",
      "       16.0       0.94      1.00      0.97        32\n",
      "       17.0       0.88      0.95      0.91        38\n",
      "       24.0       1.00      1.00      1.00         8\n",
      "\n",
      "avg / total       0.97      0.97      0.96       315\n",
      "\n",
      "----------------------------------------------------\n",
      "Holding out subject 4\n",
      "----------------------------------------------------\n",
      "             precision    recall  f1-score   support\n",
      "\n",
      "        1.0       1.00      1.00      1.00        26\n",
      "        2.0       1.00      0.85      0.92        34\n",
      "        3.0       0.86      1.00      0.92        30\n",
      "        4.0       1.00      1.00      1.00        42\n",
      "        6.0       1.00      1.00      1.00        29\n",
      "        7.0       1.00      1.00      1.00        35\n",
      "       12.0       1.00      1.00      1.00        19\n",
      "       13.0       1.00      1.00      1.00        12\n",
      "       16.0       1.00      1.00      1.00        26\n",
      "       17.0       1.00      1.00      1.00        36\n",
      "\n",
      "avg / total       0.99      0.98      0.98       289\n",
      "\n",
      "----------------------------------------------------\n",
      "Holding out subject 1\n",
      "----------------------------------------------------\n",
      "             precision    recall  f1-score   support\n",
      "\n",
      "        1.0       1.00      0.82      0.90        33\n",
      "        2.0       0.20      0.07      0.11        28\n",
      "        3.0       0.24      0.15      0.18        27\n",
      "        4.0       1.00      0.97      0.98        30\n",
      "        5.0       1.00      0.96      0.98        28\n",
      "        6.0       1.00      1.00      1.00        30\n",
      "        7.0       1.00      0.92      0.96        26\n",
      "       12.0       0.88      1.00      0.93        14\n",
      "       13.0       0.94      1.00      0.97        15\n",
      "       16.0       0.89      1.00      0.94        32\n",
      "       17.0       0.51      1.00      0.67        31\n",
      "       24.0       0.94      1.00      0.97        15\n",
      "\n",
      "avg / total       0.79      0.81      0.79       309\n",
      "\n",
      "----------------------------------------------------\n",
      "Holding out subject 9\n",
      "----------------------------------------------------\n",
      "             precision    recall  f1-score   support\n",
      "\n",
      "       24.0       1.00      1.00      1.00         5\n",
      "\n",
      "avg / total       1.00      1.00      1.00         5\n",
      "\n",
      "----------------------------------------------------\n"
     ]
    }
   ],
   "source": [
    "subject_scores_GA_selection = LOSO(X_feature_select_GA_scaled,best_classifier)"
   ]
  },
  {
   "cell_type": "code",
   "execution_count": 61,
   "metadata": {},
   "outputs": [
    {
     "data": {
      "text/plain": [
       "{'1.0': 0.8090614886731392,\n",
       " '2.0': 0.9703947368421053,\n",
       " '3.0': 0.9552238805970149,\n",
       " '4.0': 0.9826989619377162,\n",
       " '5.0': 0.9650793650793651,\n",
       " '6.0': 0.9537953795379538,\n",
       " '7.0': 0.9550561797752809,\n",
       " '8.0': 0.8106508875739645,\n",
       " '9.0': 1.0}"
      ]
     },
     "execution_count": 61,
     "metadata": {},
     "output_type": "execute_result"
    }
   ],
   "source": [
    "subject_scores_GA_selection"
   ]
  },
  {
   "cell_type": "code",
   "execution_count": 62,
   "metadata": {},
   "outputs": [],
   "source": [
    "mean_LOSO_GA = np.mean([subject_scores_GA_selection[e] for e in list(subject_scores_GA_selection.keys())])"
   ]
  },
  {
   "cell_type": "markdown",
   "metadata": {},
   "source": [
    "#### Compare final scores"
   ]
  },
  {
   "cell_type": "code",
   "execution_count": 63,
   "metadata": {},
   "outputs": [
    {
     "name": "stdout",
     "output_type": "stream",
     "text": [
      "Mean LOSO score for GA-based selection: 0.934\n",
      "Mean LOSO score for no feature selection: 0.936\n"
     ]
    }
   ],
   "source": [
    "print('Mean LOSO score for GA-based selection: %0.3f' %mean_LOSO_GA)\n",
    "print('Mean LOSO score for no feature selection: %0.3f' %mean_LOSO_no_selection)"
   ]
  },
  {
   "cell_type": "markdown",
   "metadata": {},
   "source": [
    "Conclusion: GA selection of optimal columns improves the scores in the traditional train-test split learning task, but has ne effect on the LOSO test"
   ]
  },
  {
   "cell_type": "code",
   "execution_count": null,
   "metadata": {},
   "outputs": [],
   "source": []
  }
 ],
 "metadata": {
  "kernelspec": {
   "display_name": "Python 3",
   "language": "python",
   "name": "python3"
  },
  "language_info": {
   "codemirror_mode": {
    "name": "ipython",
    "version": 3
   },
   "file_extension": ".py",
   "mimetype": "text/x-python",
   "name": "python",
   "nbconvert_exporter": "python",
   "pygments_lexer": "ipython3",
   "version": "3.6.4"
  }
 },
 "nbformat": 4,
 "nbformat_minor": 2
}
