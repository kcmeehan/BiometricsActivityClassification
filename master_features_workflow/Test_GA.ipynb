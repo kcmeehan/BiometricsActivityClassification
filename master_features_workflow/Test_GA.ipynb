{
 "cells": [
  {
   "cell_type": "code",
   "execution_count": 1,
   "metadata": {},
   "outputs": [],
   "source": [
    "from GeneticAlgorithm import GeneticAlgorithm\n",
    "from sklearn.ensemble import RandomForestClassifier\n",
    "import numpy as np\n",
    "import pandas as pd"
   ]
  },
  {
   "cell_type": "code",
   "execution_count": 8,
   "metadata": {},
   "outputs": [],
   "source": [
    "feature_df = pd.read_csv('Features_test.dat')\n",
    "Y = pd.get_dummies(feature_df['activityID'],drop_first=True)\n",
    "X = feature_df.drop(['activityID'],axis=1)\n",
    "RF = RF = RandomForestClassifier(n_estimators=20,min_samples_split=2,min_samples_leaf=1,max_depth=12)\n",
    "GA = GeneticAlgorithm(X,Y,RF,njobs=4)"
   ]
  },
  {
   "cell_type": "code",
   "execution_count": 9,
   "metadata": {},
   "outputs": [
    {
     "name": "stdout",
     "output_type": "stream",
     "text": [
      "GeneticAlgorithm: Testing generation 1\n",
      "GeneticAlgorithm: Testing generation 2\n",
      "GeneticAlgorithm: Testing generation 3\n",
      "GeneticAlgorithm: Testing generation 4\n",
      "GeneticAlgorithm: Testing generation 5\n",
      "GeneticAlgorithm: Testing generation 6\n",
      "GeneticAlgorithm: Testing generation 7\n",
      "GeneticAlgorithm: Testing generation 8\n",
      "GeneticAlgorithm: Testing generation 9\n",
      "GeneticAlgorithm: Testing generation 10\n",
      "GeneticAlgorithm: Testing generation 11\n",
      "GeneticAlgorithm: Testing generation 12\n",
      "GeneticAlgorithm: Testing generation 13\n",
      "GeneticAlgorithm: Testing generation 14\n",
      "GeneticAlgorithm: Testing generation 15\n",
      "GeneticAlgorithm: Testing generation 16\n",
      "GeneticAlgorithm: Testing generation 17\n",
      "GeneticAlgorithm: Testing generation 18\n",
      "GeneticAlgorithm: Testing generation 19\n",
      "GeneticAlgorithm: Testing generation 20\n",
      "GeneticAlgorithm: Testing generation 21\n",
      "GeneticAlgorithm: Testing generation 22\n",
      "GeneticAlgorithm: Testing generation 23\n",
      "GeneticAlgorithm: Testing generation 24\n",
      "GeneticAlgorithm: Testing generation 25\n",
      "GeneticAlgorithm: Testing generation 26\n",
      "GeneticAlgorithm: Testing generation 27\n",
      "GeneticAlgorithm: Testing generation 28\n",
      "GeneticAlgorithm: Testing generation 29\n",
      "GeneticAlgorithm: Testing generation 30\n",
      "GeneticAlgorithm: Testing generation 31\n",
      "GeneticAlgorithm: Testing generation 32\n",
      "GeneticAlgorithm: Testing generation 33\n",
      "GeneticAlgorithm: Testing generation 34\n",
      "GeneticAlgorithm: Testing generation 35\n",
      "GeneticAlgorithm: Testing generation 36\n",
      "GeneticAlgorithm: Testing generation 37\n",
      "GeneticAlgorithm: Testing generation 38\n",
      "GeneticAlgorithm: Testing generation 39\n",
      "GeneticAlgorithm: Testing generation 40\n",
      "GeneticAlgorithm: Testing generation 41\n",
      "GeneticAlgorithm: Testing generation 42\n",
      "GeneticAlgorithm: Testing generation 43\n",
      "GeneticAlgorithm: Testing generation 44\n",
      "GeneticAlgorithm: Testing generation 45\n",
      "GeneticAlgorithm: Testing generation 46\n",
      "GeneticAlgorithm: Testing generation 47\n",
      "GeneticAlgorithm: Testing generation 48\n",
      "GeneticAlgorithm: Testing generation 49\n",
      "GeneticAlgorithm: Testing generation 50\n",
      "GeneticAlgorithm: Testing generation 51\n",
      "GeneticAlgorithm: Testing generation 52\n",
      "GeneticAlgorithm: Testing generation 53\n",
      "GeneticAlgorithm: Testing generation 54\n",
      "GeneticAlgorithm: Testing generation 55\n",
      "GeneticAlgorithm: Testing generation 56\n",
      "GeneticAlgorithm: Testing generation 57\n",
      "GeneticAlgorithm: Testing generation 58\n",
      "GeneticAlgorithm: Testing generation 59\n",
      "GeneticAlgorithm: Testing generation 60\n",
      "GeneticAlgorithm: Testing generation 61\n",
      "GeneticAlgorithm: Testing generation 62\n",
      "GeneticAlgorithm: Testing generation 63\n",
      "GeneticAlgorithm: Testing generation 64\n",
      "GeneticAlgorithm: Testing generation 65\n",
      "GeneticAlgorithm: Testing generation 66\n",
      "GeneticAlgorithm: Testing generation 67\n",
      "GeneticAlgorithm: Testing generation 68\n",
      "GeneticAlgorithm: Testing generation 69\n",
      "GeneticAlgorithm: Testing generation 70\n",
      "GeneticAlgorithm: Testing generation 71\n",
      "GeneticAlgorithm: Testing generation 72\n",
      "GeneticAlgorithm: Testing generation 73\n",
      "GeneticAlgorithm: Testing generation 74\n",
      "GeneticAlgorithm: Testing generation 75\n",
      "GeneticAlgorithm: Testing generation 76\n",
      "GeneticAlgorithm: Testing generation 77\n",
      "GeneticAlgorithm: Testing generation 78\n",
      "GeneticAlgorithm: Testing generation 79\n",
      "GeneticAlgorithm: Testing generation 80\n",
      "GeneticAlgorithm: Testing generation 81\n",
      "GeneticAlgorithm: Testing generation 82\n",
      "GeneticAlgorithm: Testing generation 83\n",
      "GeneticAlgorithm: Testing generation 84\n",
      "GeneticAlgorithm: Testing generation 85\n",
      "GeneticAlgorithm: Testing generation 86\n",
      "GeneticAlgorithm: Testing generation 87\n",
      "GeneticAlgorithm: Testing generation 88\n",
      "GeneticAlgorithm: Testing generation 89\n",
      "GeneticAlgorithm: Testing generation 90\n",
      "GeneticAlgorithm: Testing generation 91\n",
      "GeneticAlgorithm: Testing generation 92\n",
      "GeneticAlgorithm: Testing generation 93\n",
      "GeneticAlgorithm: Testing generation 94\n",
      "GeneticAlgorithm: Testing generation 95\n",
      "GeneticAlgorithm: Testing generation 96\n",
      "GeneticAlgorithm: Testing generation 97\n",
      "GeneticAlgorithm: Testing generation 98\n",
      "GeneticAlgorithm: Testing generation 99\n"
     ]
    }
   ],
   "source": [
    "GA.fit()"
   ]
  },
  {
   "cell_type": "code",
   "execution_count": 10,
   "metadata": {},
   "outputs": [],
   "source": [
    "import matplotlib.pylab as plt\n",
    "%matplotlib inline"
   ]
  },
  {
   "cell_type": "code",
   "execution_count": 12,
   "metadata": {},
   "outputs": [
    {
     "data": {
      "image/png": "[encoded data removed]",
      "text/plain": [
       "<matplotlib.figure.Figure at 0x1a15486b00>"
      ]
     },
     "metadata": {},
     "output_type": "display_data"
    }
   ],
   "source": [
    "fig = plt.figure(figsize=(6,4))\n",
    "ax = fig.add_subplot(111)\n",
    "ax.plot(GA.fitness_evolution)\n",
    "ax.set_xlabel('GA Iteration')\n",
    "ax.set_ylabel('Test score')\n",
    "plt.grid()"
   ]
  },
  {
   "cell_type": "code",
   "execution_count": 10,
   "metadata": {},
   "outputs": [
    {
     "data": {
      "text/plain": [
       "Index(['hand_temp_mean', 'hand_acc16g_x_mean', 'hand_acc16g_y_mean',\n",
       "       'hand_gyro_z_mean', 'hand_mag_x_mean', 'hand_mag_y_mean',\n",
       "       'chest_temp_mean', 'chest_acc16g_y_mean', 'chest_acc16g_z_mean',\n",
       "       'chest_gyro_y_mean', 'chest_mag_x_mean', 'chest_mag_y_mean',\n",
       "       'chest_mag_z_mean', 'ankle_temp_mean', 'ankle_acc16g_x_mean',\n",
       "       'ankle_gyro_x_mean', 'ankle_mag_x_mean', 'ankle_mag_y_mean',\n",
       "       'ankle_mag_z_mean', 'heart_rate_median', 'hand_temp_median',\n",
       "       'hand_acc16g_x_median', 'hand_acc16g_y_median', 'hand_mag_x_median',\n",
       "       'chest_temp_median', 'chest_acc16g_y_median', 'chest_acc16g_z_median',\n",
       "       'chest_mag_y_median', 'ankle_temp_median', 'ankle_acc16g_x_median',\n",
       "       'ankle_acc16g_y_median', 'ankle_gyro_z_median', 'ankle_mag_x_median',\n",
       "       'ankle_mag_z_median', 'heart_rate_std', 'hand_acc16g_x_std',\n",
       "       'hand_gyro_z_std', 'chest_temp_std', 'chest_acc16g_y_std',\n",
       "       'chest_acc16g_z_std', 'chest_gyro_x_std', 'chest_gyro_y_std',\n",
       "       'chest_gyro_z_std', 'ankle_temp_std', 'ankle_acc16g_x_std',\n",
       "       'ankle_acc16g_y_std', 'ankle_gyro_y_std', 'ankle_gyro_z_std',\n",
       "       'heart_rate_peak', 'hand_temp_peak', 'hand_acc16g_x_peak',\n",
       "       'hand_gyro_x_peak', 'hand_gyro_z_peak', 'chest_temp_peak',\n",
       "       'chest_acc16g_x_peak', 'chest_acc16g_y_peak', 'chest_acc16g_z_peak',\n",
       "       'chest_gyro_y_peak', 'chest_mag_x_peak', 'chest_mag_y_peak',\n",
       "       'chest_mag_z_peak', 'ankle_temp_peak', 'ankle_acc16g_x_peak',\n",
       "       'ankle_acc16g_z_peak', 'ankle_gyro_x_peak', 'ankle_mag_x_peak',\n",
       "       'hand_acc16g_x_kurtosis', 'hand_acc16g_y_kurtosis',\n",
       "       'hand_acc16g_z_kurtosis', 'hand_gyro_y_kurtosis',\n",
       "       'chest_gyro_z_kurtosis', 'chest_mag_x_kurtosis', 'chest_mag_z_kurtosis',\n",
       "       'ankle_temp_kurtosis', 'ankle_acc16g_y_kurtosis',\n",
       "       'ankle_gyro_x_kurtosis', 'ankle_gyro_z_kurtosis',\n",
       "       'ankle_mag_z_kurtosis', 'hand_acc_vsum_welch',\n",
       "       'hand_acc_spectrum_energy', 'hand_acc_power_ratio', 'hand_acc_YcZ',\n",
       "       'chest_acc_vsum_sp_entropy', 'chest_acc_spectrum_energy',\n",
       "       'chest_acc_XcY', 'ankle_acc_vsum_sp_entropy',\n",
       "       'ankle_acc_spectrum_energy', 'hand_gyro_power_ratio', 'hand_gyro_XcZ',\n",
       "       'chest_gyro_vsum_welch', 'chest_gyro_YcZ', 'ankle_gyro_vsum_sp_entropy',\n",
       "       'ankle_gyro_spectrum_energy'],\n",
       "      dtype='object')"
      ]
     },
     "execution_count": 10,
     "metadata": {},
     "output_type": "execute_result"
    }
   ],
   "source": [
    "GA.feature_selection.columns"
   ]
  },
  {
   "cell_type": "code",
   "execution_count": null,
   "metadata": {},
   "outputs": [],
   "source": []
  }
 ],
 "metadata": {
  "kernelspec": {
   "display_name": "Python 3",
   "language": "python",
   "name": "python3"
  },
  "language_info": {
   "codemirror_mode": {
    "name": "ipython",
    "version": 3
   },
   "file_extension": ".py",
   "mimetype": "text/x-python",
   "name": "python",
   "nbconvert_exporter": "python",
   "pygments_lexer": "ipython3",
   "version": "3.6.4"
  }
 },
 "nbformat": 4,
 "nbformat_minor": 2
}
