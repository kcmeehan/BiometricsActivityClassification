{
 "cells": [
  {
   "cell_type": "markdown",
   "metadata": {},
   "source": [
    "### Basic test of classification with the new features\n",
    "\n",
    "##### Here we investiage whether adding more features is helpful. We find that there is probably an optimal number of features to train on\n",
    "##### which implies that we should do PCA"
   ]
  },
  {
   "cell_type": "code",
   "execution_count": 1,
   "metadata": {},
   "outputs": [],
   "source": [
    "from sklearn.ensemble import RandomForestClassifier\n",
    "from sklearn.model_selection import train_test_split"
   ]
  },
  {
   "cell_type": "code",
   "execution_count": 2,
   "metadata": {},
   "outputs": [],
   "source": [
    "import DataProcess as DP\n",
    "import glob\n",
    "import time\n",
    "import pandas as pd\n",
    "from plotting_tools import plot_feature_distributions\n",
    "import numpy as np\n",
    "import matplotlib.pyplot as plt\n",
    "%matplotlib inline"
   ]
  },
  {
   "cell_type": "code",
   "execution_count": 3,
   "metadata": {},
   "outputs": [],
   "source": [
    "protocol_datadir = '/Users/rmartinshort/Documents/Berkeley/GDSO/PAMAP2_data/PAMAP2_Dataset/Protocol/'\n",
    "optional_datadir = '/Users/rmartinshort/Documents/Berkeley/GDSO/PAMAP2_data/PAMAP2_Dataset/Optional/'"
   ]
  },
  {
   "cell_type": "code",
   "execution_count": 43,
   "metadata": {},
   "outputs": [
    {
     "name": "stdout",
     "output_type": "stream",
     "text": [
      "/Users/rmartinshort/Documents/Berkeley/GDSO/PAMAP2_data/PAMAP2_Dataset/Protocol/subject101.dat\n",
      "/Users/rmartinshort/Documents/Berkeley/GDSO/PAMAP2_data/PAMAP2_Dataset/Protocol/subject102.dat\n",
      "/Users/rmartinshort/Documents/Berkeley/GDSO/PAMAP2_data/PAMAP2_Dataset/Protocol/subject103.dat\n",
      "/Users/rmartinshort/Documents/Berkeley/GDSO/PAMAP2_data/PAMAP2_Dataset/Protocol/subject104.dat\n",
      "/Users/rmartinshort/Documents/Berkeley/GDSO/PAMAP2_data/PAMAP2_Dataset/Protocol/subject105.dat\n",
      "/Users/rmartinshort/Documents/Berkeley/GDSO/PAMAP2_data/PAMAP2_Dataset/Protocol/subject106.dat\n",
      "/Users/rmartinshort/Documents/Berkeley/GDSO/PAMAP2_data/PAMAP2_Dataset/Protocol/subject107.dat\n",
      "/Users/rmartinshort/Documents/Berkeley/GDSO/PAMAP2_data/PAMAP2_Dataset/Protocol/subject108.dat\n",
      "/Users/rmartinshort/Documents/Berkeley/GDSO/PAMAP2_data/PAMAP2_Dataset/Protocol/subject109.dat\n"
     ]
    }
   ],
   "source": [
    "allfiles = list(glob.glob(protocol_datadir+'*.dat'))+list(glob.glob(optional_datadir+'*.dat'))\n",
    "allfiles = list(glob.glob(protocol_datadir+'*.dat'))\n",
    "\n",
    "all_dfs = []\n",
    "for fname in allfiles:\n",
    "    print(fname)\n",
    "    dp = DP.dataprocess(fname,T=512,stride=512)\n",
    "    all_dfs.append(dp.df)\n",
    "    \n",
    "feature_df = pd.concat(all_dfs)"
   ]
  },
  {
   "cell_type": "code",
   "execution_count": 95,
   "metadata": {},
   "outputs": [],
   "source": [
    "feature_df.to_csv('Features_test.dat',index=False)"
   ]
  },
  {
   "cell_type": "markdown",
   "metadata": {},
   "source": [
    "### Figure out the number of segments associated with each activity"
   ]
  },
  {
   "cell_type": "code",
   "execution_count": 45,
   "metadata": {},
   "outputs": [],
   "source": [
    "activity_list = ['lying','sitting','standing','walking','running','cycling','nordic walking','watching TV',\n",
    "                 'computer work','car driving','ascending stairs','descending stairs',\n",
    "                  'vacuum cleaning','ironing','folding laundry','house cleaning','playing_soccer','rope jumping']\n",
    "#activities = pd.get_dummies(feature_df['activityID'],drop_first=True)\n",
    "activities = feature_df['activityID']\n",
    "activities = feature_df['activityID'].astype(\"category\")"
   ]
  },
  {
   "cell_type": "code",
   "execution_count": 46,
   "metadata": {},
   "outputs": [
    {
     "data": {
      "text/plain": [
       "0    1.0\n",
       "1    1.0\n",
       "2    1.0\n",
       "3    1.0\n",
       "4    1.0\n",
       "Name: activityID, dtype: category\n",
       "Categories (12, float64): [1.0, 2.0, 3.0, 4.0, ..., 13.0, 16.0, 17.0, 24.0]"
      ]
     },
     "execution_count": 46,
     "metadata": {},
     "output_type": "execute_result"
    }
   ],
   "source": [
    "activities.head()"
   ]
  },
  {
   "cell_type": "code",
   "execution_count": 47,
   "metadata": {},
   "outputs": [],
   "source": [
    "X = feature_df.drop(['activityID'],axis=1)"
   ]
  },
  {
   "cell_type": "markdown",
   "metadata": {},
   "source": [
    "#### Train a random forest and looking at the feature importances"
   ]
  },
  {
   "cell_type": "code",
   "execution_count": 48,
   "metadata": {},
   "outputs": [],
   "source": [
    "X_train, X_test, y_train, y_test = train_test_split(X,activities,test_size=0.3)"
   ]
  },
  {
   "cell_type": "code",
   "execution_count": 49,
   "metadata": {},
   "outputs": [],
   "source": [
    "RF = RandomForestClassifier(n_estimators=50,min_samples_split=2,min_samples_leaf=1,max_depth=12,oob_score=True)\n",
    "#note the max_features criterion here - setting this between 50 and 100 makes a small improvment to the results "
   ]
  },
  {
   "cell_type": "code",
   "execution_count": 50,
   "metadata": {},
   "outputs": [],
   "source": [
    "RF = RandomForestClassifier(n_estimators=105,min_samples_leaf=1,max_depth=20,oob_score=True,class_weight='balanced_subsample',\n",
    "                           criterion='gini')"
   ]
  },
  {
   "cell_type": "code",
   "execution_count": 51,
   "metadata": {},
   "outputs": [
    {
     "data": {
      "text/plain": [
       "RandomForestClassifier(bootstrap=True, class_weight='balanced_subsample',\n",
       "            criterion='gini', max_depth=20, max_features='auto',\n",
       "            max_leaf_nodes=None, min_impurity_decrease=0.0,\n",
       "            min_impurity_split=None, min_samples_leaf=1,\n",
       "            min_samples_split=2, min_weight_fraction_leaf=0.0,\n",
       "            n_estimators=105, n_jobs=1, oob_score=True, random_state=None,\n",
       "            verbose=0, warm_start=False)"
      ]
     },
     "execution_count": 51,
     "metadata": {},
     "output_type": "execute_result"
    }
   ],
   "source": [
    "RF.fit(X_train,y_train)"
   ]
  },
  {
   "cell_type": "code",
   "execution_count": 52,
   "metadata": {},
   "outputs": [
    {
     "data": {
      "text/plain": [
       "0.990990990990991"
      ]
     },
     "execution_count": 52,
     "metadata": {},
     "output_type": "execute_result"
    }
   ],
   "source": [
    "RF.oob_score_"
   ]
  },
  {
   "cell_type": "code",
   "execution_count": 53,
   "metadata": {},
   "outputs": [],
   "source": [
    "#list the most important features and their importance values\n",
    "importances = RF.feature_importances_\n",
    "args = np.flip(np.argsort(importances),axis=0)"
   ]
  },
  {
   "cell_type": "code",
   "execution_count": 54,
   "metadata": {},
   "outputs": [
    {
     "name": "stdout",
     "output_type": "stream",
     "text": [
      "Feature chest_acc16g_y_std. Importance: 0.032306\n",
      "Feature ankle_acc16g_x_median. Importance: 0.025757\n",
      "Feature ankle_gyro_z_std. Importance: 0.024968\n",
      "Feature ankle_acc16g_x_mean. Importance: 0.024791\n",
      "Feature hand_acc16g_y_std. Importance: 0.024321\n",
      "Feature ankle_acc16g_x_std. Importance: 0.023789\n",
      "Feature chest_acc16g_y_peak. Importance: 0.022118\n",
      "Feature chest_gyro_y_std. Importance: 0.019023\n",
      "Feature chest_acc_spectrum_energy. Importance: 0.018792\n",
      "Feature chest_gyro_y_mean. Importance: 0.017908\n",
      "Feature chest_acc16g_z_mean. Importance: 0.017560\n",
      "Feature chest_gyro_spectrum_energy. Importance: 0.017355\n",
      "Feature chest_acc16g_z_median. Importance: 0.017344\n",
      "Feature ankle_gyro_spectrum_energy. Importance: 0.017336\n",
      "Feature hand_acc_spectrum_energy. Importance: 0.017042\n",
      "Feature ankle_acc_spectrum_energy. Importance: 0.016954\n",
      "Feature hand_acc16g_x_median. Importance: 0.016807\n",
      "Feature ankle_gyro_x_mean. Importance: 0.015691\n",
      "Feature ankle_acc16g_y_std. Importance: 0.014465\n",
      "Feature chest_acc16g_x_std. Importance: 0.013687\n",
      "Feature hand_acc16g_y_peak. Importance: 0.012522\n",
      "Feature hand_acc16g_y_kurtosis. Importance: 0.011564\n",
      "Feature chest_gyro_x_std. Importance: 0.011409\n",
      "Feature chest_mag_y_median. Importance: 0.011217\n",
      "Feature ankle_gyro_x_std. Importance: 0.011103\n",
      "Feature ankle_acc16g_x_peak. Importance: 0.010894\n",
      "Feature chest_acc16g_x_peak. Importance: 0.010882\n",
      "Feature chest_acc16g_z_peak. Importance: 0.010382\n",
      "Feature hand_acc16g_x_mean. Importance: 0.010338\n",
      "Feature hand_acc16g_z_peak. Importance: 0.010113\n",
      "Feature hand_mag_x_mean. Importance: 0.009960\n",
      "Feature chest_mag_x_std. Importance: 0.009894\n",
      "Feature hand_acc16g_x_std. Importance: 0.009801\n",
      "Feature chest_mag_y_peak. Importance: 0.009529\n",
      "Feature chest_mag_x_mean. Importance: 0.009404\n",
      "Feature hand_acc_vsum_sp_entropy. Importance: 0.008838\n",
      "Feature chest_gyro_x_peak. Importance: 0.008679\n",
      "Feature chest_gyro_y_median. Importance: 0.008622\n",
      "Feature hand_acc16g_x_peak. Importance: 0.008609\n",
      "Feature ankle_gyro_z_peak. Importance: 0.008334\n",
      "Feature chest_mag_y_mean. Importance: 0.008056\n",
      "Feature chest_gyro_y_peak. Importance: 0.007710\n",
      "Feature ankle_gyro_z_kurtosis. Importance: 0.007321\n",
      "Feature chest_acc16g_y_mean. Importance: 0.007222\n",
      "Feature chest_gyro_z_std. Importance: 0.007036\n",
      "Feature hand_mag_x_median. Importance: 0.006931\n",
      "Feature ankle_gyro_z_median. Importance: 0.006916\n",
      "Feature hand_mag_z_peak. Importance: 0.006851\n",
      "Feature hand_acc16g_z_kurtosis. Importance: 0.006793\n",
      "Feature chest_mag_z_median. Importance: 0.006718\n",
      "Feature chest_acc16g_y_median. Importance: 0.006636\n",
      "Feature ankle_gyro_x_peak. Importance: 0.006604\n",
      "Feature ankle_mag_y_std. Importance: 0.006475\n",
      "Feature ankle_gyro_y_mean. Importance: 0.006180\n",
      "Feature ankle_gyro_XcZ. Importance: 0.006171\n",
      "Feature hand_gyro_vsum_sp_entropy. Importance: 0.005941\n",
      "Feature hand_acc_vsum_welch. Importance: 0.005827\n",
      "Feature ankle_acc16g_z_std. Importance: 0.005818\n",
      "Feature ankle_gyro_vsum_sp_entropy. Importance: 0.005719\n",
      "Feature hand_acc16g_z_mean. Importance: 0.005649\n",
      "Feature chest_mag_x_median. Importance: 0.005551\n",
      "Feature chest_mag_z_mean. Importance: 0.005506\n",
      "Feature hand_mag_x_peak. Importance: 0.005367\n",
      "Feature hand_acc16g_z_median. Importance: 0.005312\n",
      "Feature hand_gyro_x_mean. Importance: 0.005296\n",
      "Feature hand_acc_power_ratio. Importance: 0.005180\n",
      "Feature chest_acc_YcZ. Importance: 0.005178\n",
      "Feature ankle_acc16g_x_kurtosis. Importance: 0.004994\n",
      "Feature chest_acc_power_ratio. Importance: 0.004971\n",
      "Feature heart_rate_peak. Importance: 0.004803\n",
      "Feature hand_acc16g_y_mean. Importance: 0.004785\n",
      "Feature chest_gyro_YcZ. Importance: 0.004609\n",
      "Feature ankle_acc16g_y_median. Importance: 0.004528\n",
      "Feature chest_mag_x_peak. Importance: 0.004429\n",
      "Feature ankle_mag_z_std. Importance: 0.004261\n",
      "Feature ankle_gyro_x_median. Importance: 0.004189\n",
      "Feature chest_gyro_y_kurtosis. Importance: 0.004116\n",
      "Feature ankle_acc16g_z_peak. Importance: 0.004086\n",
      "Feature hand_temp_median. Importance: 0.004053\n",
      "Feature chest_acc16g_x_median. Importance: 0.004036\n",
      "Feature ankle_acc16g_y_mean. Importance: 0.003942\n",
      "Feature chest_gyro_vsum_sp_entropy. Importance: 0.003800\n",
      "Feature hand_gyro_z_std. Importance: 0.003700\n",
      "Feature hand_temp_peak. Importance: 0.003676\n",
      "Feature chest_acc16g_z_std. Importance: 0.003660\n",
      "Feature hand_gyro_y_std. Importance: 0.003656\n",
      "Feature hand_temp_mean. Importance: 0.003576\n",
      "Feature hand_acc16g_y_median. Importance: 0.003446\n",
      "Feature ankle_acc16g_y_peak. Importance: 0.003361\n",
      "Feature hand_gyro_z_kurtosis. Importance: 0.003296\n",
      "Feature chest_acc_vsum_sp_entropy. Importance: 0.003206\n",
      "Feature ankle_acc_power_ratio. Importance: 0.003148\n",
      "Feature hand_gyro_spectrum_energy. Importance: 0.003119\n",
      "Feature chest_temp_mean. Importance: 0.003080\n",
      "Feature heart_rate_mean. Importance: 0.002943\n",
      "Feature hand_acc16g_z_std. Importance: 0.002942\n",
      "Feature chest_gyro_z_peak. Importance: 0.002854\n",
      "Feature ankle_mag_z_peak. Importance: 0.002815\n",
      "Feature chest_acc16g_x_kurtosis. Importance: 0.002752\n",
      "Feature chest_gyro_z_median. Importance: 0.002726\n",
      "Feature ankle_gyro_x_kurtosis. Importance: 0.002666\n",
      "Feature ankle_acc16g_y_kurtosis. Importance: 0.002587\n",
      "Feature chest_acc_vsum_welch. Importance: 0.002579\n",
      "Feature chest_temp_median. Importance: 0.002561\n",
      "Feature chest_gyro_vsum_welch. Importance: 0.002520\n",
      "Feature chest_gyro_z_mean. Importance: 0.002465\n",
      "Feature chest_acc16g_x_mean. Importance: 0.002450\n",
      "Feature chest_temp_peak. Importance: 0.002343\n",
      "Feature ankle_mag_z_mean. Importance: 0.002328\n",
      "Feature ankle_gyro_power_ratio. Importance: 0.002327\n",
      "Feature ankle_temp_mean. Importance: 0.002250\n",
      "Feature hand_gyro_x_median. Importance: 0.002243\n",
      "Feature hand_mag_z_median. Importance: 0.002197\n",
      "Feature chest_mag_z_std. Importance: 0.002193\n",
      "Feature chest_gyro_z_kurtosis. Importance: 0.002177\n",
      "Feature ankle_temp_median. Importance: 0.002121\n",
      "Feature ankle_acc_XcZ. Importance: 0.002069\n",
      "Feature ankle_gyro_y_peak. Importance: 0.002054\n",
      "Feature ankle_mag_x_peak. Importance: 0.001935\n",
      "Feature hand_mag_y_peak. Importance: 0.001925\n",
      "Feature ankle_gyro_y_std. Importance: 0.001898\n",
      "Feature hand_gyro_x_kurtosis. Importance: 0.001882\n",
      "Feature hand_mag_z_mean. Importance: 0.001837\n",
      "Feature hand_mag_z_std. Importance: 0.001793\n",
      "Feature ankle_mag_x_median. Importance: 0.001773\n",
      "Feature ankle_mag_x_mean. Importance: 0.001767\n",
      "Feature ankle_acc_vsum_sp_entropy. Importance: 0.001744\n",
      "Feature hand_gyro_power_ratio. Importance: 0.001724\n",
      "Feature hand_gyro_z_peak. Importance: 0.001655\n",
      "Feature hand_mag_x_std. Importance: 0.001599\n",
      "Feature ankle_mag_z_median. Importance: 0.001596\n",
      "Feature ankle_temp_peak. Importance: 0.001586\n",
      "Feature ankle_gyro_y_kurtosis. Importance: 0.001451\n",
      "Feature hand_mag_y_mean. Importance: 0.001447\n",
      "Feature chest_acc16g_z_kurtosis. Importance: 0.001424\n",
      "Feature hand_gyro_x_std. Importance: 0.001387\n",
      "Feature hand_mag_y_std. Importance: 0.001368\n",
      "Feature heart_rate_median. Importance: 0.001360\n",
      "Feature chest_gyro_power_ratio. Importance: 0.001328\n",
      "Feature chest_gyro_XcZ. Importance: 0.001276\n",
      "Feature hand_gyro_y_kurtosis. Importance: 0.001252\n",
      "Feature chest_mag_z_peak. Importance: 0.001251\n",
      "Feature chest_acc16g_y_kurtosis. Importance: 0.001157\n",
      "Feature ankle_mag_y_mean. Importance: 0.001144\n",
      "Feature hand_mag_y_median. Importance: 0.001056\n",
      "Feature ankle_gyro_vsum_welch. Importance: 0.000949\n",
      "Feature ankle_acc16g_z_mean. Importance: 0.000934\n",
      "Feature hand_acc_YcZ. Importance: 0.000928\n",
      "Feature hand_gyro_y_mean. Importance: 0.000916\n",
      "Feature chest_mag_y_std. Importance: 0.000892\n",
      "Feature hand_gyro_YcZ. Importance: 0.000838\n",
      "Feature ankle_mag_y_median. Importance: 0.000817\n",
      "Feature hand_gyro_y_peak. Importance: 0.000795\n",
      "Feature hand_gyro_XcY. Importance: 0.000787\n",
      "Feature hand_gyro_vsum_welch. Importance: 0.000784\n",
      "Feature hand_gyro_XcZ. Importance: 0.000756\n",
      "Feature ankle_gyro_y_median. Importance: 0.000697\n",
      "Feature ankle_acc16g_z_median. Importance: 0.000622\n",
      "Feature chest_gyro_XcY. Importance: 0.000592\n",
      "Feature hand_gyro_z_mean. Importance: 0.000577\n",
      "Feature ankle_gyro_YcZ. Importance: 0.000558\n",
      "Feature ankle_mag_y_peak. Importance: 0.000548\n",
      "Feature ankle_mag_x_std. Importance: 0.000501\n",
      "Feature hand_acc_XcY. Importance: 0.000500\n",
      "Feature ankle_gyro_XcY. Importance: 0.000490\n",
      "Feature ankle_acc16g_z_kurtosis. Importance: 0.000429\n",
      "Feature ankle_gyro_z_mean. Importance: 0.000395\n",
      "Feature chest_mag_y_kurtosis. Importance: 0.000365\n",
      "Feature ankle_mag_y_kurtosis. Importance: 0.000359\n",
      "Feature chest_gyro_x_median. Importance: 0.000358\n",
      "Feature hand_acc_XcZ. Importance: 0.000357\n",
      "Feature chest_acc_XcY. Importance: 0.000357\n",
      "Feature hand_gyro_z_median. Importance: 0.000355\n",
      "Feature ankle_mag_z_kurtosis. Importance: 0.000347\n",
      "Feature chest_mag_x_kurtosis. Importance: 0.000333\n",
      "Feature ankle_acc_XcY. Importance: 0.000330\n",
      "Feature chest_gyro_x_kurtosis. Importance: 0.000328\n",
      "Feature hand_mag_x_kurtosis. Importance: 0.000327\n",
      "Feature ankle_acc_YcZ. Importance: 0.000318\n",
      "Feature chest_gyro_x_mean. Importance: 0.000302\n",
      "Feature hand_acc16g_x_kurtosis. Importance: 0.000295\n",
      "Feature hand_gyro_y_median. Importance: 0.000293\n",
      "Feature heart_rate_std. Importance: 0.000266\n",
      "Feature hand_gyro_x_peak. Importance: 0.000237\n",
      "Feature chest_acc_XcZ. Importance: 0.000229\n",
      "Feature heart_rate_kurtosis. Importance: 0.000214\n",
      "Feature chest_mag_z_kurtosis. Importance: 0.000213\n",
      "Feature ankle_acc_vsum_welch. Importance: 0.000181\n",
      "Feature hand_mag_y_kurtosis. Importance: 0.000154\n",
      "Feature ankle_mag_x_kurtosis. Importance: 0.000149\n",
      "Feature hand_mag_z_kurtosis. Importance: 0.000140\n",
      "Feature chest_temp_std. Importance: 0.000120\n",
      "Feature ankle_temp_kurtosis. Importance: 0.000103\n",
      "Feature ankle_temp_std. Importance: 0.000088\n",
      "Feature chest_temp_kurtosis. Importance: 0.000078\n",
      "Feature hand_temp_std. Importance: 0.000069\n",
      "Feature hand_temp_kurtosis. Importance: 0.000057\n"
     ]
    }
   ],
   "source": [
    "features_to_keep = []\n",
    "for i in range(len(args)):\n",
    "    arg = args[i]\n",
    "    print('Feature %s. Importance: %f' %(X_train.columns[arg],importances[arg]))\n",
    "    features_to_keep.append(X_train.columns[arg])"
   ]
  },
  {
   "cell_type": "code",
   "execution_count": 55,
   "metadata": {},
   "outputs": [
    {
     "data": {
      "text/plain": [
       "0.98998998998999"
      ]
     },
     "execution_count": 55,
     "metadata": {},
     "output_type": "execute_result"
    }
   ],
   "source": [
    "RF.score(X_test,y_test)"
   ]
  },
  {
   "cell_type": "markdown",
   "metadata": {},
   "source": [
    "Interestingly we seem to be doing worse with all these features. This suggests that we might be overfitting and need to reduce the number of features. Lets try to see if there is an optimal number of features for our test score"
   ]
  },
  {
   "cell_type": "code",
   "execution_count": 56,
   "metadata": {},
   "outputs": [],
   "source": [
    "def investigate_feature_numbers(X,Y,classifier,step_features=2,min_features=5):\n",
    "    \n",
    "    '''\n",
    "    Train the algorithm on datasets containing decreasing numbers of features in order to\n",
    "    determine if there is an optimal number of features\n",
    "    '''\n",
    "    \n",
    "    #Start by training a random forest\n",
    "    \n",
    "    print(\"Training on all features\")\n",
    "    X_train, X_test, y_train, y_test = train_test_split(X,Y,test_size=0.3)\n",
    "    classifier.fit(X_train,y_train)\n",
    "    \n",
    "    train_scores = [classifier.score(X_train,y_train)]\n",
    "    test_scores  = [classifier.score(X_test,y_test)]\n",
    "    feature_number_list = [len(X_train.columns)]\n",
    "    \n",
    "    #Extract just the first n features to train on. We'll extract the features in order of importance\n",
    "    #to try to ensure that we get \n",
    "    \n",
    "    importances = RF.feature_importances_\n",
    "    args = np.flip(np.argsort(importances),axis=0)\n",
    "    features_to_keep = []\n",
    "    for i in range(len(X_train.columns)-step_features):\n",
    "        arg = args[i]\n",
    "        features_to_keep.append(X_train.columns[arg])\n",
    "        \n",
    "    for feature_number in np.arange(len(X.columns)-step_features,min_features,-step_features):\n",
    "         \n",
    "        X_new = X[features_to_keep]\n",
    "        \n",
    "        print(len(features_to_keep))\n",
    "        \n",
    "        print(\"Training on %i features\" %feature_number)\n",
    "        \n",
    "        X_train, X_test, y_train, y_test = train_test_split(X_new,Y,test_size=0.3)\n",
    "        classifier.fit(X_train,y_train)\n",
    "        train_scores.append(classifier.score(X_train,y_train))\n",
    "        test_scores.append(classifier.score(X_test,y_test))\n",
    "        feature_number_list.append(len(X_new.columns))\n",
    "        \n",
    "        importances = classifier.feature_importances_\n",
    "        args = np.flip(np.argsort(importances),axis=0)\n",
    "        features_to_keep = []\n",
    "        for i in range(feature_number-step_features):\n",
    "            arg = args[i]\n",
    "            features_to_keep.append(X_train.columns[arg])\n",
    "            \n",
    "        if len(features_to_keep) <= min_features:\n",
    "            return test_scores, train_scores, feature_number_list\n",
    "        \n",
    "        "
   ]
  },
  {
   "cell_type": "code",
   "execution_count": 57,
   "metadata": {},
   "outputs": [
    {
     "name": "stdout",
     "output_type": "stream",
     "text": [
      "Training on all features\n",
      "195\n",
      "Training on 195 features\n",
      "193\n",
      "Training on 193 features\n",
      "191\n",
      "Training on 191 features\n",
      "189\n",
      "Training on 189 features\n",
      "187\n",
      "Training on 187 features\n",
      "185\n",
      "Training on 185 features\n",
      "183\n",
      "Training on 183 features\n",
      "181\n",
      "Training on 181 features\n",
      "179\n",
      "Training on 179 features\n",
      "177\n",
      "Training on 177 features\n",
      "175\n",
      "Training on 175 features\n",
      "173\n",
      "Training on 173 features\n",
      "171\n",
      "Training on 171 features\n",
      "169\n",
      "Training on 169 features\n",
      "167\n",
      "Training on 167 features\n",
      "165\n",
      "Training on 165 features\n",
      "163\n",
      "Training on 163 features\n",
      "161\n",
      "Training on 161 features\n",
      "159\n",
      "Training on 159 features\n",
      "157\n",
      "Training on 157 features\n",
      "155\n",
      "Training on 155 features\n",
      "153\n",
      "Training on 153 features\n",
      "151\n",
      "Training on 151 features\n",
      "149\n",
      "Training on 149 features\n",
      "147\n",
      "Training on 147 features\n",
      "145\n",
      "Training on 145 features\n",
      "143\n",
      "Training on 143 features\n",
      "141\n",
      "Training on 141 features\n",
      "139\n",
      "Training on 139 features\n",
      "137\n",
      "Training on 137 features\n",
      "135\n",
      "Training on 135 features\n",
      "133\n",
      "Training on 133 features\n",
      "131\n",
      "Training on 131 features\n",
      "129\n",
      "Training on 129 features\n",
      "127\n",
      "Training on 127 features\n",
      "125\n",
      "Training on 125 features\n",
      "123\n",
      "Training on 123 features\n",
      "121\n",
      "Training on 121 features\n",
      "119\n",
      "Training on 119 features\n",
      "117\n",
      "Training on 117 features\n",
      "115\n",
      "Training on 115 features\n",
      "113\n",
      "Training on 113 features\n",
      "111\n",
      "Training on 111 features\n",
      "109\n",
      "Training on 109 features\n",
      "107\n",
      "Training on 107 features\n",
      "105\n",
      "Training on 105 features\n",
      "103\n",
      "Training on 103 features\n",
      "101\n",
      "Training on 101 features\n",
      "99\n",
      "Training on 99 features\n",
      "97\n",
      "Training on 97 features\n",
      "95\n",
      "Training on 95 features\n",
      "93\n",
      "Training on 93 features\n",
      "91\n",
      "Training on 91 features\n",
      "89\n",
      "Training on 89 features\n",
      "87\n",
      "Training on 87 features\n",
      "85\n",
      "Training on 85 features\n",
      "83\n",
      "Training on 83 features\n",
      "81\n",
      "Training on 81 features\n",
      "79\n",
      "Training on 79 features\n",
      "77\n",
      "Training on 77 features\n",
      "75\n",
      "Training on 75 features\n",
      "73\n",
      "Training on 73 features\n",
      "71\n",
      "Training on 71 features\n",
      "69\n",
      "Training on 69 features\n",
      "67\n",
      "Training on 67 features\n",
      "65\n",
      "Training on 65 features\n",
      "63\n",
      "Training on 63 features\n",
      "61\n",
      "Training on 61 features\n",
      "59\n",
      "Training on 59 features\n",
      "57\n",
      "Training on 57 features\n",
      "55\n",
      "Training on 55 features\n",
      "53\n",
      "Training on 53 features\n",
      "51\n",
      "Training on 51 features\n",
      "49\n",
      "Training on 49 features\n",
      "47\n",
      "Training on 47 features\n",
      "45\n",
      "Training on 45 features\n",
      "43\n",
      "Training on 43 features\n",
      "41\n",
      "Training on 41 features\n",
      "39\n",
      "Training on 39 features\n",
      "37\n",
      "Training on 37 features\n",
      "35\n",
      "Training on 35 features\n",
      "33\n",
      "Training on 33 features\n",
      "31\n",
      "Training on 31 features\n",
      "29\n",
      "Training on 29 features\n",
      "27\n",
      "Training on 27 features\n",
      "25\n",
      "Training on 25 features\n",
      "23\n",
      "Training on 23 features\n",
      "21\n",
      "Training on 21 features\n",
      "19\n",
      "Training on 19 features\n",
      "17\n",
      "Training on 17 features\n",
      "15\n",
      "Training on 15 features\n",
      "13\n",
      "Training on 13 features\n",
      "11\n",
      "Training on 11 features\n",
      "9\n",
      "Training on 9 features\n",
      "7\n",
      "Training on 7 features\n"
     ]
    }
   ],
   "source": [
    "test_scores, train_scores, feature_numbers = investigate_feature_numbers(X,activities,RF)"
   ]
  },
  {
   "cell_type": "code",
   "execution_count": 58,
   "metadata": {},
   "outputs": [
    {
     "data": {
      "image/png": "[encoded data removed]",
      "text/plain": [
       "<matplotlib.figure.Figure at 0x1c1775e6d8>"
      ]
     },
     "metadata": {},
     "output_type": "display_data"
    }
   ],
   "source": [
    "plt.style.use('ggplot')\n",
    "fig = plt.figure(figsize=(6,6))\n",
    "plt.plot(feature_numbers,train_scores,label='training score')\n",
    "plt.plot(feature_numbers,test_scores,label='testing score')\n",
    "plt.legend()\n",
    "plt.xlabel('Number of features')\n",
    "plt.ylabel('Classification score')\n",
    "plt.grid(axis='both')"
   ]
  },
  {
   "cell_type": "markdown",
   "metadata": {},
   "source": [
    "#### Since it seems like ~75 features is optimal, lets try a PCA here"
   ]
  },
  {
   "cell_type": "code",
   "execution_count": 178,
   "metadata": {},
   "outputs": [
    {
     "name": "stderr",
     "output_type": "stream",
     "text": [
      "/Users/rmartinshort/anaconda/envs/py36/lib/python3.6/importlib/_bootstrap.py:219: RuntimeWarning: numpy.dtype size changed, may indicate binary incompatibility. Expected 96, got 88\n",
      "  return f(*args, **kwds)\n"
     ]
    }
   ],
   "source": [
    "from sklearn.decomposition import PCA\n",
    "from sklearn.preprocessing import StandardScaler"
   ]
  },
  {
   "cell_type": "markdown",
   "metadata": {},
   "source": [
    "##### We can choose to scale the input data, but it does not make a dramatic change to the results"
   ]
  },
  {
   "cell_type": "code",
   "execution_count": 179,
   "metadata": {},
   "outputs": [],
   "source": [
    "scaler = StandardScaler()\n",
    "scaler.fit(X)\n",
    "X_scaled = scaler.transform(X)"
   ]
  },
  {
   "cell_type": "markdown",
   "metadata": {},
   "source": [
    "##### Use PCA to transform the data"
   ]
  },
  {
   "cell_type": "code",
   "execution_count": 223,
   "metadata": {},
   "outputs": [],
   "source": [
    "pca = PCA(n_components=9)\n",
    "pca.fit(X)\n",
    "X_pca = pca.transform(X)"
   ]
  },
  {
   "cell_type": "code",
   "execution_count": 224,
   "metadata": {},
   "outputs": [
    {
     "data": {
      "text/plain": [
       "RandomForestClassifier(bootstrap=True, class_weight=None, criterion='gini',\n",
       "            max_depth=None, max_features='auto', max_leaf_nodes=None,\n",
       "            min_impurity_decrease=0.0, min_impurity_split=None,\n",
       "            min_samples_leaf=1, min_samples_split=2,\n",
       "            min_weight_fraction_leaf=0.0, n_estimators=50, n_jobs=1,\n",
       "            oob_score=True, random_state=None, verbose=0, warm_start=False)"
      ]
     },
     "execution_count": 224,
     "metadata": {},
     "output_type": "execute_result"
    }
   ],
   "source": [
    "X_train, X_test, y_train, y_test = train_test_split(X_pca,activities,test_size=0.3)\n",
    "RF.fit(X_train,y_train)"
   ]
  },
  {
   "cell_type": "code",
   "execution_count": 225,
   "metadata": {},
   "outputs": [
    {
     "data": {
      "text/plain": [
       "0.9861167320652461"
      ]
     },
     "execution_count": 225,
     "metadata": {},
     "output_type": "execute_result"
    }
   ],
   "source": [
    "RF.oob_score_"
   ]
  },
  {
   "cell_type": "code",
   "execution_count": 226,
   "metadata": {},
   "outputs": [
    {
     "data": {
      "text/plain": [
       "0.8172942817294282"
      ]
     },
     "execution_count": 226,
     "metadata": {},
     "output_type": "execute_result"
    }
   ],
   "source": [
    "RF.score(X_test,y_test)"
   ]
  },
  {
   "cell_type": "markdown",
   "metadata": {},
   "source": [
    "#### Its quite odd that the RF performs well on a PCA dataset with only a small number of components. Increasing the number of components reduces the fit"
   ]
  },
  {
   "cell_type": "code",
   "execution_count": 2,
   "metadata": {},
   "outputs": [
    {
     "ename": "NameError",
     "evalue": "name 'feature_df' is not defined",
     "output_type": "error",
     "traceback": [
      "\u001b[0;31m---------------------------------------------------------------------------\u001b[0m",
      "\u001b[0;31mNameError\u001b[0m                                 Traceback (most recent call last)",
      "\u001b[0;32m<ipython-input-2-75172e8d3336>\u001b[0m in \u001b[0;36m<module>\u001b[0;34m()\u001b[0m\n\u001b[0;32m----> 1\u001b[0;31m \u001b[0mfeature_df\u001b[0m\u001b[0;34m[\u001b[0m\u001b[0;34m'activityID'\u001b[0m\u001b[0;34m]\u001b[0m\u001b[0;34m.\u001b[0m\u001b[0munique\u001b[0m\u001b[0;34m(\u001b[0m\u001b[0;34m)\u001b[0m\u001b[0;34m\u001b[0m\u001b[0m\n\u001b[0m",
      "\u001b[0;31mNameError\u001b[0m: name 'feature_df' is not defined"
     ]
    }
   ],
   "source": [
    "feature_df['activityID'].unique()"
   ]
  },
  {
   "cell_type": "code",
   "execution_count": null,
   "metadata": {},
   "outputs": [],
   "source": []
  }
 ],
 "metadata": {
  "kernelspec": {
   "display_name": "Python 3",
   "language": "python",
   "name": "python3"
  },
  "language_info": {
   "codemirror_mode": {
    "name": "ipython",
    "version": 3
   },
   "file_extension": ".py",
   "mimetype": "text/x-python",
   "name": "python",
   "nbconvert_exporter": "python",
   "pygments_lexer": "ipython3",
   "version": "3.6.4"
  }
 },
 "nbformat": 4,
 "nbformat_minor": 2
}
