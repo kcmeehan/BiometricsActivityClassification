{
 "cells": [
  {
   "cell_type": "markdown",
   "metadata": {},
   "source": [
    "### Basic test of classification with the new features\n",
    "\n",
    "##### Here we investiage whether adding more features is helpful. We find that there is probably an optimal number of features to train on\n",
    "##### which implies that we should do PCA"
   ]
  },
  {
   "cell_type": "code",
   "execution_count": 3,
   "metadata": {},
   "outputs": [],
   "source": [
    "from sklearn.ensemble import RandomForestClassifier\n",
    "from sklearn.model_selection import train_test_split"
   ]
  },
  {
   "cell_type": "code",
   "execution_count": 4,
   "metadata": {},
   "outputs": [],
   "source": [
    "import DataProcess as DP\n",
    "import glob\n",
    "import time\n",
    "import pandas as pd\n",
    "from plotting_tools import plot_feature_distributions\n",
    "import numpy as np\n",
    "import matplotlib.pyplot as plt\n",
    "%matplotlib inline"
   ]
  },
  {
   "cell_type": "code",
   "execution_count": 5,
   "metadata": {},
   "outputs": [],
   "source": [
    "protocol_datadir = '/Users/rmartinshort/Documents/Berkeley/GDSO/PAMAP2_data/PAMAP2_Dataset/Protocol/'\n",
    "optional_datadir = '/Users/rmartinshort/Documents/Berkeley/GDSO/PAMAP2_data/PAMAP2_Dataset/Optional/'"
   ]
  },
  {
   "cell_type": "code",
   "execution_count": 6,
   "metadata": {},
   "outputs": [
    {
     "name": "stdout",
     "output_type": "stream",
     "text": [
      "/Users/rmartinshort/Documents/Berkeley/GDSO/PAMAP2_data/PAMAP2_Dataset/Protocol/subject101.dat\n",
      "/Users/rmartinshort/Documents/Berkeley/GDSO/PAMAP2_data/PAMAP2_Dataset/Protocol/subject102.dat\n",
      "/Users/rmartinshort/Documents/Berkeley/GDSO/PAMAP2_data/PAMAP2_Dataset/Protocol/subject103.dat\n",
      "/Users/rmartinshort/Documents/Berkeley/GDSO/PAMAP2_data/PAMAP2_Dataset/Protocol/subject104.dat\n",
      "/Users/rmartinshort/Documents/Berkeley/GDSO/PAMAP2_data/PAMAP2_Dataset/Protocol/subject105.dat\n",
      "/Users/rmartinshort/Documents/Berkeley/GDSO/PAMAP2_data/PAMAP2_Dataset/Protocol/subject106.dat\n",
      "/Users/rmartinshort/Documents/Berkeley/GDSO/PAMAP2_data/PAMAP2_Dataset/Protocol/subject107.dat\n",
      "/Users/rmartinshort/Documents/Berkeley/GDSO/PAMAP2_data/PAMAP2_Dataset/Protocol/subject108.dat\n",
      "/Users/rmartinshort/Documents/Berkeley/GDSO/PAMAP2_data/PAMAP2_Dataset/Protocol/subject109.dat\n",
      "/Users/rmartinshort/Documents/Berkeley/GDSO/PAMAP2_data/PAMAP2_Dataset/Optional/subject101.dat\n",
      "/Users/rmartinshort/Documents/Berkeley/GDSO/PAMAP2_data/PAMAP2_Dataset/Optional/subject105.dat\n",
      "/Users/rmartinshort/Documents/Berkeley/GDSO/PAMAP2_data/PAMAP2_Dataset/Optional/subject106.dat\n",
      "/Users/rmartinshort/Documents/Berkeley/GDSO/PAMAP2_data/PAMAP2_Dataset/Optional/subject108.dat\n",
      "/Users/rmartinshort/Documents/Berkeley/GDSO/PAMAP2_data/PAMAP2_Dataset/Optional/subject109.dat\n"
     ]
    }
   ],
   "source": [
    "allfiles = list(glob.glob(protocol_datadir+'*.dat'))+list(glob.glob(optional_datadir+'*.dat'))\n",
    "\n",
    "all_dfs = []\n",
    "for fname in allfiles:\n",
    "    print(fname)\n",
    "    dp = DP.dataprocess(fname,T=512,stride=512)\n",
    "    all_dfs.append(dp.df)\n",
    "    \n",
    "feature_df = pd.concat(all_dfs)"
   ]
  },
  {
   "cell_type": "code",
   "execution_count": 95,
   "metadata": {},
   "outputs": [],
   "source": [
    "feature_df.to_csv('Features_test.dat',index=False)"
   ]
  },
  {
   "cell_type": "markdown",
   "metadata": {},
   "source": [
    "### Figure out the number of segments associated with each activity"
   ]
  },
  {
   "cell_type": "code",
   "execution_count": 90,
   "metadata": {},
   "outputs": [],
   "source": [
    "activity_dict={0:'other',1:'lying',2:'sitting',3:'standing',4:'walking',5:'running',6:'cycling',7:'nordic walking',\n",
    "              9:'watching TV',10:'computer work',11:'car driving',12:'ascending stairs',13:'descending stairs',\n",
    "              16:'vacuum cleaning',17:'ironing',18:'folding laundry',19:'house cleaning',20:'playing_soccer',\n",
    "              24:'rope jumping'}\n",
    "\n",
    "activities = feature_df['activityID'].unique()\n",
    "activity_list = [activity_dict[i] for i in activities]\n",
    "len_activities = []\n",
    "for activityID in activities:\n",
    "    len_activities.append(len(feature_df[feature_df['activityID'] == activityID]))"
   ]
  },
  {
   "cell_type": "code",
   "execution_count": 94,
   "metadata": {},
   "outputs": [
    {
     "data": {
      "image/png": "[encoded data removed]",
      "text/plain": [
       "<matplotlib.figure.Figure at 0x1c164d7f60>"
      ]
     },
     "metadata": {},
     "output_type": "display_data"
    }
   ],
   "source": [
    "plt.figure(figsize=(8,6))\n",
    "plt.bar(range(len(alist)),len_activities,tick_label=activities)\n",
    "\n",
    "xoffset = -0.5\n",
    "for i in range(len(len_activities)):\n",
    "    plt.text(xoffset, len_activities[i]+5, str(len_activities[i]), color='blue', fontweight='bold')\n",
    "    xoffset += 1\n",
    "    \n",
    "#plt.setp(labels, rotation=90)\n",
    "\n",
    "    \n",
    "#plt.grid()\n",
    "plt.show()"
   ]
  },
  {
   "cell_type": "code",
   "execution_count": 119,
   "metadata": {},
   "outputs": [],
   "source": [
    "activity_list = ['lying','sitting','standing','walking','running','cycling','nordic walking','watching TV',\n",
    "                 'computer work','car driving','ascending stairs','descending stairs',\n",
    "                  'vacuum cleaning','ironing','folding laundry','house cleaning','playing_soccer','rope jumping']\n",
    "#activities = pd.get_dummies(feature_df['activityID'],drop_first=True)\n",
    "activities = feature_df['activityID']\n",
    "activities = feature_df['activityID'].astype(\"category\")"
   ]
  },
  {
   "cell_type": "code",
   "execution_count": 120,
   "metadata": {},
   "outputs": [
    {
     "data": {
      "text/plain": [
       "0    1.0\n",
       "1    1.0\n",
       "2    1.0\n",
       "3    1.0\n",
       "4    1.0\n",
       "Name: activityID, dtype: category\n",
       "Categories (18, float64): [1.0, 2.0, 3.0, 4.0, ..., 18.0, 19.0, 20.0, 24.0]"
      ]
     },
     "execution_count": 120,
     "metadata": {},
     "output_type": "execute_result"
    }
   ],
   "source": [
    "activities.head()"
   ]
  },
  {
   "cell_type": "code",
   "execution_count": 121,
   "metadata": {},
   "outputs": [],
   "source": [
    "X = feature_df.drop(['activityID'],axis=1)"
   ]
  },
  {
   "cell_type": "markdown",
   "metadata": {},
   "source": [
    "#### Train a random forest and looking at the feature importances"
   ]
  },
  {
   "cell_type": "code",
   "execution_count": 122,
   "metadata": {},
   "outputs": [],
   "source": [
    "X_train, X_test, y_train, y_test = train_test_split(X,activities,test_size=0.3)"
   ]
  },
  {
   "cell_type": "code",
   "execution_count": 123,
   "metadata": {},
   "outputs": [],
   "source": [
    "RF = RandomForestClassifier(n_estimators=50,min_samples_split=2,min_samples_leaf=1,max_depth=12,oob_score=True)\n",
    "#note the max_features criterion here - setting this between 50 and 100 makes a small improvment to the results "
   ]
  },
  {
   "cell_type": "code",
   "execution_count": 124,
   "metadata": {},
   "outputs": [
    {
     "data": {
      "text/plain": [
       "RandomForestClassifier(bootstrap=True, class_weight=None, criterion='gini',\n",
       "            max_depth=12, max_features='auto', max_leaf_nodes=None,\n",
       "            min_impurity_decrease=0.0, min_impurity_split=None,\n",
       "            min_samples_leaf=1, min_samples_split=2,\n",
       "            min_weight_fraction_leaf=0.0, n_estimators=50, n_jobs=1,\n",
       "            oob_score=True, random_state=None, verbose=0, warm_start=False)"
      ]
     },
     "execution_count": 124,
     "metadata": {},
     "output_type": "execute_result"
    }
   ],
   "source": [
    "RF.fit(X_train,y_train)"
   ]
  },
  {
   "cell_type": "code",
   "execution_count": 125,
   "metadata": {},
   "outputs": [
    {
     "data": {
      "text/plain": [
       "0.9739754711337122"
      ]
     },
     "execution_count": 125,
     "metadata": {},
     "output_type": "execute_result"
    }
   ],
   "source": [
    "RF.oob_score_"
   ]
  },
  {
   "cell_type": "code",
   "execution_count": 126,
   "metadata": {},
   "outputs": [],
   "source": [
    "#list the most important features and their importance values\n",
    "importances = RF.feature_importances_\n",
    "args = np.flip(np.argsort(importances),axis=0)"
   ]
  },
  {
   "cell_type": "code",
   "execution_count": 127,
   "metadata": {},
   "outputs": [
    {
     "name": "stdout",
     "output_type": "stream",
     "text": [
      "Feature hand_acc16g_x_median. Importance: 0.022401\n",
      "Feature chest_acc16g_y_peak. Importance: 0.020967\n",
      "Feature ankle_acc16g_x_std. Importance: 0.019611\n",
      "Feature hand_acc16g_y_kurtosis. Importance: 0.018852\n",
      "Feature ankle_gyro_z_std. Importance: 0.018012\n",
      "Feature chest_acc16g_x_std. Importance: 0.017492\n",
      "Feature chest_mag_y_mean. Importance: 0.017091\n",
      "Feature chest_acc16g_z_mean. Importance: 0.017084\n",
      "Feature chest_gyro_y_std. Importance: 0.016938\n",
      "Feature hand_acc16g_x_mean. Importance: 0.016546\n"
     ]
    }
   ],
   "source": [
    "features_to_keep = []\n",
    "for i in range(10):\n",
    "    arg = args[i]\n",
    "    print('Feature %s. Importance: %f' %(X_train.columns[arg],importances[arg]))\n",
    "    features_to_keep.append(X_train.columns[arg])"
   ]
  },
  {
   "cell_type": "code",
   "execution_count": 128,
   "metadata": {},
   "outputs": [
    {
     "data": {
      "text/plain": [
       "0.9783821478382148"
      ]
     },
     "execution_count": 128,
     "metadata": {},
     "output_type": "execute_result"
    }
   ],
   "source": [
    "RF.score(X_test,y_test)"
   ]
  },
  {
   "cell_type": "markdown",
   "metadata": {},
   "source": [
    "Interestingly we seem to be doing worse with all these features. This suggests that we might be overfitting and need to reduce the number of features. Lets try to see if there is an optimal number of features for our test score"
   ]
  },
  {
   "cell_type": "code",
   "execution_count": 129,
   "metadata": {},
   "outputs": [],
   "source": [
    "def investigate_feature_numbers(X,Y,classifier,step_features=5,min_features=3):\n",
    "    \n",
    "    '''\n",
    "    Train the algorithm on datasets containing decreasing numbers of features in order to\n",
    "    determine if there is an optimal number of features\n",
    "    '''\n",
    "    \n",
    "    #Start by training a random forest\n",
    "    \n",
    "    print(\"Training on all features\")\n",
    "    X_train, X_test, y_train, y_test = train_test_split(X,Y,test_size=0.3)\n",
    "    classifier.fit(X_train,y_train)\n",
    "    \n",
    "    train_scores = [classifier.oob_score_]\n",
    "    test_scores  = [classifier.score(X_test,y_test)]\n",
    "    feature_number_list = [len(X_train.columns)]\n",
    "    \n",
    "    #Extract just the first n features to train on. We'll extract the features in order of importance\n",
    "    #to try to ensure that we get \n",
    "    \n",
    "    importances = RF.feature_importances_\n",
    "    args = np.flip(np.argsort(importances),axis=0)\n",
    "    features_to_keep = []\n",
    "    for i in range(len(X_train.columns)-step_features):\n",
    "        arg = args[i]\n",
    "        features_to_keep.append(X_train.columns[arg])\n",
    "        \n",
    "    for feature_number in np.arange(len(X.columns)-step_features,min_features,-step_features):\n",
    "         \n",
    "        X_new = X[features_to_keep]\n",
    "        \n",
    "        print(\"Training on %i features\" %feature_number)\n",
    "        \n",
    "        X_train, X_test, y_train, y_test = train_test_split(X_new,Y,test_size=0.3)\n",
    "        classifier.fit(X_train,y_train)\n",
    "        train_scores.append(classifier.oob_score_)\n",
    "        test_scores.append(classifier.score(X_test,y_test))\n",
    "        feature_number_list.append(len(X_new.columns))\n",
    "        \n",
    "        importances = classifier.feature_importances_\n",
    "        args = np.flip(np.argsort(importances),axis=0)\n",
    "        features_to_keep = []\n",
    "        for i in range(feature_number-step_features):\n",
    "            arg = args[i]\n",
    "            features_to_keep.append(X_train.columns[arg])\n",
    "            \n",
    "        if len(features_to_keep) < min_features:\n",
    "            return test_scores, train_scores, feature_number_list\n",
    "        \n",
    "        "
   ]
  },
  {
   "cell_type": "code",
   "execution_count": 130,
   "metadata": {},
   "outputs": [
    {
     "name": "stdout",
     "output_type": "stream",
     "text": [
      "Training on all features\n",
      "Training on 192 features\n",
      "Training on 187 features\n",
      "Training on 182 features\n",
      "Training on 177 features\n",
      "Training on 172 features\n",
      "Training on 167 features\n",
      "Training on 162 features\n",
      "Training on 157 features\n",
      "Training on 152 features\n",
      "Training on 147 features\n",
      "Training on 142 features\n",
      "Training on 137 features\n",
      "Training on 132 features\n",
      "Training on 127 features\n",
      "Training on 122 features\n",
      "Training on 117 features\n",
      "Training on 112 features\n",
      "Training on 107 features\n",
      "Training on 102 features\n",
      "Training on 97 features\n",
      "Training on 92 features\n",
      "Training on 87 features\n",
      "Training on 82 features\n",
      "Training on 77 features\n",
      "Training on 72 features\n",
      "Training on 67 features\n",
      "Training on 62 features\n",
      "Training on 57 features\n",
      "Training on 52 features\n",
      "Training on 47 features\n",
      "Training on 42 features\n",
      "Training on 37 features\n",
      "Training on 32 features\n",
      "Training on 27 features\n",
      "Training on 22 features\n",
      "Training on 17 features\n",
      "Training on 12 features\n",
      "Training on 7 features\n"
     ]
    }
   ],
   "source": [
    "test_scores, train_scores, feature_numbers = investigate_feature_numbers(X,activities,RF)"
   ]
  },
  {
   "cell_type": "code",
   "execution_count": 131,
   "metadata": {},
   "outputs": [
    {
     "data": {
      "image/png": "[encoded data removed]",
      "text/plain": [
       "<matplotlib.figure.Figure at 0x1c26684e48>"
      ]
     },
     "metadata": {},
     "output_type": "display_data"
    }
   ],
   "source": [
    "plt.style.use('ggplot')\n",
    "fig = plt.figure(figsize=(10,10))\n",
    "plt.plot(feature_numbers,train_scores,label='training score')\n",
    "plt.plot(feature_numbers,test_scores,label='testing score')\n",
    "plt.legend()\n",
    "plt.xlabel('Number of features')\n",
    "plt.ylabel('Classification score')\n",
    "plt.grid(axis='both')"
   ]
  },
  {
   "cell_type": "markdown",
   "metadata": {},
   "source": [
    "#### Since it seems like ~75 features is optimal, lets try a PCA here"
   ]
  },
  {
   "cell_type": "code",
   "execution_count": 178,
   "metadata": {},
   "outputs": [
    {
     "name": "stderr",
     "output_type": "stream",
     "text": [
      "/Users/rmartinshort/anaconda/envs/py36/lib/python3.6/importlib/_bootstrap.py:219: RuntimeWarning: numpy.dtype size changed, may indicate binary incompatibility. Expected 96, got 88\n",
      "  return f(*args, **kwds)\n"
     ]
    }
   ],
   "source": [
    "from sklearn.decomposition import PCA\n",
    "from sklearn.preprocessing import StandardScaler"
   ]
  },
  {
   "cell_type": "markdown",
   "metadata": {},
   "source": [
    "##### We can choose to scale the input data, but it does not make a dramatic change to the results"
   ]
  },
  {
   "cell_type": "code",
   "execution_count": 179,
   "metadata": {},
   "outputs": [],
   "source": [
    "scaler = StandardScaler()\n",
    "scaler.fit(X)\n",
    "X_scaled = scaler.transform(X)"
   ]
  },
  {
   "cell_type": "markdown",
   "metadata": {},
   "source": [
    "##### Use PCA to transform the data"
   ]
  },
  {
   "cell_type": "code",
   "execution_count": 223,
   "metadata": {},
   "outputs": [],
   "source": [
    "pca = PCA(n_components=9)\n",
    "pca.fit(X)\n",
    "X_pca = pca.transform(X)"
   ]
  },
  {
   "cell_type": "code",
   "execution_count": 224,
   "metadata": {},
   "outputs": [
    {
     "data": {
      "text/plain": [
       "RandomForestClassifier(bootstrap=True, class_weight=None, criterion='gini',\n",
       "            max_depth=None, max_features='auto', max_leaf_nodes=None,\n",
       "            min_impurity_decrease=0.0, min_impurity_split=None,\n",
       "            min_samples_leaf=1, min_samples_split=2,\n",
       "            min_weight_fraction_leaf=0.0, n_estimators=50, n_jobs=1,\n",
       "            oob_score=True, random_state=None, verbose=0, warm_start=False)"
      ]
     },
     "execution_count": 224,
     "metadata": {},
     "output_type": "execute_result"
    }
   ],
   "source": [
    "X_train, X_test, y_train, y_test = train_test_split(X_pca,activities,test_size=0.3)\n",
    "RF.fit(X_train,y_train)"
   ]
  },
  {
   "cell_type": "code",
   "execution_count": 225,
   "metadata": {},
   "outputs": [
    {
     "data": {
      "text/plain": [
       "0.9861167320652461"
      ]
     },
     "execution_count": 225,
     "metadata": {},
     "output_type": "execute_result"
    }
   ],
   "source": [
    "RF.oob_score_"
   ]
  },
  {
   "cell_type": "code",
   "execution_count": 226,
   "metadata": {},
   "outputs": [
    {
     "data": {
      "text/plain": [
       "0.8172942817294282"
      ]
     },
     "execution_count": 226,
     "metadata": {},
     "output_type": "execute_result"
    }
   ],
   "source": [
    "RF.score(X_test,y_test)"
   ]
  },
  {
   "cell_type": "markdown",
   "metadata": {},
   "source": [
    "#### Its quite odd that the RF performs well on a PCA dataset with only a small number of components. Increasing the number of components reduces the fit"
   ]
  },
  {
   "cell_type": "code",
   "execution_count": 2,
   "metadata": {},
   "outputs": [
    {
     "ename": "NameError",
     "evalue": "name 'feature_df' is not defined",
     "output_type": "error",
     "traceback": [
      "\u001b[0;31m---------------------------------------------------------------------------\u001b[0m",
      "\u001b[0;31mNameError\u001b[0m                                 Traceback (most recent call last)",
      "\u001b[0;32m<ipython-input-2-75172e8d3336>\u001b[0m in \u001b[0;36m<module>\u001b[0;34m()\u001b[0m\n\u001b[0;32m----> 1\u001b[0;31m \u001b[0mfeature_df\u001b[0m\u001b[0;34m[\u001b[0m\u001b[0;34m'activityID'\u001b[0m\u001b[0;34m]\u001b[0m\u001b[0;34m.\u001b[0m\u001b[0munique\u001b[0m\u001b[0;34m(\u001b[0m\u001b[0;34m)\u001b[0m\u001b[0;34m\u001b[0m\u001b[0m\n\u001b[0m",
      "\u001b[0;31mNameError\u001b[0m: name 'feature_df' is not defined"
     ]
    }
   ],
   "source": [
    "feature_df['activityID'].unique()"
   ]
  },
  {
   "cell_type": "code",
   "execution_count": null,
   "metadata": {},
   "outputs": [],
   "source": []
  }
 ],
 "metadata": {
  "kernelspec": {
   "display_name": "Python 3",
   "language": "python",
   "name": "python3"
  },
  "language_info": {
   "codemirror_mode": {
    "name": "ipython",
    "version": 3
   },
   "file_extension": ".py",
   "mimetype": "text/x-python",
   "name": "python",
   "nbconvert_exporter": "python",
   "pygments_lexer": "ipython3",
   "version": "3.6.4"
  }
 },
 "nbformat": 4,
 "nbformat_minor": 2
}
