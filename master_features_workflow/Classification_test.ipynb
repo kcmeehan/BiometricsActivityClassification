{
 "cells": [
  {
   "cell_type": "markdown",
   "metadata": {},
   "source": [
    "### Basic test of classification with the new features\n",
    "\n",
    "##### Here we investiage whether adding more features is helpful. We find that there is probably an optimal number of features to train on\n",
    "##### which implies that we should do PCA"
   ]
  },
  {
   "cell_type": "code",
   "execution_count": 1,
   "metadata": {},
   "outputs": [],
   "source": [
    "from sklearn.ensemble import RandomForestClassifier\n",
    "from sklearn.model_selection import train_test_split"
   ]
  },
  {
   "cell_type": "code",
   "execution_count": 2,
   "metadata": {},
   "outputs": [
    {
     "name": "stderr",
     "output_type": "stream",
     "text": [
      "/Users/rmartinshort/anaconda/envs/py36/lib/python3.6/site-packages/statsmodels/compat/pandas.py:56: FutureWarning: The pandas.core.datetools module is deprecated and will be removed in a future version. Please use the pandas.tseries module instead.\n",
      "  from pandas.core import datetools\n"
     ]
    }
   ],
   "source": [
    "import DataProcess as DP\n",
    "import glob\n",
    "import time\n",
    "import pandas as pd\n",
    "from plotting_tools import plot_feature_distributions\n",
    "import numpy as np\n",
    "import matplotlib.pyplot as plt\n",
    "%matplotlib inline"
   ]
  },
  {
   "cell_type": "code",
   "execution_count": 3,
   "metadata": {},
   "outputs": [],
   "source": [
    "protocol_datadir = '/Users/rmartinshort/Documents/Berkeley/GDSO/PAMAP2_data/PAMAP2_Dataset/Protocol/'\n",
    "optional_datadir = '/Users/rmartinshort/Documents/Berkeley/GDSO/PAMAP2_data/PAMAP2_Dataset/Optional/'"
   ]
  },
  {
   "cell_type": "code",
   "execution_count": 4,
   "metadata": {},
   "outputs": [
    {
     "name": "stdout",
     "output_type": "stream",
     "text": [
      "/Users/rmartinshort/Documents/Berkeley/GDSO/PAMAP2_data/PAMAP2_Dataset/Protocol/subject101.dat\n",
      "/Users/rmartinshort/Documents/Berkeley/GDSO/PAMAP2_data/PAMAP2_Dataset/Protocol/subject102.dat\n",
      "/Users/rmartinshort/Documents/Berkeley/GDSO/PAMAP2_data/PAMAP2_Dataset/Protocol/subject103.dat\n",
      "/Users/rmartinshort/Documents/Berkeley/GDSO/PAMAP2_data/PAMAP2_Dataset/Protocol/subject104.dat\n",
      "/Users/rmartinshort/Documents/Berkeley/GDSO/PAMAP2_data/PAMAP2_Dataset/Protocol/subject105.dat\n",
      "/Users/rmartinshort/Documents/Berkeley/GDSO/PAMAP2_data/PAMAP2_Dataset/Protocol/subject106.dat\n",
      "/Users/rmartinshort/Documents/Berkeley/GDSO/PAMAP2_data/PAMAP2_Dataset/Protocol/subject107.dat\n",
      "/Users/rmartinshort/Documents/Berkeley/GDSO/PAMAP2_data/PAMAP2_Dataset/Protocol/subject108.dat\n",
      "/Users/rmartinshort/Documents/Berkeley/GDSO/PAMAP2_data/PAMAP2_Dataset/Protocol/subject109.dat\n"
     ]
    }
   ],
   "source": [
    "allfiles = list(glob.glob(protocol_datadir+'*.dat'))+list(glob.glob(optional_datadir+'*.dat'))\n",
    "allfiles = list(glob.glob(protocol_datadir+'*.dat'))\n",
    "\n",
    "all_dfs = []\n",
    "for fname in allfiles:\n",
    "    print(fname)\n",
    "    dp = DP.dataprocess(fname,T=512,stride=512)\n",
    "    all_dfs.append(dp.df)\n",
    "    \n",
    "feature_df = pd.concat(all_dfs)"
   ]
  },
  {
   "cell_type": "code",
   "execution_count": 5,
   "metadata": {},
   "outputs": [],
   "source": [
    "feature_df.to_csv('Features_test.dat',index=False)"
   ]
  },
  {
   "cell_type": "markdown",
   "metadata": {},
   "source": [
    "### Figure out the number of segments associated with each activity"
   ]
  },
  {
   "cell_type": "code",
   "execution_count": 6,
   "metadata": {},
   "outputs": [],
   "source": [
    "activity_list = ['lying','sitting','standing','walking','running','cycling','nordic walking','watching TV',\n",
    "                 'computer work','car driving','ascending stairs','descending stairs',\n",
    "                  'vacuum cleaning','ironing','folding laundry','house cleaning','playing_soccer','rope jumping']\n",
    "#activities = pd.get_dummies(feature_df['activityID'],drop_first=True)\n",
    "activities = feature_df['activityID']\n",
    "#activities = feature_df['activityID'].astype(\"category\")"
   ]
  },
  {
   "cell_type": "code",
   "execution_count": 20,
   "metadata": {},
   "outputs": [
    {
     "data": {
      "text/plain": [
       "0    1\n",
       "1    1\n",
       "2    1\n",
       "3    1\n",
       "4    1\n",
       "Name: activityID, dtype: object"
      ]
     },
     "execution_count": 20,
     "metadata": {},
     "output_type": "execute_result"
    }
   ],
   "source": [
    "activities.head()"
   ]
  },
  {
   "cell_type": "code",
   "execution_count": 9,
   "metadata": {},
   "outputs": [],
   "source": [
    "X = feature_df.drop(['activityID'],axis=1)"
   ]
  },
  {
   "cell_type": "markdown",
   "metadata": {},
   "source": [
    "#### Train a random forest and looking at the feature importances"
   ]
  },
  {
   "cell_type": "code",
   "execution_count": 10,
   "metadata": {},
   "outputs": [],
   "source": [
    "X_train, X_test, y_train, y_test = train_test_split(X,activities,test_size=0.3)"
   ]
  },
  {
   "cell_type": "code",
   "execution_count": 11,
   "metadata": {},
   "outputs": [],
   "source": [
    "RF = RandomForestClassifier(n_estimators=50,min_samples_split=2,min_samples_leaf=1,max_depth=12,oob_score=True)\n",
    "#note the max_features criterion here - setting this between 50 and 100 makes a small improvment to the results "
   ]
  },
  {
   "cell_type": "code",
   "execution_count": 12,
   "metadata": {},
   "outputs": [],
   "source": [
    "RF = RandomForestClassifier(n_estimators=105,min_samples_leaf=1,max_depth=20,oob_score=True,class_weight='balanced_subsample',\n",
    "                           criterion='gini')"
   ]
  },
  {
   "cell_type": "code",
   "execution_count": 13,
   "metadata": {},
   "outputs": [
    {
     "data": {
      "text/html": [
       "<div>\n",
       "<style scoped>\n",
       "    .dataframe tbody tr th:only-of-type {\n",
       "        vertical-align: middle;\n",
       "    }\n",
       "\n",
       "    .dataframe tbody tr th {\n",
       "        vertical-align: top;\n",
       "    }\n",
       "\n",
       "    .dataframe thead th {\n",
       "        text-align: right;\n",
       "    }\n",
       "</style>\n",
       "<table border=\"1\" class=\"dataframe\">\n",
       "  <thead>\n",
       "    <tr style=\"text-align: right;\">\n",
       "      <th></th>\n",
       "      <th>heart_rate_mean</th>\n",
       "      <th>hand_temp_mean</th>\n",
       "      <th>hand_acc16g_x_mean</th>\n",
       "      <th>hand_acc16g_y_mean</th>\n",
       "      <th>hand_acc16g_z_mean</th>\n",
       "      <th>hand_gyro_x_mean</th>\n",
       "      <th>hand_gyro_y_mean</th>\n",
       "      <th>hand_gyro_z_mean</th>\n",
       "      <th>hand_mag_x_mean</th>\n",
       "      <th>hand_mag_y_mean</th>\n",
       "      <th>...</th>\n",
       "      <th>chest_gyro_acd</th>\n",
       "      <th>ankle_gyro_vsum_welch</th>\n",
       "      <th>ankle_gyro_vsum_sp_entropy</th>\n",
       "      <th>ankle_gyro_spectrum_energy</th>\n",
       "      <th>ankle_gyro_power_ratio</th>\n",
       "      <th>ankle_gyro_XcY</th>\n",
       "      <th>ankle_gyro_XcZ</th>\n",
       "      <th>ankle_gyro_YcZ</th>\n",
       "      <th>ankle_gyro_acs</th>\n",
       "      <th>ankle_gyro_acd</th>\n",
       "    </tr>\n",
       "  </thead>\n",
       "  <tbody>\n",
       "    <tr>\n",
       "      <th>105</th>\n",
       "      <td>103.133775</td>\n",
       "      <td>33.18750</td>\n",
       "      <td>-9.014599</td>\n",
       "      <td>3.539191</td>\n",
       "      <td>1.865601</td>\n",
       "      <td>-0.087145</td>\n",
       "      <td>-0.038684</td>\n",
       "      <td>0.070799</td>\n",
       "      <td>30.955138</td>\n",
       "      <td>-22.653606</td>\n",
       "      <td>...</td>\n",
       "      <td>0.167549</td>\n",
       "      <td>1.562500</td>\n",
       "      <td>3.329552</td>\n",
       "      <td>0.645888</td>\n",
       "      <td>0.639383</td>\n",
       "      <td>0.108788</td>\n",
       "      <td>0.021524</td>\n",
       "      <td>0.111897</td>\n",
       "      <td>-0.084532</td>\n",
       "      <td>0.369283</td>\n",
       "    </tr>\n",
       "    <tr>\n",
       "      <th>249</th>\n",
       "      <td>96.914063</td>\n",
       "      <td>34.75000</td>\n",
       "      <td>-9.190382</td>\n",
       "      <td>2.937790</td>\n",
       "      <td>2.096447</td>\n",
       "      <td>-0.490365</td>\n",
       "      <td>0.133383</td>\n",
       "      <td>0.219821</td>\n",
       "      <td>51.281232</td>\n",
       "      <td>-7.670844</td>\n",
       "      <td>...</td>\n",
       "      <td>0.048151</td>\n",
       "      <td>0.781250</td>\n",
       "      <td>2.239863</td>\n",
       "      <td>12.793820</td>\n",
       "      <td>0.722851</td>\n",
       "      <td>0.532429</td>\n",
       "      <td>0.397563</td>\n",
       "      <td>0.632007</td>\n",
       "      <td>-0.045576</td>\n",
       "      <td>0.174499</td>\n",
       "    </tr>\n",
       "    <tr>\n",
       "      <th>363</th>\n",
       "      <td>128.884295</td>\n",
       "      <td>33.00000</td>\n",
       "      <td>-4.636506</td>\n",
       "      <td>2.127013</td>\n",
       "      <td>8.201269</td>\n",
       "      <td>0.001158</td>\n",
       "      <td>0.007807</td>\n",
       "      <td>0.003423</td>\n",
       "      <td>48.814469</td>\n",
       "      <td>-0.765567</td>\n",
       "      <td>...</td>\n",
       "      <td>0.622540</td>\n",
       "      <td>1.953125</td>\n",
       "      <td>2.202424</td>\n",
       "      <td>5.769447</td>\n",
       "      <td>0.830201</td>\n",
       "      <td>-0.502162</td>\n",
       "      <td>0.491492</td>\n",
       "      <td>-0.725451</td>\n",
       "      <td>-0.062799</td>\n",
       "      <td>0.240420</td>\n",
       "    </tr>\n",
       "    <tr>\n",
       "      <th>137</th>\n",
       "      <td>85.620862</td>\n",
       "      <td>33.25708</td>\n",
       "      <td>-4.231474</td>\n",
       "      <td>2.987477</td>\n",
       "      <td>8.045748</td>\n",
       "      <td>-0.073897</td>\n",
       "      <td>0.102424</td>\n",
       "      <td>0.111492</td>\n",
       "      <td>0.882952</td>\n",
       "      <td>-40.926834</td>\n",
       "      <td>...</td>\n",
       "      <td>0.263009</td>\n",
       "      <td>0.390625</td>\n",
       "      <td>2.668747</td>\n",
       "      <td>1.952809</td>\n",
       "      <td>0.879846</td>\n",
       "      <td>-0.518410</td>\n",
       "      <td>0.081460</td>\n",
       "      <td>-0.439999</td>\n",
       "      <td>-0.030937</td>\n",
       "      <td>0.159999</td>\n",
       "    </tr>\n",
       "    <tr>\n",
       "      <th>312</th>\n",
       "      <td>117.226277</td>\n",
       "      <td>33.06958</td>\n",
       "      <td>-1.469843</td>\n",
       "      <td>9.359712</td>\n",
       "      <td>2.201780</td>\n",
       "      <td>0.067699</td>\n",
       "      <td>-0.049113</td>\n",
       "      <td>-0.081923</td>\n",
       "      <td>-8.335223</td>\n",
       "      <td>-39.535096</td>\n",
       "      <td>...</td>\n",
       "      <td>0.620869</td>\n",
       "      <td>0.781250</td>\n",
       "      <td>2.456036</td>\n",
       "      <td>16.639524</td>\n",
       "      <td>0.767861</td>\n",
       "      <td>-0.823380</td>\n",
       "      <td>0.600696</td>\n",
       "      <td>-0.814579</td>\n",
       "      <td>-0.057591</td>\n",
       "      <td>0.238416</td>\n",
       "    </tr>\n",
       "  </tbody>\n",
       "</table>\n",
       "<p>5 rows × 209 columns</p>\n",
       "</div>"
      ],
      "text/plain": [
       "     heart_rate_mean  hand_temp_mean  hand_acc16g_x_mean  hand_acc16g_y_mean  \\\n",
       "105       103.133775        33.18750           -9.014599            3.539191   \n",
       "249        96.914063        34.75000           -9.190382            2.937790   \n",
       "363       128.884295        33.00000           -4.636506            2.127013   \n",
       "137        85.620862        33.25708           -4.231474            2.987477   \n",
       "312       117.226277        33.06958           -1.469843            9.359712   \n",
       "\n",
       "     hand_acc16g_z_mean  hand_gyro_x_mean  hand_gyro_y_mean  hand_gyro_z_mean  \\\n",
       "105            1.865601         -0.087145         -0.038684          0.070799   \n",
       "249            2.096447         -0.490365          0.133383          0.219821   \n",
       "363            8.201269          0.001158          0.007807          0.003423   \n",
       "137            8.045748         -0.073897          0.102424          0.111492   \n",
       "312            2.201780          0.067699         -0.049113         -0.081923   \n",
       "\n",
       "     hand_mag_x_mean  hand_mag_y_mean       ...        chest_gyro_acd  \\\n",
       "105        30.955138       -22.653606       ...              0.167549   \n",
       "249        51.281232        -7.670844       ...              0.048151   \n",
       "363        48.814469        -0.765567       ...              0.622540   \n",
       "137         0.882952       -40.926834       ...              0.263009   \n",
       "312        -8.335223       -39.535096       ...              0.620869   \n",
       "\n",
       "     ankle_gyro_vsum_welch  ankle_gyro_vsum_sp_entropy  \\\n",
       "105               1.562500                    3.329552   \n",
       "249               0.781250                    2.239863   \n",
       "363               1.953125                    2.202424   \n",
       "137               0.390625                    2.668747   \n",
       "312               0.781250                    2.456036   \n",
       "\n",
       "     ankle_gyro_spectrum_energy  ankle_gyro_power_ratio  ankle_gyro_XcY  \\\n",
       "105                    0.645888                0.639383        0.108788   \n",
       "249                   12.793820                0.722851        0.532429   \n",
       "363                    5.769447                0.830201       -0.502162   \n",
       "137                    1.952809                0.879846       -0.518410   \n",
       "312                   16.639524                0.767861       -0.823380   \n",
       "\n",
       "     ankle_gyro_XcZ  ankle_gyro_YcZ  ankle_gyro_acs  ankle_gyro_acd  \n",
       "105        0.021524        0.111897       -0.084532        0.369283  \n",
       "249        0.397563        0.632007       -0.045576        0.174499  \n",
       "363        0.491492       -0.725451       -0.062799        0.240420  \n",
       "137        0.081460       -0.439999       -0.030937        0.159999  \n",
       "312        0.600696       -0.814579       -0.057591        0.238416  \n",
       "\n",
       "[5 rows x 209 columns]"
      ]
     },
     "execution_count": 13,
     "metadata": {},
     "output_type": "execute_result"
    }
   ],
   "source": [
    "X_train.head()"
   ]
  },
  {
   "cell_type": "code",
   "execution_count": 14,
   "metadata": {},
   "outputs": [
    {
     "data": {
      "text/plain": [
       "RandomForestClassifier(bootstrap=True, class_weight='balanced_subsample',\n",
       "            criterion='gini', max_depth=20, max_features='auto',\n",
       "            max_leaf_nodes=None, min_impurity_decrease=0.0,\n",
       "            min_impurity_split=None, min_samples_leaf=1,\n",
       "            min_samples_split=2, min_weight_fraction_leaf=0.0,\n",
       "            n_estimators=105, n_jobs=1, oob_score=True, random_state=None,\n",
       "            verbose=0, warm_start=False)"
      ]
     },
     "execution_count": 14,
     "metadata": {},
     "output_type": "execute_result"
    }
   ],
   "source": [
    "RF.fit(X_train,y_train)"
   ]
  },
  {
   "cell_type": "code",
   "execution_count": 15,
   "metadata": {},
   "outputs": [
    {
     "data": {
      "text/plain": [
       "0.9901329901329902"
      ]
     },
     "execution_count": 15,
     "metadata": {},
     "output_type": "execute_result"
    }
   ],
   "source": [
    "RF.oob_score_"
   ]
  },
  {
   "cell_type": "code",
   "execution_count": 16,
   "metadata": {},
   "outputs": [],
   "source": [
    "#list the most important features and their importance values\n",
    "importances = RF.feature_importances_\n",
    "args = np.flip(np.argsort(importances),axis=0)"
   ]
  },
  {
   "cell_type": "code",
   "execution_count": 17,
   "metadata": {},
   "outputs": [
    {
     "name": "stdout",
     "output_type": "stream",
     "text": [
      "Feature ankle_gyro_z_std. Importance: 0.034028\n",
      "Feature chest_acc16g_y_std. Importance: 0.033334\n",
      "Feature ankle_acc16g_x_mean. Importance: 0.026108\n",
      "Feature hand_acc16g_x_median. Importance: 0.022029\n",
      "Feature ankle_gyro_x_mean. Importance: 0.020887\n",
      "Feature chest_gyro_y_mean. Importance: 0.020674\n",
      "Feature ankle_acc_spectrum_energy. Importance: 0.020328\n",
      "Feature ankle_acc16g_x_std. Importance: 0.019706\n",
      "Feature chest_gyro_y_std. Importance: 0.019435\n",
      "Feature ankle_acc16g_y_std. Importance: 0.019098\n",
      "Feature chest_gyro_spectrum_energy. Importance: 0.017332\n",
      "Feature chest_acc_spectrum_energy. Importance: 0.017067\n",
      "Feature hand_acc16g_y_std. Importance: 0.016711\n",
      "Feature chest_acc16g_y_peak. Importance: 0.016009\n",
      "Feature chest_acc16g_z_median. Importance: 0.015732\n",
      "Feature ankle_acc16g_x_median. Importance: 0.015528\n",
      "Feature hand_acc_spectrum_energy. Importance: 0.015155\n",
      "Feature ankle_gyro_spectrum_energy. Importance: 0.013393\n",
      "Feature hand_acc16g_y_peak. Importance: 0.013295\n",
      "Feature hand_acc16g_x_mean. Importance: 0.013017\n",
      "Feature ankle_acc16g_x_peak. Importance: 0.012685\n",
      "Feature hand_acc_acs. Importance: 0.012202\n",
      "Feature chest_gyro_x_std. Importance: 0.011722\n",
      "Feature chest_acc16g_z_mean. Importance: 0.011505\n",
      "Feature chest_mag_y_median. Importance: 0.011476\n",
      "Feature chest_mag_y_peak. Importance: 0.011081\n",
      "Feature chest_mag_y_mean. Importance: 0.010952\n",
      "Feature ankle_gyro_z_peak. Importance: 0.010475\n",
      "Feature ankle_acc16g_z_std. Importance: 0.010129\n",
      "Feature hand_acc_acd. Importance: 0.009842\n",
      "Feature hand_acc16g_y_kurtosis. Importance: 0.009209\n",
      "Feature chest_mag_x_mean. Importance: 0.008909\n",
      "Feature hand_mag_x_median. Importance: 0.008885\n",
      "Feature hand_mag_x_mean. Importance: 0.008884\n",
      "Feature chest_mag_z_median. Importance: 0.008820\n",
      "Feature chest_acc16g_x_peak. Importance: 0.008766\n",
      "Feature hand_acc16g_z_peak. Importance: 0.008332\n",
      "Feature chest_acc16g_x_std. Importance: 0.008265\n",
      "Feature chest_acc16g_z_peak. Importance: 0.008175\n",
      "Feature hand_acc16g_x_std. Importance: 0.008125\n",
      "Feature ankle_gyro_x_std. Importance: 0.008059\n",
      "Feature chest_acc16g_y_median. Importance: 0.008029\n",
      "Feature chest_mag_x_std. Importance: 0.007622\n",
      "Feature chest_gyro_y_peak. Importance: 0.007557\n",
      "Feature chest_gyro_acs. Importance: 0.007236\n",
      "Feature chest_acc_power_ratio. Importance: 0.007226\n",
      "Feature ankle_gyro_z_median. Importance: 0.007096\n",
      "Feature chest_mag_x_median. Importance: 0.006809\n",
      "Feature ankle_gyro_z_kurtosis. Importance: 0.006190\n",
      "Feature chest_acc16g_y_mean. Importance: 0.006179\n",
      "Feature hand_acc16g_x_peak. Importance: 0.006090\n",
      "Feature chest_gyro_y_median. Importance: 0.005978\n",
      "Feature chest_acc_YcZ. Importance: 0.005977\n",
      "Feature hand_temp_peak. Importance: 0.005962\n",
      "Feature chest_gyro_x_peak. Importance: 0.005884\n",
      "Feature chest_mag_z_mean. Importance: 0.005628\n",
      "Feature hand_acc_power_ratio. Importance: 0.005607\n",
      "Feature ankle_gyro_x_median. Importance: 0.005539\n",
      "Feature chest_gyro_z_std. Importance: 0.005460\n",
      "Feature hand_acc_vsum_sp_entropy. Importance: 0.005407\n",
      "Feature hand_gyro_z_std. Importance: 0.005406\n",
      "Feature ankle_acc16g_y_peak. Importance: 0.005133\n",
      "Feature hand_acc16g_z_mean. Importance: 0.005123\n",
      "Feature hand_acc16g_z_kurtosis. Importance: 0.005101\n",
      "Feature ankle_mag_y_std. Importance: 0.005027\n",
      "Feature ankle_gyro_vsum_sp_entropy. Importance: 0.004987\n",
      "Feature hand_acc16g_z_median. Importance: 0.004978\n",
      "Feature heart_rate_peak. Importance: 0.004945\n",
      "Feature ankle_acc16g_z_peak. Importance: 0.004870\n",
      "Feature chest_acc_vsum_welch. Importance: 0.004827\n",
      "Feature hand_mag_x_peak. Importance: 0.004750\n",
      "Feature ankle_acc16g_y_mean. Importance: 0.004677\n",
      "Feature hand_gyro_y_std. Importance: 0.004545\n",
      "Feature hand_gyro_spectrum_energy. Importance: 0.004523\n",
      "Feature chest_gyro_acd. Importance: 0.004439\n",
      "Feature hand_mag_z_peak. Importance: 0.004404\n",
      "Feature ankle_acc16g_x_kurtosis. Importance: 0.004343\n",
      "Feature ankle_gyro_y_peak. Importance: 0.004268\n",
      "Feature hand_acc16g_y_median. Importance: 0.003787\n",
      "Feature hand_temp_mean. Importance: 0.003747\n",
      "Feature ankle_mag_z_std. Importance: 0.003663\n",
      "Feature hand_acc_vsum_welch. Importance: 0.003657\n",
      "Feature ankle_mag_x_peak. Importance: 0.003588\n",
      "Feature heart_rate_mean. Importance: 0.003581\n",
      "Feature hand_temp_median. Importance: 0.003576\n",
      "Feature chest_acc16g_z_std. Importance: 0.003558\n",
      "Feature chest_gyro_vsum_sp_entropy. Importance: 0.003546\n",
      "Feature ankle_acc_power_ratio. Importance: 0.003545\n",
      "Feature ankle_acc_acs. Importance: 0.003476\n",
      "Feature hand_acc16g_y_mean. Importance: 0.003447\n",
      "Feature ankle_mag_z_peak. Importance: 0.003390\n",
      "Feature heart_rate_median. Importance: 0.003374\n",
      "Feature chest_acc_acs. Importance: 0.003234\n",
      "Feature ankle_gyro_acd. Importance: 0.003140\n",
      "Feature hand_acc16g_z_std. Importance: 0.003027\n",
      "Feature ankle_acc16g_y_median. Importance: 0.002798\n",
      "Feature ankle_gyro_y_mean. Importance: 0.002782\n",
      "Feature ankle_mag_x_mean. Importance: 0.002716\n",
      "Feature chest_mag_z_peak. Importance: 0.002678\n",
      "Feature hand_gyro_acd. Importance: 0.002676\n",
      "Feature chest_acc_vsum_sp_entropy. Importance: 0.002630\n",
      "Feature ankle_mag_z_median. Importance: 0.002611\n",
      "Feature ankle_mag_z_mean. Importance: 0.002609\n",
      "Feature hand_gyro_vsum_sp_entropy. Importance: 0.002575\n",
      "Feature hand_mag_y_peak. Importance: 0.002572\n",
      "Feature chest_mag_z_std. Importance: 0.002566\n",
      "Feature ankle_acc_XcZ. Importance: 0.002497\n",
      "Feature ankle_gyro_x_peak. Importance: 0.002421\n",
      "Feature hand_mag_y_std. Importance: 0.002357\n",
      "Feature ankle_temp_median. Importance: 0.002318\n",
      "Feature ankle_gyro_x_kurtosis. Importance: 0.002291\n",
      "Feature hand_mag_x_std. Importance: 0.002231\n",
      "Feature ankle_gyro_acs. Importance: 0.002168\n",
      "Feature hand_gyro_power_ratio. Importance: 0.002145\n",
      "Feature chest_acc16g_x_median. Importance: 0.002140\n",
      "Feature chest_gyro_z_median. Importance: 0.002062\n",
      "Feature chest_gyro_YcZ. Importance: 0.002050\n",
      "Feature chest_gyro_y_kurtosis. Importance: 0.002042\n",
      "Feature hand_gyro_x_mean. Importance: 0.002021\n",
      "Feature ankle_temp_mean. Importance: 0.001989\n",
      "Feature ankle_gyro_y_std. Importance: 0.001986\n",
      "Feature ankle_gyro_XcZ. Importance: 0.001981\n",
      "Feature ankle_mag_x_median. Importance: 0.001979\n",
      "Feature hand_mag_z_median. Importance: 0.001974\n",
      "Feature chest_temp_mean. Importance: 0.001968\n",
      "Feature chest_gyro_XcY. Importance: 0.001957\n",
      "Feature chest_acc_acd. Importance: 0.001949\n",
      "Feature ankle_gyro_y_kurtosis. Importance: 0.001885\n",
      "Feature chest_temp_peak. Importance: 0.001865\n",
      "Feature hand_gyro_z_peak. Importance: 0.001854\n",
      "Feature ankle_acc_vsum_sp_entropy. Importance: 0.001810\n",
      "Feature ankle_acc_acd. Importance: 0.001780\n",
      "Feature hand_gyro_acs. Importance: 0.001718\n",
      "Feature hand_gyro_z_mean. Importance: 0.001670\n",
      "Feature ankle_temp_peak. Importance: 0.001647\n",
      "Feature chest_gyro_z_kurtosis. Importance: 0.001621\n",
      "Feature hand_mag_z_mean. Importance: 0.001563\n",
      "Feature chest_mag_x_peak. Importance: 0.001494\n",
      "Feature chest_gyro_XcZ. Importance: 0.001443\n",
      "Feature chest_temp_median. Importance: 0.001406\n",
      "Feature chest_acc16g_y_kurtosis. Importance: 0.001393\n",
      "Feature hand_mag_y_median. Importance: 0.001360\n",
      "Feature hand_gyro_z_kurtosis. Importance: 0.001325\n",
      "Feature hand_gyro_y_kurtosis. Importance: 0.001269\n",
      "Feature chest_gyro_z_peak. Importance: 0.001226\n",
      "Feature hand_gyro_YcZ. Importance: 0.001132\n",
      "Feature ankle_gyro_vsum_welch. Importance: 0.001126\n",
      "Feature hand_gyro_x_kurtosis. Importance: 0.001100\n",
      "Feature hand_gyro_x_std. Importance: 0.001078\n",
      "Feature ankle_gyro_power_ratio. Importance: 0.001076\n",
      "Feature hand_mag_z_std. Importance: 0.001070\n",
      "Feature chest_acc16g_z_kurtosis. Importance: 0.001064\n",
      "Feature chest_acc16g_x_mean. Importance: 0.001060\n",
      "Feature hand_gyro_x_median. Importance: 0.001055\n",
      "Feature chest_mag_y_std. Importance: 0.001023\n",
      "Feature hand_mag_y_mean. Importance: 0.001001\n",
      "Feature ankle_mag_y_mean. Importance: 0.000999\n",
      "Feature chest_gyro_x_mean. Importance: 0.000936\n",
      "Feature hand_gyro_XcY. Importance: 0.000849\n",
      "Feature ankle_gyro_YcZ. Importance: 0.000791\n",
      "Feature ankle_mag_y_peak. Importance: 0.000788\n",
      "Feature chest_gyro_power_ratio. Importance: 0.000779\n",
      "Feature chest_gyro_z_mean. Importance: 0.000767\n",
      "Feature ankle_gyro_XcY. Importance: 0.000756\n",
      "Feature ankle_acc16g_y_kurtosis. Importance: 0.000743\n",
      "Feature hand_acc_YcZ. Importance: 0.000740\n",
      "Feature ankle_acc16g_z_mean. Importance: 0.000731\n",
      "Feature hand_gyro_y_mean. Importance: 0.000659\n",
      "Feature hand_acc_XcY. Importance: 0.000646\n",
      "Feature ankle_mag_x_std. Importance: 0.000631\n",
      "Feature ankle_mag_y_median. Importance: 0.000625\n",
      "Feature hand_gyro_y_peak. Importance: 0.000620\n",
      "Feature hand_acc_XcZ. Importance: 0.000615\n",
      "Feature hand_gyro_XcZ. Importance: 0.000614\n",
      "Feature heart_rate_std. Importance: 0.000586\n",
      "Feature chest_gyro_x_median. Importance: 0.000548\n",
      "Feature hand_gyro_vsum_welch. Importance: 0.000530\n",
      "Feature hand_gyro_z_median. Importance: 0.000526\n",
      "Feature ankle_acc16g_z_kurtosis. Importance: 0.000468\n",
      "Feature chest_acc_XcZ. Importance: 0.000467\n",
      "Feature ankle_gyro_y_median. Importance: 0.000456\n",
      "Feature ankle_acc_XcY. Importance: 0.000426\n",
      "Feature ankle_acc16g_z_median. Importance: 0.000415\n",
      "Feature chest_acc16g_x_kurtosis. Importance: 0.000411\n",
      "Feature hand_mag_x_kurtosis. Importance: 0.000400\n",
      "Feature hand_gyro_y_median. Importance: 0.000395\n",
      "Feature chest_gyro_vsum_welch. Importance: 0.000395\n",
      "Feature chest_acc_XcY. Importance: 0.000380\n",
      "Feature ankle_acc_vsum_welch. Importance: 0.000314\n",
      "Feature chest_gyro_x_kurtosis. Importance: 0.000313\n",
      "Feature ankle_mag_z_kurtosis. Importance: 0.000308\n",
      "Feature hand_acc16g_x_kurtosis. Importance: 0.000305\n",
      "Feature hand_mag_y_kurtosis. Importance: 0.000255\n",
      "Feature ankle_gyro_z_mean. Importance: 0.000244\n",
      "Feature ankle_mag_y_kurtosis. Importance: 0.000239\n",
      "Feature ankle_acc_YcZ. Importance: 0.000237\n",
      "Feature ankle_mag_x_kurtosis. Importance: 0.000225\n",
      "Feature chest_mag_x_kurtosis. Importance: 0.000218\n",
      "Feature hand_gyro_x_peak. Importance: 0.000181\n",
      "Feature chest_mag_z_kurtosis. Importance: 0.000172\n",
      "Feature hand_mag_z_kurtosis. Importance: 0.000140\n",
      "Feature chest_mag_y_kurtosis. Importance: 0.000127\n",
      "Feature heart_rate_kurtosis. Importance: 0.000117\n",
      "Feature chest_temp_std. Importance: 0.000109\n",
      "Feature hand_temp_kurtosis. Importance: 0.000103\n",
      "Feature hand_temp_std. Importance: 0.000102\n",
      "Feature ankle_temp_std. Importance: 0.000088\n",
      "Feature chest_temp_kurtosis. Importance: 0.000078\n",
      "Feature ankle_temp_kurtosis. Importance: 0.000060\n"
     ]
    }
   ],
   "source": [
    "features_to_keep = []\n",
    "for i in range(len(args)):\n",
    "    arg = args[i]\n",
    "    print('Feature %s. Importance: %f' %(X_train.columns[arg],importances[arg]))\n",
    "    features_to_keep.append(X_train.columns[arg])"
   ]
  },
  {
   "cell_type": "code",
   "execution_count": 18,
   "metadata": {},
   "outputs": [
    {
     "data": {
      "text/plain": [
       "0.992992992992993"
      ]
     },
     "execution_count": 18,
     "metadata": {},
     "output_type": "execute_result"
    }
   ],
   "source": [
    "RF.score(X_test,y_test)"
   ]
  },
  {
   "cell_type": "markdown",
   "metadata": {},
   "source": [
    "Interestingly we seem to be doing worse with all these features. This suggests that we might be overfitting and need to reduce the number of features. Lets try to see if there is an optimal number of features for our test score"
   ]
  },
  {
   "cell_type": "code",
   "execution_count": 19,
   "metadata": {},
   "outputs": [],
   "source": [
    "def investigate_feature_numbers(X,Y,classifier,step_features=2,min_features=5):\n",
    "    \n",
    "    '''\n",
    "    Train the algorithm on datasets containing decreasing numbers of features in order to\n",
    "    determine if there is an optimal number of features\n",
    "    '''\n",
    "    \n",
    "    #Start by training a random forest\n",
    "    \n",
    "    print(\"Training on all features\")\n",
    "    X_train, X_test, y_train, y_test = train_test_split(X,Y,test_size=0.3)\n",
    "    classifier.fit(X_train,y_train)\n",
    "    \n",
    "    train_scores = [classifier.score(X_train,y_train)]\n",
    "    test_scores  = [classifier.score(X_test,y_test)]\n",
    "    feature_number_list = [len(X_train.columns)]\n",
    "    \n",
    "    #Extract just the first n features to train on. We'll extract the features in order of importance\n",
    "    #to try to ensure that we get \n",
    "    \n",
    "    importances = RF.feature_importances_\n",
    "    args = np.flip(np.argsort(importances),axis=0)\n",
    "    features_to_keep = []\n",
    "    for i in range(len(X_train.columns)-step_features):\n",
    "        arg = args[i]\n",
    "        features_to_keep.append(X_train.columns[arg])\n",
    "        \n",
    "    for feature_number in np.arange(len(X.columns)-step_features,min_features,-step_features):\n",
    "         \n",
    "        X_new = X[features_to_keep]\n",
    "        \n",
    "        print(len(features_to_keep))\n",
    "        \n",
    "        print(\"Training on %i features\" %feature_number)\n",
    "        \n",
    "        X_train, X_test, y_train, y_test = train_test_split(X_new,Y,test_size=0.3)\n",
    "        classifier.fit(X_train,y_train)\n",
    "        train_scores.append(classifier.score(X_train,y_train))\n",
    "        test_scores.append(classifier.score(X_test,y_test))\n",
    "        feature_number_list.append(len(X_new.columns))\n",
    "        \n",
    "        importances = classifier.feature_importances_\n",
    "        args = np.flip(np.argsort(importances),axis=0)\n",
    "        features_to_keep = []\n",
    "        for i in range(feature_number-step_features):\n",
    "            arg = args[i]\n",
    "            features_to_keep.append(X_train.columns[arg])\n",
    "            \n",
    "        if len(features_to_keep) <= min_features:\n",
    "            return test_scores, train_scores, feature_number_list\n",
    "        \n",
    "        "
   ]
  },
  {
   "cell_type": "code",
   "execution_count": null,
   "metadata": {},
   "outputs": [
    {
     "name": "stdout",
     "output_type": "stream",
     "text": [
      "Training on all features\n",
      "207\n",
      "Training on 207 features\n",
      "205\n",
      "Training on 205 features\n",
      "203\n",
      "Training on 203 features\n",
      "201\n",
      "Training on 201 features\n",
      "199\n",
      "Training on 199 features\n",
      "197\n",
      "Training on 197 features\n",
      "195\n",
      "Training on 195 features\n",
      "193\n",
      "Training on 193 features\n"
     ]
    }
   ],
   "source": [
    "test_scores, train_scores, feature_numbers = investigate_feature_numbers(X,activities,RF)"
   ]
  },
  {
   "cell_type": "code",
   "execution_count": 58,
   "metadata": {},
   "outputs": [
    {
     "data": {
      "image/png": "[encoded data removed]",
      "text/plain": [
       "<matplotlib.figure.Figure at 0x1c1775e6d8>"
      ]
     },
     "metadata": {},
     "output_type": "display_data"
    }
   ],
   "source": [
    "plt.style.use('ggplot')\n",
    "fig = plt.figure(figsize=(6,6))\n",
    "plt.plot(feature_numbers,train_scores,label='training score')\n",
    "plt.plot(feature_numbers,test_scores,label='testing score')\n",
    "plt.legend()\n",
    "plt.xlabel('Number of features')\n",
    "plt.ylabel('Classification score')\n",
    "plt.grid(axis='both')"
   ]
  },
  {
   "cell_type": "markdown",
   "metadata": {},
   "source": [
    "#### Since it seems like ~75 features is optimal, lets try a PCA here"
   ]
  },
  {
   "cell_type": "code",
   "execution_count": 178,
   "metadata": {},
   "outputs": [
    {
     "name": "stderr",
     "output_type": "stream",
     "text": [
      "/Users/rmartinshort/anaconda/envs/py36/lib/python3.6/importlib/_bootstrap.py:219: RuntimeWarning: numpy.dtype size changed, may indicate binary incompatibility. Expected 96, got 88\n",
      "  return f(*args, **kwds)\n"
     ]
    }
   ],
   "source": [
    "from sklearn.decomposition import PCA\n",
    "from sklearn.preprocessing import StandardScaler"
   ]
  },
  {
   "cell_type": "markdown",
   "metadata": {},
   "source": [
    "##### We can choose to scale the input data, but it does not make a dramatic change to the results"
   ]
  },
  {
   "cell_type": "code",
   "execution_count": 179,
   "metadata": {},
   "outputs": [],
   "source": [
    "scaler = StandardScaler()\n",
    "scaler.fit(X)\n",
    "X_scaled = scaler.transform(X)"
   ]
  },
  {
   "cell_type": "markdown",
   "metadata": {},
   "source": [
    "##### Use PCA to transform the data"
   ]
  },
  {
   "cell_type": "code",
   "execution_count": 223,
   "metadata": {},
   "outputs": [],
   "source": [
    "pca = PCA(n_components=9)\n",
    "pca.fit(X)\n",
    "X_pca = pca.transform(X)"
   ]
  },
  {
   "cell_type": "code",
   "execution_count": 224,
   "metadata": {},
   "outputs": [
    {
     "data": {
      "text/plain": [
       "RandomForestClassifier(bootstrap=True, class_weight=None, criterion='gini',\n",
       "            max_depth=None, max_features='auto', max_leaf_nodes=None,\n",
       "            min_impurity_decrease=0.0, min_impurity_split=None,\n",
       "            min_samples_leaf=1, min_samples_split=2,\n",
       "            min_weight_fraction_leaf=0.0, n_estimators=50, n_jobs=1,\n",
       "            oob_score=True, random_state=None, verbose=0, warm_start=False)"
      ]
     },
     "execution_count": 224,
     "metadata": {},
     "output_type": "execute_result"
    }
   ],
   "source": [
    "X_train, X_test, y_train, y_test = train_test_split(X_pca,activities,test_size=0.3)\n",
    "RF.fit(X_train,y_train)"
   ]
  },
  {
   "cell_type": "code",
   "execution_count": 225,
   "metadata": {},
   "outputs": [
    {
     "data": {
      "text/plain": [
       "0.9861167320652461"
      ]
     },
     "execution_count": 225,
     "metadata": {},
     "output_type": "execute_result"
    }
   ],
   "source": [
    "RF.oob_score_"
   ]
  },
  {
   "cell_type": "code",
   "execution_count": 226,
   "metadata": {},
   "outputs": [
    {
     "data": {
      "text/plain": [
       "0.8172942817294282"
      ]
     },
     "execution_count": 226,
     "metadata": {},
     "output_type": "execute_result"
    }
   ],
   "source": [
    "RF.score(X_test,y_test)"
   ]
  },
  {
   "cell_type": "markdown",
   "metadata": {},
   "source": [
    "#### Its quite odd that the RF performs well on a PCA dataset with only a small number of components. Increasing the number of components reduces the fit"
   ]
  },
  {
   "cell_type": "code",
   "execution_count": 2,
   "metadata": {},
   "outputs": [
    {
     "ename": "NameError",
     "evalue": "name 'feature_df' is not defined",
     "output_type": "error",
     "traceback": [
      "\u001b[0;31m---------------------------------------------------------------------------\u001b[0m",
      "\u001b[0;31mNameError\u001b[0m                                 Traceback (most recent call last)",
      "\u001b[0;32m<ipython-input-2-75172e8d3336>\u001b[0m in \u001b[0;36m<module>\u001b[0;34m()\u001b[0m\n\u001b[0;32m----> 1\u001b[0;31m \u001b[0mfeature_df\u001b[0m\u001b[0;34m[\u001b[0m\u001b[0;34m'activityID'\u001b[0m\u001b[0;34m]\u001b[0m\u001b[0;34m.\u001b[0m\u001b[0munique\u001b[0m\u001b[0;34m(\u001b[0m\u001b[0;34m)\u001b[0m\u001b[0;34m\u001b[0m\u001b[0m\n\u001b[0m",
      "\u001b[0;31mNameError\u001b[0m: name 'feature_df' is not defined"
     ]
    }
   ],
   "source": [
    "feature_df['activityID'].unique()"
   ]
  },
  {
   "cell_type": "code",
   "execution_count": null,
   "metadata": {},
   "outputs": [],
   "source": []
  }
 ],
 "metadata": {
  "kernelspec": {
   "display_name": "Python 3",
   "language": "python",
   "name": "python3"
  },
  "language_info": {
   "codemirror_mode": {
    "name": "ipython",
    "version": 3
   },
   "file_extension": ".py",
   "mimetype": "text/x-python",
   "name": "python",
   "nbconvert_exporter": "python",
   "pygments_lexer": "ipython3",
   "version": "3.6.4"
  }
 },
 "nbformat": 4,
 "nbformat_minor": 2
}
