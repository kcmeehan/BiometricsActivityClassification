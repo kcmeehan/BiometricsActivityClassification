{
 "cells": [
  {
   "cell_type": "code",
   "execution_count": 1,
   "metadata": {},
   "outputs": [
    {
     "name": "stderr",
     "output_type": "stream",
     "text": [
      "Using TensorFlow backend.\n"
     ]
    }
   ],
   "source": [
    "import numpy as np\n",
    "import matplotlib.pyplot as plt\n",
    "import keras\n",
    "from keras.models import Sequential\n",
    "from keras.layers import Dense, Dropout, Activation, Flatten\n",
    "from keras.layers import Convolution1D, MaxPooling1D\n",
    "from keras import metrics\n",
    "\n",
    "from sklearn.model_selection import train_test_split\n",
    "from keras.utils import np_utils\n",
    "\n",
    "import DataProcessCNN as DP"
   ]
  },
  {
   "cell_type": "code",
   "execution_count": 2,
   "metadata": {},
   "outputs": [],
   "source": [
    "#for subj_n in range(1,10):\n",
    "    #load the data\n",
    "#    subj_filename='C:/Users/lt/Desktop/DSW2018/PAMAP2_Dataset/Protocol/subject10'+str(subj_n)+'.dat'\n",
    "#    dp=DP.dataprocess(subj_filename)\n",
    "#    np.save('data'+str(subj_n)+'.npy', (DP.col_sublabels,dp.data_segmented))"
   ]
  },
  {
   "cell_type": "code",
   "execution_count": 3,
   "metadata": {},
   "outputs": [],
   "source": [
    "datalabels=[]\n",
    "for i in range(1,10):\n",
    "    feature_names,datalabelsi=np.load('data'+str(i)+'.npy')\n",
    "    datalabels.append(datalabelsi)\n",
    "\n",
    "datalabels=np.vstack(datalabels)"
   ]
  },
  {
   "cell_type": "code",
   "execution_count": 4,
   "metadata": {},
   "outputs": [],
   "source": [
    "X_all=datalabels[:,:,2:]\n",
    "y_all=datalabels[:,0,1]\n",
    "\n",
    "#convert activity id to lie within range(12)\n",
    "act_list=np.unique(datalabels[:,0,1])\n",
    "y_all2=np.nonzero(y_all[:,np.newaxis]==act_list)[1]\n",
    "\n",
    "# convert labels to class matrix, one-hot-encoding\n",
    "Y_all = np_utils.to_categorical(y_all2,12)\n",
    "# split in train and test set\n",
    "X_train, X_test, Y_train, Y_test = train_test_split(X_all, Y_all, test_size=0.2)"
   ]
  },
  {
   "cell_type": "code",
   "execution_count": 5,
   "metadata": {},
   "outputs": [],
   "source": [
    "from sklearn.preprocessing import StandardScaler\n",
    "scaler = StandardScaler()\n",
    "scaler.fit(X_train.reshape(len(X_train)*512,31))\n",
    "\n",
    "X_trainnorm=(X_train-scaler.mean_)/scaler.scale_\n",
    "X_testnorm=(X_test-scaler.mean_)/scaler.scale_"
   ]
  },
  {
   "cell_type": "code",
   "execution_count": 13,
   "metadata": {},
   "outputs": [],
   "source": [
    "model = Sequential()\n",
    "model.add(Convolution1D(16, 3, activation='relu', input_shape=(512,31)))\n",
    "model.add(MaxPooling1D(3))\n",
    "model.add(Flatten())\n",
    "model.add(Dense(16, activation='relu'))\n",
    "model.add(Dense(12, activation='softmax'))\n",
    "\n",
    "model.compile(loss='categorical_crossentropy',\n",
    "              optimizer='adam',\n",
    "              metrics=['accuracy'])"
   ]
  },
  {
   "cell_type": "code",
   "execution_count": 14,
   "metadata": {},
   "outputs": [
    {
     "name": "stdout",
     "output_type": "stream",
     "text": [
      "Train on 2664 samples, validate on 666 samples\n",
      "Epoch 1/10\n",
      "2664/2664 [==============================] - 2s 677us/step - loss: 1.3038 - acc: 0.5578 - val_loss: 0.6192 - val_acc: 0.8228\n",
      "Epoch 2/10\n",
      "2664/2664 [==============================] - 2s 581us/step - loss: 0.3802 - acc: 0.8870 - val_loss: 0.2495 - val_acc: 0.9159\n",
      "Epoch 3/10\n",
      "2664/2664 [==============================] - 2s 569us/step - loss: 0.1649 - acc: 0.9482 - val_loss: 0.1777 - val_acc: 0.9505\n",
      "Epoch 4/10\n",
      "2664/2664 [==============================] - 2s 592us/step - loss: 0.0786 - acc: 0.9816 - val_loss: 0.1473 - val_acc: 0.9580\n",
      "Epoch 5/10\n",
      "2664/2664 [==============================] - 1s 557us/step - loss: 0.0456 - acc: 0.9891 - val_loss: 0.1289 - val_acc: 0.9640\n",
      "Epoch 6/10\n",
      "2664/2664 [==============================] - 1s 539us/step - loss: 0.0273 - acc: 0.9955 - val_loss: 0.1170 - val_acc: 0.9685\n",
      "Epoch 7/10\n",
      "2664/2664 [==============================] - 1s 557us/step - loss: 0.0147 - acc: 0.9974 - val_loss: 0.1148 - val_acc: 0.9685\n",
      "Epoch 8/10\n",
      "2664/2664 [==============================] - 1s 551us/step - loss: 0.0102 - acc: 0.9981 - val_loss: 0.1074 - val_acc: 0.9700\n",
      "Epoch 9/10\n",
      "2664/2664 [==============================] - 2s 592us/step - loss: 0.0066 - acc: 0.9989 - val_loss: 0.1182 - val_acc: 0.9700\n",
      "Epoch 10/10\n",
      "2664/2664 [==============================] - 2s 592us/step - loss: 0.0045 - acc: 0.9996 - val_loss: 0.1193 - val_acc: 0.9715\n"
     ]
    },
    {
     "data": {
      "text/plain": [
       "<keras.callbacks.History at 0x29500828da0>"
      ]
     },
     "execution_count": 14,
     "metadata": {},
     "output_type": "execute_result"
    }
   ],
   "source": [
    "model.fit(X_trainnorm, Y_train, validation_data=(X_testnorm,Y_test), epochs=10, batch_size=16)"
   ]
  },
  {
   "cell_type": "code",
   "execution_count": 6,
   "metadata": {},
   "outputs": [],
   "source": [
    "model = Sequential()\n",
    " \n",
    "model.add(Convolution1D(64, 3, activation='relu', input_shape=(512,31)))\n",
    "model.add(MaxPooling1D(3))\n",
    "model.add(Dropout(0.25))\n",
    "model.add(Convolution1D(64, 3,activation='relu'))\n",
    "model.add(MaxPooling1D(3))\n",
    "model.add(Dropout(0.25)) \n",
    "model.add(Flatten())\n",
    "model.add(Dense(50, activation='relu'))\n",
    "model.add(Dropout(0.5))\n",
    "model.add(Dense(12, activation='softmax'))\n",
    "\n",
    "model.compile(loss='categorical_crossentropy',\n",
    "              optimizer='adam',\n",
    "              metrics=['accuracy'])"
   ]
  },
  {
   "cell_type": "code",
   "execution_count": 7,
   "metadata": {},
   "outputs": [
    {
     "name": "stdout",
     "output_type": "stream",
     "text": [
      "Train on 2664 samples, validate on 666 samples\n",
      "Epoch 1/20\n",
      "2664/2664 [==============================] - 6s 2ms/step - loss: 1.9163 - acc: 0.3153 - val_loss: 1.0736 - val_acc: 0.7462\n",
      "Epoch 2/20\n",
      "2664/2664 [==============================] - 2s 833us/step - loss: 1.0643 - acc: 0.6077 - val_loss: 0.4988 - val_acc: 0.8979\n",
      "Epoch 3/20\n",
      "2664/2664 [==============================] - 2s 827us/step - loss: 0.7508 - acc: 0.7110 - val_loss: 0.3523 - val_acc: 0.8859\n",
      "Epoch 4/20\n",
      "2664/2664 [==============================] - 2s 827us/step - loss: 0.6143 - acc: 0.7620 - val_loss: 0.2455 - val_acc: 0.9505\n",
      "Epoch 5/20\n",
      "2664/2664 [==============================] - 2s 821us/step - loss: 0.4683 - acc: 0.8172 - val_loss: 0.1056 - val_acc: 0.9790\n",
      "Epoch 6/20\n",
      "2664/2664 [==============================] - 2s 829us/step - loss: 0.2996 - acc: 0.8848 - val_loss: 0.1150 - val_acc: 0.9685\n",
      "Epoch 7/20\n",
      "2664/2664 [==============================] - 2s 839us/step - loss: 0.2723 - acc: 0.8971 - val_loss: 0.0846 - val_acc: 0.9790\n",
      "Epoch 8/20\n",
      "2664/2664 [==============================] - 2s 839us/step - loss: 0.1868 - acc: 0.9230 - val_loss: 0.0511 - val_acc: 0.9850\n",
      "Epoch 9/20\n",
      "2664/2664 [==============================] - 2s 827us/step - loss: 0.1947 - acc: 0.9332 - val_loss: 0.0506 - val_acc: 0.9880\n",
      "Epoch 10/20\n",
      "2664/2664 [==============================] - 2s 839us/step - loss: 0.1435 - acc: 0.9486 - val_loss: 0.0574 - val_acc: 0.9835\n",
      "Epoch 11/20\n",
      "2664/2664 [==============================] - 2s 824us/step - loss: 0.1133 - acc: 0.9553 - val_loss: 0.0312 - val_acc: 0.9925\n",
      "Epoch 12/20\n",
      "2664/2664 [==============================] - 2s 833us/step - loss: 0.1151 - acc: 0.9583 - val_loss: 0.0617 - val_acc: 0.9895\n",
      "Epoch 13/20\n",
      "2664/2664 [==============================] - 2s 821us/step - loss: 0.1092 - acc: 0.9617 - val_loss: 0.0581 - val_acc: 0.9865\n",
      "Epoch 14/20\n",
      "2664/2664 [==============================] - 2s 821us/step - loss: 0.0937 - acc: 0.9647 - val_loss: 0.0488 - val_acc: 0.9865\n",
      "Epoch 15/20\n",
      "2664/2664 [==============================] - 2s 844us/step - loss: 0.0577 - acc: 0.9801 - val_loss: 0.0298 - val_acc: 0.9895\n",
      "Epoch 16/20\n",
      "2664/2664 [==============================] - 2s 862us/step - loss: 0.0616 - acc: 0.9767 - val_loss: 0.0617 - val_acc: 0.9805\n",
      "Epoch 17/20\n",
      "2664/2664 [==============================] - 2s 850us/step - loss: 0.0961 - acc: 0.9756 - val_loss: 0.0550 - val_acc: 0.9850\n",
      "Epoch 18/20\n",
      "2664/2664 [==============================] - 2s 842us/step - loss: 0.0562 - acc: 0.9779 - val_loss: 0.0427 - val_acc: 0.9910\n",
      "Epoch 19/20\n",
      "2664/2664 [==============================] - 2s 850us/step - loss: 0.0741 - acc: 0.9745 - val_loss: 0.0607 - val_acc: 0.9805\n",
      "Epoch 20/20\n",
      "2664/2664 [==============================] - 2s 856us/step - loss: 0.0942 - acc: 0.9730 - val_loss: 0.0679 - val_acc: 0.9850\n"
     ]
    },
    {
     "data": {
      "text/plain": [
       "<keras.callbacks.History at 0x17f39ffc7f0>"
      ]
     },
     "execution_count": 7,
     "metadata": {},
     "output_type": "execute_result"
    }
   ],
   "source": [
    "model.fit(X_trainnorm, Y_train, validation_data=(X_testnorm,Y_test), epochs=20, batch_size=16)"
   ]
  },
  {
   "cell_type": "code",
   "execution_count": null,
   "metadata": {},
   "outputs": [],
   "source": []
  }
 ],
 "metadata": {
  "kernelspec": {
   "display_name": "Python 3",
   "language": "python",
   "name": "python3"
  },
  "language_info": {
   "codemirror_mode": {
    "name": "ipython",
    "version": 3
   },
   "file_extension": ".py",
   "mimetype": "text/x-python",
   "name": "python",
   "nbconvert_exporter": "python",
   "pygments_lexer": "ipython3",
   "version": "3.6.5"
  }
 },
 "nbformat": 4,
 "nbformat_minor": 2
}
