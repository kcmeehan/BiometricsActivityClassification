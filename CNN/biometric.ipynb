{
 "cells": [
  {
   "cell_type": "code",
   "execution_count": 1,
   "metadata": {},
   "outputs": [
    {
     "name": "stderr",
     "output_type": "stream",
     "text": [
      "Using TensorFlow backend.\n"
     ]
    }
   ],
   "source": [
    "import numpy as np\n",
    "import matplotlib.pyplot as plt\n",
    "import keras\n",
    "from keras.models import Sequential\n",
    "from keras.layers import Dense, Dropout, Activation, Flatten\n",
    "from keras.layers import Convolution1D, MaxPooling1D\n",
    "from keras import metrics\n",
    "\n",
    "from sklearn.model_selection import train_test_split\n",
    "from keras.utils import np_utils\n",
    "\n",
    "import DataProcessCNN as DP"
   ]
  },
  {
   "cell_type": "code",
   "execution_count": 2,
   "metadata": {},
   "outputs": [],
   "source": [
    "#for subj_n in range(1,10):\n",
    "    #load the data\n",
    "#    subj_filename='C:/Users/lt/Desktop/DSW2018/PAMAP2_Dataset/Protocol/subject10'+str(subj_n)+'.dat'\n",
    "#    dp=DP.dataprocess(subj_filename)\n",
    "#    np.save('data'+str(subj_n)+'.npy', (DP.col_sublabels,dp.data_segmented))"
   ]
  },
  {
   "cell_type": "code",
   "execution_count": 3,
   "metadata": {},
   "outputs": [],
   "source": [
    "datalabels=[]\n",
    "for i in range(1,10):\n",
    "    feature_names,datalabelsi=np.load('data'+str(i)+'.npy')\n",
    "    datalabels.append(datalabelsi)\n",
    "\n",
    "datalabels=np.vstack(datalabels)"
   ]
  },
  {
   "cell_type": "code",
   "execution_count": 4,
   "metadata": {},
   "outputs": [],
   "source": [
    "X_all=datalabels[:,:,2:]\n",
    "y_all=datalabels[:,0,1]\n",
    "\n",
    "#convert activity id to lie within range(12)\n",
    "act_list=np.unique(datalabels[:,0,1])\n",
    "y_all2=np.nonzero(y_all[:,np.newaxis]==act_list)[1]\n",
    "\n",
    "# convert labels to class matrix, one-hot-encoding\n",
    "Y_all = np_utils.to_categorical(y_all2,12)\n",
    "# split in train and test set\n",
    "X_train, X_test, Y_train, Y_test = train_test_split(X_all, Y_all, test_size=0.2)"
   ]
  },
  {
   "cell_type": "code",
   "execution_count": 5,
   "metadata": {},
   "outputs": [],
   "source": [
    "from sklearn.preprocessing import StandardScaler\n",
    "scaler = StandardScaler()\n",
    "scaler.fit(X_train.reshape(len(X_train)*512,31))\n",
    "\n",
    "X_trainnorm=(X_train-scaler.mean_)/scaler.scale_\n",
    "X_testnorm=(X_test-scaler.mean_)/scaler.scale_"
   ]
  },
  {
   "cell_type": "code",
   "execution_count": 6,
   "metadata": {},
   "outputs": [],
   "source": [
    "model = Sequential()\n",
    "model.add(Convolution1D(16, 3, activation='relu', input_shape=(512,31)))\n",
    "model.add(MaxPooling1D(3))\n",
    "model.add(Flatten())\n",
    "model.add(Dense(16, activation='relu'))\n",
    "model.add(Dense(12, activation='softmax'))\n",
    "\n",
    "model.compile(loss='categorical_crossentropy',\n",
    "              optimizer='adam',\n",
    "              metrics=['accuracy'])"
   ]
  },
  {
   "cell_type": "code",
   "execution_count": 7,
   "metadata": {},
   "outputs": [
    {
     "name": "stdout",
     "output_type": "stream",
     "text": [
      "Train on 2664 samples, validate on 666 samples\n",
      "Epoch 1/10\n",
      "2664/2664 [==============================] - 2s 715us/step - loss: 1.2801 - acc: 0.5882 - val_loss: 0.5953 - val_acc: 0.7958\n",
      "Epoch 2/10\n",
      "2664/2664 [==============================] - 1s 563us/step - loss: 0.3488 - acc: 0.8949 - val_loss: 0.2765 - val_acc: 0.9219\n",
      "Epoch 3/10\n",
      "2664/2664 [==============================] - 2s 567us/step - loss: 0.1595 - acc: 0.9572 - val_loss: 0.1874 - val_acc: 0.9520\n",
      "Epoch 4/10\n",
      "2664/2664 [==============================] - 2s 581us/step - loss: 0.0820 - acc: 0.9771 - val_loss: 0.1538 - val_acc: 0.9565\n",
      "Epoch 5/10\n",
      "2664/2664 [==============================] - 2s 570us/step - loss: 0.0408 - acc: 0.9910 - val_loss: 0.1850 - val_acc: 0.9535\n",
      "Epoch 6/10\n",
      "2664/2664 [==============================] - 1s 563us/step - loss: 0.0278 - acc: 0.9936 - val_loss: 0.1307 - val_acc: 0.9655\n",
      "Epoch 7/10\n",
      "2664/2664 [==============================] - 2s 569us/step - loss: 0.0144 - acc: 0.9974 - val_loss: 0.1290 - val_acc: 0.9655\n",
      "Epoch 8/10\n",
      "2664/2664 [==============================] - 2s 592us/step - loss: 0.0102 - acc: 0.9981 - val_loss: 0.1571 - val_acc: 0.9610\n",
      "Epoch 9/10\n",
      "2664/2664 [==============================] - 2s 581us/step - loss: 0.0068 - acc: 0.9992 - val_loss: 0.1300 - val_acc: 0.9610\n",
      "Epoch 10/10\n",
      "2664/2664 [==============================] - 2s 575us/step - loss: 0.0131 - acc: 0.9959 - val_loss: 0.2400 - val_acc: 0.9414\n"
     ]
    },
    {
     "data": {
      "text/plain": [
       "<keras.callbacks.History at 0x29522a83400>"
      ]
     },
     "execution_count": 7,
     "metadata": {},
     "output_type": "execute_result"
    }
   ],
   "source": [
    "model.fit(X_trainnorm, Y_train, validation_data=(X_testnorm,Y_test), epochs=10, batch_size=16,shuffle=True)"
   ]
  },
  {
   "cell_type": "code",
   "execution_count": null,
   "metadata": {},
   "outputs": [],
   "source": []
  }
 ],
 "metadata": {
  "kernelspec": {
   "display_name": "Python 3",
   "language": "python",
   "name": "python3"
  },
  "language_info": {
   "codemirror_mode": {
    "name": "ipython",
    "version": 3
   },
   "file_extension": ".py",
   "mimetype": "text/x-python",
   "name": "python",
   "nbconvert_exporter": "python",
   "pygments_lexer": "ipython3",
   "version": "3.6.5"
  }
 },
 "nbformat": 4,
 "nbformat_minor": 2
}
