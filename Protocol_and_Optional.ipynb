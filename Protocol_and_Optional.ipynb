{
 "cells": [
  {
   "cell_type": "code",
   "execution_count": 1,
   "metadata": {
    "collapsed": true
   },
   "outputs": [],
   "source": [
    "import numpy as np\n",
    "import matplotlib.pyplot as plt\n",
    "%matplotlib inline\n",
    "import DataProcess as DP"
   ]
  },
  {
   "cell_type": "markdown",
   "metadata": {},
   "source": [
    "### Load Protocol and Optional Data:"
   ]
  },
  {
   "cell_type": "code",
   "execution_count": null,
   "metadata": {
    "collapsed": true
   },
   "outputs": [],
   "source": [
    "for subj_n in DP.protocol_list:\n",
    "    #load the data\n",
    "    subj_filename='./PAMAP2_Dataset/Protocol/subject10'+str(subj_n)+'.dat'\n",
    "    HR_rest,HR_max=DP.HR_lim[subj_n]\n",
    "    dp=DP.dataprocess(subj_filename,HR_rest,HR_max)\n",
    "    np.save('data'+str(subj_n)+'.npy', (dp.feat_labels,dp.data_segmented))\n",
    "    \n",
    "for subj_n in DP.optional_list:\n",
    "    #load the data\n",
    "    subj_filename='./PAMAP2_Dataset/Optional/subject10'+str(subj_n)+'.dat'\n",
    "    HR_rest,HR_max=DP.HR_lim[subj_n]\n",
    "    dp=DP.dataprocess(subj_filename,HR_rest,HR_max)\n",
    "    np.save('odata'+str(subj_n)+'.npy', (dp.feat_labels,dp.data_segmented))"
   ]
  },
  {
   "cell_type": "code",
   "execution_count": 19,
   "metadata": {
    "collapsed": true
   },
   "outputs": [],
   "source": [
    "datalabels=[]\n",
    "for i in DP.protocol_list:\n",
    "    feature_names,datalabelsi=np.load('data'+str(i)+'.npy')\n",
    "    datalabels.append(datalabelsi)\n",
    "for i in DP.optional_list:\n",
    "    feature_names,datalabelsi=np.load('odata'+str(i)+'.npy')\n",
    "    datalabels.append(datalabelsi)"
   ]
  },
  {
   "cell_type": "code",
   "execution_count": 20,
   "metadata": {},
   "outputs": [],
   "source": [
    "# Stack data from different subjects into one chunk:\n",
    "datalabels=np.vstack(datalabels)\n",
    "\n",
    "#shuffle data\n",
    "np.random.shuffle(datalabels)\n",
    "\n",
    "traindata=datalabels[:,:-1]\n",
    "trainlabels=datalabels[:,-1]"
   ]
  },
  {
   "cell_type": "code",
   "execution_count": 21,
   "metadata": {},
   "outputs": [
    {
     "name": "stdout",
     "output_type": "stream",
     "text": [
      "Activities involved in protocol + optional data:\n",
      "1 lying\n",
      "2 sitting\n",
      "3 standing\n",
      "4 walking\n",
      "5 running\n",
      "6 cycling\n",
      "7 nordic walking\n",
      "9 watching TV\n",
      "10 computer work\n",
      "11 car driving\n",
      "12 ascending stairs\n",
      "13 descending stairs\n",
      "16 vacuum cleaning\n",
      "17 ironing\n",
      "18 folding laundry\n",
      "19 house cleaning\n",
      "20 playing_soccer\n",
      "24 rope jumping\n"
     ]
    }
   ],
   "source": [
    "print(\"Activities involved in protocol + optional data:\")\n",
    "for a in np.unique(trainlabels):\n",
    "    print(int(a), DP.activity_dict[a])"
   ]
  },
  {
   "cell_type": "markdown",
   "metadata": {},
   "source": [
    "## Ordinary Classification: (124 features)\n",
    "\n",
    "### (Random Forest)"
   ]
  },
  {
   "cell_type": "code",
   "execution_count": 22,
   "metadata": {
    "collapsed": true
   },
   "outputs": [],
   "source": [
    "from sklearn.model_selection import cross_val_score, train_test_split\n",
    "from sklearn.metrics import confusion_matrix\n",
    "from sklearn.ensemble import RandomForestClassifier"
   ]
  },
  {
   "cell_type": "code",
   "execution_count": 23,
   "metadata": {
    "collapsed": true
   },
   "outputs": [],
   "source": [
    "X=datalabels[:,:-1]\n",
    "y=datalabels[:,-1]\n",
    "X_train, X_test, y_train, y_test = train_test_split(X, y, test_size=0.20, random_state=42)"
   ]
  },
  {
   "cell_type": "markdown",
   "metadata": {},
   "source": [
    "**Testing with test samples:**"
   ]
  },
  {
   "cell_type": "code",
   "execution_count": 24,
   "metadata": {},
   "outputs": [
    {
     "data": {
      "text/plain": [
       "0.98134473377380493"
      ]
     },
     "execution_count": 24,
     "metadata": {},
     "output_type": "execute_result"
    }
   ],
   "source": [
    "cls_rf=RandomForestClassifier(random_state=42)\n",
    "cls_rf.fit(X_train,y_train)\n",
    "cls_rf.score(X_test,y_test)"
   ]
  },
  {
   "cell_type": "markdown",
   "metadata": {},
   "source": [
    "### (GradientBoostingClassifier)"
   ]
  },
  {
   "cell_type": "code",
   "execution_count": 25,
   "metadata": {},
   "outputs": [
    {
     "data": {
      "text/plain": [
       "0.98717450446949084"
      ]
     },
     "execution_count": 25,
     "metadata": {},
     "output_type": "execute_result"
    }
   ],
   "source": [
    "from sklearn.ensemble import GradientBoostingClassifier\n",
    "cls=GradientBoostingClassifier(learning_rate=0.2, n_estimators=75, max_depth=3)\n",
    "cls.fit(X_train,y_train)\n",
    "cls.score(X_test,y_test)"
   ]
  },
  {
   "cell_type": "code",
   "execution_count": 26,
   "metadata": {},
   "outputs": [
    {
     "name": "stdout",
     "output_type": "stream",
     "text": [
      "[[166   0   1   0   0   0   0   0   0   0   0   0   0   0   0   1   0   0]\n",
      " [  0 174   3   0   0   0   0   0   0   0   0   0   0   0   0   1   0   0]\n",
      " [  0   1 164   0   0   0   0   0   0   0   0   0   1   1   0   2   0   0]\n",
      " [  0   0   0 258   0   0   0   0   0   0   0   0   0   0   0   0   0   0]\n",
      " [  0   0   0   0  68   0   0   0   0   0   0   0   0   0   0   0   0   0]\n",
      " [  0   0   0   0   0 143   0   0   0   0   0   0   0   0   0   0   0   0]\n",
      " [  0   0   0   0   0   0 185   0   0   0   0   0   0   0   0   0   0   0]\n",
      " [  0   0   0   0   0   0   0  80   0   0   0   0   0   0   0   0   0   0]\n",
      " [  0   0   0   0   0   0   0   0 321   0   0   0   0   0   0   2   0   0]\n",
      " [  0   0   0   0   0   0   0   0   0  60   0   0   0   0   0   0   0   0]\n",
      " [  0   0   0   3   0   0   0   0   0   0  82   1   0   0   0   0   0   0]\n",
      " [  0   0   0   3   0   0   0   0   0   0   0  61   2   0   0   0   0   0]\n",
      " [  0   0   1   0   0   0   0   0   0   0   1   0 172   0   0   1   0   0]\n",
      " [  0   0   0   0   0   0   0   0   0   0   0   0   0 262   0   0   0   0]\n",
      " [  0   0   0   0   0   0   0   0   0   0   0   0   1   0  96   0   0   0]\n",
      " [  0   0   2   0   0   0   0   0   0   0   0   0   2   0   0 166   0   0]\n",
      " [  0   0   0   0   0   0   0   0   0   0   1   1   0   0   0   0  34   0]\n",
      " [  0   0   0   0   0   0   0   0   0   0   0   1   0   0   0   0   0  48]]\n"
     ]
    }
   ],
   "source": [
    "y_pred=cls.predict(X_test)\n",
    "\n",
    "print(confusion_matrix(y_test, y_pred))"
   ]
  },
  {
   "cell_type": "markdown",
   "metadata": {},
   "source": [
    "## LOSO Classification: (124 features)"
   ]
  },
  {
   "cell_type": "code",
   "execution_count": 14,
   "metadata": {},
   "outputs": [],
   "source": [
    "#check LOSO cross validation!\n",
    "\n",
    "scores=[]\n",
    "for iout in range(9):\n",
    "    pL = DP.protocol_list[:]\n",
    "    index = pL.pop(iout)\n",
    "    \n",
    "    # Prepare for testing:\n",
    "    feature_names,testdatalabels=np.load('data'+str(index)+'.npy')\n",
    "    X_test=testdatalabels[:,:-1]\n",
    "    y_test=testdatalabels[:,-1]\n",
    "    \n",
    "    # Prepare for training:\n",
    "    datalabels=[]\n",
    "    for i in pL:\n",
    "        feature_names,datalabelsi=np.load('data'+str(i)+'.npy')\n",
    "        datalabels.append(datalabelsi)\n",
    "                    \n",
    "    for j in DP.optional_list:\n",
    "        feature_names,datalabelsi=np.load('odata'+str(j)+'.npy')\n",
    "        datalabels.append(datalabelsi)\n",
    "        \n",
    "    datalabels=np.vstack(datalabels)\n",
    "\n",
    "    # Shuffle data\n",
    "    np.random.shuffle(datalabels)\n",
    "    X_train=datalabels[:,:-1]\n",
    "    y_train=datalabels[:,-1]\n",
    "\n",
    "    # Classification:\n",
    "    cls=RandomForestClassifier(random_state=42)\n",
    "    cls.fit(X_train, y_train)\n",
    "    scores.append(cls.score(X_test, y_test))\n",
    "    \n",
    "    \n",
    "for jout in range(5):\n",
    "    oL = DP.optional_list[:]\n",
    "    index = oL.pop(jout)\n",
    "    \n",
    "    # Prepare for testing:\n",
    "    feature_names,testdatalabels=np.load('odata'+str(index)+'.npy')\n",
    "    X_test=testdatalabels[:,:-1]\n",
    "    y_test=testdatalabels[:,-1]\n",
    "    \n",
    "    # Prepare for training:\n",
    "    datalabels=[]\n",
    "    for i in DP.protocol_list:\n",
    "        feature_names,datalabelsi=np.load('data'+str(i)+'.npy')\n",
    "        datalabels.append(datalabelsi)\n",
    "                    \n",
    "    for j in oL:\n",
    "        feature_names,datalabelsi=np.load('odata'+str(j)+'.npy')\n",
    "        datalabels.append(datalabelsi)\n",
    "        \n",
    "    datalabels=np.vstack(datalabels)\n",
    "    \n",
    "    # Shuffle data\n",
    "    np.random.shuffle(datalabels)\n",
    "    X_train=datalabels[:,:-1]\n",
    "    y_train=datalabels[:,-1]\n",
    "\n",
    "    # Classification:\n",
    "    cls=RandomForestClassifier(random_state=42)\n",
    "    cls.fit(X_train, y_train)\n",
    "    scores.append(cls.score(X_test, y_test))\n",
    "    "
   ]
  },
  {
   "cell_type": "code",
   "execution_count": 18,
   "metadata": {},
   "outputs": [
    {
     "name": "stdout",
     "output_type": "stream",
     "text": [
      "Accuracy of LOSO Random Forest Classification:\n",
      "Exclude protocol 1: 0.6418039895923677\n",
      "Exclude protocol 2: 0.7981803143093466\n",
      "Exclude protocol 3: 0.5588599752168525\n",
      "Exclude protocol 4: 0.8124410933081998\n",
      "Exclude protocol 5: 0.5126782884310618\n",
      "Exclude protocol 6: 0.8770562770562771\n",
      "Exclude protocol 7: 0.857278782112274\n",
      "Exclude protocol 8: 0.6602409638554216\n",
      "Exclude protocol 9: 0.043478260869565216\n",
      "Exclude optional 1: 0.0\n",
      "Exclude optional 5: 0.5931232091690545\n",
      "Exclude optional 6: 0.2664233576642336\n",
      "Exclude optional 8: 0.3862433862433862\n",
      "Exclude optional 9: 0.4405506883604506\n"
     ]
    }
   ],
   "source": [
    "print(\"Accuracy of LOSO Random Forest Classification:\")\n",
    "for i in range(9):\n",
    "    print(\"Exclude protocol {}: {}\".format(i+1, scores[i]))\n",
    "for j in range(9, 14):\n",
    "    print(\"Exclude optional {}: {}\".format(DP.optional_list[j-9], scores[j]))"
   ]
  },
  {
   "cell_type": "code",
   "execution_count": null,
   "metadata": {
    "collapsed": true
   },
   "outputs": [],
   "source": []
  },
  {
   "cell_type": "code",
   "execution_count": null,
   "metadata": {
    "collapsed": true
   },
   "outputs": [],
   "source": []
  }
 ],
 "metadata": {
  "kernelspec": {
   "display_name": "Python 3",
   "language": "python",
   "name": "python3"
  },
  "language_info": {
   "codemirror_mode": {
    "name": "ipython",
    "version": 3
   },
   "file_extension": ".py",
   "mimetype": "text/x-python",
   "name": "python",
   "nbconvert_exporter": "python",
   "pygments_lexer": "ipython3",
   "version": "3.6.6"
  }
 },
 "nbformat": 4,
 "nbformat_minor": 2
}
