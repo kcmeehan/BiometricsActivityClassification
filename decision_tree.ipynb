{
 "cells": [
  {
   "cell_type": "code",
   "execution_count": 1,
   "metadata": {},
   "outputs": [],
   "source": [
    "#construct a decision tree classifier. ~99% accuracy from cross validation\n",
    "\n",
    "import numpy as np\n",
    "import matplotlib.pyplot as plt\n",
    "%matplotlib inline\n",
    "from sklearn.tree import DecisionTreeClassifier\n",
    "from sklearn.model_selection import cross_val_score"
   ]
  },
  {
   "cell_type": "code",
   "execution_count": 2,
   "metadata": {},
   "outputs": [],
   "source": [
    "#import feature_extraction\n",
    "\n",
    "#for i in range(1,10):\n",
    "#    feature_extraction.extract(i)\n",
    "#    print(i)"
   ]
  },
  {
   "cell_type": "code",
   "execution_count": 3,
   "metadata": {},
   "outputs": [],
   "source": [
    "datalabels=[]\n",
    "for i in range(1,10):\n",
    "    feature_names,datalabelsi=np.load('data'+str(i)+'.npy')\n",
    "    datalabels.append(datalabelsi)"
   ]
  },
  {
   "cell_type": "code",
   "execution_count": 4,
   "metadata": {},
   "outputs": [
    {
     "data": {
      "text/plain": [
       "[(2142, 99),\n",
       " (2276, 99),\n",
       " (1463, 99),\n",
       " (2007, 99),\n",
       " (2366, 99),\n",
       " (2166, 99),\n",
       " (1994, 99),\n",
       " (2261, 99),\n",
       " (0, 99)]"
      ]
     },
     "execution_count": 4,
     "metadata": {},
     "output_type": "execute_result"
    }
   ],
   "source": [
    "[x.shape for x in datalabels]"
   ]
  },
  {
   "cell_type": "code",
   "execution_count": 5,
   "metadata": {},
   "outputs": [],
   "source": [
    "datalabels=np.vstack(datalabels)"
   ]
  },
  {
   "cell_type": "code",
   "execution_count": 6,
   "metadata": {},
   "outputs": [],
   "source": [
    "#shuffle data\n",
    "np.random.shuffle(datalabels)\n",
    "\n",
    "traindata2=datalabels[:,:98]\n",
    "trainlabels2=datalabels[:,-1]"
   ]
  },
  {
   "cell_type": "code",
   "execution_count": 7,
   "metadata": {},
   "outputs": [
    {
     "data": {
      "text/plain": [
       "array([0.93188354, 0.92188625, 0.92763276])"
      ]
     },
     "execution_count": 7,
     "metadata": {},
     "output_type": "execute_result"
    }
   ],
   "source": [
    "cls=DecisionTreeClassifier(max_depth=8,min_impurity_decrease=0.015,max_leaf_nodes=14)\n",
    "cls.fit(traindata2,trainlabels2)\n",
    "cross_val_score(cls, traindata2, trainlabels2)"
   ]
  },
  {
   "cell_type": "code",
   "execution_count": 8,
   "metadata": {},
   "outputs": [
    {
     "data": {
      "text/plain": [
       "0.9291978609625668"
      ]
     },
     "execution_count": 8,
     "metadata": {},
     "output_type": "execute_result"
    }
   ],
   "source": [
    "cls=DecisionTreeClassifier(max_depth=8,min_impurity_decrease=0.015,max_leaf_nodes=14)\n",
    "cls.fit(traindata2[:12000],trainlabels2[:12000])\n",
    "cls.score(traindata2[12000:],trainlabels2[12000:])"
   ]
  },
  {
   "cell_type": "code",
   "execution_count": 9,
   "metadata": {},
   "outputs": [],
   "source": [
    "y=cls.feature_importances_\n",
    "a=[[feature_names[i],y[i]] for i in range(len(y))]\n",
    "a.sort(key=lambda x:-x[1])"
   ]
  },
  {
   "cell_type": "code",
   "execution_count": 10,
   "metadata": {
    "scrolled": true
   },
   "outputs": [
    {
     "data": {
      "text/plain": [
       "[['ankle_a16_x_mean', 0.2491515885602719],\n",
       " ['hand_a16_freq_0.95', 0.12620836532277435],\n",
       " ['chest_B_y_mean', 0.11213949137408238],\n",
       " ['chest_a16_y_std', 0.09732127558064141],\n",
       " ['hand_a16_x_mean', 0.09365155108139182],\n",
       " ['chest_gyro_y_std', 0.07830206434348332],\n",
       " ['hand_gyro_freq_0.95', 0.077466866547847],\n",
       " ['ankle_a16_x_std', 0.060441632785043525],\n",
       " ['chest_gyro_y_mean', 0.034163653094018434],\n",
       " ['hand_a16_y_std', 0.026443827959731565],\n",
       " ['ankle_gyro_freq_0.5', 0.02282857394543155],\n",
       " ['chest_a16_z_mean', 0.02188110940528279],\n",
       " ['heart_rate_mean', 0.0],\n",
       " ['heart_rate_std', 0.0],\n",
       " ['hand_temp_mean', 0.0],\n",
       " ['hand_temp_std', 0.0],\n",
       " ['hand_a16_x_std', 0.0],\n",
       " ['hand_a16_y_mean', 0.0],\n",
       " ['hand_a16_z_mean', 0.0],\n",
       " ['hand_a16_z_std', 0.0]]"
      ]
     },
     "execution_count": 10,
     "metadata": {},
     "output_type": "execute_result"
    }
   ],
   "source": [
    "a[:20]"
   ]
  },
  {
   "cell_type": "code",
   "execution_count": 11,
   "metadata": {},
   "outputs": [],
   "source": [
    "activity_dict={0:'other',1:'lying',2:'sitting',3:'standing',4:'walking',5:'running',6:'cycling',7:'nordic walking',\n",
    "              9:'watching TV',10:'computer work',11:'car driving',12:'ascending stairs',13:'descending stairs',\n",
    "              16:'vacuum cleaning',17:'ironing',18:'folding laundry',19:'house cleaning',20:'playing_soccer',\n",
    "              24:'rope jumping'}\n",
    "class_name=np.array([activity_dict[i] for i in activity_dict.keys()])[1:]"
   ]
  },
  {
   "cell_type": "code",
   "execution_count": 13,
   "metadata": {},
   "outputs": [
    {
     "data": {
      "text/plain": [
       "True"
      ]
     },
     "execution_count": 13,
     "metadata": {},
     "output_type": "execute_result"
    }
   ],
   "source": [
    "from sklearn import tree\n",
    "from sklearn.externals.six import StringIO\n",
    "import pydotplus   #using pydotplus in windows10, python 3.6.X\n",
    "dot_data = StringIO()\n",
    "\n",
    "tree.export_graphviz(cls, out_file=dot_data, \n",
    "                         feature_names=feature_names,  \n",
    "                         class_names=class_name, \n",
    "                         filled=True, rounded=True,  \n",
    "                         special_characters=True)  \n",
    "graph = pydotplus.graph_from_dot_data(dot_data.getvalue())  \n",
    "graph.write_pdf(\"tree.pdf\")"
   ]
  },
  {
   "cell_type": "code",
   "execution_count": 2,
   "metadata": {},
   "outputs": [
    {
     "name": "stdout",
     "output_type": "stream",
     "text": [
      "a= 14 mean_score= 0.8414311733739998\n"
     ]
    }
   ],
   "source": [
    "#check LOSO cross validation!\n",
    "\n",
    "mean_scores=[]\n",
    "for a in [14]:\n",
    "    scores=[]\n",
    "    for iout in range(1,9):\n",
    "\n",
    "        datalabels=[]\n",
    "        for i in range(1,iout):\n",
    "            feature_names,datalabelsi=np.load('data'+str(i)+'.npy')\n",
    "            datalabels.append(datalabelsi)\n",
    "\n",
    "        for i in range(iout+1,9):\n",
    "            feature_names,datalabelsi=np.load('data'+str(i)+'.npy')\n",
    "            datalabels.append(datalabelsi)\n",
    "\n",
    "        datalabels=np.vstack(datalabels)\n",
    "\n",
    "        feature_names,validdatalabels=np.load('data'+str(iout)+'.npy')\n",
    "        validdata2=validdatalabels[:,:98]\n",
    "        validlabels2=validdatalabels[:,-1]\n",
    "\n",
    "        #shuffle data\n",
    "        np.random.shuffle(datalabels)\n",
    "\n",
    "        traindata2=datalabels[:,:98]\n",
    "        trainlabels2=datalabels[:,-1]\n",
    "\n",
    "        cls=DecisionTreeClassifier(max_depth=8,min_impurity_decrease=0.015,max_leaf_nodes=14)\n",
    "        cls.fit(traindata2,trainlabels2)\n",
    "\n",
    "        scores.append(cls.score(validdata2,validlabels2))\n",
    "    mean_scores.append(np.mean(scores))\n",
    "    print('a=',a,'mean_score=',np.mean(scores))"
   ]
  },
  {
   "cell_type": "code",
   "execution_count": 3,
   "metadata": {},
   "outputs": [
    {
     "data": {
      "text/plain": [
       "[0.8244631185807656,\n",
       " 0.8132688927943761,\n",
       " 0.9084073820915927,\n",
       " 0.7892376681614349,\n",
       " 0.8195266272189349,\n",
       " 0.8291782086795937,\n",
       " 0.9393179538615848,\n",
       " 0.8080495356037152]"
      ]
     },
     "execution_count": 3,
     "metadata": {},
     "output_type": "execute_result"
    }
   ],
   "source": [
    "scores"
   ]
  },
  {
   "cell_type": "code",
   "execution_count": 17,
   "metadata": {},
   "outputs": [],
   "source": [
    "#mean score=0.84 after cross validation for hyperparameters, much worse than before\n",
    "#maybe the overlapping time windows caused contamination between validation and training data"
   ]
  },
  {
   "cell_type": "code",
   "execution_count": 18,
   "metadata": {},
   "outputs": [
    {
     "data": {
      "text/plain": [
       "0.8080495356037152"
      ]
     },
     "execution_count": 18,
     "metadata": {},
     "output_type": "execute_result"
    }
   ],
   "source": [
    "cls.score(validdata2,validlabels2)"
   ]
  },
  {
   "cell_type": "code",
   "execution_count": 19,
   "metadata": {},
   "outputs": [],
   "source": [
    "y_pred=cls.predict(validdata2)"
   ]
  },
  {
   "cell_type": "code",
   "execution_count": 20,
   "metadata": {},
   "outputs": [
    {
     "data": {
      "text/plain": [
       "array([[  0, 216,   0,   0,   0,   0,   0,   0,   0,   0,   0,   0],\n",
       "       [  0, 204,   0,   0,   0,   0,   0,   0,   0,   0,   0,   0],\n",
       "       [ 89,  11, 118,   0,   0,   0,   0,   0,   0,   0,   8,   0],\n",
       "       [  0,   0,   0, 277,   0,   0,  12,   0,   1,   0,   0,   0],\n",
       "       [  1,   0,   0,   0, 139,   0,   0,   0,   0,   0,   0,   0],\n",
       "       [  0,   0,   0,   0,   0, 225,   0,   0,   0,   4,   0,   0],\n",
       "       [  0,   0,   0,   0,   0,   0, 263,   0,   0,   0,   0,   0],\n",
       "       [  0,   0,   0,   0,   0,   0,   0,  61,   4,   0,   0,   0],\n",
       "       [  0,   0,   0,   0,   0,   0,   0,   0,  45,   0,   0,   0],\n",
       "       [  0,   0,   0,   0,   0,  40,   0,   5,   0, 171,   1,   0],\n",
       "       [  0,   2,   0,   0,   0,   0,   0,   0,   0,   3, 299,   0],\n",
       "       [  0,   0,   0,   0,  21,   0,  11,   0,   5,   0,   0,  25]],\n",
       "      dtype=int64)"
      ]
     },
     "execution_count": 20,
     "metadata": {},
     "output_type": "execute_result"
    }
   ],
   "source": [
    "from sklearn.metrics import confusion_matrix\n",
    "confusion_matrix(validlabels2, y_pred)"
   ]
  },
  {
   "cell_type": "code",
   "execution_count": null,
   "metadata": {},
   "outputs": [],
   "source": [
    "#lying misclassfied as sitting\n",
    "#maybe need to recalibrate for each subject, ie. normalize data for a given subject?"
   ]
  },
  {
   "cell_type": "code",
   "execution_count": 23,
   "metadata": {},
   "outputs": [],
   "source": [
    "import matplotlib.pyplot as plt\n",
    "%matplotlib inline"
   ]
  },
  {
   "cell_type": "code",
   "execution_count": 24,
   "metadata": {},
   "outputs": [
    {
     "data": {
      "text/plain": [
       "[<matplotlib.lines.Line2D at 0x20a86510860>]"
      ]
     },
     "execution_count": 24,
     "metadata": {},
     "output_type": "execute_result"
    },
    {
     "data": {
      "image/png": "[encoded data removed]",
      "text/plain": [
       "<Figure size 432x288 with 1 Axes>"
      ]
     },
     "metadata": {},
     "output_type": "display_data"
    }
   ],
   "source": [
    "fig,ax=plt.subplots()\n",
    "j=np.argwhere(np.array(feature_names)=='ankle_a16_y_mean')[0,0]\n",
    "ax.plot(validdata2[:,j])"
   ]
  },
  {
   "cell_type": "code",
   "execution_count": 22,
   "metadata": {},
   "outputs": [
    {
     "data": {
      "text/plain": [
       "True"
      ]
     },
     "execution_count": 22,
     "metadata": {},
     "output_type": "execute_result"
    }
   ],
   "source": [
    "from sklearn import tree\n",
    "from sklearn.externals.six import StringIO\n",
    "import pydotplus   #using pydotplus in windows10, python 3.6.X\n",
    "dot_data = StringIO()\n",
    "\n",
    "tree.export_graphviz(cls, out_file=dot_data, \n",
    "                         feature_names=feature_names,  \n",
    "                         class_names=class_name, \n",
    "                         filled=True, rounded=True,  \n",
    "                         special_characters=True)  \n",
    "graph = pydotplus.graph_from_dot_data(dot_data.getvalue())  \n",
    "graph.write_pdf(\"treeloso.pdf\")"
   ]
  },
  {
   "cell_type": "code",
   "execution_count": 8,
   "metadata": {},
   "outputs": [],
   "source": [
    "from sklearn.model_selection import train_test_split\n",
    "X=datalabels[:,:98]\n",
    "y=datalabels[:,-1]\n",
    "X_train, X_test, y_train, y_test = train_test_split(X, y, test_size=0.20, random_state=42)"
   ]
  },
  {
   "cell_type": "code",
   "execution_count": 9,
   "metadata": {},
   "outputs": [
    {
     "data": {
      "text/plain": [
       "0.9901049475262369"
      ]
     },
     "execution_count": 9,
     "metadata": {},
     "output_type": "execute_result"
    }
   ],
   "source": [
    "cls=DecisionTreeClassifier()\n",
    "cls.fit(X_train,y_train)\n",
    "cls.score(X_test,y_test)"
   ]
  },
  {
   "cell_type": "code",
   "execution_count": null,
   "metadata": {},
   "outputs": [],
   "source": []
  }
 ],
 "metadata": {
  "kernelspec": {
   "display_name": "Python 3",
   "language": "python",
   "name": "python3"
  },
  "language_info": {
   "codemirror_mode": {
    "name": "ipython",
    "version": 3
   },
   "file_extension": ".py",
   "mimetype": "text/x-python",
   "name": "python",
   "nbconvert_exporter": "python",
   "pygments_lexer": "ipython3",
   "version": "3.6.5"
  }
 },
 "nbformat": 4,
 "nbformat_minor": 2
}
