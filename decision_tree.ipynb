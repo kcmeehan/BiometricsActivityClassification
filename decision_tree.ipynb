{
 "cells": [
  {
   "cell_type": "code",
   "execution_count": 1,
   "metadata": {},
   "outputs": [],
   "source": [
    "#construct a decision tree classifier\n",
    "\n",
    "import numpy as np\n",
    "import matplotlib.pyplot as plt\n",
    "%matplotlib inline\n",
    "from sklearn.tree import DecisionTreeClassifier\n",
    "from sklearn.model_selection import cross_val_score\n",
    "import DataProcess as DP"
   ]
  },
  {
   "cell_type": "code",
   "execution_count": 22,
   "metadata": {},
   "outputs": [],
   "source": [
    "for subj_n in range(1,10):\n",
    "    #load the data\n",
    "    subj_filename='./PAMAP2_Dataset/Protocol/subject10'+str(subj_n)+'.dat'\n",
    "    HR_rest,HR_max=DP.HR_lim[subj_n]\n",
    "    dp=DP.dataprocess(subj_filename,HR_rest,HR_max)\n",
    "    np.save('data'+str(subj_n)+'.npy', (dp.feat_labels,dp.data_segmented))"
   ]
  },
  {
   "cell_type": "code",
   "execution_count": 2,
   "metadata": {},
   "outputs": [],
   "source": [
    "datalabels=[]\n",
    "for i in range(1,10):\n",
    "    feature_names,datalabelsi=np.load('data'+str(i)+'.npy')\n",
    "    datalabels.append(datalabelsi)"
   ]
  },
  {
   "cell_type": "code",
   "execution_count": 3,
   "metadata": {},
   "outputs": [
    {
     "data": {
      "text/plain": [
       "[(426, 125),\n",
       " (453, 125),\n",
       " (292, 125),\n",
       " (399, 125),\n",
       " (472, 125),\n",
       " (432, 125),\n",
       " (398, 125),\n",
       " (450, 125),\n",
       " (8, 125)]"
      ]
     },
     "execution_count": 3,
     "metadata": {},
     "output_type": "execute_result"
    }
   ],
   "source": [
    "[x.shape for x in datalabels]"
   ]
  },
  {
   "cell_type": "code",
   "execution_count": 4,
   "metadata": {},
   "outputs": [],
   "source": [
    "datalabels=np.vstack(datalabels)"
   ]
  },
  {
   "cell_type": "code",
   "execution_count": 5,
   "metadata": {},
   "outputs": [],
   "source": [
    "#shuffle data\n",
    "np.random.shuffle(datalabels)\n",
    "\n",
    "traindata=datalabels[:,:-1]\n",
    "trainlabels=datalabels[:,-1]"
   ]
  },
  {
   "cell_type": "code",
   "execution_count": 6,
   "metadata": {},
   "outputs": [
    {
     "data": {
      "text/plain": [
       "array([0.92114695, 0.91974752, 0.91312217])"
      ]
     },
     "execution_count": 6,
     "metadata": {},
     "output_type": "execute_result"
    }
   ],
   "source": [
    "cls=DecisionTreeClassifier(max_depth=8,min_impurity_decrease=0.015,max_leaf_nodes=14)\n",
    "cls.fit(traindata,trainlabels)\n",
    "cross_val_score(cls, traindata, trainlabels)"
   ]
  },
  {
   "cell_type": "code",
   "execution_count": 7,
   "metadata": {},
   "outputs": [],
   "source": [
    "y=cls.feature_importances_\n",
    "a=[[feature_names[i],y[i]] for i in range(len(y))]\n",
    "a.sort(key=lambda x:-x[1])"
   ]
  },
  {
   "cell_type": "code",
   "execution_count": 8,
   "metadata": {
    "scrolled": true
   },
   "outputs": [
    {
     "data": {
      "text/plain": [
       "[['chest_acc16g_y_std', 0.17960622189167386],\n",
       " ['chest_acc16g_z_median', 0.12599495730144245],\n",
       " ['ankle_gyro_z_std', 0.12101871355061071],\n",
       " ['hand_acc16g_y_peak', 0.11612099303923817],\n",
       " ['chest_mag_x_std', 0.10868619219066311],\n",
       " ['hand_acc16g_x_median', 0.09785354603393834],\n",
       " ['ankle_acc16g_x_std', 0.08862562158710628],\n",
       " ['hand_acc16g_z_mean', 0.07119189167660332],\n",
       " ['chest_gyro_y_mean', 0.059735954285815976],\n",
       " ['chest_gyro_x_std', 0.031165908442907713],\n",
       " ['heart_rate_mean', 0.0],\n",
       " ['hand_temp_mean', 0.0],\n",
       " ['hand_acc16g_x_mean', 0.0],\n",
       " ['hand_acc16g_y_mean', 0.0],\n",
       " ['hand_gyro_x_mean', 0.0],\n",
       " ['hand_gyro_y_mean', 0.0],\n",
       " ['hand_gyro_z_mean', 0.0],\n",
       " ['hand_mag_x_mean', 0.0],\n",
       " ['hand_mag_y_mean', 0.0],\n",
       " ['hand_mag_z_mean', 0.0]]"
      ]
     },
     "execution_count": 8,
     "metadata": {},
     "output_type": "execute_result"
    }
   ],
   "source": [
    "a[:20]"
   ]
  },
  {
   "cell_type": "code",
   "execution_count": 9,
   "metadata": {},
   "outputs": [],
   "source": [
    "class_name=[DP.activity_dict[x] for x in np.unique(trainlabels)]"
   ]
  },
  {
   "cell_type": "code",
   "execution_count": 10,
   "metadata": {},
   "outputs": [
    {
     "data": {
      "text/plain": [
       "True"
      ]
     },
     "execution_count": 10,
     "metadata": {},
     "output_type": "execute_result"
    }
   ],
   "source": [
    "from sklearn import tree\n",
    "from sklearn.externals.six import StringIO\n",
    "import pydotplus   #using pydotplus in windows10, python 3.6.X\n",
    "dot_data = StringIO()\n",
    "\n",
    "tree.export_graphviz(cls, out_file=dot_data, \n",
    "                         feature_names=feature_names[:-1],  \n",
    "                         class_names=class_name, \n",
    "                         filled=True, rounded=True,  \n",
    "                         special_characters=True)  \n",
    "graph = pydotplus.graph_from_dot_data(dot_data.getvalue())  \n",
    "graph.write_pdf(\"tree.pdf\")"
   ]
  },
  {
   "cell_type": "code",
   "execution_count": 11,
   "metadata": {},
   "outputs": [
    {
     "name": "stdout",
     "output_type": "stream",
     "text": [
      "a= 14 mean_score= 0.8215223442890454\n"
     ]
    }
   ],
   "source": [
    "#check LOSO cross validation!\n",
    "\n",
    "mean_scores=[]\n",
    "for a in [14]:\n",
    "    scores=[]\n",
    "    for iout in range(1,9):\n",
    "\n",
    "        datalabels=[]\n",
    "        for i in range(1,iout):\n",
    "            feature_names,datalabelsi=np.load('data'+str(i)+'.npy')\n",
    "            datalabels.append(datalabelsi)\n",
    "\n",
    "        for i in range(iout+1,9):\n",
    "            feature_names,datalabelsi=np.load('data'+str(i)+'.npy')\n",
    "            datalabels.append(datalabelsi)\n",
    "\n",
    "        datalabels=np.vstack(datalabels)\n",
    "\n",
    "        feature_names,validdatalabels=np.load('data'+str(iout)+'.npy')\n",
    "        validdata=validdatalabels[:,:-1]\n",
    "        validlabels=validdatalabels[:,-1]\n",
    "\n",
    "        #shuffle data\n",
    "        np.random.shuffle(datalabels)\n",
    "\n",
    "        traindata=datalabels[:,:-1]\n",
    "        trainlabels=datalabels[:,-1]\n",
    "\n",
    "        cls=DecisionTreeClassifier(max_depth=8,min_impurity_decrease=0.015,max_leaf_nodes=14)\n",
    "        cls.fit(traindata,trainlabels)\n",
    "\n",
    "        scores.append(cls.score(validdata,validlabels))\n",
    "    mean_scores.append(np.mean(scores))\n",
    "    print('a=',a,'mean_score=',np.mean(scores))"
   ]
  },
  {
   "cell_type": "code",
   "execution_count": 12,
   "metadata": {},
   "outputs": [
    {
     "data": {
      "text/plain": [
       "[0.8474178403755869,\n",
       " 0.7814569536423841,\n",
       " 0.8904109589041096,\n",
       " 0.7844611528822055,\n",
       " 0.7648305084745762,\n",
       " 0.8055555555555556,\n",
       " 0.8869346733668342,\n",
       " 0.8111111111111111]"
      ]
     },
     "execution_count": 12,
     "metadata": {},
     "output_type": "execute_result"
    }
   ],
   "source": [
    "scores"
   ]
  },
  {
   "cell_type": "code",
   "execution_count": 13,
   "metadata": {},
   "outputs": [],
   "source": [
    "#mean score=0.84 after cross validation for hyperparameters, much worse than before\n",
    "#maybe the overlapping time windows caused contamination between validation and training data"
   ]
  },
  {
   "cell_type": "code",
   "execution_count": 14,
   "metadata": {},
   "outputs": [
    {
     "data": {
      "text/plain": [
       "0.8111111111111111"
      ]
     },
     "execution_count": 14,
     "metadata": {},
     "output_type": "execute_result"
    }
   ],
   "source": [
    "cls.score(validdata,validlabels)"
   ]
  },
  {
   "cell_type": "code",
   "execution_count": 15,
   "metadata": {},
   "outputs": [],
   "source": [
    "y_pred=cls.predict(validdata)"
   ]
  },
  {
   "cell_type": "code",
   "execution_count": 16,
   "metadata": {},
   "outputs": [
    {
     "data": {
      "text/plain": [
       "array([[ 0, 43,  0,  0,  0,  0,  0,  0,  0,  0,  0,  0],\n",
       "       [ 0, 40,  0,  0,  0,  0,  0,  0,  0,  0,  0,  0],\n",
       "       [20,  2, 21,  0,  0,  0,  0,  0,  0,  0,  2,  0],\n",
       "       [ 0,  0,  0, 56,  0,  0,  1,  0,  0,  0,  0,  0],\n",
       "       [ 0,  0,  0,  0, 28,  0,  0,  0,  0,  0,  0,  0],\n",
       "       [ 0,  0,  0,  0,  0, 42,  0,  0,  0,  3,  0,  0],\n",
       "       [ 0,  0,  0,  0,  0,  0, 52,  0,  0,  0,  0,  0],\n",
       "       [ 0,  0,  0,  1,  0,  0,  0, 13,  0,  0,  0,  0],\n",
       "       [ 0,  0,  0,  0,  0,  0,  0,  0, 10,  0,  0,  0],\n",
       "       [ 0,  0,  0,  0,  0,  2,  0,  1,  0, 40,  0,  0],\n",
       "       [ 0,  0,  1,  0,  0,  0,  0,  0,  0,  0, 59,  0],\n",
       "       [ 0,  0,  0,  1,  8,  0,  0,  0,  0,  0,  0,  4]], dtype=int64)"
      ]
     },
     "execution_count": 16,
     "metadata": {},
     "output_type": "execute_result"
    }
   ],
   "source": [
    "from sklearn.metrics import confusion_matrix\n",
    "confusion_matrix(validlabels, y_pred)"
   ]
  },
  {
   "cell_type": "code",
   "execution_count": 17,
   "metadata": {},
   "outputs": [],
   "source": [
    "#lying misclassfied as sitting\n",
    "#maybe need to recalibrate for each subject, ie. normalize data for a given subject?"
   ]
  },
  {
   "cell_type": "code",
   "execution_count": 18,
   "metadata": {},
   "outputs": [],
   "source": [
    "import matplotlib.pyplot as plt\n",
    "%matplotlib inline"
   ]
  },
  {
   "cell_type": "code",
   "execution_count": 19,
   "metadata": {},
   "outputs": [
    {
     "data": {
      "text/plain": [
       "[<matplotlib.lines.Line2D at 0x27f8d7efe10>]"
      ]
     },
     "execution_count": 19,
     "metadata": {},
     "output_type": "execute_result"
    },
    {
     "data": {
      "image/png": "[encoded data removed]",
      "text/plain": [
       "<Figure size 432x288 with 1 Axes>"
      ]
     },
     "metadata": {},
     "output_type": "display_data"
    }
   ],
   "source": [
    "fig,ax=plt.subplots()\n",
    "j=np.argwhere(np.array(feature_names)=='ankle_acc16g_y_mean')[0,0]\n",
    "ax.plot(validdata[:,j])"
   ]
  },
  {
   "cell_type": "code",
   "execution_count": 20,
   "metadata": {},
   "outputs": [],
   "source": [
    "from sklearn.model_selection import train_test_split\n",
    "X=datalabels[:,:98]\n",
    "y=datalabels[:,-1]\n",
    "X_train, X_test, y_train, y_test = train_test_split(X, y, test_size=0.20, random_state=42)"
   ]
  },
  {
   "cell_type": "code",
   "execution_count": 21,
   "metadata": {},
   "outputs": [
    {
     "data": {
      "text/plain": [
       "0.951304347826087"
      ]
     },
     "execution_count": 21,
     "metadata": {},
     "output_type": "execute_result"
    }
   ],
   "source": [
    "cls=DecisionTreeClassifier()\n",
    "cls.fit(X_train,y_train)\n",
    "cls.score(X_test,y_test)"
   ]
  },
  {
   "cell_type": "code",
   "execution_count": null,
   "metadata": {},
   "outputs": [],
   "source": []
  }
 ],
 "metadata": {
  "kernelspec": {
   "display_name": "Python 3",
   "language": "python",
   "name": "python3"
  },
  "language_info": {
   "codemirror_mode": {
    "name": "ipython",
    "version": 3
   },
   "file_extension": ".py",
   "mimetype": "text/x-python",
   "name": "python",
   "nbconvert_exporter": "python",
   "pygments_lexer": "ipython3",
   "version": "3.6.5"
  }
 },
 "nbformat": 4,
 "nbformat_minor": 2
}
