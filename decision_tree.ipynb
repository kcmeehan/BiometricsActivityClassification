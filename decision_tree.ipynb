{
 "cells": [
  {
   "cell_type": "code",
   "execution_count": 131,
   "metadata": {},
   "outputs": [],
   "source": [
    "#construct a decision tree classifier. ~99% accuracy from cross validation\n",
    "\n",
    "import numpy as np\n",
    "import matplotlib.pyplot as plt\n",
    "%matplotlib inline\n",
    "from sklearn.tree import DecisionTreeClassifier\n",
    "from sklearn.model_selection import cross_val_score"
   ]
  },
  {
   "cell_type": "code",
   "execution_count": 132,
   "metadata": {},
   "outputs": [],
   "source": [
    "#import feature_extraction\n",
    "\n",
    "#for i in range(1,10):\n",
    "#    feature_extraction.extract(i)"
   ]
  },
  {
   "cell_type": "code",
   "execution_count": 133,
   "metadata": {},
   "outputs": [],
   "source": [
    "datalabels=[]\n",
    "for i in range(1,10):\n",
    "    feature_names,datalabelsi=np.load('data'+str(i)+'.npy')\n",
    "    datalabels.append(datalabelsi)"
   ]
  },
  {
   "cell_type": "code",
   "execution_count": 134,
   "metadata": {},
   "outputs": [
    {
     "data": {
      "text/plain": [
       "[(2142, 99),\n",
       " (2276, 99),\n",
       " (1463, 99),\n",
       " (2007, 99),\n",
       " (2366, 99),\n",
       " (2166, 99),\n",
       " (1994, 99),\n",
       " (2261, 99),\n",
       " (0, 99)]"
      ]
     },
     "execution_count": 134,
     "metadata": {},
     "output_type": "execute_result"
    }
   ],
   "source": [
    "[x.shape for x in datalabels]"
   ]
  },
  {
   "cell_type": "code",
   "execution_count": 135,
   "metadata": {},
   "outputs": [],
   "source": [
    "datalabels=np.vstack(datalabels)"
   ]
  },
  {
   "cell_type": "code",
   "execution_count": 136,
   "metadata": {},
   "outputs": [],
   "source": [
    "#shuffle data\n",
    "np.random.shuffle(datalabels)\n",
    "\n",
    "traindata2=datalabels[:,:98]\n",
    "trainlabels2=datalabels[:,-1]"
   ]
  },
  {
   "cell_type": "code",
   "execution_count": 149,
   "metadata": {},
   "outputs": [
    {
     "data": {
      "text/plain": [
       "array([0.93368081, 0.91936645, 0.93105311])"
      ]
     },
     "execution_count": 149,
     "metadata": {},
     "output_type": "execute_result"
    }
   ],
   "source": [
    "cls=DecisionTreeClassifier(max_depth=8,min_impurity_decrease=0.015,max_leaf_nodes=14)\n",
    "cls.fit(traindata2,trainlabels2)\n",
    "cross_val_score(cls, traindata2, trainlabels2)"
   ]
  },
  {
   "cell_type": "code",
   "execution_count": 150,
   "metadata": {},
   "outputs": [
    {
     "data": {
      "text/plain": [
       "0.933048128342246"
      ]
     },
     "execution_count": 150,
     "metadata": {},
     "output_type": "execute_result"
    }
   ],
   "source": [
    "cls=DecisionTreeClassifier(max_depth=8,min_impurity_decrease=0.015,max_leaf_nodes=14)\n",
    "cls.fit(traindata2[:12000],trainlabels2[:12000])\n",
    "cls.score(traindata2[12000:],trainlabels2[12000:])"
   ]
  },
  {
   "cell_type": "code",
   "execution_count": 151,
   "metadata": {},
   "outputs": [],
   "source": [
    "y=cls.feature_importances_\n",
    "a=[[feature_names[i],y[i]] for i in range(len(y))]\n",
    "a.sort(key=lambda x:-x[1])"
   ]
  },
  {
   "cell_type": "code",
   "execution_count": 152,
   "metadata": {
    "scrolled": true
   },
   "outputs": [
    {
     "data": {
      "text/plain": [
       "[['ankle_a16_x_mean', 0.24837731226070642],\n",
       " ['hand_a16_freq_0.95', 0.127953395754536],\n",
       " ['chest_B_y_mean', 0.11189243806272797],\n",
       " ['chest_a16_y_std', 0.09765969265000013],\n",
       " ['hand_a16_x_mean', 0.09064985583730832],\n",
       " ['hand_gyro_freq_0.95', 0.07818542784330977],\n",
       " ['chest_gyro_y_std', 0.07808453741036331],\n",
       " ['ankle_a16_x_std', 0.061142158152373054],\n",
       " ['chest_gyro_y_mean', 0.03464807368653122],\n",
       " ['hand_a16_y_std', 0.02667366959992429],\n",
       " ['chest_a16_z_mean', 0.022424359762362775],\n",
       " ['ankle_gyro_freq_0.5', 0.022309078979856588],\n",
       " ['heart_rate_mean', 0.0],\n",
       " ['heart_rate_std', 0.0],\n",
       " ['hand_temp_mean', 0.0],\n",
       " ['hand_temp_std', 0.0],\n",
       " ['hand_a16_x_std', 0.0],\n",
       " ['hand_a16_y_mean', 0.0],\n",
       " ['hand_a16_z_mean', 0.0],\n",
       " ['hand_a16_z_std', 0.0]]"
      ]
     },
     "execution_count": 152,
     "metadata": {},
     "output_type": "execute_result"
    }
   ],
   "source": [
    "a[:20]"
   ]
  },
  {
   "cell_type": "code",
   "execution_count": 146,
   "metadata": {},
   "outputs": [],
   "source": [
    "activity_dict={0:'other',1:'lying',2:'sitting',3:'standing',4:'walking',5:'running',6:'cycling',7:'nordic walking',\n",
    "              9:'watching TV',10:'computer work',11:'car driving',12:'ascending stairs',13:'descending stairs',\n",
    "              16:'vacuum cleaning',17:'ironing',18:'folding laundry',19:'house cleaning',20:'playing_soccer',\n",
    "              24:'rope jumping'}\n",
    "class_name=np.array([activity_dict[i] for i in activity_dict.keys()])[1:]"
   ]
  },
  {
   "cell_type": "code",
   "execution_count": 147,
   "metadata": {},
   "outputs": [
    {
     "data": {
      "image/svg+xml": [
       "<?xml version=\"1.0\" encoding=\"UTF-8\" standalone=\"no\"?>\r\n",
       "<!DOCTYPE svg PUBLIC \"-//W3C//DTD SVG 1.1//EN\"\r\n",
       " \"http://www.w3.org/Graphics/SVG/1.1/DTD/svg11.dtd\">\r\n",
       "<!-- Generated by graphviz version 2.38.0 (20140413.2041)\r\n",
       " -->\r\n",
       "<!-- Title: Tree Pages: 1 -->\r\n",
       "<svg width=\"2132pt\" height=\"984pt\"\r\n",
       " viewBox=\"0.00 0.00 2131.50 984.00\" xmlns=\"http://www.w3.org/2000/svg\" xmlns:xlink=\"http://www.w3.org/1999/xlink\">\r\n",
       "<g id=\"graph0\" class=\"graph\" transform=\"scale(1 1) rotate(0) translate(4 980)\">\r\n",
       "<title>Tree</title>\r\n",
       "<polygon fill=\"white\" stroke=\"none\" points=\"-4,4 -4,-980 2127.5,-980 2127.5,4 -4,4\"/>\r\n",
       "<!-- 0 -->\r\n",
       "<g id=\"node1\" class=\"node\"><title>0</title>\r\n",
       "<path fill=\"none\" stroke=\"black\" d=\"M1256.5,-976C1256.5,-976 879.5,-976 879.5,-976 873.5,-976 867.5,-970 867.5,-964 867.5,-964 867.5,-890 867.5,-890 867.5,-884 873.5,-878 879.5,-878 879.5,-878 1256.5,-878 1256.5,-878 1262.5,-878 1268.5,-884 1268.5,-890 1268.5,-890 1268.5,-964 1268.5,-964 1268.5,-970 1262.5,-976 1256.5,-976\"/>\r\n",
       "<text text-anchor=\"start\" x=\"976\" y=\"-960.8\" font-family=\"Helvetica,sans-Serif\" font-size=\"14.00\">ankle_a16_x_mean ≤ 10.869</text>\r\n",
       "<text text-anchor=\"start\" x=\"1030.5\" y=\"-945.8\" font-family=\"Helvetica,sans-Serif\" font-size=\"14.00\">gini = 0.902</text>\r\n",
       "<text text-anchor=\"start\" x=\"1012\" y=\"-930.8\" font-family=\"Helvetica,sans-Serif\" font-size=\"14.00\">samples = 12000</text>\r\n",
       "<text text-anchor=\"start\" x=\"875.5\" y=\"-915.8\" font-family=\"Helvetica,sans-Serif\" font-size=\"14.00\">value = [1223, 1183, 1210, 1591, 583, 1054, 1239, 558, 434</text>\r\n",
       "<text text-anchor=\"start\" x=\"1013\" y=\"-900.8\" font-family=\"Helvetica,sans-Serif\" font-size=\"14.00\">1114, 1576, 235]</text>\r\n",
       "<text text-anchor=\"start\" x=\"1020.5\" y=\"-885.8\" font-family=\"Helvetica,sans-Serif\" font-size=\"14.00\">class = walking</text>\r\n",
       "</g>\r\n",
       "<!-- 1 -->\r\n",
       "<g id=\"node2\" class=\"node\"><title>1</title>\r\n",
       "<path fill=\"#e5399d\" fill-opacity=\"0.050980\" stroke=\"black\" d=\"M1055,-842C1055,-842 695,-842 695,-842 689,-842 683,-836 683,-830 683,-830 683,-756 683,-756 683,-750 689,-744 695,-744 695,-744 1055,-744 1055,-744 1061,-744 1067,-750 1067,-756 1067,-756 1067,-830 1067,-830 1067,-836 1061,-842 1055,-842\"/>\r\n",
       "<text text-anchor=\"start\" x=\"787\" y=\"-826.8\" font-family=\"Helvetica,sans-Serif\" font-size=\"14.00\">ankle_a16_x_mean ≤ 3.736</text>\r\n",
       "<text text-anchor=\"start\" x=\"837.5\" y=\"-811.8\" font-family=\"Helvetica,sans-Serif\" font-size=\"14.00\">gini = 0.864</text>\r\n",
       "<text text-anchor=\"start\" x=\"823.5\" y=\"-796.8\" font-family=\"Helvetica,sans-Serif\" font-size=\"14.00\">samples = 8404</text>\r\n",
       "<text text-anchor=\"start\" x=\"691\" y=\"-781.8\" font-family=\"Helvetica,sans-Serif\" font-size=\"14.00\">value = [1223, 1183, 1210, 26, 0, 1054, 0, 541, 264, 1114</text>\r\n",
       "<text text-anchor=\"start\" x=\"840\" y=\"-766.8\" font-family=\"Helvetica,sans-Serif\" font-size=\"14.00\">1576, 213]</text>\r\n",
       "<text text-anchor=\"start\" x=\"799\" y=\"-751.8\" font-family=\"Helvetica,sans-Serif\" font-size=\"14.00\">class = ascending stairs</text>\r\n",
       "</g>\r\n",
       "<!-- 0&#45;&gt;1 -->\r\n",
       "<g id=\"edge1\" class=\"edge\"><title>0&#45;&gt;1</title>\r\n",
       "<path fill=\"none\" stroke=\"black\" d=\"M997.777,-877.972C983.541,-868.235 968.48,-857.934 953.966,-848.008\"/>\r\n",
       "<polygon fill=\"black\" stroke=\"black\" points=\"955.725,-844.97 945.495,-842.214 951.773,-850.748 955.725,-844.97\"/>\r\n",
       "<text text-anchor=\"middle\" x=\"950.106\" y=\"-863.085\" font-family=\"Helvetica,sans-Serif\" font-size=\"14.00\">True</text>\r\n",
       "</g>\r\n",
       "<!-- 2 -->\r\n",
       "<g id=\"node21\" class=\"node\"><title>2</title>\r\n",
       "<path fill=\"#47e539\" fill-opacity=\"0.137255\" stroke=\"black\" d=\"M1426.5,-834.5C1426.5,-834.5 1097.5,-834.5 1097.5,-834.5 1091.5,-834.5 1085.5,-828.5 1085.5,-822.5 1085.5,-822.5 1085.5,-763.5 1085.5,-763.5 1085.5,-757.5 1091.5,-751.5 1097.5,-751.5 1097.5,-751.5 1426.5,-751.5 1426.5,-751.5 1432.5,-751.5 1438.5,-757.5 1438.5,-763.5 1438.5,-763.5 1438.5,-822.5 1438.5,-822.5 1438.5,-828.5 1432.5,-834.5 1426.5,-834.5\"/>\r\n",
       "<text text-anchor=\"start\" x=\"1169\" y=\"-819.3\" font-family=\"Helvetica,sans-Serif\" font-size=\"14.00\">hand_a16_freq_0.95 ≤ 2.441</text>\r\n",
       "<text text-anchor=\"start\" x=\"1224.5\" y=\"-804.3\" font-family=\"Helvetica,sans-Serif\" font-size=\"14.00\">gini = 0.663</text>\r\n",
       "<text text-anchor=\"start\" x=\"1210.5\" y=\"-789.3\" font-family=\"Helvetica,sans-Serif\" font-size=\"14.00\">samples = 3596</text>\r\n",
       "<text text-anchor=\"start\" x=\"1093.5\" y=\"-774.3\" font-family=\"Helvetica,sans-Serif\" font-size=\"14.00\">value = [0, 0, 0, 1565, 583, 0, 1239, 17, 170, 0, 0, 22]</text>\r\n",
       "<text text-anchor=\"start\" x=\"1214.5\" y=\"-759.3\" font-family=\"Helvetica,sans-Serif\" font-size=\"14.00\">class = walking</text>\r\n",
       "</g>\r\n",
       "<!-- 0&#45;&gt;2 -->\r\n",
       "<g id=\"edge20\" class=\"edge\"><title>0&#45;&gt;2</title>\r\n",
       "<path fill=\"none\" stroke=\"black\" d=\"M1138.59,-877.972C1156.56,-865.745 1175.83,-852.628 1193.69,-840.481\"/>\r\n",
       "<polygon fill=\"black\" stroke=\"black\" points=\"1196.03,-843.123 1202.33,-834.603 1192.09,-837.335 1196.03,-843.123\"/>\r\n",
       "<text text-anchor=\"middle\" x=\"1197.65\" y=\"-855.463\" font-family=\"Helvetica,sans-Serif\" font-size=\"14.00\">False</text>\r\n",
       "</g>\r\n",
       "<!-- 5 -->\r\n",
       "<g id=\"node3\" class=\"node\"><title>5</title>\r\n",
       "<path fill=\"#e58139\" fill-opacity=\"0.960784\" stroke=\"black\" d=\"M676.5,-693C676.5,-693 413.5,-693 413.5,-693 407.5,-693 401.5,-687 401.5,-681 401.5,-681 401.5,-637 401.5,-637 401.5,-631 407.5,-625 413.5,-625 413.5,-625 676.5,-625 676.5,-625 682.5,-625 688.5,-631 688.5,-637 688.5,-637 688.5,-681 688.5,-681 688.5,-687 682.5,-693 676.5,-693\"/>\r\n",
       "<text text-anchor=\"start\" x=\"507.5\" y=\"-677.8\" font-family=\"Helvetica,sans-Serif\" font-size=\"14.00\">gini = 0.071</text>\r\n",
       "<text text-anchor=\"start\" x=\"493.5\" y=\"-662.8\" font-family=\"Helvetica,sans-Serif\" font-size=\"14.00\">samples = 1270</text>\r\n",
       "<text text-anchor=\"start\" x=\"409.5\" y=\"-647.8\" font-family=\"Helvetica,sans-Serif\" font-size=\"14.00\">value = [1223, 47, 0, 0, 0, 0, 0, 0, 0, 0, 0, 0]</text>\r\n",
       "<text text-anchor=\"start\" x=\"506\" y=\"-632.8\" font-family=\"Helvetica,sans-Serif\" font-size=\"14.00\">class = lying</text>\r\n",
       "</g>\r\n",
       "<!-- 1&#45;&gt;5 -->\r\n",
       "<g id=\"edge2\" class=\"edge\"><title>1&#45;&gt;5</title>\r\n",
       "<path fill=\"none\" stroke=\"black\" d=\"M754.929,-743.972C716.104,-728.442 673.687,-711.475 637.208,-696.883\"/>\r\n",
       "<polygon fill=\"black\" stroke=\"black\" points=\"638.162,-693.495 627.577,-693.031 635.562,-699.994 638.162,-693.495\"/>\r\n",
       "</g>\r\n",
       "<!-- 6 -->\r\n",
       "<g id=\"node4\" class=\"node\"><title>6</title>\r\n",
       "<path fill=\"#e5399d\" fill-opacity=\"0.062745\" stroke=\"black\" d=\"M1053.5,-708C1053.5,-708 718.5,-708 718.5,-708 712.5,-708 706.5,-702 706.5,-696 706.5,-696 706.5,-622 706.5,-622 706.5,-616 712.5,-610 718.5,-610 718.5,-610 1053.5,-610 1053.5,-610 1059.5,-610 1065.5,-616 1065.5,-622 1065.5,-622 1065.5,-696 1065.5,-696 1065.5,-702 1059.5,-708 1053.5,-708\"/>\r\n",
       "<text text-anchor=\"start\" x=\"805\" y=\"-692.8\" font-family=\"Helvetica,sans-Serif\" font-size=\"14.00\">chest_a16_y_std ≤ 0.658</text>\r\n",
       "<text text-anchor=\"start\" x=\"848.5\" y=\"-677.8\" font-family=\"Helvetica,sans-Serif\" font-size=\"14.00\">gini = 0.843</text>\r\n",
       "<text text-anchor=\"start\" x=\"834.5\" y=\"-662.8\" font-family=\"Helvetica,sans-Serif\" font-size=\"14.00\">samples = 7134</text>\r\n",
       "<text text-anchor=\"start\" x=\"714.5\" y=\"-647.8\" font-family=\"Helvetica,sans-Serif\" font-size=\"14.00\">value = [0, 1136, 1210, 26, 0, 1054, 0, 541, 264, 1114</text>\r\n",
       "<text text-anchor=\"start\" x=\"851\" y=\"-632.8\" font-family=\"Helvetica,sans-Serif\" font-size=\"14.00\">1576, 213]</text>\r\n",
       "<text text-anchor=\"start\" x=\"810\" y=\"-617.8\" font-family=\"Helvetica,sans-Serif\" font-size=\"14.00\">class = ascending stairs</text>\r\n",
       "</g>\r\n",
       "<!-- 1&#45;&gt;6 -->\r\n",
       "<g id=\"edge3\" class=\"edge\"><title>1&#45;&gt;6</title>\r\n",
       "<path fill=\"none\" stroke=\"black\" d=\"M879.002,-743.972C879.7,-735.6 880.432,-726.812 881.15,-718.202\"/>\r\n",
       "<polygon fill=\"black\" stroke=\"black\" points=\"884.64,-718.47 881.982,-708.214 877.664,-717.889 884.64,-718.47\"/>\r\n",
       "</g>\r\n",
       "<!-- 7 -->\r\n",
       "<g id=\"node5\" class=\"node\"><title>7</title>\r\n",
       "<path fill=\"#e5399d\" fill-opacity=\"0.109804\" stroke=\"black\" d=\"M769.5,-566.5C769.5,-566.5 448.5,-566.5 448.5,-566.5 442.5,-566.5 436.5,-560.5 436.5,-554.5 436.5,-554.5 436.5,-495.5 436.5,-495.5 436.5,-489.5 442.5,-483.5 448.5,-483.5 448.5,-483.5 769.5,-483.5 769.5,-483.5 775.5,-483.5 781.5,-489.5 781.5,-495.5 781.5,-495.5 781.5,-554.5 781.5,-554.5 781.5,-560.5 775.5,-566.5 769.5,-566.5\"/>\r\n",
       "<text text-anchor=\"start\" x=\"520\" y=\"-551.3\" font-family=\"Helvetica,sans-Serif\" font-size=\"14.00\">hand_a16_x_mean ≤ &#45;6.962</text>\r\n",
       "<text text-anchor=\"start\" x=\"571.5\" y=\"-536.3\" font-family=\"Helvetica,sans-Serif\" font-size=\"14.00\">gini = 0.674</text>\r\n",
       "<text text-anchor=\"start\" x=\"557.5\" y=\"-521.3\" font-family=\"Helvetica,sans-Serif\" font-size=\"14.00\">samples = 3825</text>\r\n",
       "<text text-anchor=\"start\" x=\"444.5\" y=\"-506.3\" font-family=\"Helvetica,sans-Serif\" font-size=\"14.00\">value = [0, 1100, 1183, 0, 0, 19, 0, 0, 0, 54, 1469, 0]</text>\r\n",
       "<text text-anchor=\"start\" x=\"533\" y=\"-491.3\" font-family=\"Helvetica,sans-Serif\" font-size=\"14.00\">class = ascending stairs</text>\r\n",
       "</g>\r\n",
       "<!-- 6&#45;&gt;7 -->\r\n",
       "<g id=\"edge4\" class=\"edge\"><title>6&#45;&gt;7</title>\r\n",
       "<path fill=\"none\" stroke=\"black\" d=\"M785.213,-609.972C758.507,-597.245 729.775,-583.554 703.421,-570.995\"/>\r\n",
       "<polygon fill=\"black\" stroke=\"black\" points=\"704.739,-567.746 694.206,-566.603 701.727,-574.065 704.739,-567.746\"/>\r\n",
       "</g>\r\n",
       "<!-- 8 -->\r\n",
       "<g id=\"node12\" class=\"node\"><title>8</title>\r\n",
       "<path fill=\"#d739e5\" fill-opacity=\"0.011765\" stroke=\"black\" d=\"M1146.5,-574C1146.5,-574 811.5,-574 811.5,-574 805.5,-574 799.5,-568 799.5,-562 799.5,-562 799.5,-488 799.5,-488 799.5,-482 805.5,-476 811.5,-476 811.5,-476 1146.5,-476 1146.5,-476 1152.5,-476 1158.5,-482 1158.5,-488 1158.5,-488 1158.5,-562 1158.5,-562 1158.5,-568 1152.5,-574 1146.5,-574\"/>\r\n",
       "<text text-anchor=\"start\" x=\"880\" y=\"-558.8\" font-family=\"Helvetica,sans-Serif\" font-size=\"14.00\">hand_gyro_freq_0.95 ≤ 12.402</text>\r\n",
       "<text text-anchor=\"start\" x=\"941.5\" y=\"-543.8\" font-family=\"Helvetica,sans-Serif\" font-size=\"14.00\">gini = 0.761</text>\r\n",
       "<text text-anchor=\"start\" x=\"927.5\" y=\"-528.8\" font-family=\"Helvetica,sans-Serif\" font-size=\"14.00\">samples = 3309</text>\r\n",
       "<text text-anchor=\"start\" x=\"807.5\" y=\"-513.8\" font-family=\"Helvetica,sans-Serif\" font-size=\"14.00\">value = [0, 36, 27, 26, 0, 1035, 0, 541, 264, 1060, 107</text>\r\n",
       "<text text-anchor=\"start\" x=\"964.5\" y=\"-498.8\" font-family=\"Helvetica,sans-Serif\" font-size=\"14.00\">213]</text>\r\n",
       "<text text-anchor=\"start\" x=\"922\" y=\"-483.8\" font-family=\"Helvetica,sans-Serif\" font-size=\"14.00\">class = car driving</text>\r\n",
       "</g>\r\n",
       "<!-- 6&#45;&gt;8 -->\r\n",
       "<g id=\"edge11\" class=\"edge\"><title>6&#45;&gt;8</title>\r\n",
       "<path fill=\"none\" stroke=\"black\" d=\"M919.838,-609.972C926.121,-601.054 932.737,-591.663 939.179,-582.52\"/>\r\n",
       "<polygon fill=\"black\" stroke=\"black\" points=\"942.133,-584.405 945.031,-574.214 936.41,-580.373 942.133,-584.405\"/>\r\n",
       "</g>\r\n",
       "<!-- 9 -->\r\n",
       "<g id=\"node6\" class=\"node\"><title>9</title>\r\n",
       "<path fill=\"#9de539\" fill-opacity=\"0.933333\" stroke=\"black\" d=\"M416.5,-425C416.5,-425 153.5,-425 153.5,-425 147.5,-425 141.5,-419 141.5,-413 141.5,-413 141.5,-369 141.5,-369 141.5,-363 147.5,-357 153.5,-357 153.5,-357 416.5,-357 416.5,-357 422.5,-357 428.5,-363 428.5,-369 428.5,-369 428.5,-413 428.5,-413 428.5,-419 422.5,-425 416.5,-425\"/>\r\n",
       "<text text-anchor=\"start\" x=\"247.5\" y=\"-409.8\" font-family=\"Helvetica,sans-Serif\" font-size=\"14.00\">gini = 0.124</text>\r\n",
       "<text text-anchor=\"start\" x=\"233.5\" y=\"-394.8\" font-family=\"Helvetica,sans-Serif\" font-size=\"14.00\">samples = 1035</text>\r\n",
       "<text text-anchor=\"start\" x=\"149.5\" y=\"-379.8\" font-family=\"Helvetica,sans-Serif\" font-size=\"14.00\">value = [0, 33, 968, 0, 0, 0, 0, 0, 0, 27, 7, 0]</text>\r\n",
       "<text text-anchor=\"start\" x=\"233.5\" y=\"-364.8\" font-family=\"Helvetica,sans-Serif\" font-size=\"14.00\">class = standing</text>\r\n",
       "</g>\r\n",
       "<!-- 7&#45;&gt;9 -->\r\n",
       "<g id=\"edge5\" class=\"edge\"><title>7&#45;&gt;9</title>\r\n",
       "<path fill=\"none\" stroke=\"black\" d=\"M509.587,-483.499C466.785,-466.061 417.095,-445.816 375.352,-428.81\"/>\r\n",
       "<polygon fill=\"black\" stroke=\"black\" points=\"376.605,-425.541 366.024,-425.01 373.964,-432.024 376.605,-425.541\"/>\r\n",
       "</g>\r\n",
       "<!-- 10 -->\r\n",
       "<g id=\"node7\" class=\"node\"><title>10</title>\r\n",
       "<path fill=\"#e5399d\" fill-opacity=\"0.227451\" stroke=\"black\" d=\"M771.5,-432.5C771.5,-432.5 458.5,-432.5 458.5,-432.5 452.5,-432.5 446.5,-426.5 446.5,-420.5 446.5,-420.5 446.5,-361.5 446.5,-361.5 446.5,-355.5 452.5,-349.5 458.5,-349.5 458.5,-349.5 771.5,-349.5 771.5,-349.5 777.5,-349.5 783.5,-355.5 783.5,-361.5 783.5,-361.5 783.5,-420.5 783.5,-420.5 783.5,-426.5 777.5,-432.5 771.5,-432.5\"/>\r\n",
       "<text text-anchor=\"start\" x=\"527\" y=\"-417.3\" font-family=\"Helvetica,sans-Serif\" font-size=\"14.00\">chest_B_y_mean ≤ &#45;25.996</text>\r\n",
       "<text text-anchor=\"start\" x=\"577.5\" y=\"-402.3\" font-family=\"Helvetica,sans-Serif\" font-size=\"14.00\">gini = 0.573</text>\r\n",
       "<text text-anchor=\"start\" x=\"563.5\" y=\"-387.3\" font-family=\"Helvetica,sans-Serif\" font-size=\"14.00\">samples = 2790</text>\r\n",
       "<text text-anchor=\"start\" x=\"454.5\" y=\"-372.3\" font-family=\"Helvetica,sans-Serif\" font-size=\"14.00\">value = [0, 1067, 215, 0, 0, 19, 0, 0, 0, 27, 1462, 0]</text>\r\n",
       "<text text-anchor=\"start\" x=\"539\" y=\"-357.3\" font-family=\"Helvetica,sans-Serif\" font-size=\"14.00\">class = ascending stairs</text>\r\n",
       "</g>\r\n",
       "<!-- 7&#45;&gt;10 -->\r\n",
       "<g id=\"edge6\" class=\"edge\"><title>7&#45;&gt;10</title>\r\n",
       "<path fill=\"none\" stroke=\"black\" d=\"M610.849,-483.319C611.431,-470.521 612.081,-456.227 612.69,-442.817\"/>\r\n",
       "<polygon fill=\"black\" stroke=\"black\" points=\"616.189,-442.923 613.147,-432.774 609.196,-442.605 616.189,-442.923\"/>\r\n",
       "</g>\r\n",
       "<!-- 11 -->\r\n",
       "<g id=\"node8\" class=\"node\"><title>11</title>\r\n",
       "<path fill=\"#e5399d\" fill-opacity=\"0.811765\" stroke=\"black\" d=\"M457,-306C457,-306 161,-306 161,-306 155,-306 149,-300 149,-294 149,-294 149,-235 149,-235 149,-229 155,-223 161,-223 161,-223 457,-223 457,-223 463,-223 469,-229 469,-235 469,-235 469,-294 469,-294 469,-300 463,-306 457,-306\"/>\r\n",
       "<text text-anchor=\"start\" x=\"218\" y=\"-290.8\" font-family=\"Helvetica,sans-Serif\" font-size=\"14.00\">chest_a16_z_mean ≤ &#45;0.352</text>\r\n",
       "<text text-anchor=\"start\" x=\"271.5\" y=\"-275.8\" font-family=\"Helvetica,sans-Serif\" font-size=\"14.00\">gini = 0.289</text>\r\n",
       "<text text-anchor=\"start\" x=\"257.5\" y=\"-260.8\" font-family=\"Helvetica,sans-Serif\" font-size=\"14.00\">samples = 1753</text>\r\n",
       "<text text-anchor=\"start\" x=\"157\" y=\"-245.8\" font-family=\"Helvetica,sans-Serif\" font-size=\"14.00\">value = [0, 51, 209, 0, 0, 11, 0, 0, 0, 20, 1462, 0]</text>\r\n",
       "<text text-anchor=\"start\" x=\"233\" y=\"-230.8\" font-family=\"Helvetica,sans-Serif\" font-size=\"14.00\">class = ascending stairs</text>\r\n",
       "</g>\r\n",
       "<!-- 10&#45;&gt;11 -->\r\n",
       "<g id=\"edge7\" class=\"edge\"><title>10&#45;&gt;11</title>\r\n",
       "<path fill=\"none\" stroke=\"black\" d=\"M515.228,-349.406C484.115,-336.748 449.647,-322.724 417.94,-309.824\"/>\r\n",
       "<polygon fill=\"black\" stroke=\"black\" points=\"419.219,-306.565 408.637,-306.039 416.581,-313.049 419.219,-306.565\"/>\r\n",
       "</g>\r\n",
       "<!-- 12 -->\r\n",
       "<g id=\"node11\" class=\"node\"><title>12</title>\r\n",
       "<path fill=\"#e5d739\" fill-opacity=\"0.980392\" stroke=\"black\" d=\"M754.5,-298.5C754.5,-298.5 499.5,-298.5 499.5,-298.5 493.5,-298.5 487.5,-292.5 487.5,-286.5 487.5,-286.5 487.5,-242.5 487.5,-242.5 487.5,-236.5 493.5,-230.5 499.5,-230.5 499.5,-230.5 754.5,-230.5 754.5,-230.5 760.5,-230.5 766.5,-236.5 766.5,-242.5 766.5,-242.5 766.5,-286.5 766.5,-286.5 766.5,-292.5 760.5,-298.5 754.5,-298.5\"/>\r\n",
       "<text text-anchor=\"start\" x=\"593.5\" y=\"-283.3\" font-family=\"Helvetica,sans-Serif\" font-size=\"14.00\">gini = 0.04</text>\r\n",
       "<text text-anchor=\"start\" x=\"575.5\" y=\"-268.3\" font-family=\"Helvetica,sans-Serif\" font-size=\"14.00\">samples = 1037</text>\r\n",
       "<text text-anchor=\"start\" x=\"495.5\" y=\"-253.3\" font-family=\"Helvetica,sans-Serif\" font-size=\"14.00\">value = [0, 1016, 6, 0, 0, 8, 0, 0, 0, 7, 0, 0]</text>\r\n",
       "<text text-anchor=\"start\" x=\"584\" y=\"-238.3\" font-family=\"Helvetica,sans-Serif\" font-size=\"14.00\">class = sitting</text>\r\n",
       "</g>\r\n",
       "<!-- 10&#45;&gt;12 -->\r\n",
       "<g id=\"edge10\" class=\"edge\"><title>10&#45;&gt;12</title>\r\n",
       "<path fill=\"none\" stroke=\"black\" d=\"M618.929,-349.234C620.17,-336.364 621.545,-322.097 622.803,-309.041\"/>\r\n",
       "<polygon fill=\"black\" stroke=\"black\" points=\"626.307,-309.169 623.783,-298.879 619.339,-308.497 626.307,-309.169\"/>\r\n",
       "</g>\r\n",
       "<!-- 23 -->\r\n",
       "<g id=\"node9\" class=\"node\"><title>23</title>\r\n",
       "<path fill=\"#e5399d\" fill-opacity=\"0.933333\" stroke=\"black\" d=\"M292,-179.5C292,-179.5 12,-179.5 12,-179.5 6,-179.5 0,-173.5 0,-167.5 0,-167.5 0,-123.5 0,-123.5 0,-117.5 6,-111.5 12,-111.5 12,-111.5 292,-111.5 292,-111.5 298,-111.5 304,-117.5 304,-123.5 304,-123.5 304,-167.5 304,-167.5 304,-173.5 298,-179.5 292,-179.5\"/>\r\n",
       "<text text-anchor=\"start\" x=\"114.5\" y=\"-164.3\" font-family=\"Helvetica,sans-Serif\" font-size=\"14.00\">gini = 0.119</text>\r\n",
       "<text text-anchor=\"start\" x=\"100.5\" y=\"-149.3\" font-family=\"Helvetica,sans-Serif\" font-size=\"14.00\">samples = 1531</text>\r\n",
       "<text text-anchor=\"start\" x=\"8\" y=\"-134.3\" font-family=\"Helvetica,sans-Serif\" font-size=\"14.00\">value = [0, 0, 65, 0, 0, 11, 0, 0, 0, 20, 1435, 0]</text>\r\n",
       "<text text-anchor=\"start\" x=\"76\" y=\"-119.3\" font-family=\"Helvetica,sans-Serif\" font-size=\"14.00\">class = ascending stairs</text>\r\n",
       "</g>\r\n",
       "<!-- 11&#45;&gt;23 -->\r\n",
       "<g id=\"edge8\" class=\"edge\"><title>11&#45;&gt;23</title>\r\n",
       "<path fill=\"none\" stroke=\"black\" d=\"M254.53,-222.907C238.39,-210.88 220.751,-197.735 204.724,-185.791\"/>\r\n",
       "<polygon fill=\"black\" stroke=\"black\" points=\"206.616,-182.836 196.506,-179.667 202.433,-188.449 206.616,-182.836\"/>\r\n",
       "</g>\r\n",
       "<!-- 24 -->\r\n",
       "<g id=\"node10\" class=\"node\"><title>24</title>\r\n",
       "<path fill=\"#9de539\" fill-opacity=\"0.545098\" stroke=\"black\" d=\"M597.5,-179.5C597.5,-179.5 334.5,-179.5 334.5,-179.5 328.5,-179.5 322.5,-173.5 322.5,-167.5 322.5,-167.5 322.5,-123.5 322.5,-123.5 322.5,-117.5 328.5,-111.5 334.5,-111.5 334.5,-111.5 597.5,-111.5 597.5,-111.5 603.5,-111.5 609.5,-117.5 609.5,-123.5 609.5,-123.5 609.5,-167.5 609.5,-167.5 609.5,-173.5 603.5,-179.5 597.5,-179.5\"/>\r\n",
       "<text text-anchor=\"start\" x=\"428.5\" y=\"-164.3\" font-family=\"Helvetica,sans-Serif\" font-size=\"14.00\">gini = 0.512</text>\r\n",
       "<text text-anchor=\"start\" x=\"418.5\" y=\"-149.3\" font-family=\"Helvetica,sans-Serif\" font-size=\"14.00\">samples = 222</text>\r\n",
       "<text text-anchor=\"start\" x=\"330.5\" y=\"-134.3\" font-family=\"Helvetica,sans-Serif\" font-size=\"14.00\">value = [0, 51, 144, 0, 0, 0, 0, 0, 0, 0, 27, 0]</text>\r\n",
       "<text text-anchor=\"start\" x=\"414.5\" y=\"-119.3\" font-family=\"Helvetica,sans-Serif\" font-size=\"14.00\">class = standing</text>\r\n",
       "</g>\r\n",
       "<!-- 11&#45;&gt;24 -->\r\n",
       "<g id=\"edge9\" class=\"edge\"><title>11&#45;&gt;24</title>\r\n",
       "<path fill=\"none\" stroke=\"black\" d=\"M363.47,-222.907C379.61,-210.88 397.249,-197.735 413.276,-185.791\"/>\r\n",
       "<polygon fill=\"black\" stroke=\"black\" points=\"415.567,-188.449 421.494,-179.667 411.384,-182.836 415.567,-188.449\"/>\r\n",
       "</g>\r\n",
       "<!-- 13 -->\r\n",
       "<g id=\"node13\" class=\"node\"><title>13</title>\r\n",
       "<path fill=\"#d739e5\" fill-opacity=\"0.266667\" stroke=\"black\" d=\"M1135,-440C1135,-440 817,-440 817,-440 811,-440 805,-434 805,-428 805,-428 805,-354 805,-354 805,-348 811,-342 817,-342 817,-342 1135,-342 1135,-342 1141,-342 1147,-348 1147,-354 1147,-354 1147,-428 1147,-428 1147,-434 1141,-440 1135,-440\"/>\r\n",
       "<text text-anchor=\"start\" x=\"896\" y=\"-424.8\" font-family=\"Helvetica,sans-Serif\" font-size=\"14.00\">ankle_a16_x_std ≤ 4.104</text>\r\n",
       "<text text-anchor=\"start\" x=\"938.5\" y=\"-409.8\" font-family=\"Helvetica,sans-Serif\" font-size=\"14.00\">gini = 0.728</text>\r\n",
       "<text text-anchor=\"start\" x=\"924.5\" y=\"-394.8\" font-family=\"Helvetica,sans-Serif\" font-size=\"14.00\">samples = 2305</text>\r\n",
       "<text text-anchor=\"start\" x=\"813\" y=\"-379.8\" font-family=\"Helvetica,sans-Serif\" font-size=\"14.00\">value = [0, 35, 27, 26, 0, 87, 0, 541, 260, 1009, 107</text>\r\n",
       "<text text-anchor=\"start\" x=\"961.5\" y=\"-364.8\" font-family=\"Helvetica,sans-Serif\" font-size=\"14.00\">213]</text>\r\n",
       "<text text-anchor=\"start\" x=\"919\" y=\"-349.8\" font-family=\"Helvetica,sans-Serif\" font-size=\"14.00\">class = car driving</text>\r\n",
       "</g>\r\n",
       "<!-- 8&#45;&gt;13 -->\r\n",
       "<g id=\"edge12\" class=\"edge\"><title>8&#45;&gt;13</title>\r\n",
       "<path fill=\"none\" stroke=\"black\" d=\"M977.908,-475.972C977.72,-467.691 977.523,-459.003 977.329,-450.483\"/>\r\n",
       "<polygon fill=\"black\" stroke=\"black\" points=\"980.822,-450.132 977.096,-440.214 973.824,-450.291 980.822,-450.132\"/>\r\n",
       "</g>\r\n",
       "<!-- 14 -->\r\n",
       "<g id=\"node20\" class=\"node\"><title>14</title>\r\n",
       "<path fill=\"#39e5d7\" fill-opacity=\"0.941176\" stroke=\"black\" d=\"M1432.5,-425C1432.5,-425 1177.5,-425 1177.5,-425 1171.5,-425 1165.5,-419 1165.5,-413 1165.5,-413 1165.5,-369 1165.5,-369 1165.5,-363 1171.5,-357 1177.5,-357 1177.5,-357 1432.5,-357 1432.5,-357 1438.5,-357 1444.5,-363 1444.5,-369 1444.5,-369 1444.5,-413 1444.5,-413 1444.5,-419 1438.5,-425 1432.5,-425\"/>\r\n",
       "<text text-anchor=\"start\" x=\"1267.5\" y=\"-409.8\" font-family=\"Helvetica,sans-Serif\" font-size=\"14.00\">gini = 0.106</text>\r\n",
       "<text text-anchor=\"start\" x=\"1253.5\" y=\"-394.8\" font-family=\"Helvetica,sans-Serif\" font-size=\"14.00\">samples = 1004</text>\r\n",
       "<text text-anchor=\"start\" x=\"1173.5\" y=\"-379.8\" font-family=\"Helvetica,sans-Serif\" font-size=\"14.00\">value = [0, 1, 0, 0, 0, 948, 0, 0, 4, 51, 0, 0]</text>\r\n",
       "<text text-anchor=\"start\" x=\"1258.5\" y=\"-364.8\" font-family=\"Helvetica,sans-Serif\" font-size=\"14.00\">class = cycling</text>\r\n",
       "</g>\r\n",
       "<!-- 8&#45;&gt;14 -->\r\n",
       "<g id=\"edge19\" class=\"edge\"><title>8&#45;&gt;14</title>\r\n",
       "<path fill=\"none\" stroke=\"black\" d=\"M1097.62,-475.972C1135.89,-460.476 1177.69,-443.549 1213.67,-428.978\"/>\r\n",
       "<polygon fill=\"black\" stroke=\"black\" points=\"1215.22,-432.129 1223.18,-425.131 1212.59,-425.64 1215.22,-432.129\"/>\r\n",
       "</g>\r\n",
       "<!-- 17 -->\r\n",
       "<g id=\"node14\" class=\"node\"><title>17</title>\r\n",
       "<path fill=\"#d739e5\" fill-opacity=\"0.788235\" stroke=\"black\" d=\"M1110,-298.5C1110,-298.5 822,-298.5 822,-298.5 816,-298.5 810,-292.5 810,-286.5 810,-286.5 810,-242.5 810,-242.5 810,-236.5 816,-230.5 822,-230.5 822,-230.5 1110,-230.5 1110,-230.5 1116,-230.5 1122,-236.5 1122,-242.5 1122,-242.5 1122,-286.5 1122,-286.5 1122,-292.5 1116,-298.5 1110,-298.5\"/>\r\n",
       "<text text-anchor=\"start\" x=\"928.5\" y=\"-283.3\" font-family=\"Helvetica,sans-Serif\" font-size=\"14.00\">gini = 0.337</text>\r\n",
       "<text text-anchor=\"start\" x=\"914.5\" y=\"-268.3\" font-family=\"Helvetica,sans-Serif\" font-size=\"14.00\">samples = 1238</text>\r\n",
       "<text text-anchor=\"start\" x=\"818\" y=\"-253.3\" font-family=\"Helvetica,sans-Serif\" font-size=\"14.00\">value = [0, 33, 27, 0, 0, 71, 0, 1, 0, 999, 107, 0]</text>\r\n",
       "<text text-anchor=\"start\" x=\"909\" y=\"-238.3\" font-family=\"Helvetica,sans-Serif\" font-size=\"14.00\">class = car driving</text>\r\n",
       "</g>\r\n",
       "<!-- 13&#45;&gt;17 -->\r\n",
       "<g id=\"edge13\" class=\"edge\"><title>13&#45;&gt;17</title>\r\n",
       "<path fill=\"none\" stroke=\"black\" d=\"M972.134,-341.865C971.268,-331.088 970.355,-319.715 969.505,-309.133\"/>\r\n",
       "<polygon fill=\"black\" stroke=\"black\" points=\"972.969,-308.553 968.68,-298.865 965.992,-309.113 972.969,-308.553\"/>\r\n",
       "</g>\r\n",
       "<!-- 18 -->\r\n",
       "<g id=\"node15\" class=\"node\"><title>18</title>\r\n",
       "<path fill=\"#3947e5\" fill-opacity=\"0.345098\" stroke=\"black\" d=\"M1457.5,-306C1457.5,-306 1152.5,-306 1152.5,-306 1146.5,-306 1140.5,-300 1140.5,-294 1140.5,-294 1140.5,-235 1140.5,-235 1140.5,-229 1146.5,-223 1152.5,-223 1152.5,-223 1457.5,-223 1457.5,-223 1463.5,-223 1469.5,-229 1469.5,-235 1469.5,-235 1469.5,-294 1469.5,-294 1469.5,-300 1463.5,-306 1457.5,-306\"/>\r\n",
       "<text text-anchor=\"start\" x=\"1214.5\" y=\"-290.8\" font-family=\"Helvetica,sans-Serif\" font-size=\"14.00\">chest_gyro_y_mean ≤ 0.057</text>\r\n",
       "<text text-anchor=\"start\" x=\"1267.5\" y=\"-275.8\" font-family=\"Helvetica,sans-Serif\" font-size=\"14.00\">gini = 0.644</text>\r\n",
       "<text text-anchor=\"start\" x=\"1253.5\" y=\"-260.8\" font-family=\"Helvetica,sans-Serif\" font-size=\"14.00\">samples = 1067</text>\r\n",
       "<text text-anchor=\"start\" x=\"1148.5\" y=\"-245.8\" font-family=\"Helvetica,sans-Serif\" font-size=\"14.00\">value = [0, 2, 0, 26, 0, 16, 0, 540, 260, 10, 0, 213]</text>\r\n",
       "<text text-anchor=\"start\" x=\"1241.5\" y=\"-230.8\" font-family=\"Helvetica,sans-Serif\" font-size=\"14.00\">class = watching TV</text>\r\n",
       "</g>\r\n",
       "<!-- 13&#45;&gt;18 -->\r\n",
       "<g id=\"edge14\" class=\"edge\"><title>13&#45;&gt;18</title>\r\n",
       "<path fill=\"none\" stroke=\"black\" d=\"M1103.2,-341.865C1131.18,-331.276 1160.69,-320.111 1188.23,-309.687\"/>\r\n",
       "<polygon fill=\"black\" stroke=\"black\" points=\"1189.78,-312.845 1197.89,-306.032 1187.3,-306.298 1189.78,-312.845\"/>\r\n",
       "</g>\r\n",
       "<!-- 19 -->\r\n",
       "<g id=\"node16\" class=\"node\"><title>19</title>\r\n",
       "<path fill=\"#8139e5\" fill-opacity=\"0.149020\" stroke=\"black\" d=\"M1292,-187C1292,-187 1004,-187 1004,-187 998,-187 992,-181 992,-175 992,-175 992,-116 992,-116 992,-110 998,-104 1004,-104 1004,-104 1292,-104 1292,-104 1298,-104 1304,-110 1304,-116 1304,-116 1304,-175 1304,-175 1304,-181 1298,-187 1292,-187\"/>\r\n",
       "<text text-anchor=\"start\" x=\"1056\" y=\"-171.8\" font-family=\"Helvetica,sans-Serif\" font-size=\"14.00\">ankle_gyro_freq_0.5 ≤ 2.441</text>\r\n",
       "<text text-anchor=\"start\" x=\"1110.5\" y=\"-156.8\" font-family=\"Helvetica,sans-Serif\" font-size=\"14.00\">gini = 0.605</text>\r\n",
       "<text text-anchor=\"start\" x=\"1100.5\" y=\"-141.8\" font-family=\"Helvetica,sans-Serif\" font-size=\"14.00\">samples = 536</text>\r\n",
       "<text text-anchor=\"start\" x=\"1000\" y=\"-126.8\" font-family=\"Helvetica,sans-Serif\" font-size=\"14.00\">value = [0, 2, 0, 15, 0, 12, 0, 28, 260, 8, 0, 211]</text>\r\n",
       "<text text-anchor=\"start\" x=\"1077\" y=\"-111.8\" font-family=\"Helvetica,sans-Serif\" font-size=\"14.00\">class = computer work</text>\r\n",
       "</g>\r\n",
       "<!-- 18&#45;&gt;19 -->\r\n",
       "<g id=\"edge15\" class=\"edge\"><title>18&#45;&gt;19</title>\r\n",
       "<path fill=\"none\" stroke=\"black\" d=\"M1250.53,-222.907C1237.62,-213.288 1223.75,-202.953 1210.52,-193.09\"/>\r\n",
       "<polygon fill=\"black\" stroke=\"black\" points=\"1212.48,-190.19 1202.37,-187.021 1208.3,-195.803 1212.48,-190.19\"/>\r\n",
       "</g>\r\n",
       "<!-- 20 -->\r\n",
       "<g id=\"node19\" class=\"node\"><title>20</title>\r\n",
       "<path fill=\"#3947e5\" fill-opacity=\"0.964706\" stroke=\"black\" d=\"M1589.5,-179.5C1589.5,-179.5 1334.5,-179.5 1334.5,-179.5 1328.5,-179.5 1322.5,-173.5 1322.5,-167.5 1322.5,-167.5 1322.5,-123.5 1322.5,-123.5 1322.5,-117.5 1328.5,-111.5 1334.5,-111.5 1334.5,-111.5 1589.5,-111.5 1589.5,-111.5 1595.5,-111.5 1601.5,-117.5 1601.5,-123.5 1601.5,-123.5 1601.5,-167.5 1601.5,-167.5 1601.5,-173.5 1595.5,-179.5 1589.5,-179.5\"/>\r\n",
       "<text text-anchor=\"start\" x=\"1428.5\" y=\"-164.3\" font-family=\"Helvetica,sans-Serif\" font-size=\"14.00\">gini = 0.07</text>\r\n",
       "<text text-anchor=\"start\" x=\"1414.5\" y=\"-149.3\" font-family=\"Helvetica,sans-Serif\" font-size=\"14.00\">samples = 531</text>\r\n",
       "<text text-anchor=\"start\" x=\"1330.5\" y=\"-134.3\" font-family=\"Helvetica,sans-Serif\" font-size=\"14.00\">value = [0, 0, 0, 11, 0, 4, 0, 512, 0, 2, 0, 2]</text>\r\n",
       "<text text-anchor=\"start\" x=\"1398.5\" y=\"-119.3\" font-family=\"Helvetica,sans-Serif\" font-size=\"14.00\">class = watching TV</text>\r\n",
       "</g>\r\n",
       "<!-- 18&#45;&gt;20 -->\r\n",
       "<g id=\"edge18\" class=\"edge\"><title>18&#45;&gt;20</title>\r\n",
       "<path fill=\"none\" stroke=\"black\" d=\"M1359.47,-222.907C1375.61,-210.88 1393.25,-197.735 1409.28,-185.791\"/>\r\n",
       "<polygon fill=\"black\" stroke=\"black\" points=\"1411.57,-188.449 1417.49,-179.667 1407.38,-182.836 1411.57,-188.449\"/>\r\n",
       "</g>\r\n",
       "<!-- 25 -->\r\n",
       "<g id=\"node17\" class=\"node\"><title>25</title>\r\n",
       "<path fill=\"#8139e5\" fill-opacity=\"0.796078\" stroke=\"black\" d=\"M1133,-68C1133,-68 861,-68 861,-68 855,-68 849,-62 849,-56 849,-56 849,-12 849,-12 849,-6 855,-0 861,-0 861,-0 1133,-0 1133,-0 1139,-0 1145,-6 1145,-12 1145,-12 1145,-56 1145,-56 1145,-62 1139,-68 1133,-68\"/>\r\n",
       "<text text-anchor=\"start\" x=\"959.5\" y=\"-52.8\" font-family=\"Helvetica,sans-Serif\" font-size=\"14.00\">gini = 0.334</text>\r\n",
       "<text text-anchor=\"start\" x=\"949.5\" y=\"-37.8\" font-family=\"Helvetica,sans-Serif\" font-size=\"14.00\">samples = 321</text>\r\n",
       "<text text-anchor=\"start\" x=\"857\" y=\"-22.8\" font-family=\"Helvetica,sans-Serif\" font-size=\"14.00\">value = [0, 2, 0, 15, 0, 12, 0, 24, 260, 8, 0, 0]</text>\r\n",
       "<text text-anchor=\"start\" x=\"926\" y=\"-7.8\" font-family=\"Helvetica,sans-Serif\" font-size=\"14.00\">class = computer work</text>\r\n",
       "</g>\r\n",
       "<!-- 19&#45;&gt;25 -->\r\n",
       "<g id=\"edge16\" class=\"edge\"><title>19&#45;&gt;25</title>\r\n",
       "<path fill=\"none\" stroke=\"black\" d=\"M1091.77,-103.726C1078.44,-94.0582 1064.25,-83.767 1051.02,-74.172\"/>\r\n",
       "<polygon fill=\"black\" stroke=\"black\" points=\"1053.07,-71.3368 1042.92,-68.2996 1048.96,-77.0036 1053.07,-71.3368\"/>\r\n",
       "</g>\r\n",
       "<!-- 26 -->\r\n",
       "<g id=\"node18\" class=\"node\"><title>26</title>\r\n",
       "<path fill=\"#e53947\" fill-opacity=\"0.980392\" stroke=\"black\" d=\"M1422.5,-68C1422.5,-68 1175.5,-68 1175.5,-68 1169.5,-68 1163.5,-62 1163.5,-56 1163.5,-56 1163.5,-12 1163.5,-12 1163.5,-6 1169.5,-0 1175.5,-0 1175.5,-0 1422.5,-0 1422.5,-0 1428.5,-0 1434.5,-6 1434.5,-12 1434.5,-12 1434.5,-56 1434.5,-56 1434.5,-62 1428.5,-68 1422.5,-68\"/>\r\n",
       "<text text-anchor=\"start\" x=\"1261.5\" y=\"-52.8\" font-family=\"Helvetica,sans-Serif\" font-size=\"14.00\">gini = 0.037</text>\r\n",
       "<text text-anchor=\"start\" x=\"1251.5\" y=\"-37.8\" font-family=\"Helvetica,sans-Serif\" font-size=\"14.00\">samples = 215</text>\r\n",
       "<text text-anchor=\"start\" x=\"1171.5\" y=\"-22.8\" font-family=\"Helvetica,sans-Serif\" font-size=\"14.00\">value = [0, 0, 0, 0, 0, 0, 0, 4, 0, 0, 0, 211]</text>\r\n",
       "<text text-anchor=\"start\" x=\"1218.5\" y=\"-7.8\" font-family=\"Helvetica,sans-Serif\" font-size=\"14.00\">class = descending stairs</text>\r\n",
       "</g>\r\n",
       "<!-- 19&#45;&gt;26 -->\r\n",
       "<g id=\"edge17\" class=\"edge\"><title>19&#45;&gt;26</title>\r\n",
       "<path fill=\"none\" stroke=\"black\" d=\"M1204.23,-103.726C1217.56,-94.0582 1231.75,-83.767 1244.98,-74.172\"/>\r\n",
       "<polygon fill=\"black\" stroke=\"black\" points=\"1247.04,-77.0036 1253.08,-68.2996 1242.93,-71.3368 1247.04,-77.0036\"/>\r\n",
       "</g>\r\n",
       "<!-- 3 -->\r\n",
       "<g id=\"node22\" class=\"node\"><title>3</title>\r\n",
       "<path fill=\"#47e539\" fill-opacity=\"0.972549\" stroke=\"black\" d=\"M1388,-693C1388,-693 1116,-693 1116,-693 1110,-693 1104,-687 1104,-681 1104,-681 1104,-637 1104,-637 1104,-631 1110,-625 1116,-625 1116,-625 1388,-625 1388,-625 1394,-625 1400,-631 1400,-637 1400,-637 1400,-681 1400,-681 1400,-687 1394,-693 1388,-693\"/>\r\n",
       "<text text-anchor=\"start\" x=\"1214.5\" y=\"-677.8\" font-family=\"Helvetica,sans-Serif\" font-size=\"14.00\">gini = 0.056</text>\r\n",
       "<text text-anchor=\"start\" x=\"1200.5\" y=\"-662.8\" font-family=\"Helvetica,sans-Serif\" font-size=\"14.00\">samples = 1583</text>\r\n",
       "<text text-anchor=\"start\" x=\"1112\" y=\"-647.8\" font-family=\"Helvetica,sans-Serif\" font-size=\"14.00\">value = [0, 0, 0, 1538, 0, 0, 23, 15, 7, 0, 0, 0]</text>\r\n",
       "<text text-anchor=\"start\" x=\"1204.5\" y=\"-632.8\" font-family=\"Helvetica,sans-Serif\" font-size=\"14.00\">class = walking</text>\r\n",
       "</g>\r\n",
       "<!-- 2&#45;&gt;3 -->\r\n",
       "<g id=\"edge21\" class=\"edge\"><title>2&#45;&gt;3</title>\r\n",
       "<path fill=\"none\" stroke=\"black\" d=\"M1258.92,-751.319C1257.77,-736.178 1256.47,-718.942 1255.3,-703.554\"/>\r\n",
       "<polygon fill=\"black\" stroke=\"black\" points=\"1258.76,-702.951 1254.52,-693.244 1251.78,-703.48 1258.76,-702.951\"/>\r\n",
       "</g>\r\n",
       "<!-- 4 -->\r\n",
       "<g id=\"node23\" class=\"node\"><title>4</title>\r\n",
       "<path fill=\"#399de5\" fill-opacity=\"0.443137\" stroke=\"black\" d=\"M1735.5,-700.5C1735.5,-700.5 1430.5,-700.5 1430.5,-700.5 1424.5,-700.5 1418.5,-694.5 1418.5,-688.5 1418.5,-688.5 1418.5,-629.5 1418.5,-629.5 1418.5,-623.5 1424.5,-617.5 1430.5,-617.5 1430.5,-617.5 1735.5,-617.5 1735.5,-617.5 1741.5,-617.5 1747.5,-623.5 1747.5,-629.5 1747.5,-629.5 1747.5,-688.5 1747.5,-688.5 1747.5,-694.5 1741.5,-700.5 1735.5,-700.5\"/>\r\n",
       "<text text-anchor=\"start\" x=\"1500\" y=\"-685.3\" font-family=\"Helvetica,sans-Serif\" font-size=\"14.00\">chest_gyro_y_std ≤ 0.647</text>\r\n",
       "<text text-anchor=\"start\" x=\"1545.5\" y=\"-670.3\" font-family=\"Helvetica,sans-Serif\" font-size=\"14.00\">gini = 0.544</text>\r\n",
       "<text text-anchor=\"start\" x=\"1531.5\" y=\"-655.3\" font-family=\"Helvetica,sans-Serif\" font-size=\"14.00\">samples = 2013</text>\r\n",
       "<text text-anchor=\"start\" x=\"1426.5\" y=\"-640.3\" font-family=\"Helvetica,sans-Serif\" font-size=\"14.00\">value = [0, 0, 0, 27, 583, 0, 1216, 2, 163, 0, 0, 22]</text>\r\n",
       "<text text-anchor=\"start\" x=\"1514\" y=\"-625.3\" font-family=\"Helvetica,sans-Serif\" font-size=\"14.00\">class = nordic walking</text>\r\n",
       "</g>\r\n",
       "<!-- 2&#45;&gt;4 -->\r\n",
       "<g id=\"edge22\" class=\"edge\"><title>2&#45;&gt;4</title>\r\n",
       "<path fill=\"none\" stroke=\"black\" d=\"M1360.49,-751.499C1396.77,-736.583 1438.03,-719.613 1475.09,-704.373\"/>\r\n",
       "<polygon fill=\"black\" stroke=\"black\" points=\"1476.5,-707.579 1484.42,-700.538 1473.84,-701.105 1476.5,-707.579\"/>\r\n",
       "</g>\r\n",
       "<!-- 15 -->\r\n",
       "<g id=\"node24\" class=\"node\"><title>15</title>\r\n",
       "<path fill=\"#399de5\" fill-opacity=\"0.960784\" stroke=\"black\" d=\"M1626,-559C1626,-559 1354,-559 1354,-559 1348,-559 1342,-553 1342,-547 1342,-547 1342,-503 1342,-503 1342,-497 1348,-491 1354,-491 1354,-491 1626,-491 1626,-491 1632,-491 1638,-497 1638,-503 1638,-503 1638,-547 1638,-547 1638,-553 1632,-559 1626,-559\"/>\r\n",
       "<text text-anchor=\"start\" x=\"1452.5\" y=\"-543.8\" font-family=\"Helvetica,sans-Serif\" font-size=\"14.00\">gini = 0.071</text>\r\n",
       "<text text-anchor=\"start\" x=\"1438.5\" y=\"-528.8\" font-family=\"Helvetica,sans-Serif\" font-size=\"14.00\">samples = 1256</text>\r\n",
       "<text text-anchor=\"start\" x=\"1350\" y=\"-513.8\" font-family=\"Helvetica,sans-Serif\" font-size=\"14.00\">value = [0, 0, 0, 27, 0, 0, 1210, 0, 1, 0, 0, 18]</text>\r\n",
       "<text text-anchor=\"start\" x=\"1421\" y=\"-498.8\" font-family=\"Helvetica,sans-Serif\" font-size=\"14.00\">class = nordic walking</text>\r\n",
       "</g>\r\n",
       "<!-- 4&#45;&gt;15 -->\r\n",
       "<g id=\"edge23\" class=\"edge\"><title>4&#45;&gt;15</title>\r\n",
       "<path fill=\"none\" stroke=\"black\" d=\"M1554.34,-617.319C1543.26,-601.595 1530.59,-583.613 1519.44,-567.786\"/>\r\n",
       "<polygon fill=\"black\" stroke=\"black\" points=\"1522.04,-565.403 1513.42,-559.244 1516.32,-569.435 1522.04,-565.403\"/>\r\n",
       "</g>\r\n",
       "<!-- 16 -->\r\n",
       "<g id=\"node25\" class=\"node\"><title>16</title>\r\n",
       "<path fill=\"#39e581\" fill-opacity=\"0.705882\" stroke=\"black\" d=\"M1931.5,-566.5C1931.5,-566.5 1668.5,-566.5 1668.5,-566.5 1662.5,-566.5 1656.5,-560.5 1656.5,-554.5 1656.5,-554.5 1656.5,-495.5 1656.5,-495.5 1656.5,-489.5 1662.5,-483.5 1668.5,-483.5 1668.5,-483.5 1931.5,-483.5 1931.5,-483.5 1937.5,-483.5 1943.5,-489.5 1943.5,-495.5 1943.5,-495.5 1943.5,-554.5 1943.5,-554.5 1943.5,-560.5 1937.5,-566.5 1931.5,-566.5\"/>\r\n",
       "<text text-anchor=\"start\" x=\"1721\" y=\"-551.3\" font-family=\"Helvetica,sans-Serif\" font-size=\"14.00\">hand_a16_y_std ≤ 9.271</text>\r\n",
       "<text text-anchor=\"start\" x=\"1762.5\" y=\"-536.3\" font-family=\"Helvetica,sans-Serif\" font-size=\"14.00\">gini = 0.361</text>\r\n",
       "<text text-anchor=\"start\" x=\"1752.5\" y=\"-521.3\" font-family=\"Helvetica,sans-Serif\" font-size=\"14.00\">samples = 757</text>\r\n",
       "<text text-anchor=\"start\" x=\"1664.5\" y=\"-506.3\" font-family=\"Helvetica,sans-Serif\" font-size=\"14.00\">value = [0, 0, 0, 0, 583, 0, 6, 2, 162, 0, 0, 4]</text>\r\n",
       "<text text-anchor=\"start\" x=\"1752.5\" y=\"-491.3\" font-family=\"Helvetica,sans-Serif\" font-size=\"14.00\">class = running</text>\r\n",
       "</g>\r\n",
       "<!-- 4&#45;&gt;16 -->\r\n",
       "<g id=\"edge24\" class=\"edge\"><title>4&#45;&gt;16</title>\r\n",
       "<path fill=\"none\" stroke=\"black\" d=\"M1649.58,-617.499C1673.22,-603.122 1699.99,-586.838 1724.32,-572.033\"/>\r\n",
       "<polygon fill=\"black\" stroke=\"black\" points=\"1726.45,-574.839 1733.17,-566.652 1722.81,-568.859 1726.45,-574.839\"/>\r\n",
       "</g>\r\n",
       "<!-- 21 -->\r\n",
       "<g id=\"node26\" class=\"node\"><title>21</title>\r\n",
       "<path fill=\"#8139e5\" fill-opacity=\"0.929412\" stroke=\"black\" d=\"M1822.5,-425C1822.5,-425 1575.5,-425 1575.5,-425 1569.5,-425 1563.5,-419 1563.5,-413 1563.5,-413 1563.5,-369 1563.5,-369 1563.5,-363 1569.5,-357 1575.5,-357 1575.5,-357 1822.5,-357 1822.5,-357 1828.5,-357 1834.5,-363 1834.5,-369 1834.5,-369 1834.5,-413 1834.5,-413 1834.5,-419 1828.5,-425 1822.5,-425\"/>\r\n",
       "<text text-anchor=\"start\" x=\"1661.5\" y=\"-409.8\" font-family=\"Helvetica,sans-Serif\" font-size=\"14.00\">gini = 0.131</text>\r\n",
       "<text text-anchor=\"start\" x=\"1651.5\" y=\"-394.8\" font-family=\"Helvetica,sans-Serif\" font-size=\"14.00\">samples = 174</text>\r\n",
       "<text text-anchor=\"start\" x=\"1571.5\" y=\"-379.8\" font-family=\"Helvetica,sans-Serif\" font-size=\"14.00\">value = [0, 0, 0, 0, 0, 0, 6, 2, 162, 0, 0, 4]</text>\r\n",
       "<text text-anchor=\"start\" x=\"1628\" y=\"-364.8\" font-family=\"Helvetica,sans-Serif\" font-size=\"14.00\">class = computer work</text>\r\n",
       "</g>\r\n",
       "<!-- 16&#45;&gt;21 -->\r\n",
       "<g id=\"edge25\" class=\"edge\"><title>16&#45;&gt;21</title>\r\n",
       "<path fill=\"none\" stroke=\"black\" d=\"M1768.87,-483.319C1756.73,-467.45 1742.83,-449.279 1730.64,-433.347\"/>\r\n",
       "<polygon fill=\"black\" stroke=\"black\" points=\"1733.29,-431.059 1724.44,-425.244 1727.73,-435.313 1733.29,-431.059\"/>\r\n",
       "</g>\r\n",
       "<!-- 22 -->\r\n",
       "<g id=\"node27\" class=\"node\"><title>22</title>\r\n",
       "<path fill=\"#39e581\" stroke=\"black\" d=\"M2111.5,-425C2111.5,-425 1864.5,-425 1864.5,-425 1858.5,-425 1852.5,-419 1852.5,-413 1852.5,-413 1852.5,-369 1852.5,-369 1852.5,-363 1858.5,-357 1864.5,-357 1864.5,-357 2111.5,-357 2111.5,-357 2117.5,-357 2123.5,-363 2123.5,-369 2123.5,-369 2123.5,-413 2123.5,-413 2123.5,-419 2117.5,-425 2111.5,-425\"/>\r\n",
       "<text text-anchor=\"start\" x=\"1959\" y=\"-409.8\" font-family=\"Helvetica,sans-Serif\" font-size=\"14.00\">gini = 0.0</text>\r\n",
       "<text text-anchor=\"start\" x=\"1940.5\" y=\"-394.8\" font-family=\"Helvetica,sans-Serif\" font-size=\"14.00\">samples = 583</text>\r\n",
       "<text text-anchor=\"start\" x=\"1860.5\" y=\"-379.8\" font-family=\"Helvetica,sans-Serif\" font-size=\"14.00\">value = [0, 0, 0, 0, 583, 0, 0, 0, 0, 0, 0, 0]</text>\r\n",
       "<text text-anchor=\"start\" x=\"1940.5\" y=\"-364.8\" font-family=\"Helvetica,sans-Serif\" font-size=\"14.00\">class = running</text>\r\n",
       "</g>\r\n",
       "<!-- 16&#45;&gt;22 -->\r\n",
       "<g id=\"edge26\" class=\"edge\"><title>16&#45;&gt;22</title>\r\n",
       "<path fill=\"none\" stroke=\"black\" d=\"M1857.68,-483.499C1881.43,-466.827 1908.83,-447.59 1932.35,-431.071\"/>\r\n",
       "<polygon fill=\"black\" stroke=\"black\" points=\"1934.66,-433.728 1940.83,-425.117 1930.64,-427.999 1934.66,-433.728\"/>\r\n",
       "</g>\r\n",
       "</g>\r\n",
       "</svg>\r\n"
      ],
      "text/plain": [
       "<graphviz.files.Source at 0x1c75982e470>"
      ]
     },
     "execution_count": 147,
     "metadata": {},
     "output_type": "execute_result"
    }
   ],
   "source": [
    "from sklearn import tree\n",
    "import graphviz\n",
    "dot_data = tree.export_graphviz(cls, out_file=None, \n",
    "                         feature_names=feature_names,  \n",
    "                         class_names=class_name,  \n",
    "                         filled=True, rounded=True,  \n",
    "                         special_characters=True)  \n",
    "graph = graphviz.Source(dot_data)  \n",
    "graph"
   ]
  },
  {
   "cell_type": "code",
   "execution_count": 148,
   "metadata": {},
   "outputs": [
    {
     "data": {
      "text/plain": [
       "True"
      ]
     },
     "execution_count": 148,
     "metadata": {},
     "output_type": "execute_result"
    }
   ],
   "source": [
    "from sklearn import tree\n",
    "from sklearn.externals.six import StringIO\n",
    "import pydotplus   #using pydotplus in windows10, python 3.6.X\n",
    "dot_data = StringIO()\n",
    "\n",
    "tree.export_graphviz(cls, out_file=dot_data, \n",
    "                         feature_names=feature_names,  \n",
    "                         class_names=class_name, \n",
    "                         filled=True, rounded=True,  \n",
    "                         special_characters=True)  \n",
    "graph = pydotplus.graph_from_dot_data(dot_data.getvalue())  \n",
    "graph.write_pdf(\"tree.pdf\")"
   ]
  },
  {
   "cell_type": "code",
   "execution_count": 153,
   "metadata": {},
   "outputs": [
    {
     "name": "stdout",
     "output_type": "stream",
     "text": [
      "a= 14 mean_score= 0.8415465935032703\n"
     ]
    }
   ],
   "source": [
    "#check LOSO cross validation!\n",
    "mean_scores=[]\n",
    "for a in [14]:\n",
    "    scores=[]\n",
    "    for iout in range(1,9):\n",
    "\n",
    "        datalabels=[]\n",
    "        for i in range(1,iout):\n",
    "            feature_names,datalabelsi=np.load('data'+str(i)+'.npy')\n",
    "            datalabels.append(datalabelsi)\n",
    "\n",
    "        for i in range(iout+1,9):\n",
    "            feature_names,datalabelsi=np.load('data'+str(i)+'.npy')\n",
    "            datalabels.append(datalabelsi)\n",
    "\n",
    "        datalabels=np.vstack(datalabels)\n",
    "\n",
    "        feature_names,validdatalabels=np.load('data'+str(iout)+'.npy')\n",
    "        validdata2=validdatalabels[:,:98]\n",
    "        validlabels2=validdatalabels[:,-1]\n",
    "\n",
    "        #shuffle data\n",
    "        np.random.shuffle(datalabels)\n",
    "\n",
    "        traindata2=datalabels[:,:98]\n",
    "        trainlabels2=datalabels[:,-1]\n",
    "\n",
    "        cls=DecisionTreeClassifier(max_depth=8,min_impurity_decrease=0.015,max_leaf_nodes=a)\n",
    "        cls.fit(traindata2,trainlabels2)\n",
    "\n",
    "        scores.append(cls.score(validdata2,validlabels2))\n",
    "    mean_scores.append(np.mean(scores))\n",
    "    print('a=',a,'mean_score=',np.mean(scores))"
   ]
  },
  {
   "cell_type": "code",
   "execution_count": 154,
   "metadata": {},
   "outputs": [
    {
     "data": {
      "text/plain": [
       "[0.8244631185807656,\n",
       " 0.8132688927943761,\n",
       " 0.9084073820915927,\n",
       " 0.7892376681614349,\n",
       " 0.8195266272189349,\n",
       " 0.830101569713758,\n",
       " 0.9393179538615848,\n",
       " 0.8080495356037152]"
      ]
     },
     "execution_count": 154,
     "metadata": {},
     "output_type": "execute_result"
    }
   ],
   "source": [
    "scores"
   ]
  },
  {
   "cell_type": "code",
   "execution_count": 100,
   "metadata": {},
   "outputs": [],
   "source": [
    "#mean score=0.84 after cross validation for hyperparameters, much worse than before\n",
    "#maybe the overlapping time windows caused contamination between validation and training data"
   ]
  },
  {
   "cell_type": "code",
   "execution_count": 121,
   "metadata": {},
   "outputs": [
    {
     "data": {
      "text/plain": [
       "0.8080495356037152"
      ]
     },
     "execution_count": 121,
     "metadata": {},
     "output_type": "execute_result"
    }
   ],
   "source": [
    "cls.score(validdata2,validlabels2)"
   ]
  },
  {
   "cell_type": "code",
   "execution_count": 122,
   "metadata": {},
   "outputs": [],
   "source": [
    "y_pred=cls.predict(validdata2)"
   ]
  },
  {
   "cell_type": "code",
   "execution_count": 123,
   "metadata": {},
   "outputs": [
    {
     "data": {
      "text/plain": [
       "array([[  0, 216,   0,   0,   0,   0,   0,   0,   0,   0,   0,   0],\n",
       "       [  0, 204,   0,   0,   0,   0,   0,   0,   0,   0,   0,   0],\n",
       "       [ 89,  11, 118,   0,   0,   0,   0,   0,   0,   0,   8,   0],\n",
       "       [  0,   0,   0, 277,   0,   0,  12,   0,   1,   0,   0,   0],\n",
       "       [  1,   0,   0,   0, 139,   0,   0,   0,   0,   0,   0,   0],\n",
       "       [  0,   0,   0,   0,   0, 225,   0,   0,   0,   4,   0,   0],\n",
       "       [  0,   0,   0,   0,   0,   0, 263,   0,   0,   0,   0,   0],\n",
       "       [  0,   0,   0,   0,   0,   0,   0,  61,   4,   0,   0,   0],\n",
       "       [  0,   0,   0,   0,   0,   0,   0,   0,  45,   0,   0,   0],\n",
       "       [  0,   0,   0,   0,   0,  40,   0,   5,   0, 171,   1,   0],\n",
       "       [  0,   2,   0,   0,   0,   0,   0,   0,   0,   3, 299,   0],\n",
       "       [  0,   0,   0,   0,  21,   0,  11,   0,   5,   0,   0,  25]],\n",
       "      dtype=int64)"
      ]
     },
     "execution_count": 123,
     "metadata": {},
     "output_type": "execute_result"
    }
   ],
   "source": [
    "from sklearn.metrics import confusion_matrix\n",
    "confusion_matrix(validlabels2, y_pred)"
   ]
  },
  {
   "cell_type": "code",
   "execution_count": 65,
   "metadata": {},
   "outputs": [
    {
     "data": {
      "text/plain": [
       "array(['lying', 'sitting', 'standing', 'walking', 'running', 'cycling',\n",
       "       'nordic walking', 'watching TV', 'computer work', 'car driving',\n",
       "       'ascending stairs', 'descending stairs', 'vacuum cleaning',\n",
       "       'ironing', 'folding laundry', 'house cleaning', 'playing_soccer',\n",
       "       'rope jumping'], dtype='<U17')"
      ]
     },
     "execution_count": 65,
     "metadata": {},
     "output_type": "execute_result"
    }
   ],
   "source": [
    "class_name"
   ]
  },
  {
   "cell_type": "code",
   "execution_count": null,
   "metadata": {},
   "outputs": [],
   "source": [
    "#lying misclassfied as sitting\n",
    "#maybe need to recalibrate for each subject, ie. normalize data for a given subject?"
   ]
  },
  {
   "cell_type": "code",
   "execution_count": 76,
   "metadata": {},
   "outputs": [],
   "source": [
    "import matplotlib.pyplot as plt\n",
    "%matplotlib inline"
   ]
  },
  {
   "cell_type": "code",
   "execution_count": 126,
   "metadata": {},
   "outputs": [
    {
     "data": {
      "text/plain": [
       "[<matplotlib.lines.Line2D at 0x1c75fe6f2b0>]"
      ]
     },
     "execution_count": 126,
     "metadata": {},
     "output_type": "execute_result"
    },
    {
     "data": {
      "image/png": "[encoded data removed]",
      "text/plain": [
       "<Figure size 432x288 with 1 Axes>"
      ]
     },
     "metadata": {},
     "output_type": "display_data"
    }
   ],
   "source": [
    "fig,ax=plt.subplots()\n",
    "j=np.argwhere(np.array(feature_names)=='ankle_a16_y_mean')[0,0]\n",
    "ax.plot(validdata2[:,j])"
   ]
  },
  {
   "cell_type": "code",
   "execution_count": 155,
   "metadata": {},
   "outputs": [
    {
     "data": {
      "text/plain": [
       "True"
      ]
     },
     "execution_count": 155,
     "metadata": {},
     "output_type": "execute_result"
    }
   ],
   "source": [
    "from sklearn import tree\n",
    "from sklearn.externals.six import StringIO\n",
    "import pydotplus   #using pydotplus in windows10, python 3.6.X\n",
    "dot_data = StringIO()\n",
    "\n",
    "tree.export_graphviz(cls, out_file=dot_data, \n",
    "                         feature_names=feature_names,  \n",
    "                         class_names=class_name, \n",
    "                         filled=True, rounded=True,  \n",
    "                         special_characters=True)  \n",
    "graph = pydotplus.graph_from_dot_data(dot_data.getvalue())  \n",
    "graph.write_pdf(\"treeloso.pdf\")"
   ]
  },
  {
   "cell_type": "code",
   "execution_count": null,
   "metadata": {},
   "outputs": [],
   "source": []
  }
 ],
 "metadata": {
  "kernelspec": {
   "display_name": "Python 3",
   "language": "python",
   "name": "python3"
  },
  "language_info": {
   "codemirror_mode": {
    "name": "ipython",
    "version": 3
   },
   "file_extension": ".py",
   "mimetype": "text/x-python",
   "name": "python",
   "nbconvert_exporter": "python",
   "pygments_lexer": "ipython3",
   "version": "3.6.5"
  }
 },
 "nbformat": 4,
 "nbformat_minor": 2
}
