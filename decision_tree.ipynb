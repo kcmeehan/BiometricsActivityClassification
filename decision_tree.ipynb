{
 "cells": [
  {
   "cell_type": "code",
   "execution_count": 1,
   "metadata": {},
   "outputs": [],
   "source": [
    "#performs an unsuccessful feature extraction and naively construct a decision tree classifier. ~99% accuracy from cross validation\n",
    "\n",
    "import numpy as np\n",
    "import matplotlib.pyplot as plt\n",
    "%matplotlib inline"
   ]
  },
  {
   "cell_type": "code",
   "execution_count": 5,
   "metadata": {},
   "outputs": [],
   "source": [
    "feature_names,datalabels=np.load('data1.npy')"
   ]
  },
  {
   "cell_type": "code",
   "execution_count": 8,
   "metadata": {},
   "outputs": [],
   "source": [
    "#shuffle data\n",
    "np.random.shuffle(datalabels)\n",
    "\n",
    "traindata2=datalabels[:,:98]\n",
    "trainlabels2=datalabels[:,-1]"
   ]
  },
  {
   "cell_type": "code",
   "execution_count": 9,
   "metadata": {},
   "outputs": [
    {
     "data": {
      "text/plain": [
       "DecisionTreeClassifier(class_weight=None, criterion='gini', max_depth=None,\n",
       "            max_features=None, max_leaf_nodes=None,\n",
       "            min_impurity_decrease=0.0, min_impurity_split=None,\n",
       "            min_samples_leaf=1, min_samples_split=2,\n",
       "            min_weight_fraction_leaf=0.0, presort=False, random_state=None,\n",
       "            splitter='best')"
      ]
     },
     "execution_count": 9,
     "metadata": {},
     "output_type": "execute_result"
    }
   ],
   "source": [
    "from sklearn.tree import DecisionTreeClassifier\n",
    "\n",
    "cls=DecisionTreeClassifier()\n",
    "cls.fit(traindata2,trainlabels2)"
   ]
  },
  {
   "cell_type": "code",
   "execution_count": 10,
   "metadata": {},
   "outputs": [],
   "source": [
    "from sklearn.model_selection import cross_val_score"
   ]
  },
  {
   "cell_type": "code",
   "execution_count": 11,
   "metadata": {},
   "outputs": [
    {
     "data": {
      "text/plain": [
       "array([0.9972067 , 0.9972028 , 0.99578059])"
      ]
     },
     "execution_count": 11,
     "metadata": {},
     "output_type": "execute_result"
    }
   ],
   "source": [
    "cross_val_score(cls, traindata2, trainlabels2)"
   ]
  },
  {
   "cell_type": "code",
   "execution_count": 13,
   "metadata": {},
   "outputs": [
    {
     "data": {
      "text/plain": [
       "[('heart_rate_mean', 0.008618202088658348),\n",
       " ('heart_rate_std', 0.0),\n",
       " ('hand_temp_mean', 0.0),\n",
       " ('hand_temp_std', 0.0),\n",
       " ('hand_a16_x_mean', 0.08348618863158211),\n",
       " ('hand_a16_x_std', 0.0),\n",
       " ('hand_a16_y_mean', 0.003074570536179073),\n",
       " ('hand_a16_y_std', 0.09336674969026124),\n",
       " ('hand_a16_z_mean', 0.10225902737783298),\n",
       " ('hand_a16_z_std', 0.0),\n",
       " ('hand_a16_freq_0.5', 0.0),\n",
       " ('hand_a16_freq_0.75', 0.048855417527862814),\n",
       " ('hand_a16_freq_0.9', 0.0),\n",
       " ('hand_a16_freq_0.95', 0.002034945591760265),\n",
       " ('hand_gyro_x_mean', 0.0),\n",
       " ('hand_gyro_x_std', 0.0),\n",
       " ('hand_gyro_y_mean', 0.0),\n",
       " ('hand_gyro_y_std', 0.0),\n",
       " ('hand_gyro_z_mean', 0.0),\n",
       " ('hand_gyro_z_std', 0.0),\n",
       " ('hand_gyro_freq_0.5', 0.0),\n",
       " ('hand_gyro_freq_0.75', 0.0),\n",
       " ('hand_gyro_freq_0.9', 0.0),\n",
       " ('hand_gyro_freq_0.95', 0.0),\n",
       " ('hand_B_x_mean', 0.0),\n",
       " ('hand_B_x_std', 0.0),\n",
       " ('hand_B_y_mean', 0.0),\n",
       " ('hand_B_y_std', 0.0),\n",
       " ('hand_B_z_mean', 0.0),\n",
       " ('hand_B_z_std', 0.001756897449245185),\n",
       " ('hand_B_freq_0.5', 0.0),\n",
       " ('hand_B_freq_0.75', 0.0),\n",
       " ('hand_B_freq_0.9', 0.0),\n",
       " ('hand_B_freq_0.95', 0.0),\n",
       " ('chest_temp_mean', 0.09976805700942333),\n",
       " ('chest_temp_std', 0.0),\n",
       " ('chest_a16_x_mean', 0.0),\n",
       " ('chest_a16_x_std', 0.0),\n",
       " ('chest_a16_y_mean', 0.09581826980277003),\n",
       " ('chest_a16_y_std', 0.0),\n",
       " ('chest_a16_z_mean', 0.08335117194665143),\n",
       " ('chest_a16_z_std', 0.0),\n",
       " ('chest_a16_freq_0.5', 0.0),\n",
       " ('chest_a16_freq_0.75', 0.0),\n",
       " ('chest_a16_freq_0.9', 0.0),\n",
       " ('chest_a16_freq_0.95', 0.0),\n",
       " ('chest_gyro_x_mean', 0.0),\n",
       " ('chest_gyro_x_std', 0.0),\n",
       " ('chest_gyro_y_mean', 0.0),\n",
       " ('chest_gyro_y_std', 0.0),\n",
       " ('chest_gyro_z_mean', 0.0),\n",
       " ('chest_gyro_z_std', 0.0),\n",
       " ('chest_gyro_freq_0.5', 0.0),\n",
       " ('chest_gyro_freq_0.75', 0.0),\n",
       " ('chest_gyro_freq_0.9', 0.0),\n",
       " ('chest_gyro_freq_0.95', 0.0),\n",
       " ('chest_B_x_mean', 0.0),\n",
       " ('chest_B_x_std', 0.0),\n",
       " ('chest_B_y_mean', 0.0),\n",
       " ('chest_B_y_std', 0.0),\n",
       " ('chest_B_z_mean', 0.0),\n",
       " ('chest_B_z_std', 0.0),\n",
       " ('chest_B_freq_0.5', 0.0),\n",
       " ('chest_B_freq_0.75', 0.0),\n",
       " ('chest_B_freq_0.9', 0.0),\n",
       " ('chest_B_freq_0.95', 0.0),\n",
       " ('ankle_temp_mean', 0.22444366835851942),\n",
       " ('ankle_temp_std', 0.0),\n",
       " ('ankle_a16_x_mean', 0.0884565473304545),\n",
       " ('ankle_a16_x_std', 0.011003031923125621),\n",
       " ('ankle_a16_y_mean', 0.0),\n",
       " ('ankle_a16_y_std', 0.0),\n",
       " ('ankle_a16_z_mean', 0.0),\n",
       " ('ankle_a16_z_std', 0.0),\n",
       " ('ankle_a16_freq_0.5', 0.0),\n",
       " ('ankle_a16_freq_0.75', 0.0),\n",
       " ('ankle_a16_freq_0.9', 0.0),\n",
       " ('ankle_a16_freq_0.95', 0.0),\n",
       " ('ankle_gyro_x_mean', 0.0),\n",
       " ('ankle_gyro_x_std', 0.0),\n",
       " ('ankle_gyro_y_mean', 0.05268773568635028),\n",
       " ('ankle_gyro_y_std', 0.0),\n",
       " ('ankle_gyro_z_mean', 0.0),\n",
       " ('ankle_gyro_z_std', 0.0010195190493232666),\n",
       " ('ankle_gyro_freq_0.5', 0.0),\n",
       " ('ankle_gyro_freq_0.75', 0.0),\n",
       " ('ankle_gyro_freq_0.9', 0.0),\n",
       " ('ankle_gyro_freq_0.95', 0.0),\n",
       " ('ankle_B_x_mean', 0.0),\n",
       " ('ankle_B_x_std', 0.0),\n",
       " ('ankle_B_y_mean', 0.0),\n",
       " ('ankle_B_y_std', 0.0),\n",
       " ('ankle_B_z_mean', 0.0),\n",
       " ('ankle_B_z_std', 0.0),\n",
       " ('ankle_B_freq_0.5', 0.0),\n",
       " ('ankle_B_freq_0.75', 0.0),\n",
       " ('ankle_B_freq_0.9', 0.0),\n",
       " ('ankle_B_freq_0.95', 0.0)]"
      ]
     },
     "execution_count": 13,
     "metadata": {},
     "output_type": "execute_result"
    }
   ],
   "source": [
    "y=cls.feature_importances_\n",
    "[(feature_names[i],y[i]) for i in range(len(y))]"
   ]
  },
  {
   "cell_type": "code",
   "execution_count": null,
   "metadata": {},
   "outputs": [],
   "source": []
  }
 ],
 "metadata": {
  "kernelspec": {
   "display_name": "Python 3",
   "language": "python",
   "name": "python3"
  },
  "language_info": {
   "codemirror_mode": {
    "name": "ipython",
    "version": 3
   },
   "file_extension": ".py",
   "mimetype": "text/x-python",
   "name": "python",
   "nbconvert_exporter": "python",
   "pygments_lexer": "ipython3",
   "version": "3.6.5"
  }
 },
 "nbformat": 4,
 "nbformat_minor": 2
}
