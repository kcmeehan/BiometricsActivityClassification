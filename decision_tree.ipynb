{
 "cells": [
  {
   "cell_type": "code",
   "execution_count": 16,
   "metadata": {},
   "outputs": [],
   "source": [
    "#construct a decision tree classifier. ~99% accuracy from cross validation\n",
    "\n",
    "import numpy as np\n",
    "import matplotlib.pyplot as plt\n",
    "%matplotlib inline\n",
    "from sklearn.tree import DecisionTreeClassifier\n",
    "from sklearn.model_selection import cross_val_score"
   ]
  },
  {
   "cell_type": "code",
   "execution_count": 55,
   "metadata": {},
   "outputs": [
    {
     "data": {
      "text/plain": [
       "array([0.9972067 , 0.99160839, 0.99156118])"
      ]
     },
     "execution_count": 55,
     "metadata": {},
     "output_type": "execute_result"
    }
   ],
   "source": [
    "feature_names,datalabels=np.load('data1.npy')\n",
    "\n",
    "#shuffle data\n",
    "np.random.shuffle(datalabels)\n",
    "\n",
    "traindata2=datalabels[:,:98]\n",
    "trainlabels2=datalabels[:,-1]\n",
    "\n",
    "cls=DecisionTreeClassifier()\n",
    "cls.fit(traindata2,trainlabels2)\n",
    "\n",
    "cross_val_score(cls, traindata2, trainlabels2)"
   ]
  },
  {
   "cell_type": "code",
   "execution_count": 13,
   "metadata": {},
   "outputs": [
    {
     "data": {
      "text/plain": [
       "[('heart_rate_mean', 0.008618202088658348),\n",
       " ('heart_rate_std', 0.0),\n",
       " ('hand_temp_mean', 0.0),\n",
       " ('hand_temp_std', 0.0),\n",
       " ('hand_a16_x_mean', 0.08348618863158211),\n",
       " ('hand_a16_x_std', 0.0),\n",
       " ('hand_a16_y_mean', 0.003074570536179073),\n",
       " ('hand_a16_y_std', 0.09336674969026124),\n",
       " ('hand_a16_z_mean', 0.10225902737783298),\n",
       " ('hand_a16_z_std', 0.0),\n",
       " ('hand_a16_freq_0.5', 0.0),\n",
       " ('hand_a16_freq_0.75', 0.048855417527862814),\n",
       " ('hand_a16_freq_0.9', 0.0),\n",
       " ('hand_a16_freq_0.95', 0.002034945591760265),\n",
       " ('hand_gyro_x_mean', 0.0),\n",
       " ('hand_gyro_x_std', 0.0),\n",
       " ('hand_gyro_y_mean', 0.0),\n",
       " ('hand_gyro_y_std', 0.0),\n",
       " ('hand_gyro_z_mean', 0.0),\n",
       " ('hand_gyro_z_std', 0.0),\n",
       " ('hand_gyro_freq_0.5', 0.0),\n",
       " ('hand_gyro_freq_0.75', 0.0),\n",
       " ('hand_gyro_freq_0.9', 0.0),\n",
       " ('hand_gyro_freq_0.95', 0.0),\n",
       " ('hand_B_x_mean', 0.0),\n",
       " ('hand_B_x_std', 0.0),\n",
       " ('hand_B_y_mean', 0.0),\n",
       " ('hand_B_y_std', 0.0),\n",
       " ('hand_B_z_mean', 0.0),\n",
       " ('hand_B_z_std', 0.001756897449245185),\n",
       " ('hand_B_freq_0.5', 0.0),\n",
       " ('hand_B_freq_0.75', 0.0),\n",
       " ('hand_B_freq_0.9', 0.0),\n",
       " ('hand_B_freq_0.95', 0.0),\n",
       " ('chest_temp_mean', 0.09976805700942333),\n",
       " ('chest_temp_std', 0.0),\n",
       " ('chest_a16_x_mean', 0.0),\n",
       " ('chest_a16_x_std', 0.0),\n",
       " ('chest_a16_y_mean', 0.09581826980277003),\n",
       " ('chest_a16_y_std', 0.0),\n",
       " ('chest_a16_z_mean', 0.08335117194665143),\n",
       " ('chest_a16_z_std', 0.0),\n",
       " ('chest_a16_freq_0.5', 0.0),\n",
       " ('chest_a16_freq_0.75', 0.0),\n",
       " ('chest_a16_freq_0.9', 0.0),\n",
       " ('chest_a16_freq_0.95', 0.0),\n",
       " ('chest_gyro_x_mean', 0.0),\n",
       " ('chest_gyro_x_std', 0.0),\n",
       " ('chest_gyro_y_mean', 0.0),\n",
       " ('chest_gyro_y_std', 0.0),\n",
       " ('chest_gyro_z_mean', 0.0),\n",
       " ('chest_gyro_z_std', 0.0),\n",
       " ('chest_gyro_freq_0.5', 0.0),\n",
       " ('chest_gyro_freq_0.75', 0.0),\n",
       " ('chest_gyro_freq_0.9', 0.0),\n",
       " ('chest_gyro_freq_0.95', 0.0),\n",
       " ('chest_B_x_mean', 0.0),\n",
       " ('chest_B_x_std', 0.0),\n",
       " ('chest_B_y_mean', 0.0),\n",
       " ('chest_B_y_std', 0.0),\n",
       " ('chest_B_z_mean', 0.0),\n",
       " ('chest_B_z_std', 0.0),\n",
       " ('chest_B_freq_0.5', 0.0),\n",
       " ('chest_B_freq_0.75', 0.0),\n",
       " ('chest_B_freq_0.9', 0.0),\n",
       " ('chest_B_freq_0.95', 0.0),\n",
       " ('ankle_temp_mean', 0.22444366835851942),\n",
       " ('ankle_temp_std', 0.0),\n",
       " ('ankle_a16_x_mean', 0.0884565473304545),\n",
       " ('ankle_a16_x_std', 0.011003031923125621),\n",
       " ('ankle_a16_y_mean', 0.0),\n",
       " ('ankle_a16_y_std', 0.0),\n",
       " ('ankle_a16_z_mean', 0.0),\n",
       " ('ankle_a16_z_std', 0.0),\n",
       " ('ankle_a16_freq_0.5', 0.0),\n",
       " ('ankle_a16_freq_0.75', 0.0),\n",
       " ('ankle_a16_freq_0.9', 0.0),\n",
       " ('ankle_a16_freq_0.95', 0.0),\n",
       " ('ankle_gyro_x_mean', 0.0),\n",
       " ('ankle_gyro_x_std', 0.0),\n",
       " ('ankle_gyro_y_mean', 0.05268773568635028),\n",
       " ('ankle_gyro_y_std', 0.0),\n",
       " ('ankle_gyro_z_mean', 0.0),\n",
       " ('ankle_gyro_z_std', 0.0010195190493232666),\n",
       " ('ankle_gyro_freq_0.5', 0.0),\n",
       " ('ankle_gyro_freq_0.75', 0.0),\n",
       " ('ankle_gyro_freq_0.9', 0.0),\n",
       " ('ankle_gyro_freq_0.95', 0.0),\n",
       " ('ankle_B_x_mean', 0.0),\n",
       " ('ankle_B_x_std', 0.0),\n",
       " ('ankle_B_y_mean', 0.0),\n",
       " ('ankle_B_y_std', 0.0),\n",
       " ('ankle_B_z_mean', 0.0),\n",
       " ('ankle_B_z_std', 0.0),\n",
       " ('ankle_B_freq_0.5', 0.0),\n",
       " ('ankle_B_freq_0.75', 0.0),\n",
       " ('ankle_B_freq_0.9', 0.0),\n",
       " ('ankle_B_freq_0.95', 0.0)]"
      ]
     },
     "execution_count": 13,
     "metadata": {},
     "output_type": "execute_result"
    }
   ],
   "source": [
    "y=cls.feature_importances_\n",
    "[(feature_names[i],y[i]) for i in range(len(y))]"
   ]
  },
  {
   "cell_type": "code",
   "execution_count": 21,
   "metadata": {},
   "outputs": [
    {
     "data": {
      "text/plain": [
       "array([0.99737533, 0.99473684, 0.99734748])"
      ]
     },
     "execution_count": 21,
     "metadata": {},
     "output_type": "execute_result"
    }
   ],
   "source": [
    "feature_names,datalabels=np.load('data2.npy')\n",
    "\n",
    "#shuffle data\n",
    "np.random.shuffle(datalabels)\n",
    "\n",
    "traindata2=datalabels[:,:98]\n",
    "trainlabels2=datalabels[:,-1]\n",
    "\n",
    "\n",
    "cls=DecisionTreeClassifier()\n",
    "cls.fit(traindata2,trainlabels2)\n",
    "\n",
    "cross_val_score(cls, traindata2, trainlabels2)"
   ]
  },
  {
   "cell_type": "code",
   "execution_count": 22,
   "metadata": {},
   "outputs": [
    {
     "data": {
      "text/plain": [
       "(2276, 98)"
      ]
     },
     "execution_count": 22,
     "metadata": {},
     "output_type": "execute_result"
    }
   ],
   "source": [
    "traindata2.shape"
   ]
  },
  {
   "cell_type": "code",
   "execution_count": null,
   "metadata": {},
   "outputs": [],
   "source": []
  },
  {
   "cell_type": "code",
   "execution_count": 267,
   "metadata": {},
   "outputs": [],
   "source": [
    "#import feature_extraction\n",
    "\n",
    "#for i in range(1,10):\n",
    "#    feature_extraction.extract(i)"
   ]
  },
  {
   "cell_type": "code",
   "execution_count": 56,
   "metadata": {},
   "outputs": [],
   "source": [
    "datalabels=[]\n",
    "for i in range(1,10):\n",
    "    feature_names,datalabelsi=np.load('data'+str(i)+'.npy')\n",
    "    datalabels.append(datalabelsi)"
   ]
  },
  {
   "cell_type": "code",
   "execution_count": 57,
   "metadata": {},
   "outputs": [
    {
     "data": {
      "text/plain": [
       "[(2142, 99),\n",
       " (2276, 99),\n",
       " (1463, 99),\n",
       " (2007, 99),\n",
       " (2366, 99),\n",
       " (2166, 99),\n",
       " (1994, 99),\n",
       " (2261, 99),\n",
       " (0, 99)]"
      ]
     },
     "execution_count": 57,
     "metadata": {},
     "output_type": "execute_result"
    }
   ],
   "source": [
    "[x.shape for x in datalabels]"
   ]
  },
  {
   "cell_type": "code",
   "execution_count": 58,
   "metadata": {},
   "outputs": [],
   "source": [
    "datalabels=np.vstack(datalabels)"
   ]
  },
  {
   "cell_type": "code",
   "execution_count": 59,
   "metadata": {},
   "outputs": [
    {
     "data": {
      "text/plain": [
       "array([0.99083393, 0.98776098, 0.98865887])"
      ]
     },
     "execution_count": 59,
     "metadata": {},
     "output_type": "execute_result"
    }
   ],
   "source": [
    "#shuffle data\n",
    "np.random.shuffle(datalabels)\n",
    "\n",
    "traindata2=datalabels[:,:98]\n",
    "trainlabels2=datalabels[:,-1]\n",
    "\n",
    "\n",
    "cls=DecisionTreeClassifier()\n",
    "cls.fit(traindata2,trainlabels2)\n",
    "\n",
    "cross_val_score(cls, traindata2, trainlabels2)"
   ]
  },
  {
   "cell_type": "code",
   "execution_count": 60,
   "metadata": {},
   "outputs": [],
   "source": [
    "y=cls.feature_importances_\n",
    "a=[[feature_names[i],y[i]] for i in range(len(y))]\n",
    "a.sort(key=lambda x:-x[1])"
   ]
  },
  {
   "cell_type": "code",
   "execution_count": 62,
   "metadata": {},
   "outputs": [
    {
     "data": {
      "text/plain": [
       "[['ankle_a16_x_mean', 0.21754147568365037],\n",
       " ['chest_B_y_mean', 0.1119754118150711],\n",
       " ['hand_a16_freq_0.95', 0.10966387655151136],\n",
       " ['chest_a16_y_std', 0.08497537463950695],\n",
       " ['hand_a16_x_mean', 0.08138982268344559],\n",
       " ['chest_gyro_y_std', 0.06870897764681787],\n",
       " ['hand_gyro_freq_0.95', 0.06750847872514605],\n",
       " ['ankle_a16_x_std', 0.05262655278392277],\n",
       " ['chest_gyro_y_mean', 0.029591387134234145],\n",
       " ['ankle_gyro_z_std', 0.025650664848947968],\n",
       " ['chest_a16_z_mean', 0.021532397489075004],\n",
       " ['ankle_gyro_freq_0.5', 0.019471028927796986],\n",
       " ['chest_temp_mean', 0.015418065295319208],\n",
       " ['hand_temp_mean', 0.012906523293183958],\n",
       " ['chest_B_z_mean', 0.009961784710772746],\n",
       " ['ankle_gyro_y_std', 0.008742065808737463],\n",
       " ['hand_a16_z_mean', 0.008071911518487955],\n",
       " ['hand_B_x_mean', 0.005932898646654965],\n",
       " ['ankle_gyro_y_mean', 0.00576913833809227],\n",
       " ['chest_a16_z_std', 0.005263032040571024],\n",
       " ['hand_gyro_x_std', 0.004869918844959939],\n",
       " ['ankle_temp_mean', 0.003438246949506799],\n",
       " ['hand_a16_y_mean', 0.0033329790067401738],\n",
       " ['chest_gyro_freq_0.75', 0.0027290213203638313],\n",
       " ['ankle_B_x_mean', 0.002588118908229237],\n",
       " ['ankle_gyro_x_mean', 0.002011736830665257],\n",
       " ['hand_B_y_mean', 0.0019635854822719727],\n",
       " ['chest_a16_freq_0.95', 0.0016744279943488468],\n",
       " ['hand_a16_y_std', 0.0016652787524465927],\n",
       " ['heart_rate_mean', 0.0015889652968206639],\n",
       " ['hand_gyro_y_mean', 0.001158187770936083],\n",
       " ['chest_gyro_z_std', 0.0008009566566813059],\n",
       " ['chest_a16_x_std', 0.0007833828678482186],\n",
       " ['ankle_B_z_std', 0.0007801600607302025],\n",
       " ['hand_B_z_std', 0.0006981889910410047],\n",
       " ['chest_gyro_freq_0.9', 0.0006537529489988637],\n",
       " ['ankle_B_z_mean', 0.0005664680488182698],\n",
       " ['ankle_a16_y_std', 0.0005313228512772584],\n",
       " ['ankle_gyro_z_mean', 0.0004935093590159908],\n",
       " ['ankle_gyro_freq_0.9', 0.00043072960395896707],\n",
       " ['chest_a16_y_mean', 0.00039520048763270376],\n",
       " ['ankle_gyro_x_std', 0.00037637672389092576],\n",
       " ['hand_B_y_std', 0.00034502208479970226],\n",
       " ['hand_gyro_freq_0.9', 0.00034353639037835624],\n",
       " ['ankle_B_y_std', 0.0003081930490778728],\n",
       " ['ankle_gyro_freq_0.75', 0.00029393650839139334],\n",
       " ['hand_gyro_y_std', 0.0002653244175226471],\n",
       " ['chest_a16_x_mean', 0.00026520724311357034],\n",
       " ['chest_gyro_z_mean', 0.00026442366202294754],\n",
       " ['hand_a16_x_std', 0.00026047987032346264],\n",
       " ['chest_B_y_std', 0.000259631189041707],\n",
       " ['ankle_a16_z_std', 0.0002423418848933906],\n",
       " ['ankle_gyro_freq_0.95', 0.00013279021206592944],\n",
       " ['chest_gyro_x_mean', 0.00013250008355000884],\n",
       " ['hand_B_z_mean', 0.000132363389244291],\n",
       " ['chest_B_x_std', 0.0001292878888520696],\n",
       " ['ankle_a16_freq_0.95', 0.00011081819044463105],\n",
       " ['chest_gyro_x_std', 9.973637140016795e-05],\n",
       " ['hand_a16_freq_0.9', 8.865455235570484e-05],\n",
       " ['hand_B_x_std', 6.649091426677863e-05],\n",
       " ['hand_a16_z_std', 2.7877760126418925e-05],\n",
       " ['heart_rate_std', 0.0],\n",
       " ['hand_temp_std', 0.0],\n",
       " ['hand_a16_freq_0.5', 0.0],\n",
       " ['hand_a16_freq_0.75', 0.0],\n",
       " ['hand_gyro_x_mean', 0.0],\n",
       " ['hand_gyro_z_mean', 0.0],\n",
       " ['hand_gyro_z_std', 0.0],\n",
       " ['hand_gyro_freq_0.5', 0.0],\n",
       " ['hand_gyro_freq_0.75', 0.0],\n",
       " ['hand_B_freq_0.5', 0.0],\n",
       " ['hand_B_freq_0.75', 0.0],\n",
       " ['hand_B_freq_0.9', 0.0],\n",
       " ['hand_B_freq_0.95', 0.0],\n",
       " ['chest_temp_std', 0.0],\n",
       " ['chest_a16_freq_0.5', 0.0],\n",
       " ['chest_a16_freq_0.75', 0.0],\n",
       " ['chest_a16_freq_0.9', 0.0],\n",
       " ['chest_gyro_freq_0.5', 0.0],\n",
       " ['chest_gyro_freq_0.95', 0.0],\n",
       " ['chest_B_x_mean', 0.0],\n",
       " ['chest_B_z_std', 0.0],\n",
       " ['chest_B_freq_0.5', 0.0],\n",
       " ['chest_B_freq_0.75', 0.0],\n",
       " ['chest_B_freq_0.9', 0.0],\n",
       " ['chest_B_freq_0.95', 0.0],\n",
       " ['ankle_temp_std', 0.0],\n",
       " ['ankle_a16_y_mean', 0.0],\n",
       " ['ankle_a16_z_mean', 0.0],\n",
       " ['ankle_a16_freq_0.5', 0.0],\n",
       " ['ankle_a16_freq_0.75', 0.0],\n",
       " ['ankle_a16_freq_0.9', 0.0],\n",
       " ['ankle_B_x_std', 0.0],\n",
       " ['ankle_B_y_mean', 0.0],\n",
       " ['ankle_B_freq_0.5', 0.0],\n",
       " ['ankle_B_freq_0.75', 0.0],\n",
       " ['ankle_B_freq_0.9', 0.0],\n",
       " ['ankle_B_freq_0.95', 0.0]]"
      ]
     },
     "execution_count": 62,
     "metadata": {},
     "output_type": "execute_result"
    }
   ],
   "source": [
    "a"
   ]
  },
  {
   "cell_type": "code",
   "execution_count": null,
   "metadata": {},
   "outputs": [],
   "source": []
  }
 ],
 "metadata": {
  "kernelspec": {
   "display_name": "Python 3",
   "language": "python",
   "name": "python3"
  },
  "language_info": {
   "codemirror_mode": {
    "name": "ipython",
    "version": 3
   },
   "file_extension": ".py",
   "mimetype": "text/x-python",
   "name": "python",
   "nbconvert_exporter": "python",
   "pygments_lexer": "ipython3",
   "version": "3.6.5"
  }
 },
 "nbformat": 4,
 "nbformat_minor": 2
}
