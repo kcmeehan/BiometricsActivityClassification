{
 "cells": [
  {
   "cell_type": "code",
   "execution_count": 1,
   "metadata": {
    "collapsed": true
   },
   "outputs": [],
   "source": [
    "#construct a decision tree classifier\n",
    "\n",
    "import numpy as np\n",
    "import matplotlib.pyplot as plt\n",
    "%matplotlib inline\n",
    "from sklearn.tree import DecisionTreeClassifier\n",
    "from sklearn.model_selection import cross_val_score\n",
    "import DataProcess as DP"
   ]
  },
  {
   "cell_type": "markdown",
   "metadata": {},
   "source": [
    "### Data Processing & Feature extraction"
   ]
  },
  {
   "cell_type": "code",
   "execution_count": 2,
   "metadata": {
    "collapsed": true
   },
   "outputs": [],
   "source": [
    "datalabels=[]\n",
    "for i in range(1,10):\n",
    "    feature_names,datalabelsi=np.load('data'+str(i)+'.npy')\n",
    "    datalabels.append(datalabelsi)"
   ]
  },
  {
   "cell_type": "code",
   "execution_count": 3,
   "metadata": {},
   "outputs": [
    {
     "data": {
      "text/plain": [
       "[(426, 198),\n",
       " (453, 198),\n",
       " (292, 198),\n",
       " (399, 198),\n",
       " (472, 198),\n",
       " (432, 198),\n",
       " (398, 198),\n",
       " (450, 198),\n",
       " (8, 198)]"
      ]
     },
     "execution_count": 3,
     "metadata": {},
     "output_type": "execute_result"
    }
   ],
   "source": [
    "[x.shape for x in datalabels]"
   ]
  },
  {
   "cell_type": "code",
   "execution_count": 4,
   "metadata": {
    "collapsed": true
   },
   "outputs": [],
   "source": [
    "# Stack data from different subjects into one chunk:\n",
    "datalabels=np.vstack(datalabels)"
   ]
  },
  {
   "cell_type": "markdown",
   "metadata": {},
   "source": [
    "# 1) Decision Tree Classification:"
   ]
  },
  {
   "cell_type": "code",
   "execution_count": 5,
   "metadata": {
    "collapsed": true
   },
   "outputs": [],
   "source": [
    "#shuffle data\n",
    "np.random.shuffle(datalabels)\n",
    "\n",
    "traindata=datalabels[:,:-1]\n",
    "trainlabels=datalabels[:,-1]"
   ]
  },
  {
   "cell_type": "code",
   "execution_count": 6,
   "metadata": {},
   "outputs": [
    {
     "data": {
      "text/plain": [
       "array([0.92204301, 0.92064923, 0.9158371 ])"
      ]
     },
     "execution_count": 6,
     "metadata": {},
     "output_type": "execute_result"
    }
   ],
   "source": [
    "cls=DecisionTreeClassifier(max_depth=8,min_impurity_decrease=0.015,max_leaf_nodes=14)\n",
    "cls.fit(traindata,trainlabels)\n",
    "cross_val_score(cls, traindata, trainlabels)"
   ]
  },
  {
   "cell_type": "markdown",
   "metadata": {},
   "source": [
    "#### Find out important nodes:"
   ]
  },
  {
   "cell_type": "code",
   "execution_count": 7,
   "metadata": {},
   "outputs": [
    {
     "data": {
      "text/plain": [
       "[['chest_acc16g_z_median', 0.12834795970635518],\n",
       " ['ankle_gyro_z_std', 0.12327878276387892],\n",
       " ['hand_acc16g_y_peak', 0.11828959551138692],\n",
       " ['chest_mag_x_std', 0.11071594700849749],\n",
       " ['chest_acc16g_y_std', 0.10084339833526845],\n",
       " ['hand_acc16g_x_median', 0.09968099718022688],\n",
       " ['chest_acc_power_ratio', 0.0829116810823062],\n",
       " ['chest_acc_YcZ', 0.07417220484677092],\n",
       " ['hand_acc16g_z_median', 0.07081181412458078],\n",
       " ['chest_gyro_y_mean', 0.060851545315050555],\n",
       " ['ankle_gyro_XcZ', 0.030096074125677632],\n",
       " ['heart_rate_mean', 0.0],\n",
       " ['hand_temp_mean', 0.0],\n",
       " ['hand_acc16g_x_mean', 0.0],\n",
       " ['hand_acc16g_y_mean', 0.0]]"
      ]
     },
     "execution_count": 7,
     "metadata": {},
     "output_type": "execute_result"
    }
   ],
   "source": [
    "y=cls.feature_importances_\n",
    "a=[[feature_names[i],y[i]] for i in range(len(y))]\n",
    "a.sort(key=lambda x:-x[1])\n",
    "a[:15]"
   ]
  },
  {
   "cell_type": "code",
   "execution_count": 8,
   "metadata": {
    "collapsed": true
   },
   "outputs": [
    {
     "ename": "ModuleNotFoundError",
     "evalue": "No module named 'PIL'",
     "output_type": "error",
     "traceback": [
      "\u001b[1;31m---------------------------------------------------------------------------\u001b[0m",
      "\u001b[1;31mModuleNotFoundError\u001b[0m                       Traceback (most recent call last)",
      "\u001b[1;32m<ipython-input-8-4659c78c2c63>\u001b[0m in \u001b[0;36m<module>\u001b[1;34m()\u001b[0m\n\u001b[0;32m      2\u001b[0m \u001b[1;32mfrom\u001b[0m \u001b[0msklearn\u001b[0m\u001b[1;33m.\u001b[0m\u001b[0mexternals\u001b[0m\u001b[1;33m.\u001b[0m\u001b[0msix\u001b[0m \u001b[1;32mimport\u001b[0m \u001b[0mStringIO\u001b[0m\u001b[1;33m\u001b[0m\u001b[0m\n\u001b[0;32m      3\u001b[0m \u001b[1;32mimport\u001b[0m \u001b[0mpydotplus\u001b[0m   \u001b[1;31m#using pydotplus in windows10, python 3.6.X\u001b[0m\u001b[1;33m\u001b[0m\u001b[0m\n\u001b[1;32m----> 4\u001b[1;33m \u001b[1;32mfrom\u001b[0m \u001b[0mPIL\u001b[0m \u001b[1;32mimport\u001b[0m \u001b[0mImage\u001b[0m\u001b[1;33m\u001b[0m\u001b[0m\n\u001b[0m\u001b[0;32m      5\u001b[0m \u001b[1;32mimport\u001b[0m \u001b[0mpydot\u001b[0m\u001b[1;33m\u001b[0m\u001b[0m\n",
      "\u001b[1;31mModuleNotFoundError\u001b[0m: No module named 'PIL'"
     ]
    }
   ],
   "source": [
    "from sklearn import tree\n",
    "from sklearn.externals.six import StringIO\n",
    "import pydotplus   #using pydotplus in windows10, python 3.6.X\n",
    "from PIL import Image\n",
    "import pydot"
   ]
  },
  {
   "cell_type": "code",
   "execution_count": 10,
   "metadata": {
    "collapsed": true
   },
   "outputs": [],
   "source": [
    "dot_data = StringIO()\n",
    "class_name=[DP.activity_dict[x] for x in np.unique(trainlabels)]\n",
    "\n",
    "tree.export_graphviz(cls, out_file=dot_data, \n",
    "                         feature_names=feature_names[:-1],  \n",
    "                         class_names=class_name, \n",
    "                         filled=True, rounded=True,  \n",
    "                         special_characters=True)  \n",
    "graph = pydotplus.graph_from_dot_data(dot_data.getvalue())\n",
    "# graph = pydot.graph_from_dot_data(dot_data.getvalue())\n",
    "# Image(graph.create_png())\n",
    "# file_path='tree.png'\n",
    "# pydot.graph_from_dot_data(dot_data.getvalue()).write_png(file_path)\n",
    "# i = misc.imread(file_path)\n",
    "# plt.imshow(i)"
   ]
  },
  {
   "cell_type": "markdown",
   "metadata": {},
   "source": [
    "#### LOSO cross validation:"
   ]
  },
  {
   "cell_type": "code",
   "execution_count": 11,
   "metadata": {
    "collapsed": true
   },
   "outputs": [],
   "source": [
    "from sklearn.metrics import confusion_matrix\n",
    "from sklearn.model_selection import train_test_split"
   ]
  },
  {
   "cell_type": "code",
   "execution_count": 12,
   "metadata": {},
   "outputs": [
    {
     "name": "stdout",
     "output_type": "stream",
     "text": [
      "a= 14 mean_score= 0.8129711229360876\n"
     ]
    }
   ],
   "source": [
    "#check LOSO cross validation!\n",
    "\n",
    "mean_scores=[]\n",
    "for a in [14]:\n",
    "    scores=[]\n",
    "    for iout in range(1,9):\n",
    "\n",
    "        datalabels=[]\n",
    "        for i in range(1,iout):\n",
    "            feature_names,datalabelsi=np.load('data'+str(i)+'.npy')\n",
    "            datalabels.append(datalabelsi)\n",
    "\n",
    "        for i in range(iout+1,9):\n",
    "            feature_names,datalabelsi=np.load('data'+str(i)+'.npy')\n",
    "            datalabels.append(datalabelsi)\n",
    "\n",
    "        datalabels=np.vstack(datalabels)\n",
    "\n",
    "        feature_names,validdatalabels=np.load('data'+str(iout)+'.npy')\n",
    "        validdata=validdatalabels[:,:-1]\n",
    "        validlabels=validdatalabels[:,-1]\n",
    "\n",
    "        #shuffle data\n",
    "        np.random.shuffle(datalabels)\n",
    "\n",
    "        traindata=datalabels[:,:-1]\n",
    "        trainlabels=datalabels[:,-1]\n",
    "\n",
    "        cls=DecisionTreeClassifier(max_depth=8,min_impurity_decrease=0.015,max_leaf_nodes=14)\n",
    "        cls.fit(traindata,trainlabels)\n",
    "\n",
    "        scores.append(cls.score(validdata,validlabels))\n",
    "    mean_scores.append(np.mean(scores))\n",
    "    print('a=',a,'mean_score=',np.mean(scores))"
   ]
  },
  {
   "cell_type": "code",
   "execution_count": 13,
   "metadata": {},
   "outputs": [
    {
     "name": "stdout",
     "output_type": "stream",
     "text": [
      "validation scores: [0.7652582159624414, 0.8035320088300221, 0.8938356164383562, 0.7593984962406015, 0.8347457627118644, 0.7916666666666666, 0.8442211055276382, 0.8111111111111111]\n"
     ]
    }
   ],
   "source": [
    "print('validation scores:', scores)"
   ]
  },
  {
   "cell_type": "code",
   "execution_count": 14,
   "metadata": {},
   "outputs": [
    {
     "data": {
      "text/plain": [
       "array([[ 0, 43,  0,  0,  0,  0,  0,  0,  0,  0,  0,  0],\n",
       "       [ 0, 40,  0,  0,  0,  0,  0,  0,  0,  0,  0,  0],\n",
       "       [20,  2, 21,  0,  0,  0,  0,  0,  0,  0,  2,  0],\n",
       "       [ 0,  0,  0, 56,  0,  0,  1,  0,  0,  0,  0,  0],\n",
       "       [ 0,  0,  0,  0, 28,  0,  0,  0,  0,  0,  0,  0],\n",
       "       [ 0,  0,  0,  0,  0, 42,  0,  0,  0,  3,  0,  0],\n",
       "       [ 0,  0,  0,  0,  0,  0, 52,  0,  0,  0,  0,  0],\n",
       "       [ 0,  0,  0,  1,  0,  0,  0, 13,  0,  0,  0,  0],\n",
       "       [ 0,  0,  0,  0,  0,  0,  0,  0, 10,  0,  0,  0],\n",
       "       [ 0,  0,  0,  0,  0,  2,  0,  1,  0, 40,  0,  0],\n",
       "       [ 0,  0,  1,  0,  0,  0,  0,  0,  0,  0, 59,  0],\n",
       "       [ 0,  0,  0,  1,  8,  0,  0,  0,  0,  0,  0,  4]], dtype=int64)"
      ]
     },
     "execution_count": 14,
     "metadata": {},
     "output_type": "execute_result"
    }
   ],
   "source": [
    "y_pred=cls.predict(validdata)\n",
    "\n",
    "confusion_matrix(validlabels, y_pred)"
   ]
  },
  {
   "cell_type": "markdown",
   "metadata": {},
   "source": [
    "### Changing parameters in DecisionTreeClassifier:"
   ]
  },
  {
   "cell_type": "code",
   "execution_count": 15,
   "metadata": {
    "collapsed": true
   },
   "outputs": [],
   "source": [
    "X=datalabels[:,:-1]\n",
    "y=datalabels[:,-1]\n",
    "X_train, X_test, y_train, y_test = train_test_split(X, y, test_size=0.20, random_state=42)"
   ]
  },
  {
   "cell_type": "markdown",
   "metadata": {},
   "source": [
    "**Change depth of tree:**"
   ]
  },
  {
   "cell_type": "code",
   "execution_count": 16,
   "metadata": {},
   "outputs": [
    {
     "data": {
      "text/plain": [
       "[array([0.90779221, 0.92307692, 0.90131579]),\n",
       " array([0.93506494, 0.95827901, 0.94342105]),\n",
       " array([0.93506494, 0.95827901, 0.94342105])]"
      ]
     },
     "execution_count": 16,
     "metadata": {},
     "output_type": "execute_result"
    }
   ],
   "source": [
    "cv_scores = []\n",
    "for n in [5, 10, 15]:\n",
    "    cls=DecisionTreeClassifier(max_depth=n, random_state=42)\n",
    "    cv_scores.append(cross_val_score(cls, X_train, y_train))\n",
    "    \n",
    "cv_scores"
   ]
  },
  {
   "cell_type": "markdown",
   "metadata": {},
   "source": [
    "**Change minimum number of sample required for a leaf node: (default = 1)**"
   ]
  },
  {
   "cell_type": "code",
   "execution_count": 17,
   "metadata": {},
   "outputs": [
    {
     "data": {
      "text/plain": [
       "[array([0.93506494, 0.95827901, 0.94342105]),\n",
       " array([0.93636364, 0.94915254, 0.93947368]),\n",
       " array([0.93246753, 0.93872229, 0.92763158])]"
      ]
     },
     "execution_count": 17,
     "metadata": {},
     "output_type": "execute_result"
    }
   ],
   "source": [
    "cv_scores = []\n",
    "for n in [1, 4, 8]:\n",
    "    cls=DecisionTreeClassifier(max_depth=12, min_samples_leaf=n, random_state=42)\n",
    "    cv_scores.append(cross_val_score(cls, X_train, y_train))\n",
    "    \n",
    "cv_scores"
   ]
  },
  {
   "cell_type": "markdown",
   "metadata": {},
   "source": [
    "** Change maximum number of leaf nodes: (default = None)**"
   ]
  },
  {
   "cell_type": "code",
   "execution_count": 18,
   "metadata": {},
   "outputs": [
    {
     "data": {
      "text/plain": [
       "[array([0.91428571, 0.91916558, 0.89473684]),\n",
       " array([0.93766234, 0.93872229, 0.93026316]),\n",
       " array([0.94805195, 0.95436767, 0.93815789]),\n",
       " array([0.94155844, 0.95958279, 0.94078947]),\n",
       " array([0.93506494, 0.95827901, 0.94342105])]"
      ]
     },
     "execution_count": 18,
     "metadata": {},
     "output_type": "execute_result"
    }
   ],
   "source": [
    "cv_scores = []\n",
    "for n in [12, 20, 30, 40, None]:\n",
    "    cls=DecisionTreeClassifier(max_depth=12, min_samples_leaf=1, max_leaf_nodes=n, random_state=42)\n",
    "    cv_scores.append(cross_val_score(cls, X_train, y_train))\n",
    "    \n",
    "cv_scores"
   ]
  },
  {
   "cell_type": "markdown",
   "metadata": {},
   "source": [
    "**Testing with test samples:**"
   ]
  },
  {
   "cell_type": "code",
   "execution_count": 19,
   "metadata": {},
   "outputs": [
    {
     "data": {
      "text/plain": [
       "0.96"
      ]
     },
     "execution_count": 19,
     "metadata": {},
     "output_type": "execute_result"
    }
   ],
   "source": [
    "cls=DecisionTreeClassifier(max_depth=12, min_samples_leaf=1, max_leaf_nodes=None, random_state=42)\n",
    "cls.fit(X_train,y_train)\n",
    "cls.score(X_test,y_test)"
   ]
  },
  {
   "cell_type": "markdown",
   "metadata": {},
   "source": [
    "# 2) Random Forest Classifier:"
   ]
  },
  {
   "cell_type": "code",
   "execution_count": 20,
   "metadata": {
    "collapsed": true
   },
   "outputs": [],
   "source": [
    "from sklearn.ensemble import RandomForestClassifier"
   ]
  },
  {
   "cell_type": "markdown",
   "metadata": {},
   "source": [
    "#### Changing number of trees: (default n_estimators=10)"
   ]
  },
  {
   "cell_type": "code",
   "execution_count": 21,
   "metadata": {},
   "outputs": [
    {
     "data": {
      "text/plain": [
       "[array([0.95714286, 0.97653194, 0.96315789]),\n",
       " array([0.97272727, 0.98435463, 0.97631579]),\n",
       " array([0.98311688, 0.98435463, 0.98684211]),\n",
       " array([0.98571429, 0.98696219, 0.98421053])]"
      ]
     },
     "execution_count": 21,
     "metadata": {},
     "output_type": "execute_result"
    }
   ],
   "source": [
    "cv_scores = []\n",
    "for n in [5, 10, 15, 20]:\n",
    "    cls=RandomForestClassifier(n_estimators=n, random_state=42)\n",
    "    cv_scores.append(cross_val_score(cls, X_train, y_train))\n",
    "    \n",
    "cv_scores"
   ]
  },
  {
   "cell_type": "markdown",
   "metadata": {},
   "source": [
    "**Change depth of trees: (default max_depth=None)**"
   ]
  },
  {
   "cell_type": "code",
   "execution_count": 22,
   "metadata": {},
   "outputs": [
    {
     "data": {
      "text/plain": [
       "[array([0.41298701, 0.410691  , 0.42368421]),\n",
       " array([0.59220779, 0.55410691, 0.58289474]),\n",
       " array([0.8       , 0.80573664, 0.79342105]),\n",
       " array([0.92337662, 0.93611473, 0.925     ]),\n",
       " array([0.97532468, 0.98565841, 0.98289474]),\n",
       " array([0.98311688, 0.98696219, 0.98289474]),\n",
       " array([0.98311688, 0.98565841, 0.98157895]),\n",
       " array([0.98311688, 0.98565841, 0.98157895])]"
      ]
     },
     "execution_count": 22,
     "metadata": {},
     "output_type": "execute_result"
    }
   ],
   "source": [
    "cv_scores = []\n",
    "for n in [1, 2, 3, 4, 7, 10, 15, None]:\n",
    "    cls=RandomForestClassifier(n_estimators=12, max_depth=n, random_state=42)\n",
    "    cv_scores.append(cross_val_score(cls, X_train, y_train))\n",
    "    \n",
    "cv_scores"
   ]
  },
  {
   "cell_type": "markdown",
   "metadata": {},
   "source": [
    "**Testing with test samples:**"
   ]
  },
  {
   "cell_type": "code",
   "execution_count": 23,
   "metadata": {},
   "outputs": [
    {
     "data": {
      "text/plain": [
       "0.9860869565217392"
      ]
     },
     "execution_count": 23,
     "metadata": {},
     "output_type": "execute_result"
    }
   ],
   "source": [
    "cls=RandomForestClassifier(n_estimators=12, max_depth=12, random_state=42)\n",
    "cls.fit(X_train,y_train)\n",
    "cls.score(X_test,y_test)"
   ]
  },
  {
   "cell_type": "markdown",
   "metadata": {},
   "source": [
    "# 3) K-Nearest Neighbors Classifier:"
   ]
  },
  {
   "cell_type": "code",
   "execution_count": 24,
   "metadata": {
    "collapsed": true
   },
   "outputs": [],
   "source": [
    "from sklearn.neighbors import KNeighborsClassifier"
   ]
  },
  {
   "cell_type": "markdown",
   "metadata": {},
   "source": [
    "#### Change number of nearest neighbors: (default n_neighbors=5)"
   ]
  },
  {
   "cell_type": "code",
   "execution_count": 25,
   "metadata": {},
   "outputs": [
    {
     "data": {
      "text/plain": [
       "[array([0.97012987, 0.96610169, 0.97368421]),\n",
       " array([0.94545455, 0.95045632, 0.95526316]),\n",
       " array([0.95584416, 0.96349413, 0.96315789]),\n",
       " array([0.95064935, 0.9517601 , 0.95131579]),\n",
       " array([0.94285714, 0.94002608, 0.95263158]),\n",
       " array([0.94285714, 0.93872229, 0.94078947])]"
      ]
     },
     "execution_count": 25,
     "metadata": {},
     "output_type": "execute_result"
    }
   ],
   "source": [
    "cv_scores = []\n",
    "for n in [1, 2, 3, 5, 7, 9]:\n",
    "    cls=KNeighborsClassifier(n_neighbors=n)\n",
    "    cv_scores.append(cross_val_score(cls, X_train, y_train))\n",
    "    \n",
    "cv_scores"
   ]
  },
  {
   "cell_type": "markdown",
   "metadata": {},
   "source": [
    "**Change the weight function used in prediction: (default='uniform')**"
   ]
  },
  {
   "cell_type": "code",
   "execution_count": 26,
   "metadata": {},
   "outputs": [
    {
     "data": {
      "text/plain": [
       "[array([0.95584416, 0.96349413, 0.96315789]),\n",
       " array([0.95844156, 0.96740548, 0.96447368])]"
      ]
     },
     "execution_count": 26,
     "metadata": {},
     "output_type": "execute_result"
    }
   ],
   "source": [
    "cv_scores = []\n",
    "for n in ['uniform', 'distance']:\n",
    "    cls=KNeighborsClassifier(n_neighbors=3, weights=n)\n",
    "    cv_scores.append(cross_val_score(cls, X_train, y_train))\n",
    "    \n",
    "cv_scores"
   ]
  },
  {
   "cell_type": "markdown",
   "metadata": {},
   "source": [
    "**Testing with test samples:**"
   ]
  },
  {
   "cell_type": "code",
   "execution_count": 27,
   "metadata": {},
   "outputs": [
    {
     "data": {
      "text/plain": [
       "0.9617391304347827"
      ]
     },
     "execution_count": 27,
     "metadata": {},
     "output_type": "execute_result"
    }
   ],
   "source": [
    "cls=KNeighborsClassifier(n_neighbors=3, weights='distance')\n",
    "cls.fit(X_train,y_train)\n",
    "cls.score(X_test,y_test)"
   ]
  },
  {
   "cell_type": "markdown",
   "metadata": {},
   "source": [
    "# 4) Support Vector Machine:"
   ]
  },
  {
   "cell_type": "code",
   "execution_count": 28,
   "metadata": {
    "collapsed": true
   },
   "outputs": [],
   "source": [
    "from sklearn.svm import SVC"
   ]
  },
  {
   "cell_type": "markdown",
   "metadata": {},
   "source": [
    "**Change kernel type: [‘linear’, ‘poly’, ‘rbf’, ‘sigmoid’, ‘precomputed’]**"
   ]
  },
  {
   "cell_type": "code",
   "execution_count": 29,
   "metadata": {},
   "outputs": [
    {
     "data": {
      "text/plain": [
       "[array([0.98311688, 0.97653194, 0.97894737]),\n",
       " array([0.98441558, 0.97392438, 0.98157895]),\n",
       " array([0.25324675, 0.26205997, 0.26447368]),\n",
       " array([0.12597403, 0.12646675, 0.12763158])]"
      ]
     },
     "execution_count": 29,
     "metadata": {},
     "output_type": "execute_result"
    }
   ],
   "source": [
    "cv_scores = []\n",
    "for n in ['linear','poly', 'rbf', 'sigmoid']:\n",
    "    cls=SVC(kernel=n)\n",
    "    cv_scores.append(cross_val_score(cls, X_train, y_train))\n",
    "    \n",
    "cv_scores"
   ]
  },
  {
   "cell_type": "markdown",
   "metadata": {},
   "source": [
    "**Change parameters correspond to different kernel: gamma and degree. Both parameters don't seem to affect too much.**"
   ]
  },
  {
   "cell_type": "code",
   "execution_count": 30,
   "metadata": {},
   "outputs": [
    {
     "data": {
      "text/plain": [
       "[array([0.98311688, 0.97653194, 0.97894737]),\n",
       " array([0.98311688, 0.97653194, 0.97894737]),\n",
       " array([0.98311688, 0.97653194, 0.97894737]),\n",
       " array([0.98311688, 0.97653194, 0.97894737])]"
      ]
     },
     "execution_count": 30,
     "metadata": {},
     "output_type": "execute_result"
    }
   ],
   "source": [
    "cv_scores = []\n",
    "for n in ['auto', 1/100, 1/50, 1/200]:\n",
    "    cls=SVC(kernel='linear', gamma=n)\n",
    "    cv_scores.append(cross_val_score(cls, X_train, y_train))\n",
    "    \n",
    "cv_scores"
   ]
  },
  {
   "cell_type": "code",
   "execution_count": 31,
   "metadata": {},
   "outputs": [
    {
     "data": {
      "text/plain": [
       "[array([0.98311688, 0.97653194, 0.97763158]),\n",
       " array([0.98571429, 0.97653194, 0.98289474]),\n",
       " array([0.98441558, 0.97392438, 0.98157895]),\n",
       " array([0.98051948, 0.97392438, 0.98289474]),\n",
       " array([0.97922078, 0.97131682, 0.98421053])]"
      ]
     },
     "execution_count": 31,
     "metadata": {},
     "output_type": "execute_result"
    }
   ],
   "source": [
    "cv_scores = []\n",
    "for n in [1, 2, 3, 4, 5]:\n",
    "    cls=SVC(kernel='poly', degree=n)\n",
    "    cv_scores.append(cross_val_score(cls, X_train, y_train))\n",
    "    \n",
    "cv_scores"
   ]
  },
  {
   "cell_type": "markdown",
   "metadata": {},
   "source": [
    "**Testing with test samples:**"
   ]
  },
  {
   "cell_type": "code",
   "execution_count": 32,
   "metadata": {},
   "outputs": [
    {
     "data": {
      "text/plain": [
       "0.9860869565217392"
      ]
     },
     "execution_count": 32,
     "metadata": {},
     "output_type": "execute_result"
    }
   ],
   "source": [
    "cls=SVC(kernel='poly', degree=2)\n",
    "cls.fit(X_train,y_train)\n",
    "cls.score(X_test,y_test)"
   ]
  },
  {
   "cell_type": "markdown",
   "metadata": {},
   "source": [
    "# 5) Gaussian Naive Bayes:"
   ]
  },
  {
   "cell_type": "code",
   "execution_count": 33,
   "metadata": {
    "collapsed": true
   },
   "outputs": [],
   "source": [
    "from sklearn.naive_bayes import GaussianNB"
   ]
  },
  {
   "cell_type": "code",
   "execution_count": 34,
   "metadata": {},
   "outputs": [
    {
     "data": {
      "text/plain": [
       "0.9495652173913044"
      ]
     },
     "execution_count": 34,
     "metadata": {},
     "output_type": "execute_result"
    }
   ],
   "source": [
    "cls=GaussianNB()\n",
    "cls.fit(X_train,y_train)\n",
    "cls.score(X_test,y_test)"
   ]
  },
  {
   "cell_type": "markdown",
   "metadata": {},
   "source": [
    "**It seems that GaussianNB is not doing super well. Is it because it assumes that the features are independent?**"
   ]
  },
  {
   "cell_type": "markdown",
   "metadata": {},
   "source": [
    "# 6) Gradient Boost classifier:"
   ]
  },
  {
   "cell_type": "code",
   "execution_count": 35,
   "metadata": {
    "collapsed": true
   },
   "outputs": [],
   "source": [
    "from sklearn.ensemble import GradientBoostingClassifier"
   ]
  },
  {
   "cell_type": "markdown",
   "metadata": {},
   "source": [
    "**Change learning_rate: default = 0.1**"
   ]
  },
  {
   "cell_type": "code",
   "execution_count": 36,
   "metadata": {},
   "outputs": [
    {
     "data": {
      "text/plain": [
       "[array([0.97402597, 0.98305085, 0.97368421]),\n",
       " array([0.97792208, 0.98435463, 0.97631579]),\n",
       " array([0.97272727, 0.97653194, 0.96842105])]"
      ]
     },
     "execution_count": 36,
     "metadata": {},
     "output_type": "execute_result"
    }
   ],
   "source": [
    "cv_scores = []\n",
    "for n in [0.05, 0.1, 0.5]:\n",
    "    cls=GradientBoostingClassifier(learning_rate=n)\n",
    "    cv_scores.append(cross_val_score(cls, X_train, y_train))\n",
    "    \n",
    "cv_scores"
   ]
  },
  {
   "cell_type": "markdown",
   "metadata": {},
   "source": [
    "**Change the number of boosting stages to perform: default n_estimators = 100**"
   ]
  },
  {
   "cell_type": "code",
   "execution_count": 37,
   "metadata": {},
   "outputs": [
    {
     "data": {
      "text/plain": [
       "[array([0.95714286, 0.97131682, 0.97105263]),\n",
       " array([0.97272727, 0.98305085, 0.975     ]),\n",
       " array([0.98051948, 0.98435463, 0.975     ])]"
      ]
     },
     "execution_count": 37,
     "metadata": {},
     "output_type": "execute_result"
    }
   ],
   "source": [
    "cv_scores = []\n",
    "for n in [20, 50, 120]:\n",
    "    cls=GradientBoostingClassifier(learning_rate=0.1, n_estimators=n)\n",
    "    cv_scores.append(cross_val_score(cls, X_train, y_train))\n",
    "    \n",
    "cv_scores"
   ]
  },
  {
   "cell_type": "markdown",
   "metadata": {},
   "source": [
    "**Change the maximum depth of the individual regression estimators. The maximum depth limits the number of nodes in the tree.**"
   ]
  },
  {
   "cell_type": "code",
   "execution_count": 38,
   "metadata": {},
   "outputs": [
    {
     "data": {
      "text/plain": [
       "[array([0.98311688, 0.98174707, 0.98026316]),\n",
       " array([0.97922078, 0.98305085, 0.97763158]),\n",
       " array([0.96883117, 0.96870926, 0.96973684])]"
      ]
     },
     "execution_count": 38,
     "metadata": {},
     "output_type": "execute_result"
    }
   ],
   "source": [
    "cv_scores = []\n",
    "for n in [1, 3, 5]:\n",
    "    cls=GradientBoostingClassifier(learning_rate=0.2, n_estimators=75, max_depth=n)\n",
    "    cv_scores.append(cross_val_score(cls, X_train, y_train))\n",
    "    \n",
    "cv_scores"
   ]
  },
  {
   "cell_type": "markdown",
   "metadata": {},
   "source": [
    "**Tesing with the test samples:**"
   ]
  },
  {
   "cell_type": "code",
   "execution_count": 39,
   "metadata": {},
   "outputs": [
    {
     "data": {
      "text/plain": [
       "0.9860869565217392"
      ]
     },
     "execution_count": 39,
     "metadata": {},
     "output_type": "execute_result"
    }
   ],
   "source": [
    "cls=GradientBoostingClassifier(learning_rate=0.2, n_estimators=75, max_depth=3)\n",
    "cls.fit(X_train,y_train)\n",
    "cls.score(X_test,y_test)"
   ]
  },
  {
   "cell_type": "markdown",
   "metadata": {},
   "source": [
    "# 7) Neural Network Multi-layer Perceptron classifier:"
   ]
  },
  {
   "cell_type": "code",
   "execution_count": 40,
   "metadata": {
    "collapsed": true
   },
   "outputs": [],
   "source": [
    "from sklearn.neural_network import MLPClassifier"
   ]
  },
  {
   "cell_type": "code",
   "execution_count": 41,
   "metadata": {},
   "outputs": [
    {
     "data": {
      "text/plain": [
       "0.9860869565217392"
      ]
     },
     "execution_count": 41,
     "metadata": {},
     "output_type": "execute_result"
    }
   ],
   "source": [
    "clf = MLPClassifier(activation='relu', solver='adam', alpha=1e-5, random_state=42)\n",
    "cls.fit(X_train,y_train)\n",
    "cls.score(X_test,y_test)"
   ]
  },
  {
   "cell_type": "code",
   "execution_count": 42,
   "metadata": {},
   "outputs": [
    {
     "data": {
      "text/plain": [
       "array([[54,  0,  0,  0,  0,  0,  0,  0,  0,  0,  0,  0],\n",
       "       [ 0, 55,  0,  0,  0,  0,  0,  0,  0,  1,  0,  0],\n",
       "       [ 0,  0, 62,  0,  0,  0,  0,  0,  0,  0,  1,  0],\n",
       "       [ 0,  0,  0, 90,  0,  0,  0,  0,  0,  0,  0,  0],\n",
       "       [ 0,  0,  0,  0, 27,  0,  0,  0,  0,  0,  0,  1],\n",
       "       [ 0,  0,  0,  0,  0, 49,  0,  0,  0,  0,  0,  0],\n",
       "       [ 0,  0,  0,  0,  0,  0, 53,  0,  0,  0,  0,  0],\n",
       "       [ 0,  0,  0,  0,  0,  0,  0, 22,  0,  0,  0,  0],\n",
       "       [ 0,  0,  0,  2,  0,  0,  0,  0, 24,  0,  0,  0],\n",
       "       [ 0,  0,  0,  0,  0,  0,  0,  0,  0, 42,  1,  0],\n",
       "       [ 0,  0,  1,  0,  0,  0,  0,  0,  0,  1, 77,  0],\n",
       "       [ 0,  0,  0,  0,  0,  0,  0,  0,  0,  0,  0, 12]], dtype=int64)"
      ]
     },
     "execution_count": 42,
     "metadata": {},
     "output_type": "execute_result"
    }
   ],
   "source": [
    "y_pred=cls.predict(X_test)\n",
    "\n",
    "confusion_matrix(y_test, y_pred)"
   ]
  },
  {
   "cell_type": "code",
   "execution_count": null,
   "metadata": {
    "collapsed": true
   },
   "outputs": [],
   "source": []
  },
  {
   "cell_type": "code",
   "execution_count": null,
   "metadata": {
    "collapsed": true
   },
   "outputs": [],
   "source": []
  }
 ],
 "metadata": {
  "kernelspec": {
   "display_name": "Python 3",
   "language": "python",
   "name": "python3"
  },
  "language_info": {
   "codemirror_mode": {
    "name": "ipython",
    "version": 3
   },
   "file_extension": ".py",
   "mimetype": "text/x-python",
   "name": "python",
   "nbconvert_exporter": "python",
   "pygments_lexer": "ipython3",
   "version": "3.6.5"
  }
 },
 "nbformat": 4,
 "nbformat_minor": 2
}
