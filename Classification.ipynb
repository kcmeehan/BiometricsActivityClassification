{
 "cells": [
  {
   "cell_type": "code",
   "execution_count": 2,
   "metadata": {
    "collapsed": true
   },
   "outputs": [],
   "source": [
    "#construct a decision tree classifier\n",
    "\n",
    "import numpy as np\n",
    "import matplotlib.pyplot as plt\n",
    "%matplotlib inline\n",
    "from sklearn.tree import DecisionTreeClassifier\n",
    "from sklearn.model_selection import cross_val_score\n",
    "import DataProcess as DP"
   ]
  },
  {
   "cell_type": "markdown",
   "metadata": {},
   "source": [
    "### Data Processing & Feature extraction"
   ]
  },
  {
   "cell_type": "code",
   "execution_count": 3,
   "metadata": {
    "collapsed": true
   },
   "outputs": [],
   "source": [
    "datalabels=[]\n",
    "for i in range(1,10):\n",
    "    feature_names,datalabelsi=np.load('data'+str(i)+'.npy')\n",
    "    datalabels.append(datalabelsi)"
   ]
  },
  {
   "cell_type": "code",
   "execution_count": 4,
   "metadata": {},
   "outputs": [
    {
     "data": {
      "text/plain": [
       "[(426, 198),\n",
       " (453, 198),\n",
       " (292, 198),\n",
       " (399, 198),\n",
       " (472, 198),\n",
       " (432, 198),\n",
       " (398, 198),\n",
       " (450, 198),\n",
       " (8, 198)]"
      ]
     },
     "execution_count": 4,
     "metadata": {},
     "output_type": "execute_result"
    }
   ],
   "source": [
    "[x.shape for x in datalabels]"
   ]
  },
  {
   "cell_type": "code",
   "execution_count": 5,
   "metadata": {
    "collapsed": true
   },
   "outputs": [],
   "source": [
    "# Stack data from different subjects into one chunk:\n",
    "datalabels=np.vstack(datalabels)"
   ]
  },
  {
   "cell_type": "markdown",
   "metadata": {},
   "source": [
    "# 1) Decision Tree Classification:"
   ]
  },
  {
   "cell_type": "code",
   "execution_count": 61,
   "metadata": {
    "collapsed": true
   },
   "outputs": [],
   "source": [
    "#shuffle data\n",
    "np.random.shuffle(datalabels)\n",
    "\n",
    "traindata=datalabels[:,:-1]\n",
    "trainlabels=datalabels[:,-1]"
   ]
  },
  {
   "cell_type": "code",
   "execution_count": 62,
   "metadata": {},
   "outputs": [
    {
     "data": {
      "text/plain": [
       "array([0.92619543, 0.89853556, 0.90566038])"
      ]
     },
     "execution_count": 62,
     "metadata": {},
     "output_type": "execute_result"
    }
   ],
   "source": [
    "cls=DecisionTreeClassifier(max_depth=8,min_impurity_decrease=0.015,max_leaf_nodes=14)\n",
    "cls.fit(traindata,trainlabels)\n",
    "cross_val_score(cls, traindata, trainlabels)"
   ]
  },
  {
   "cell_type": "markdown",
   "metadata": {},
   "source": [
    "#### Find out important nodes:"
   ]
  },
  {
   "cell_type": "code",
   "execution_count": 63,
   "metadata": {},
   "outputs": [
    {
     "data": {
      "text/plain": [
       "[['ankle_acc16g_y_median', 0.12772201096576985],\n",
       " ['chest_acc16g_y_std', 0.1271225366929746],\n",
       " ['ankle_gyro_z_std', 0.12171610853890512],\n",
       " ['hand_acc16g_y_peak', 0.1156391030995954],\n",
       " ['chest_mag_x_std', 0.10585548059556159],\n",
       " ['hand_acc16g_x_median', 0.09546583378341676],\n",
       " ['ankle_acc16g_x_std', 0.09193876824886076],\n",
       " ['chest_acc_power_ratio', 0.07997891003082246],\n",
       " ['hand_acc16g_z_mean', 0.07143771040202103],\n",
       " ['chest_gyro_y_mean', 0.0631235376420725],\n",
       " ['heart_rate_mean', 0.0],\n",
       " ['hand_temp_mean', 0.0],\n",
       " ['hand_acc16g_x_mean', 0.0],\n",
       " ['hand_acc16g_y_mean', 0.0],\n",
       " ['hand_gyro_x_mean', 0.0]]"
      ]
     },
     "execution_count": 63,
     "metadata": {},
     "output_type": "execute_result"
    }
   ],
   "source": [
    "y=cls.feature_importances_\n",
    "a=[[feature_names[i],y[i]] for i in range(len(y))]\n",
    "a.sort(key=lambda x:-x[1])\n",
    "a[:15]"
   ]
  },
  {
   "cell_type": "code",
   "execution_count": 64,
   "metadata": {
    "collapsed": true
   },
   "outputs": [],
   "source": [
    "from sklearn import tree\n",
    "from sklearn.externals.six import StringIO\n",
    "import pydotplus   #using pydotplus in windows10, python 3.6.X"
   ]
  },
  {
   "cell_type": "code",
   "execution_count": 69,
   "metadata": {
    "collapsed": true
   },
   "outputs": [
    {
     "data": {
      "text/plain": [
       "True"
      ]
     },
     "execution_count": 69,
     "metadata": {},
     "output_type": "execute_result"
    }
   ],
   "source": [
    "dot_data = StringIO()\n",
    "class_name=[DP.activity_dict[x] for x in np.unique(trainlabels)]\n",
    "\n",
    "tree.export_graphviz(cls, out_file=dot_data, \n",
    "                         feature_names=feature_names[:-1],  \n",
    "                         class_names=class_name, \n",
    "                         filled=True, rounded=True,  \n",
    "                         special_characters=True)  \n",
    "graph = pydotplus.graph_from_dot_data(dot_data.getvalue())\n",
    "# graph = pydot.graph_from_dot_data(dot_data.getvalue())\n",
    "# Image(graph.create_png())\n",
    "file_path='tree.png'\n",
    "pydotplus.graph_from_dot_data(dot_data.getvalue()).write_png(file_path)\n",
    "# i = misc.imread(file_path)\n",
    "# plt.imshow(i)"
   ]
  },
  {
   "cell_type": "code",
   "execution_count": 66,
   "metadata": {},
   "outputs": [
    {
     "data": {
      "text/plain": [
       "<pydotplus.graphviz.Dot at 0x2021c68fb38>"
      ]
     },
     "execution_count": 66,
     "metadata": {},
     "output_type": "execute_result"
    }
   ],
   "source": [
    "graph"
   ]
  },
  {
   "cell_type": "markdown",
   "metadata": {},
   "source": [
    "#### LOSO cross validation:"
   ]
  },
  {
   "cell_type": "code",
   "execution_count": 10,
   "metadata": {
    "collapsed": true
   },
   "outputs": [],
   "source": [
    "from sklearn.metrics import confusion_matrix\n",
    "from sklearn.model_selection import train_test_split"
   ]
  },
  {
   "cell_type": "code",
   "execution_count": 12,
   "metadata": {},
   "outputs": [
    {
     "name": "stdout",
     "output_type": "stream",
     "text": [
      "a= 14 mean_score= 0.8129711229360876\n"
     ]
    }
   ],
   "source": [
    "#check LOSO cross validation!\n",
    "\n",
    "mean_scores=[]\n",
    "for a in [14]:\n",
    "    scores=[]\n",
    "    for iout in range(1,9):\n",
    "\n",
    "        datalabels=[]\n",
    "        for i in range(1,iout):\n",
    "            feature_names,datalabelsi=np.load('data'+str(i)+'.npy')\n",
    "            datalabels.append(datalabelsi)\n",
    "\n",
    "        for i in range(iout+1,9):\n",
    "            feature_names,datalabelsi=np.load('data'+str(i)+'.npy')\n",
    "            datalabels.append(datalabelsi)\n",
    "\n",
    "        datalabels=np.vstack(datalabels)\n",
    "\n",
    "        feature_names,validdatalabels=np.load('data'+str(iout)+'.npy')\n",
    "        validdata=validdatalabels[:,:-1]\n",
    "        validlabels=validdatalabels[:,-1]\n",
    "\n",
    "        #shuffle data\n",
    "        np.random.shuffle(datalabels)\n",
    "\n",
    "        traindata=datalabels[:,:-1]\n",
    "        trainlabels=datalabels[:,-1]\n",
    "\n",
    "        cls=DecisionTreeClassifier(max_depth=8,min_impurity_decrease=0.015,max_leaf_nodes=14)\n",
    "        cls.fit(traindata,trainlabels)\n",
    "\n",
    "        scores.append(cls.score(validdata,validlabels))\n",
    "    mean_scores.append(np.mean(scores))\n",
    "    print('a=',a,'mean_score=',np.mean(scores))"
   ]
  },
  {
   "cell_type": "code",
   "execution_count": 13,
   "metadata": {},
   "outputs": [
    {
     "name": "stdout",
     "output_type": "stream",
     "text": [
      "validation scores: [0.7652582159624414, 0.8035320088300221, 0.8938356164383562, 0.7593984962406015, 0.8347457627118644, 0.7916666666666666, 0.8442211055276382, 0.8111111111111111]\n"
     ]
    }
   ],
   "source": [
    "print('validation scores:', scores)"
   ]
  },
  {
   "cell_type": "code",
   "execution_count": 14,
   "metadata": {},
   "outputs": [
    {
     "data": {
      "text/plain": [
       "array([[ 0, 43,  0,  0,  0,  0,  0,  0,  0,  0,  0,  0],\n",
       "       [ 0, 40,  0,  0,  0,  0,  0,  0,  0,  0,  0,  0],\n",
       "       [20,  2, 21,  0,  0,  0,  0,  0,  0,  0,  2,  0],\n",
       "       [ 0,  0,  0, 56,  0,  0,  1,  0,  0,  0,  0,  0],\n",
       "       [ 0,  0,  0,  0, 28,  0,  0,  0,  0,  0,  0,  0],\n",
       "       [ 0,  0,  0,  0,  0, 42,  0,  0,  0,  3,  0,  0],\n",
       "       [ 0,  0,  0,  0,  0,  0, 52,  0,  0,  0,  0,  0],\n",
       "       [ 0,  0,  0,  1,  0,  0,  0, 13,  0,  0,  0,  0],\n",
       "       [ 0,  0,  0,  0,  0,  0,  0,  0, 10,  0,  0,  0],\n",
       "       [ 0,  0,  0,  0,  0,  2,  0,  1,  0, 40,  0,  0],\n",
       "       [ 0,  0,  1,  0,  0,  0,  0,  0,  0,  0, 59,  0],\n",
       "       [ 0,  0,  0,  1,  8,  0,  0,  0,  0,  0,  0,  4]], dtype=int64)"
      ]
     },
     "execution_count": 14,
     "metadata": {},
     "output_type": "execute_result"
    }
   ],
   "source": [
    "y_pred=cls.predict(validdata)\n",
    "\n",
    "confusion_matrix(validlabels, y_pred)"
   ]
  },
  {
   "cell_type": "markdown",
   "metadata": {},
   "source": [
    "### Changing parameters in DecisionTreeClassifier:"
   ]
  },
  {
   "cell_type": "code",
   "execution_count": 11,
   "metadata": {
    "collapsed": true
   },
   "outputs": [],
   "source": [
    "X=datalabels[:,:-1]\n",
    "y=datalabels[:,-1]\n",
    "X_train, X_test, y_train, y_test = train_test_split(X, y, test_size=0.20, random_state=42)"
   ]
  },
  {
   "cell_type": "markdown",
   "metadata": {},
   "source": [
    "**Change depth of tree:**"
   ]
  },
  {
   "cell_type": "code",
   "execution_count": 16,
   "metadata": {},
   "outputs": [
    {
     "data": {
      "text/plain": [
       "[array([0.90779221, 0.92307692, 0.90131579]),\n",
       " array([0.93506494, 0.95827901, 0.94342105]),\n",
       " array([0.93506494, 0.95827901, 0.94342105])]"
      ]
     },
     "execution_count": 16,
     "metadata": {},
     "output_type": "execute_result"
    }
   ],
   "source": [
    "cv_scores = []\n",
    "for n in [5, 10, 15]:\n",
    "    cls=DecisionTreeClassifier(max_depth=n, random_state=42)\n",
    "    cv_scores.append(cross_val_score(cls, X_train, y_train))\n",
    "    \n",
    "cv_scores"
   ]
  },
  {
   "cell_type": "markdown",
   "metadata": {},
   "source": [
    "**Change minimum number of sample required for a leaf node: (default = 1)**"
   ]
  },
  {
   "cell_type": "code",
   "execution_count": 17,
   "metadata": {},
   "outputs": [
    {
     "data": {
      "text/plain": [
       "[array([0.93506494, 0.95827901, 0.94342105]),\n",
       " array([0.93636364, 0.94915254, 0.93947368]),\n",
       " array([0.93246753, 0.93872229, 0.92763158])]"
      ]
     },
     "execution_count": 17,
     "metadata": {},
     "output_type": "execute_result"
    }
   ],
   "source": [
    "cv_scores = []\n",
    "for n in [1, 4, 8]:\n",
    "    cls=DecisionTreeClassifier(max_depth=12, min_samples_leaf=n, random_state=42)\n",
    "    cv_scores.append(cross_val_score(cls, X_train, y_train))\n",
    "    \n",
    "cv_scores"
   ]
  },
  {
   "cell_type": "markdown",
   "metadata": {},
   "source": [
    "** Change maximum number of leaf nodes: (default = None)**"
   ]
  },
  {
   "cell_type": "code",
   "execution_count": 18,
   "metadata": {},
   "outputs": [
    {
     "data": {
      "text/plain": [
       "[array([0.91428571, 0.91916558, 0.89473684]),\n",
       " array([0.93766234, 0.93872229, 0.93026316]),\n",
       " array([0.94805195, 0.95436767, 0.93815789]),\n",
       " array([0.94155844, 0.95958279, 0.94078947]),\n",
       " array([0.93506494, 0.95827901, 0.94342105])]"
      ]
     },
     "execution_count": 18,
     "metadata": {},
     "output_type": "execute_result"
    }
   ],
   "source": [
    "cv_scores = []\n",
    "for n in [12, 20, 30, 40, None]:\n",
    "    cls=DecisionTreeClassifier(max_depth=12, min_samples_leaf=1, max_leaf_nodes=n, random_state=42)\n",
    "    cv_scores.append(cross_val_score(cls, X_train, y_train))\n",
    "    \n",
    "cv_scores"
   ]
  },
  {
   "cell_type": "markdown",
   "metadata": {},
   "source": [
    "**Testing with test samples:**"
   ]
  },
  {
   "cell_type": "code",
   "execution_count": 19,
   "metadata": {},
   "outputs": [
    {
     "data": {
      "text/plain": [
       "0.96"
      ]
     },
     "execution_count": 19,
     "metadata": {},
     "output_type": "execute_result"
    }
   ],
   "source": [
    "cls=DecisionTreeClassifier(max_depth=12, min_samples_leaf=1, max_leaf_nodes=None, random_state=42)\n",
    "cls.fit(X_train,y_train)\n",
    "cls.score(X_test,y_test)"
   ]
  },
  {
   "cell_type": "markdown",
   "metadata": {},
   "source": [
    "# 2) Random Forest Classifier:"
   ]
  },
  {
   "cell_type": "code",
   "execution_count": 20,
   "metadata": {
    "collapsed": true
   },
   "outputs": [],
   "source": [
    "from sklearn.ensemble import RandomForestClassifier"
   ]
  },
  {
   "cell_type": "markdown",
   "metadata": {},
   "source": [
    "#### Changing number of trees: (default n_estimators=10)"
   ]
  },
  {
   "cell_type": "code",
   "execution_count": 43,
   "metadata": {},
   "outputs": [
    {
     "data": {
      "text/plain": [
       "[array([0.95714286, 0.97653194, 0.96315789]),\n",
       " array([0.97272727, 0.98435463, 0.97631579]),\n",
       " array([0.98311688, 0.98435463, 0.98684211]),\n",
       " array([0.98571429, 0.98696219, 0.98421053])]"
      ]
     },
     "execution_count": 43,
     "metadata": {},
     "output_type": "execute_result"
    }
   ],
   "source": [
    "cv_scores = []\n",
    "for n in [5, 10, 15, 20]:\n",
    "    cls=RandomForestClassifier(n_estimators=n, random_state=42)\n",
    "    cv_scores.append(cross_val_score(cls, X_train, y_train))\n",
    "    \n",
    "cv_scores"
   ]
  },
  {
   "cell_type": "markdown",
   "metadata": {},
   "source": [
    "**Change depth of trees: (default max_depth=None)**"
   ]
  },
  {
   "cell_type": "code",
   "execution_count": 22,
   "metadata": {},
   "outputs": [
    {
     "data": {
      "text/plain": [
       "[array([0.41298701, 0.410691  , 0.42368421]),\n",
       " array([0.59220779, 0.55410691, 0.58289474]),\n",
       " array([0.8       , 0.80573664, 0.79342105]),\n",
       " array([0.92337662, 0.93611473, 0.925     ]),\n",
       " array([0.97532468, 0.98565841, 0.98289474]),\n",
       " array([0.98311688, 0.98696219, 0.98289474]),\n",
       " array([0.98311688, 0.98565841, 0.98157895]),\n",
       " array([0.98311688, 0.98565841, 0.98157895])]"
      ]
     },
     "execution_count": 22,
     "metadata": {},
     "output_type": "execute_result"
    }
   ],
   "source": [
    "cv_scores = []\n",
    "for n in [1, 2, 3, 4, 7, 10, 15, None]:\n",
    "    cls=RandomForestClassifier(n_estimators=12, max_depth=n, random_state=42)\n",
    "    cv_scores.append(cross_val_score(cls, X_train, y_train))\n",
    "    \n",
    "cv_scores"
   ]
  },
  {
   "cell_type": "markdown",
   "metadata": {},
   "source": [
    "**Testing with test samples:**"
   ]
  },
  {
   "cell_type": "code",
   "execution_count": 70,
   "metadata": {},
   "outputs": [
    {
     "data": {
      "text/plain": [
       "0.9686956521739131"
      ]
     },
     "execution_count": 70,
     "metadata": {},
     "output_type": "execute_result"
    }
   ],
   "source": [
    "cls=RandomForestClassifier(n_estimators=13, max_depth=8, max_leaf_nodes=25, random_state=42)\n",
    "cls.fit(X_train,y_train)\n",
    "cls.score(X_test,y_test)"
   ]
  },
  {
   "cell_type": "code",
   "execution_count": 73,
   "metadata": {},
   "outputs": [
    {
     "data": {
      "text/plain": [
       "[['ankle_acc16g_x_mean', 0.04579098236012126],\n",
       " ['ankle_acc16g_x_std', 0.0428716667704422],\n",
       " ['chest_mag_y_median', 0.040187762216172665],\n",
       " ['hand_acc16g_y_peak', 0.03687652252553823],\n",
       " ['chest_mag_y_mean', 0.028191026976163436],\n",
       " ['chest_acc_spectrum_energy', 0.02260209371667907],\n",
       " ['chest_acc16g_y_peak', 0.022151749348904314],\n",
       " ['chest_acc16g_x_std', 0.020969962876016972],\n",
       " ['hand_acc16g_y_kurtosis', 0.02036078596616982],\n",
       " ['ankle_gyro_z_std', 0.020123250645034577],\n",
       " ['hand_acc16g_x_median', 0.019909564447120054],\n",
       " ['ankle_gyro_z_median', 0.019734539007480713],\n",
       " ['hand_acc16g_y_std', 0.019651365344506063],\n",
       " ['chest_mag_y_peak', 0.019321737965442794],\n",
       " ['hand_gyro_z_std', 0.019180750453920203],\n",
       " ['ankle_acc16g_y_median', 0.017552059411974838],\n",
       " ['chest_mag_x_median', 0.01622981157052565],\n",
       " ['hand_acc16g_y_mean', 0.015789425016589063],\n",
       " ['chest_gyro_z_std', 0.0156535080904836],\n",
       " ['hand_mag_x_std', 0.015463975325369835],\n",
       " ['chest_gyro_x_std', 0.015066909992379559],\n",
       " ['ankle_acc16g_x_peak', 0.014686535845671846],\n",
       " ['ankle_acc_spectrum_energy', 0.014686499239560958],\n",
       " ['chest_acc16g_z_median', 0.014007165032339551],\n",
       " ['chest_temp_mean', 0.013389259833158976],\n",
       " ['ankle_gyro_x_std', 0.0125374354183465],\n",
       " ['hand_acc16g_x_mean', 0.012523041375879932],\n",
       " ['ankle_acc16g_y_mean', 0.012294008221831824],\n",
       " ['ankle_gyro_spectrum_energy', 0.012170250766469675],\n",
       " ['ankle_mag_y_std', 0.011992941298263615],\n",
       " ['hand_acc_vsum_welch', 0.011761862892638633],\n",
       " ['chest_gyro_spectrum_energy', 0.011334455699849883],\n",
       " ['chest_mag_z_mean', 0.011287208560476507],\n",
       " ['hand_acc_vsum_sp_entropy', 0.010624145917990685],\n",
       " ['ankle_acc16g_x_median', 0.010244185589619377],\n",
       " ['hand_mag_z_peak', 0.010217776612507227],\n",
       " ['hand_acc16g_x_std', 0.00986964433852597],\n",
       " ['ankle_gyro_z_peak', 0.00982807488415093],\n",
       " ['ankle_gyro_y_mean', 0.009501549107863673],\n",
       " ['hand_mag_x_mean', 0.009394124051973705],\n",
       " ['ankle_gyro_x_mean', 0.009348313047877789],\n",
       " ['ankle_acc16g_y_peak', 0.009132956832526153],\n",
       " ['ankle_acc16g_x_kurtosis', 0.008855875081059358],\n",
       " ['hand_mag_x_peak', 0.008674548142133505],\n",
       " ['ankle_gyro_y_peak', 0.008056787024981374],\n",
       " ['chest_gyro_y_peak', 0.007965674191439124],\n",
       " ['ankle_acc16g_z_std', 0.007866580761928595],\n",
       " ['chest_acc16g_x_peak', 0.0076222212816099925],\n",
       " ['ankle_mag_z_median', 0.006876745444803895],\n",
       " ['hand_acc16g_z_kurtosis', 0.006873463007461242]]"
      ]
     },
     "execution_count": 73,
     "metadata": {},
     "output_type": "execute_result"
    }
   ],
   "source": [
    "y=cls.feature_importances_\n",
    "a=[[feature_names[i],y[i]] for i in range(len(y))]\n",
    "a.sort(key=lambda x:-x[1])\n",
    "a[:50]"
   ]
  },
  {
   "cell_type": "code",
   "execution_count": 56,
   "metadata": {},
   "outputs": [
    {
     "name": "stdout",
     "output_type": "stream",
     "text": [
      "a= 1 mean_score= 0.9331191791311483\n"
     ]
    }
   ],
   "source": [
    "#check LOSO cross validation!\n",
    "\n",
    "mean_scores=[]\n",
    "for a in [1]:\n",
    "    scores=[]\n",
    "    for iout in range(1,9):\n",
    "\n",
    "        datalabels=[]\n",
    "        for i in range(1,iout):\n",
    "            feature_names,datalabelsi=np.load('data'+str(i)+'.npy')\n",
    "            datalabels.append(datalabelsi)\n",
    "\n",
    "        for i in range(iout+1,9):\n",
    "            feature_names,datalabelsi=np.load('data'+str(i)+'.npy')\n",
    "            datalabels.append(datalabelsi)\n",
    "\n",
    "        datalabels=np.vstack(datalabels)\n",
    "\n",
    "        feature_names,validdatalabels=np.load('data'+str(iout)+'.npy')\n",
    "        validdata=validdatalabels[:,:-1]\n",
    "        validlabels=validdatalabels[:,-1]\n",
    "\n",
    "        #shuffle data\n",
    "        np.random.shuffle(datalabels)\n",
    "\n",
    "        traindata=datalabels[:,:-1]\n",
    "        trainlabels=datalabels[:,-1]\n",
    "\n",
    "        cls=RandomForestClassifier(n_estimators=13, max_depth=8, max_leaf_nodes=25, random_state=42)\n",
    "        cls.fit(traindata,trainlabels)\n",
    "\n",
    "        scores.append(cls.score(validdata,validlabels))\n",
    "    mean_scores.append(np.mean(scores))\n",
    "    print('a=',a,'mean_score=',np.mean(scores))"
   ]
  },
  {
   "cell_type": "code",
   "execution_count": 57,
   "metadata": {},
   "outputs": [
    {
     "name": "stdout",
     "output_type": "stream",
     "text": [
      "validation scores: [0.8779342723004695, 0.9028697571743929, 0.928082191780822, 0.9624060150375939, 0.9491525423728814, 0.9027777777777778, 0.957286432160804, 0.9844444444444445]\n"
     ]
    }
   ],
   "source": [
    "print('validation scores:', scores)"
   ]
  },
  {
   "cell_type": "markdown",
   "metadata": {},
   "source": [
    "# 3) K-Nearest Neighbors Classifier:"
   ]
  },
  {
   "cell_type": "code",
   "execution_count": 24,
   "metadata": {
    "collapsed": true
   },
   "outputs": [],
   "source": [
    "from sklearn.neighbors import KNeighborsClassifier"
   ]
  },
  {
   "cell_type": "markdown",
   "metadata": {},
   "source": [
    "#### Change number of nearest neighbors: (default n_neighbors=5)"
   ]
  },
  {
   "cell_type": "code",
   "execution_count": 25,
   "metadata": {},
   "outputs": [
    {
     "data": {
      "text/plain": [
       "[array([0.97012987, 0.96610169, 0.97368421]),\n",
       " array([0.94545455, 0.95045632, 0.95526316]),\n",
       " array([0.95584416, 0.96349413, 0.96315789]),\n",
       " array([0.95064935, 0.9517601 , 0.95131579]),\n",
       " array([0.94285714, 0.94002608, 0.95263158]),\n",
       " array([0.94285714, 0.93872229, 0.94078947])]"
      ]
     },
     "execution_count": 25,
     "metadata": {},
     "output_type": "execute_result"
    }
   ],
   "source": [
    "cv_scores = []\n",
    "for n in [1, 2, 3, 5, 7, 9]:\n",
    "    cls=KNeighborsClassifier(n_neighbors=n)\n",
    "    cv_scores.append(cross_val_score(cls, X_train, y_train))\n",
    "    \n",
    "cv_scores"
   ]
  },
  {
   "cell_type": "markdown",
   "metadata": {},
   "source": [
    "**Change the weight function used in prediction: (default='uniform')**"
   ]
  },
  {
   "cell_type": "code",
   "execution_count": 26,
   "metadata": {},
   "outputs": [
    {
     "data": {
      "text/plain": [
       "[array([0.95584416, 0.96349413, 0.96315789]),\n",
       " array([0.95844156, 0.96740548, 0.96447368])]"
      ]
     },
     "execution_count": 26,
     "metadata": {},
     "output_type": "execute_result"
    }
   ],
   "source": [
    "cv_scores = []\n",
    "for n in ['uniform', 'distance']:\n",
    "    cls=KNeighborsClassifier(n_neighbors=3, weights=n)\n",
    "    cv_scores.append(cross_val_score(cls, X_train, y_train))\n",
    "    \n",
    "cv_scores"
   ]
  },
  {
   "cell_type": "markdown",
   "metadata": {},
   "source": [
    "**Testing with test samples:**"
   ]
  },
  {
   "cell_type": "code",
   "execution_count": 27,
   "metadata": {},
   "outputs": [
    {
     "data": {
      "text/plain": [
       "0.9617391304347827"
      ]
     },
     "execution_count": 27,
     "metadata": {},
     "output_type": "execute_result"
    }
   ],
   "source": [
    "cls=KNeighborsClassifier(n_neighbors=3, weights='distance')\n",
    "cls.fit(X_train,y_train)\n",
    "cls.score(X_test,y_test)"
   ]
  },
  {
   "cell_type": "markdown",
   "metadata": {},
   "source": [
    "# 4) Support Vector Machine:"
   ]
  },
  {
   "cell_type": "code",
   "execution_count": 6,
   "metadata": {
    "collapsed": true
   },
   "outputs": [],
   "source": [
    "from sklearn.svm import SVC"
   ]
  },
  {
   "cell_type": "code",
   "execution_count": 18,
   "metadata": {},
   "outputs": [
    {
     "data": {
      "text/plain": [
       "array([-10,  -9,  -8,  -7,  -6,  -5,  -4,  -3,  -2,  -1,   0,   1,   2,\n",
       "         3,   4,   5,   6,   7,   8,   9])"
      ]
     },
     "execution_count": 18,
     "metadata": {},
     "output_type": "execute_result"
    }
   ],
   "source": [
    "np.arange(-10,10)"
   ]
  },
  {
   "cell_type": "code",
   "execution_count": 22,
   "metadata": {},
   "outputs": [
    {
     "name": "stdout",
     "output_type": "stream",
     "text": [
      "[0.28555431 0.2765237  0.31638418]\n",
      "[0.81858903 0.83408578 0.80451977]\n",
      "[0.95856663 0.94808126 0.94011299]\n",
      "[0.96976484 0.96726862 0.97062147]\n",
      "[0.65845465 0.66139955 0.68135593]\n"
     ]
    }
   ],
   "source": [
    "for a in np.arange(-7,-2):\n",
    "    cls=SVC(kernel='rbf',gamma=(10.0**a))\n",
    "    print(cross_val_score(cls, X_train, y_train))"
   ]
  },
  {
   "cell_type": "markdown",
   "metadata": {},
   "source": [
    "**Change kernel type: [‘linear’, ‘poly’, ‘rbf’, ‘sigmoid’, ‘precomputed’]**"
   ]
  },
  {
   "cell_type": "code",
   "execution_count": 29,
   "metadata": {},
   "outputs": [
    {
     "data": {
      "text/plain": [
       "[array([0.98311688, 0.97653194, 0.97894737]),\n",
       " array([0.98441558, 0.97392438, 0.98157895]),\n",
       " array([0.25324675, 0.26205997, 0.26447368]),\n",
       " array([0.12597403, 0.12646675, 0.12763158])]"
      ]
     },
     "execution_count": 29,
     "metadata": {},
     "output_type": "execute_result"
    }
   ],
   "source": [
    "cv_scores = []\n",
    "for n in ['linear','poly', 'rbf', 'sigmoid']:\n",
    "    cls=SVC(kernel=n)\n",
    "    cv_scores.append(cross_val_score(cls, X_train, y_train))\n",
    "    \n",
    "cv_scores"
   ]
  },
  {
   "cell_type": "markdown",
   "metadata": {},
   "source": [
    "**Change parameters correspond to different kernel: gamma and degree. Both parameters don't seem to affect too much.**"
   ]
  },
  {
   "cell_type": "code",
   "execution_count": 30,
   "metadata": {},
   "outputs": [
    {
     "data": {
      "text/plain": [
       "[array([0.98311688, 0.97653194, 0.97894737]),\n",
       " array([0.98311688, 0.97653194, 0.97894737]),\n",
       " array([0.98311688, 0.97653194, 0.97894737]),\n",
       " array([0.98311688, 0.97653194, 0.97894737])]"
      ]
     },
     "execution_count": 30,
     "metadata": {},
     "output_type": "execute_result"
    }
   ],
   "source": [
    "cv_scores = []\n",
    "for n in ['auto', 1/100, 1/50, 1/200]:\n",
    "    cls=SVC(kernel='linear', gamma=n)\n",
    "    cv_scores.append(cross_val_score(cls, X_train, y_train))\n",
    "    \n",
    "cv_scores"
   ]
  },
  {
   "cell_type": "code",
   "execution_count": 31,
   "metadata": {},
   "outputs": [
    {
     "data": {
      "text/plain": [
       "[array([0.98311688, 0.97653194, 0.97763158]),\n",
       " array([0.98571429, 0.97653194, 0.98289474]),\n",
       " array([0.98441558, 0.97392438, 0.98157895]),\n",
       " array([0.98051948, 0.97392438, 0.98289474]),\n",
       " array([0.97922078, 0.97131682, 0.98421053])]"
      ]
     },
     "execution_count": 31,
     "metadata": {},
     "output_type": "execute_result"
    }
   ],
   "source": [
    "cv_scores = []\n",
    "for n in [1, 2, 3, 4, 5]:\n",
    "    cls=SVC(kernel='poly', degree=n)\n",
    "    cv_scores.append(cross_val_score(cls, X_train, y_train))\n",
    "    \n",
    "cv_scores"
   ]
  },
  {
   "cell_type": "markdown",
   "metadata": {},
   "source": [
    "**Testing with test samples:**"
   ]
  },
  {
   "cell_type": "code",
   "execution_count": 32,
   "metadata": {},
   "outputs": [
    {
     "data": {
      "text/plain": [
       "0.9860869565217392"
      ]
     },
     "execution_count": 32,
     "metadata": {},
     "output_type": "execute_result"
    }
   ],
   "source": [
    "cls=SVC(kernel='poly', degree=2)\n",
    "cls.fit(X_train,y_train)\n",
    "cls.score(X_test,y_test)"
   ]
  },
  {
   "cell_type": "markdown",
   "metadata": {},
   "source": [
    "# 5) Gaussian Naive Bayes:"
   ]
  },
  {
   "cell_type": "code",
   "execution_count": 33,
   "metadata": {
    "collapsed": true
   },
   "outputs": [],
   "source": [
    "from sklearn.naive_bayes import GaussianNB"
   ]
  },
  {
   "cell_type": "code",
   "execution_count": 34,
   "metadata": {},
   "outputs": [
    {
     "data": {
      "text/plain": [
       "0.9495652173913044"
      ]
     },
     "execution_count": 34,
     "metadata": {},
     "output_type": "execute_result"
    }
   ],
   "source": [
    "cls=GaussianNB()\n",
    "cls.fit(X_train,y_train)\n",
    "cls.score(X_test,y_test)"
   ]
  },
  {
   "cell_type": "markdown",
   "metadata": {},
   "source": [
    "**It seems that GaussianNB is not doing super well. Is it because it assumes that the features are independent?**"
   ]
  },
  {
   "cell_type": "markdown",
   "metadata": {},
   "source": [
    "# 6) Gradient Boost classifier:"
   ]
  },
  {
   "cell_type": "code",
   "execution_count": 35,
   "metadata": {
    "collapsed": true
   },
   "outputs": [],
   "source": [
    "from sklearn.ensemble import GradientBoostingClassifier"
   ]
  },
  {
   "cell_type": "markdown",
   "metadata": {},
   "source": [
    "**Change learning_rate: default = 0.1**"
   ]
  },
  {
   "cell_type": "code",
   "execution_count": 36,
   "metadata": {},
   "outputs": [
    {
     "data": {
      "text/plain": [
       "[array([0.97402597, 0.98305085, 0.97368421]),\n",
       " array([0.97792208, 0.98435463, 0.97631579]),\n",
       " array([0.97272727, 0.97653194, 0.96842105])]"
      ]
     },
     "execution_count": 36,
     "metadata": {},
     "output_type": "execute_result"
    }
   ],
   "source": [
    "cv_scores = []\n",
    "for n in [0.05, 0.1, 0.5]:\n",
    "    cls=GradientBoostingClassifier(learning_rate=n)\n",
    "    cv_scores.append(cross_val_score(cls, X_train, y_train))\n",
    "    \n",
    "cv_scores"
   ]
  },
  {
   "cell_type": "markdown",
   "metadata": {},
   "source": [
    "**Change the number of boosting stages to perform: default n_estimators = 100**"
   ]
  },
  {
   "cell_type": "code",
   "execution_count": 37,
   "metadata": {},
   "outputs": [
    {
     "data": {
      "text/plain": [
       "[array([0.95714286, 0.97131682, 0.97105263]),\n",
       " array([0.97272727, 0.98305085, 0.975     ]),\n",
       " array([0.98051948, 0.98435463, 0.975     ])]"
      ]
     },
     "execution_count": 37,
     "metadata": {},
     "output_type": "execute_result"
    }
   ],
   "source": [
    "cv_scores = []\n",
    "for n in [20, 50, 120]:\n",
    "    cls=GradientBoostingClassifier(learning_rate=0.1, n_estimators=n)\n",
    "    cv_scores.append(cross_val_score(cls, X_train, y_train))\n",
    "    \n",
    "cv_scores"
   ]
  },
  {
   "cell_type": "markdown",
   "metadata": {},
   "source": [
    "**Change the maximum depth of the individual regression estimators. The maximum depth limits the number of nodes in the tree.**"
   ]
  },
  {
   "cell_type": "code",
   "execution_count": 38,
   "metadata": {},
   "outputs": [
    {
     "data": {
      "text/plain": [
       "[array([0.98311688, 0.98174707, 0.98026316]),\n",
       " array([0.97922078, 0.98305085, 0.97763158]),\n",
       " array([0.96883117, 0.96870926, 0.96973684])]"
      ]
     },
     "execution_count": 38,
     "metadata": {},
     "output_type": "execute_result"
    }
   ],
   "source": [
    "cv_scores = []\n",
    "for n in [1, 3, 5]:\n",
    "    cls=GradientBoostingClassifier(learning_rate=0.2, n_estimators=75, max_depth=n)\n",
    "    cv_scores.append(cross_val_score(cls, X_train, y_train))\n",
    "    \n",
    "cv_scores"
   ]
  },
  {
   "cell_type": "markdown",
   "metadata": {},
   "source": [
    "**Tesing with the test samples:**"
   ]
  },
  {
   "cell_type": "code",
   "execution_count": 39,
   "metadata": {},
   "outputs": [
    {
     "data": {
      "text/plain": [
       "0.9860869565217392"
      ]
     },
     "execution_count": 39,
     "metadata": {},
     "output_type": "execute_result"
    }
   ],
   "source": [
    "cls=GradientBoostingClassifier(learning_rate=0.2, n_estimators=75, max_depth=3)\n",
    "cls.fit(X_train,y_train)\n",
    "cls.score(X_test,y_test)"
   ]
  },
  {
   "cell_type": "markdown",
   "metadata": {},
   "source": [
    "# 7) Neural Network Multi-layer Perceptron classifier:"
   ]
  },
  {
   "cell_type": "code",
   "execution_count": 40,
   "metadata": {
    "collapsed": true
   },
   "outputs": [],
   "source": [
    "from sklearn.neural_network import MLPClassifier"
   ]
  },
  {
   "cell_type": "code",
   "execution_count": 41,
   "metadata": {},
   "outputs": [
    {
     "data": {
      "text/plain": [
       "0.9860869565217392"
      ]
     },
     "execution_count": 41,
     "metadata": {},
     "output_type": "execute_result"
    }
   ],
   "source": [
    "clf = MLPClassifier(activation='relu', solver='adam', alpha=1e-5, random_state=42)\n",
    "cls.fit(X_train,y_train)\n",
    "cls.score(X_test,y_test)"
   ]
  },
  {
   "cell_type": "code",
   "execution_count": 42,
   "metadata": {},
   "outputs": [
    {
     "data": {
      "text/plain": [
       "array([[54,  0,  0,  0,  0,  0,  0,  0,  0,  0,  0,  0],\n",
       "       [ 0, 55,  0,  0,  0,  0,  0,  0,  0,  1,  0,  0],\n",
       "       [ 0,  0, 62,  0,  0,  0,  0,  0,  0,  0,  1,  0],\n",
       "       [ 0,  0,  0, 90,  0,  0,  0,  0,  0,  0,  0,  0],\n",
       "       [ 0,  0,  0,  0, 27,  0,  0,  0,  0,  0,  0,  1],\n",
       "       [ 0,  0,  0,  0,  0, 49,  0,  0,  0,  0,  0,  0],\n",
       "       [ 0,  0,  0,  0,  0,  0, 53,  0,  0,  0,  0,  0],\n",
       "       [ 0,  0,  0,  0,  0,  0,  0, 22,  0,  0,  0,  0],\n",
       "       [ 0,  0,  0,  2,  0,  0,  0,  0, 24,  0,  0,  0],\n",
       "       [ 0,  0,  0,  0,  0,  0,  0,  0,  0, 42,  1,  0],\n",
       "       [ 0,  0,  1,  0,  0,  0,  0,  0,  0,  1, 77,  0],\n",
       "       [ 0,  0,  0,  0,  0,  0,  0,  0,  0,  0,  0, 12]], dtype=int64)"
      ]
     },
     "execution_count": 42,
     "metadata": {},
     "output_type": "execute_result"
    }
   ],
   "source": [
    "y_pred=cls.predict(X_test)\n",
    "\n",
    "confusion_matrix(y_test, y_pred)"
   ]
  },
  {
   "cell_type": "code",
   "execution_count": null,
   "metadata": {
    "collapsed": true
   },
   "outputs": [],
   "source": []
  },
  {
   "cell_type": "code",
   "execution_count": null,
   "metadata": {
    "collapsed": true
   },
   "outputs": [],
   "source": []
  }
 ],
 "metadata": {
  "kernelspec": {
   "display_name": "Python 3",
   "language": "python",
   "name": "python3"
  },
  "language_info": {
   "codemirror_mode": {
    "name": "ipython",
    "version": 3
   },
   "file_extension": ".py",
   "mimetype": "text/x-python",
   "name": "python",
   "nbconvert_exporter": "python",
   "pygments_lexer": "ipython3",
   "version": "3.6.5"
  }
 },
 "nbformat": 4,
 "nbformat_minor": 2
}
