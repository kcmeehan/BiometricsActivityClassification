{
 "cells": [
  {
   "cell_type": "markdown",
   "metadata": {},
   "source": [
    "# Do PCA on data with raw and new features"
   ]
  },
  {
   "cell_type": "code",
   "execution_count": 83,
   "metadata": {
    "collapsed": true
   },
   "outputs": [],
   "source": [
    "import numpy as np\n",
    "import DataProcess as DP\n",
    "import FeatureCalculate as FC\n",
    "import pandas as pd\n",
    "import matplotlib.pyplot as plt\n",
    "from sklearn.preprocessing import StandardScaler\n",
    "%matplotlib inline"
   ]
  },
  {
   "cell_type": "code",
   "execution_count": 153,
   "metadata": {
    "collapsed": true
   },
   "outputs": [],
   "source": [
    "def preprocess(subjectID, redact=1000, rescale=False):\n",
    "    subj_filename = './PAMAP2_Dataset/Protocol/subject10'+str(subjectID)+'.dat'\n",
    "    col_labels = DP.col_labels\n",
    "    col_sublabels = DP.col_sublabels\n",
    "    HR_lim = DP.HR_lim\n",
    "    HR_rest = HR_lim[subjectID][0]\n",
    "    HR_max = HR_lim[subjectID][1]\n",
    "    X_std = np.empty(0)\n",
    "    \n",
    "    #generate dataframe from the raw data\n",
    "    data=pd.read_csv(subj_filename,sep=' ',names=col_labels,header=None)\n",
    "\n",
    "    #linear interpolate missing data\n",
    "    data=data.interpolate(method='linear')\n",
    "\n",
    "    #drop columns for orientation and acc6g\n",
    "    data=pd.DataFrame(data,columns=col_sublabels)\n",
    "\n",
    "    #convert to array\n",
    "    data=np.array(data)\n",
    "\n",
    "    #normalize heart rate\n",
    "    data[:,2]=DP.HR_norm(data[:,2],HR_rest,HR_max)\n",
    "    \n",
    "    #Rescale:\n",
    "    if rescale:\n",
    "        SS = StandardScaler(copy=True, with_mean=True, with_std=True)\n",
    "        data[:, 3:] = SS.fit_transform(data[:, 3:])\n",
    "        X_std = np.copy(data[:, 3:])\n",
    "        \n",
    "    #computes timestamp indices where the activity changes, including 0 and l\n",
    "    l=len(data)\n",
    "    r=np.arange(l-1)+1\n",
    "    split_ind=r[data[r,1]!=data[r-1,1]]\n",
    "    split_ind=np.concatenate(([0],split_ind,[l]))\n",
    "\n",
    "    #chop data into chunks of continuous time blocks with the same activity, also remove activity zero\n",
    "    chunks=[data[split_ind[i]:split_ind[i+1]] for i in range(len(split_ind)-1) if data[split_ind[i],1]!=0]\n",
    "        \n",
    "    #drop the first and last n samples. Only keep redacted samples that \n",
    "    #are of sufficient length\n",
    "        \n",
    "    chunks=[x[redact:-(redact+1)] for x in chunks if len(x) > (2*redact)]\n",
    "\n",
    "    return X_std, chunks\n",
    "\n",
    "def segmentation(chunks,T=512,stride=512):\n",
    "    data_segmented=[]\n",
    "    for chunk in chunks:\n",
    "        imax=(len(chunk)-T)//stride\n",
    "        for i in range(imax+1):\n",
    "            arr = chunk[i*stride:i*stride+T]\n",
    "            rawarr = arr[:, 2:].flatten('F')\n",
    "            farr = feature_extraction(arr)\n",
    "            totalarr = np.append(rawarr, farr)\n",
    "            data_segmented.append(totalarr)\n",
    "    return np.array(data_segmented)\n",
    "\n",
    "def feature_extraction(segment):\n",
    "    fc = FC.FeatureCalc()\n",
    "        \n",
    "    segment_df=pd.DataFrame(segment,columns=DP.col_sublabels)\n",
    "    fc.load_new_ts(segment_df)\n",
    "    arr=fc.calculate_features()\n",
    "    return arr"
   ]
  },
  {
   "cell_type": "markdown",
   "metadata": {},
   "source": [
    "### Load + Standardize data:\n",
    "\n",
    "Standardize each raw feature column of the spectrum (not segment chunks) from each subject individually."
   ]
  },
  {
   "cell_type": "code",
   "execution_count": 154,
   "metadata": {},
   "outputs": [],
   "source": [
    "specchunks=[]\n",
    "for i in [1]:\n",
    "    X_std, specchunk = preprocess(i, 1000, rescale=True)\n",
    "    specchunks.append(np.array(specchunk))"
   ]
  },
  {
   "cell_type": "markdown",
   "metadata": {},
   "source": [
    "### Data segmentation + Feature extraction + Flattening:"
   ]
  },
  {
   "cell_type": "code",
   "execution_count": 146,
   "metadata": {
    "collapsed": true
   },
   "outputs": [],
   "source": [
    "chunks=[]\n",
    "for i in range(len(specchunks)):\n",
    "    chunks.append(segmentation(specchunks[i],T=400,stride=400))"
   ]
  },
  {
   "cell_type": "code",
   "execution_count": 150,
   "metadata": {},
   "outputs": [
    {
     "name": "stdout",
     "output_type": "stream",
     "text": [
      "length of one data point should be: 31*(400+4)+1= 12525\n",
      "Shape of chunks from subjects:\n",
      "(547, 12525)\n",
      "(581, 12525)\n",
      "(375, 12525)\n",
      "(512, 12525)\n",
      "(606, 12525)\n",
      "(553, 12525)\n",
      "(510, 12525)\n",
      "(579, 12525)\n",
      "(10, 12525)\n"
     ]
    }
   ],
   "source": [
    "print(\"length of one data point should be: 31*(400+4)+1=\", 31*(400+4)+1)\n",
    "print(\"Shape of chunks from subjects:\")\n",
    "for i in range(len(chunks)):\n",
    "    print(chunks[i].shape)"
   ]
  },
  {
   "cell_type": "markdown",
   "metadata": {},
   "source": [
    "### Train-Testing Split:"
   ]
  },
  {
   "cell_type": "code",
   "execution_count": 148,
   "metadata": {
    "collapsed": true
   },
   "outputs": [],
   "source": [
    "# Stack data from different subjects into one chunk:\n",
    "data = np.vstack(chunks)\n",
    "\n",
    "#shuffle data\n",
    "np.random.shuffle(data)\n",
    "\n",
    "X = data[:,:-1]\n",
    "y = data[:,-1]"
   ]
  },
  {
   "cell_type": "code",
   "execution_count": 173,
   "metadata": {
    "collapsed": true
   },
   "outputs": [],
   "source": [
    "from sklearn.model_selection import cross_val_score, train_test_split\n",
    "\n",
    "X_train, X_test, y_train, y_test = train_test_split(X, y, test_size=0.20, random_state=42)"
   ]
  },
  {
   "cell_type": "markdown",
   "metadata": {},
   "source": [
    "## PCA"
   ]
  },
  {
   "cell_type": "code",
   "execution_count": 151,
   "metadata": {
    "collapsed": true
   },
   "outputs": [],
   "source": [
    "from sklearn.decomposition import PCA"
   ]
  },
  {
   "cell_type": "code",
   "execution_count": 193,
   "metadata": {},
   "outputs": [
    {
     "name": "stdout",
     "output_type": "stream",
     "text": [
      "Eigenvalues:\n",
      " [  3.46735934e+05   1.69062397e+03   7.26480278e+02 ...,   4.36680459e-17\n",
      "   1.83449323e-16   1.22004017e-17]\n"
     ]
    }
   ],
   "source": [
    "#Perform eigendecomposition on covariance matrix\n",
    "cov_mat = np.cov(X_train.T)\n",
    "eig_vals, eig_vecs = np.linalg.eig(cov_mat)\n",
    "\n",
    "#print('Eigenvectors:\\n', eig_vecs)\n",
    "print('Eigenvalues:\\n', np.abs(eig_vals))"
   ]
  },
  {
   "cell_type": "code",
   "execution_count": 192,
   "metadata": {},
   "outputs": [
    {
     "name": "stdout",
     "output_type": "stream",
     "text": [
      "Eigenvalues in descending order:\n"
     ]
    },
    {
     "data": {
      "image/png": "[encoded data removed]",
      "text/plain": [
       "<matplotlib.figure.Figure at 0x12712240>"
      ]
     },
     "metadata": {},
     "output_type": "display_data"
    }
   ],
   "source": [
    "#Make sure the list is sorted by decreasing eigenvalues\n",
    "#eig_pairs = [(np.abs(eig_vals[i]), eig_vecs[:,i]) for i in range(len(eig_vals))]\n",
    "n = len(np.abs(eig_vals))\n",
    "plt.plot(np.linspace(0, n-1, n), np.abs(eig_vals))\n",
    "plt.yscale('log')\n",
    "plt.xlabel('index')\n",
    "plt.ylabel('eigenvalue')\n",
    "plt.show()"
   ]
  },
  {
   "cell_type": "markdown",
   "metadata": {},
   "source": [
    "### Scree plot"
   ]
  },
  {
   "cell_type": "code",
   "execution_count": 178,
   "metadata": {},
   "outputs": [
    {
     "data": {
      "image/png": "[encoded data removed]",
      "text/plain": [
       "<matplotlib.figure.Figure at 0x126844a8>"
      ]
     },
     "metadata": {},
     "output_type": "display_data"
    }
   ],
   "source": [
    "pca = PCA().fit(X_train)\n",
    "plt.plot(np.cumsum(pca.explained_variance_ratio_))\n",
    "plt.xlabel('number of components')\n",
    "plt.ylabel('cumulative explained variance')\n",
    "plt.show()"
   ]
  },
  {
   "cell_type": "markdown",
   "metadata": {},
   "source": [
    "## Classification:\n",
    "(Using RandomForestClassifier)"
   ]
  },
  {
   "cell_type": "code",
   "execution_count": 202,
   "metadata": {
    "collapsed": true
   },
   "outputs": [],
   "source": [
    "from sklearn.metrics import confusion_matrix\n",
    "from sklearn.ensemble import RandomForestClassifier"
   ]
  },
  {
   "cell_type": "markdown",
   "metadata": {},
   "source": [
    "#### Keep n_compnents = 50 from PCA:"
   ]
  },
  {
   "cell_type": "code",
   "execution_count": 219,
   "metadata": {},
   "outputs": [
    {
     "name": "stdout",
     "output_type": "stream",
     "text": [
      "accuracy: 0.923976608187\n"
     ]
    }
   ],
   "source": [
    "pca50 = PCA(n_components=50)\n",
    "X_train50 = pca50.fit_transform(X_train)\n",
    "X_test50 = pca50.transform(X_test)\n",
    "\n",
    "cls50=RandomForestClassifier(random_state=42)\n",
    "cls50.fit(X_train50,y_train)\n",
    "print('accuracy:', cls50.score(X_test50,y_test))"
   ]
  },
  {
   "cell_type": "markdown",
   "metadata": {},
   "source": [
    "#### Keep n_compnents = 100 from PCA:"
   ]
  },
  {
   "cell_type": "code",
   "execution_count": 220,
   "metadata": {},
   "outputs": [
    {
     "name": "stdout",
     "output_type": "stream",
     "text": [
      "accuracy: 0.914619883041\n"
     ]
    }
   ],
   "source": [
    "pca100 = PCA(n_components=100)\n",
    "X_train100 = pca100.fit_transform(X_train)\n",
    "X_test100 = pca100.transform(X_test)\n",
    "\n",
    "cls100=RandomForestClassifier(random_state=42)\n",
    "cls100.fit(X_train100,y_train)\n",
    "print('accuracy:', cls100.score(X_test100,y_test))"
   ]
  },
  {
   "cell_type": "code",
   "execution_count": 226,
   "metadata": {},
   "outputs": [],
   "source": [
    "train_scores = []\n",
    "test_scores = []\n",
    "components = [2,4,6,8,10,15,20,25,50,100,150,200,300,400,600]\n",
    "for i in components:\n",
    "    pca = PCA(n_components=i)\n",
    "    X_tr = pca.fit_transform(X_train)\n",
    "    X_te = pca.transform(X_test)\n",
    "    \n",
    "    cls = RandomForestClassifier(random_state=42)\n",
    "    cls.fit(X_tr,y_train)\n",
    "    train_scores.append(cls.score(X_tr,y_train))\n",
    "    test_scores.append(cls.score(X_te,y_test))"
   ]
  },
  {
   "cell_type": "code",
   "execution_count": 227,
   "metadata": {},
   "outputs": [
    {
     "data": {
      "image/png": "[encoded data removed]",
      "text/plain": [
       "<matplotlib.figure.Figure at 0x124f0eb8>"
      ]
     },
     "metadata": {},
     "output_type": "display_data"
    }
   ],
   "source": [
    "plt.plot(components, train_scores, label='train_score')\n",
    "plt.plot(components, test_scores, label='test_score')\n",
    "plt.xlabel('number of components')\n",
    "plt.legend()\n",
    "plt.show()"
   ]
  },
  {
   "cell_type": "markdown",
   "metadata": {},
   "source": [
    "#### Should only keep the number of components < 50, after doing PCA transformation."
   ]
  },
  {
   "cell_type": "code",
   "execution_count": null,
   "metadata": {
    "collapsed": true
   },
   "outputs": [],
   "source": []
  },
  {
   "cell_type": "code",
   "execution_count": null,
   "metadata": {
    "collapsed": true
   },
   "outputs": [],
   "source": []
  }
 ],
 "metadata": {
  "kernelspec": {
   "display_name": "Python 3",
   "language": "python",
   "name": "python3"
  },
  "language_info": {
   "codemirror_mode": {
    "name": "ipython",
    "version": 3
   },
   "file_extension": ".py",
   "mimetype": "text/x-python",
   "name": "python",
   "nbconvert_exporter": "python",
   "pygments_lexer": "ipython3",
   "version": "3.6.6"
  }
 },
 "nbformat": 4,
 "nbformat_minor": 2
}
