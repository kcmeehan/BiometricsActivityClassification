{
 "cells": [
  {
   "cell_type": "markdown",
   "metadata": {},
   "source": [
    "#### Here we load all the data, interpolate it, redact and combine into one dataframe"
   ]
  },
  {
   "cell_type": "code",
   "execution_count": 4,
   "metadata": {},
   "outputs": [],
   "source": [
    "import pandas as pd\n",
    "import numpy as np\n",
    "import os\n",
    "import glob\n",
    "import time"
   ]
  },
  {
   "cell_type": "code",
   "execution_count": 81,
   "metadata": {},
   "outputs": [],
   "source": [
    "columns_to_keep = ['timestamp', 'activityID', 'heart_rate','hand_temp', 'hand_acc16g_x', 'hand_acc16g_y', \n",
    "                   'hand_acc16g_z','hand_gyro_x', 'hand_gyro_y', 'hand_gyro_z', \n",
    "                   'hand_mag_x', 'hand_mag_y', 'hand_mag_z','chest_temp', 'chest_acc16g_x', \n",
    "                   'chest_acc16g_y', 'chest_acc16g_z','chest_gyro_x', 'chest_gyro_y', \n",
    "                   'chest_gyro_z', 'chest_mag_x', 'chest_mag_y', 'chest_mag_z','ankle_temp', \n",
    "                   'ankle_acc16g_x', 'ankle_acc16g_y', 'ankle_acc16g_z','ankle_gyro_x', \n",
    "                   'ankle_gyro_y', 'ankle_gyro_z', 'ankle_mag_x', 'ankle_mag_y', 'ankle_mag_z','subject']\n",
    "                   "
   ]
  },
  {
   "cell_type": "code",
   "execution_count": 71,
   "metadata": {},
   "outputs": [],
   "source": [
    "#Functions to load data \n",
    "#Slightly adapted from Chiu-Yun's code\n",
    "\n",
    "def exportColName():\n",
    "    \n",
    "    '''\n",
    "    Create columns names\n",
    "    '''\n",
    "    \n",
    "    handColName=['hand_temp', 'hand_acc16g_x', 'hand_acc16g_y', 'hand_acc16g_z', 'hand_acc6g_x', 'hand_acc6g_y', 'hand_acc6g_z', \n",
    "             'hand_gyro_x', 'hand_gyro_y', 'hand_gyro_z', 'hand_mag_x', 'hand_mag_y', 'hand_mag_z', 'hand_ori_0', 'hand_ori_1', \n",
    "             'hand_ori_2', 'hand_ori_3']\n",
    "    chestColName=['chest_temp', 'chest_acc16g_x', 'chest_acc16g_y', 'chest_acc16g_z', 'chest_acc6g_x', 'chest_acc6g_y', \n",
    "                  'chest_acc6g_z', 'chest_gyro_x', 'chest_gyro_y', 'chest_gyro_z', 'chest_mag_x', 'chest_mag_y', 'chest_mag_z', \n",
    "                  'chest_ori_0', 'chest_ori_1', 'chest_ori_2', 'chest_ori_3']\n",
    "    ankleColName=['ankle_temp', 'ankle_acc16g_x', 'ankle_acc16g_y', 'ankle_acc16g_z', 'ankle_acc6g_x', 'ankle_acc6g_y', \n",
    "                  'ankle_acc6g_z', 'ankle_gyro_x', 'ankle_gyro_y', 'ankle_gyro_z', 'ankle_mag_x', 'ankle_mag_y', 'ankle_mag_z', \n",
    "                  'ankle_ori_0', 'ankle_ori_1', 'ankle_ori_2', 'ankle_ori_3']\n",
    "    return ['timestamp', 'activityID', 'heart_rate']+handColName+chestColName+ankleColName\n",
    "\n",
    "\n",
    "def remove_activity_start_end(df,n=1000,dt=0.01):\n",
    "    \n",
    "    '''\n",
    "    Remove n samples from the start and end of each activity within a subject dataframe. The Reiss paper used\n",
    "    10 seconds or 1000 samples\n",
    "    '''\n",
    "    \n",
    "    df_redacted_parts = []\n",
    "        \n",
    "    #Detect changes in activity ID\n",
    "    activities = df['activityID']\n",
    "    diffs = np.diff(activities)\n",
    "    gap_indices = np.where(abs(diffs)>1e-6)[0]\n",
    "    \n",
    "    #Generate a list of the start and end indices of each activity\n",
    "    gap_indices_list = []\n",
    "\n",
    "    if len(gap_indices > 0):\n",
    "        for i in range(len(gap_indices)):\n",
    "            if i == 0:\n",
    "                gap_indices_list.append((0,gap_indices[i]))\n",
    "            else:\n",
    "                gap_indices_list.append((gap_indices[i-1]+1,gap_indices[i]))\n",
    "                \n",
    "        gap_indices_list.append((gap_indices[-1]+1,len(df)))\n",
    "    else:\n",
    "        gap_indices_list.append((0,len(df)))\n",
    "    \n",
    "    #Loop though the start and end index pairs and remove the first and last n datapoints\n",
    "    \n",
    "    for index_pair in gap_indices_list:\n",
    "        if ((index_pair[1]-n)-(index_pair[0]+n)) > 0:\n",
    "            df_redacted_parts.append(df.loc[index_pair[0]+n:index_pair[1]-n])\n",
    "        else:\n",
    "            print(index_pair[1]-n,index_pair[0]+n)\n",
    "    \n",
    "    redacted_df = pd.concat(df_redacted_parts)\n",
    "    \n",
    "    return redacted_df\n",
    "        \n",
    "\n",
    "def loadSubject(filename):\n",
    "    \n",
    "    '''\n",
    "    Load a single subject from file and return a dataframe\n",
    "    '''\n",
    "    \n",
    "    col=exportColName()\n",
    "    index = int(filename.split('.')[0][-1])\n",
    "    tempData = pd.read_csv(filename, sep=' ', names=col)\n",
    "    tempData['subject'] = (index)*np.ones(len(tempData))\n",
    "    interpData = interpolate_all(tempData)\n",
    "    redacteddf = remove_activity_start_end(interpData)\n",
    "    redacteddf.reset_index(inplace=True)\n",
    "    return redacteddf\n",
    "\n",
    "def interpolate_all(df):\n",
    "    \n",
    "    '''\n",
    "    Interpolate values in the columns of a dataframe so that they have the\n",
    "    same sampling rate as the other columns\n",
    "    '''\n",
    "    \n",
    "    df.interpolate(inplace=True)\n",
    "    \n",
    "    return df\n",
    "\n",
    "def loadAllSubjects(dirname):\n",
    "    \n",
    "    '''\n",
    "    Load all subject files & return a dataframe\n",
    "    '''\n",
    "    \n",
    "    if os.path.exists(dirname):\n",
    "        dfiles = list(sorted(glob.glob(\"%s/*.dat\" %dirname)))\n",
    "    else:\n",
    "        print (\"Given dirname %s not found\" %dirname)\n",
    "        \n",
    "    col=exportColName()\n",
    "    dfs = []\n",
    "    \n",
    "    for i in range(len(dfiles)):\n",
    "        filename=dfiles[i]\n",
    "        df = loadSubject(filename)\n",
    "        dfs.append(df)\n",
    "    \n",
    "    allData = pd.concat(dfs)\n",
    "    allData.dropna(inplace=True)\n",
    "    allData.reset_index(drop=True,inplace=True)\n",
    "    \n",
    "    return allData\n"
   ]
  },
  {
   "cell_type": "code",
   "execution_count": 63,
   "metadata": {},
   "outputs": [],
   "source": [
    "t1 = \"/Users/rmartinshort/Documents/Berkeley/GDSO/PAMAP2_data/PAMAP2_Dataset/Protocol/subject101.dat\""
   ]
  },
  {
   "cell_type": "code",
   "execution_count": 64,
   "metadata": {},
   "outputs": [
    {
     "name": "stdout",
     "output_type": "stream",
     "text": [
      "[  2927  30114  53594  75311  84966 108539 118759 141700 154280 162400\n",
      " 173395 180875 184561 192331 199750 223758 246011 253174 273439 283095\n",
      " 306670 312741 334006 348887 361799]\n"
     ]
    }
   ],
   "source": [
    "df1 = loadSubject(t1)"
   ]
  },
  {
   "cell_type": "code",
   "execution_count": 65,
   "metadata": {},
   "outputs": [
    {
     "data": {
      "text/plain": [
       "324418"
      ]
     },
     "execution_count": 65,
     "metadata": {},
     "output_type": "execute_result"
    }
   ],
   "source": [
    "len(df1)"
   ]
  },
  {
   "cell_type": "code",
   "execution_count": 69,
   "metadata": {},
   "outputs": [],
   "source": [
    "protocol_datadir = \"/Users/rmartinshort/Documents/Berkeley/GDSO/PAMAP2_data/PAMAP2_Dataset/Protocol\"\n",
    "optional_datadir = \"/Users/rmartinshort/Documents/Berkeley/GDSO/PAMAP2_data/PAMAP2_Dataset/Optional\""
   ]
  },
  {
   "cell_type": "code",
   "execution_count": 72,
   "metadata": {},
   "outputs": [
    {
     "name": "stdout",
     "output_type": "stream",
     "text": [
      "169395 170309\n",
      "328576 330575\n",
      "360817 362561\n",
      "50160 52154\n",
      "572 1000\n",
      "7477 8964\n"
     ]
    }
   ],
   "source": [
    "st= time.time()\n",
    "all_data_protocol = loadAllSubjects(protocol_datadir)\n",
    "ed = time.time()"
   ]
  },
  {
   "cell_type": "code",
   "execution_count": 73,
   "metadata": {},
   "outputs": [
    {
     "name": "stdout",
     "output_type": "stream",
     "text": [
      "65.4854679107666\n"
     ]
    }
   ],
   "source": [
    "print(ed-st)"
   ]
  },
  {
   "cell_type": "code",
   "execution_count": 74,
   "metadata": {},
   "outputs": [
    {
     "name": "stdout",
     "output_type": "stream",
     "text": [
      "128963 129524\n",
      "167472 168617\n",
      "179412 180652\n",
      "192472 194008\n"
     ]
    }
   ],
   "source": [
    "st= time.time()\n",
    "all_data_optional = loadAllSubjects(optional_datadir)\n",
    "ed = time.time()"
   ]
  },
  {
   "cell_type": "code",
   "execution_count": 75,
   "metadata": {},
   "outputs": [
    {
     "name": "stdout",
     "output_type": "stream",
     "text": [
      "23.092968940734863\n"
     ]
    }
   ],
   "source": [
    "print(ed-st)"
   ]
  },
  {
   "cell_type": "code",
   "execution_count": 76,
   "metadata": {},
   "outputs": [],
   "source": [
    "all_data = pd.concat([all_data_protocol,all_data_optional])"
   ]
  },
  {
   "cell_type": "code",
   "execution_count": 77,
   "metadata": {},
   "outputs": [
    {
     "data": {
      "text/html": [
       "<div>\n",
       "<style scoped>\n",
       "    .dataframe tbody tr th:only-of-type {\n",
       "        vertical-align: middle;\n",
       "    }\n",
       "\n",
       "    .dataframe tbody tr th {\n",
       "        vertical-align: top;\n",
       "    }\n",
       "\n",
       "    .dataframe thead th {\n",
       "        text-align: right;\n",
       "    }\n",
       "</style>\n",
       "<table border=\"1\" class=\"dataframe\">\n",
       "  <thead>\n",
       "    <tr style=\"text-align: right;\">\n",
       "      <th></th>\n",
       "      <th>index</th>\n",
       "      <th>timestamp</th>\n",
       "      <th>activityID</th>\n",
       "      <th>heart_rate</th>\n",
       "      <th>hand_temp</th>\n",
       "      <th>hand_acc16g_x</th>\n",
       "      <th>hand_acc16g_y</th>\n",
       "      <th>hand_acc16g_z</th>\n",
       "      <th>hand_acc6g_x</th>\n",
       "      <th>hand_acc6g_y</th>\n",
       "      <th>...</th>\n",
       "      <th>ankle_gyro_y</th>\n",
       "      <th>ankle_gyro_z</th>\n",
       "      <th>ankle_mag_x</th>\n",
       "      <th>ankle_mag_y</th>\n",
       "      <th>ankle_mag_z</th>\n",
       "      <th>ankle_ori_0</th>\n",
       "      <th>ankle_ori_1</th>\n",
       "      <th>ankle_ori_2</th>\n",
       "      <th>ankle_ori_3</th>\n",
       "      <th>subject</th>\n",
       "    </tr>\n",
       "  </thead>\n",
       "  <tbody>\n",
       "    <tr>\n",
       "      <th>0</th>\n",
       "      <td>1000</td>\n",
       "      <td>18.38</td>\n",
       "      <td>0</td>\n",
       "      <td>101.0</td>\n",
       "      <td>30.125</td>\n",
       "      <td>2.38774</td>\n",
       "      <td>8.71824</td>\n",
       "      <td>3.93367</td>\n",
       "      <td>2.29398</td>\n",
       "      <td>8.62749</td>\n",
       "      <td>...</td>\n",
       "      <td>0.007882</td>\n",
       "      <td>0.021020</td>\n",
       "      <td>-60.8641</td>\n",
       "      <td>-38.6290</td>\n",
       "      <td>-59.0093</td>\n",
       "      <td>1.0</td>\n",
       "      <td>0.0</td>\n",
       "      <td>0.0</td>\n",
       "      <td>0.0</td>\n",
       "      <td>1.0</td>\n",
       "    </tr>\n",
       "    <tr>\n",
       "      <th>1</th>\n",
       "      <td>1001</td>\n",
       "      <td>18.39</td>\n",
       "      <td>0</td>\n",
       "      <td>101.0</td>\n",
       "      <td>30.125</td>\n",
       "      <td>2.50057</td>\n",
       "      <td>8.83085</td>\n",
       "      <td>3.89650</td>\n",
       "      <td>2.28004</td>\n",
       "      <td>8.70315</td>\n",
       "      <td>...</td>\n",
       "      <td>-0.005661</td>\n",
       "      <td>0.005893</td>\n",
       "      <td>-60.7469</td>\n",
       "      <td>-38.8570</td>\n",
       "      <td>-58.7652</td>\n",
       "      <td>1.0</td>\n",
       "      <td>0.0</td>\n",
       "      <td>0.0</td>\n",
       "      <td>0.0</td>\n",
       "      <td>1.0</td>\n",
       "    </tr>\n",
       "    <tr>\n",
       "      <th>2</th>\n",
       "      <td>1002</td>\n",
       "      <td>18.40</td>\n",
       "      <td>0</td>\n",
       "      <td>101.0</td>\n",
       "      <td>30.125</td>\n",
       "      <td>2.23391</td>\n",
       "      <td>8.71874</td>\n",
       "      <td>3.85439</td>\n",
       "      <td>2.28143</td>\n",
       "      <td>8.77874</td>\n",
       "      <td>...</td>\n",
       "      <td>-0.029526</td>\n",
       "      <td>0.032437</td>\n",
       "      <td>-60.7410</td>\n",
       "      <td>-38.4355</td>\n",
       "      <td>-57.2754</td>\n",
       "      <td>1.0</td>\n",
       "      <td>0.0</td>\n",
       "      <td>0.0</td>\n",
       "      <td>0.0</td>\n",
       "      <td>1.0</td>\n",
       "    </tr>\n",
       "    <tr>\n",
       "      <th>3</th>\n",
       "      <td>1003</td>\n",
       "      <td>18.41</td>\n",
       "      <td>0</td>\n",
       "      <td>101.0</td>\n",
       "      <td>30.125</td>\n",
       "      <td>2.12001</td>\n",
       "      <td>8.64374</td>\n",
       "      <td>3.85294</td>\n",
       "      <td>2.26535</td>\n",
       "      <td>8.73348</td>\n",
       "      <td>...</td>\n",
       "      <td>-0.016553</td>\n",
       "      <td>-0.010742</td>\n",
       "      <td>-60.5084</td>\n",
       "      <td>-39.3196</td>\n",
       "      <td>-57.7818</td>\n",
       "      <td>1.0</td>\n",
       "      <td>0.0</td>\n",
       "      <td>0.0</td>\n",
       "      <td>0.0</td>\n",
       "      <td>1.0</td>\n",
       "    </tr>\n",
       "    <tr>\n",
       "      <th>4</th>\n",
       "      <td>1004</td>\n",
       "      <td>18.42</td>\n",
       "      <td>0</td>\n",
       "      <td>101.0</td>\n",
       "      <td>30.125</td>\n",
       "      <td>2.20280</td>\n",
       "      <td>8.72071</td>\n",
       "      <td>4.04636</td>\n",
       "      <td>2.26484</td>\n",
       "      <td>8.65799</td>\n",
       "      <td>...</td>\n",
       "      <td>-0.038506</td>\n",
       "      <td>0.012706</td>\n",
       "      <td>-59.9536</td>\n",
       "      <td>-38.7909</td>\n",
       "      <td>-57.5332</td>\n",
       "      <td>1.0</td>\n",
       "      <td>0.0</td>\n",
       "      <td>0.0</td>\n",
       "      <td>0.0</td>\n",
       "      <td>1.0</td>\n",
       "    </tr>\n",
       "  </tbody>\n",
       "</table>\n",
       "<p>5 rows × 56 columns</p>\n",
       "</div>"
      ],
      "text/plain": [
       "   index  timestamp  activityID  heart_rate  hand_temp  hand_acc16g_x  \\\n",
       "0   1000      18.38           0       101.0     30.125        2.38774   \n",
       "1   1001      18.39           0       101.0     30.125        2.50057   \n",
       "2   1002      18.40           0       101.0     30.125        2.23391   \n",
       "3   1003      18.41           0       101.0     30.125        2.12001   \n",
       "4   1004      18.42           0       101.0     30.125        2.20280   \n",
       "\n",
       "   hand_acc16g_y  hand_acc16g_z  hand_acc6g_x  hand_acc6g_y   ...     \\\n",
       "0        8.71824        3.93367       2.29398       8.62749   ...      \n",
       "1        8.83085        3.89650       2.28004       8.70315   ...      \n",
       "2        8.71874        3.85439       2.28143       8.77874   ...      \n",
       "3        8.64374        3.85294       2.26535       8.73348   ...      \n",
       "4        8.72071        4.04636       2.26484       8.65799   ...      \n",
       "\n",
       "   ankle_gyro_y  ankle_gyro_z  ankle_mag_x  ankle_mag_y  ankle_mag_z  \\\n",
       "0      0.007882      0.021020     -60.8641     -38.6290     -59.0093   \n",
       "1     -0.005661      0.005893     -60.7469     -38.8570     -58.7652   \n",
       "2     -0.029526      0.032437     -60.7410     -38.4355     -57.2754   \n",
       "3     -0.016553     -0.010742     -60.5084     -39.3196     -57.7818   \n",
       "4     -0.038506      0.012706     -59.9536     -38.7909     -57.5332   \n",
       "\n",
       "   ankle_ori_0  ankle_ori_1  ankle_ori_2  ankle_ori_3  subject  \n",
       "0          1.0          0.0          0.0          0.0      1.0  \n",
       "1          1.0          0.0          0.0          0.0      1.0  \n",
       "2          1.0          0.0          0.0          0.0      1.0  \n",
       "3          1.0          0.0          0.0          0.0      1.0  \n",
       "4          1.0          0.0          0.0          0.0      1.0  \n",
       "\n",
       "[5 rows x 56 columns]"
      ]
     },
     "execution_count": 77,
     "metadata": {},
     "output_type": "execute_result"
    }
   ],
   "source": [
    "all_data.head()"
   ]
  },
  {
   "cell_type": "markdown",
   "metadata": {},
   "source": [
    "### Check for NaNs "
   ]
  },
  {
   "cell_type": "code",
   "execution_count": 78,
   "metadata": {},
   "outputs": [
    {
     "data": {
      "text/plain": [
       "index             0.0\n",
       "timestamp         0.0\n",
       "activityID        0.0\n",
       "heart_rate        0.0\n",
       "hand_temp         0.0\n",
       "hand_acc16g_x     0.0\n",
       "hand_acc16g_y     0.0\n",
       "hand_acc16g_z     0.0\n",
       "hand_acc6g_x      0.0\n",
       "hand_acc6g_y      0.0\n",
       "hand_acc6g_z      0.0\n",
       "hand_gyro_x       0.0\n",
       "hand_gyro_y       0.0\n",
       "hand_gyro_z       0.0\n",
       "hand_mag_x        0.0\n",
       "hand_mag_y        0.0\n",
       "hand_mag_z        0.0\n",
       "hand_ori_0        0.0\n",
       "hand_ori_1        0.0\n",
       "hand_ori_2        0.0\n",
       "hand_ori_3        0.0\n",
       "chest_temp        0.0\n",
       "chest_acc16g_x    0.0\n",
       "chest_acc16g_y    0.0\n",
       "chest_acc16g_z    0.0\n",
       "chest_acc6g_x     0.0\n",
       "chest_acc6g_y     0.0\n",
       "chest_acc6g_z     0.0\n",
       "chest_gyro_x      0.0\n",
       "chest_gyro_y      0.0\n",
       "chest_gyro_z      0.0\n",
       "chest_mag_x       0.0\n",
       "chest_mag_y       0.0\n",
       "chest_mag_z       0.0\n",
       "chest_ori_0       0.0\n",
       "chest_ori_1       0.0\n",
       "chest_ori_2       0.0\n",
       "chest_ori_3       0.0\n",
       "ankle_temp        0.0\n",
       "ankle_acc16g_x    0.0\n",
       "ankle_acc16g_y    0.0\n",
       "ankle_acc16g_z    0.0\n",
       "ankle_acc6g_x     0.0\n",
       "ankle_acc6g_y     0.0\n",
       "ankle_acc6g_z     0.0\n",
       "ankle_gyro_x      0.0\n",
       "ankle_gyro_y      0.0\n",
       "ankle_gyro_z      0.0\n",
       "ankle_mag_x       0.0\n",
       "ankle_mag_y       0.0\n",
       "ankle_mag_z       0.0\n",
       "ankle_ori_0       0.0\n",
       "ankle_ori_1       0.0\n",
       "ankle_ori_2       0.0\n",
       "ankle_ori_3       0.0\n",
       "subject           0.0\n",
       "dtype: float64"
      ]
     },
     "execution_count": 78,
     "metadata": {},
     "output_type": "execute_result"
    }
   ],
   "source": [
    "numRow, numCol=all_data.shape\n",
    "all_data.isnull().sum()/numRow*100"
   ]
  },
  {
   "cell_type": "markdown",
   "metadata": {},
   "source": [
    "We still have some NaNs left over from the interpolation. Not sure why this is, but lets just remove them. "
   ]
  },
  {
   "cell_type": "markdown",
   "metadata": {},
   "source": [
    "### Write to file - this will be our starting point for future work"
   ]
  },
  {
   "cell_type": "code",
   "execution_count": 82,
   "metadata": {},
   "outputs": [],
   "source": [
    "all_data[columns_to_keep].to_csv(\"All_subject_data.csv\",index=False)"
   ]
  },
  {
   "cell_type": "code",
   "execution_count": null,
   "metadata": {},
   "outputs": [],
   "source": []
  },
  {
   "cell_type": "code",
   "execution_count": null,
   "metadata": {},
   "outputs": [],
   "source": []
  },
  {
   "cell_type": "code",
   "execution_count": null,
   "metadata": {},
   "outputs": [],
   "source": []
  }
 ],
 "metadata": {
  "kernelspec": {
   "display_name": "Python 3",
   "language": "python",
   "name": "python3"
  },
  "language_info": {
   "codemirror_mode": {
    "name": "ipython",
    "version": 3
   },
   "file_extension": ".py",
   "mimetype": "text/x-python",
   "name": "python",
   "nbconvert_exporter": "python",
   "pygments_lexer": "ipython3",
   "version": "3.6.4"
  }
 },
 "nbformat": 4,
 "nbformat_minor": 2
}
