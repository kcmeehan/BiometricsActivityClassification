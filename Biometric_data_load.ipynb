{
 "cells": [
  {
   "cell_type": "markdown",
   "metadata": {},
   "source": [
    "#### Here we load the biometric data into a series of pandas dataframes and then combine them to create one file"
   ]
  },
  {
   "cell_type": "code",
   "execution_count": 1,
   "metadata": {},
   "outputs": [],
   "source": [
    "import pandas as pd\n",
    "import numpy as np\n",
    "import seaborn as sns\n",
    "import matplotlib.pyplot as plt\n",
    "import glob\n",
    "import sys\n",
    "%matplotlib inline"
   ]
  },
  {
   "cell_type": "markdown",
   "metadata": {},
   "source": [
    "#### Load the datasets\n",
    "\n",
    "First we'll load the 'protocol' data from the 9 subjects, then the 'optional' data"
   ]
  },
  {
   "cell_type": "code",
   "execution_count": 2,
   "metadata": {},
   "outputs": [],
   "source": [
    "column_names = ['timestamp','activityID','heartrate','T_hand','A1C1_hand','A1C2_hand','A1C3_hand','A2C1_hand','A2C2_hand','A2C3_hand',\n",
    "               'G1C1_hand','G1C2_hand','G1C3hand','M1C1_hand','M1C2_hand','M1C3_hand','O1_hand','O2_hand','O3_hand','O4_hand','T_chest','A1C1_chest',\n",
    "                'A1C2_chest','A1C3_chest','A2C1_chest','A2C2_chest','A2C3_chest','G1C1_chest','G1C2_chest','G1C3_chest','M1C1_chest','M1C2_chest',\n",
    "                'M1C3_chest','O1_chest','O2_chest','O3_chest','O4_chest','T_ankle','A1C1_ankle','A1C2_ankle','A1C3_ankle','A2C1_ankle','A2C2_ankle','A2C3_ankle',\n",
    "               'G1C1_ankle','G1C2_ankle','G1C3_ankle','M1C1_ankle','M1C2_ankle','M1C3_ankle','O1_ankle','O2_ankle','O3_ankle','O4_ankle']"
   ]
  },
  {
   "cell_type": "code",
   "execution_count": 3,
   "metadata": {},
   "outputs": [
    {
     "data": {
      "text/plain": [
       "54"
      ]
     },
     "execution_count": 3,
     "metadata": {},
     "output_type": "execute_result"
    }
   ],
   "source": [
    "len(column_names)"
   ]
  },
  {
   "cell_type": "code",
   "execution_count": 4,
   "metadata": {},
   "outputs": [],
   "source": [
    "protocol_datadir = \"/Users/rmartinshort/Documents/Berkeley/GDSO/PAMAP2_data/PAMAP2_Dataset/Protocol\"\n",
    "optional_datadir = \"/Users/rmartinshort/Documents/Berkeley/GDSO/PAMAP2_data/PAMAP2_Dataset/Optional\"\n",
    "subject_data = glob.glob(\"%s/*.dat\" %protocol_datadir)"
   ]
  },
  {
   "cell_type": "markdown",
   "metadata": {},
   "source": [
    "### Concatinate the data from all subjects into a labelled dataframe"
   ]
  },
  {
   "cell_type": "code",
   "execution_count": 5,
   "metadata": {},
   "outputs": [
    {
     "name": "stdout",
     "output_type": "stream",
     "text": [
      "Dealing with subject 0\n",
      "Dealing with subject 1\n",
      "Dealing with subject 2\n",
      "Dealing with subject 3\n",
      "Dealing with subject 4\n",
      "Dealing with subject 5\n",
      "Dealing with subject 6\n",
      "Dealing with subject 7\n",
      "Dealing with subject 8\n"
     ]
    }
   ],
   "source": [
    "dfs = []\n",
    "\n",
    "for i in range(len(subject_data)):\n",
    "    \n",
    "    print(\"Dealing with subject %i\" %i)\n",
    "    \n",
    "    df = pd.read_csv(subject_data[i],sep=' ',names=column_names)\n",
    "    df['subject'] = (i+1)*np.ones(len(df))\n",
    "    dfs.append(df)\n",
    "    \n",
    "protocol_activities = pd.concat(dfs)"
   ]
  },
  {
   "cell_type": "code",
   "execution_count": 6,
   "metadata": {},
   "outputs": [
    {
     "data": {
      "text/plain": [
       "array([1., 2., 3., 4., 5., 6., 7., 8., 9.])"
      ]
     },
     "execution_count": 6,
     "metadata": {},
     "output_type": "execute_result"
    }
   ],
   "source": [
    "protocol_activities['subject'].unique()"
   ]
  },
  {
   "cell_type": "markdown",
   "metadata": {},
   "source": [
    "### Generate a picture of the null values in this dataframe (takes a long time to run)"
   ]
  },
  {
   "cell_type": "code",
   "execution_count": 7,
   "metadata": {},
   "outputs": [
    {
     "data": {
      "text/plain": [
       "<matplotlib.axes._subplots.AxesSubplot at 0x1a102897f0>"
      ]
     },
     "execution_count": 7,
     "metadata": {},
     "output_type": "execute_result"
    },
    {
     "data": {
      "image/png": "[encoded data removed]",
      "text/plain": [
       "<matplotlib.figure.Figure at 0x1a10289940>"
      ]
     },
     "metadata": {},
     "output_type": "display_data"
    }
   ],
   "source": [
    "plt.figure(figsize=(10,10))\n",
    "sns.heatmap(protocol_activities.isnull(),yticklabels=False,cbar=False,cmap='viridis')"
   ]
  },
  {
   "cell_type": "markdown",
   "metadata": {},
   "source": [
    "We can see that there are many NaNs in the heartrate column.  \n",
    "\n",
    "This is because of the difference in sampling rate - we can interpolate the heart rate data or perhaps train \n",
    "a random forest to fill the gaps here "
   ]
  },
  {
   "cell_type": "markdown",
   "metadata": {},
   "source": [
    "### Creates a large file (1.5Gb)"
   ]
  },
  {
   "cell_type": "code",
   "execution_count": 23,
   "metadata": {},
   "outputs": [],
   "source": [
    "protocol_activities.to_csv(\"All_subjects_activities.csv\",index=False)"
   ]
  },
  {
   "cell_type": "code",
   "execution_count": null,
   "metadata": {},
   "outputs": [],
   "source": []
  }
 ],
 "metadata": {
  "kernelspec": {
   "display_name": "Python 3",
   "language": "python",
   "name": "python3"
  },
  "language_info": {
   "codemirror_mode": {
    "name": "ipython",
    "version": 3
   },
   "file_extension": ".py",
   "mimetype": "text/x-python",
   "name": "python",
   "nbconvert_exporter": "python",
   "pygments_lexer": "ipython3",
   "version": "3.6.4"
  }
 },
 "nbformat": 4,
 "nbformat_minor": 2
}
