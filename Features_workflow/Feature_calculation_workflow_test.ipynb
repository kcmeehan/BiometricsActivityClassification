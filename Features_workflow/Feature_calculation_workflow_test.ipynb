{
 "cells": [
  {
   "cell_type": "markdown",
   "metadata": {},
   "source": [
    "### Full test of workflow to calculate features"
   ]
  },
  {
   "cell_type": "code",
   "execution_count": 2,
   "metadata": {},
   "outputs": [],
   "source": [
    "import pandas as pd\n",
    "import numpy as np\n",
    "from Feature_calc_functions import *\n",
    "import time"
   ]
  },
  {
   "cell_type": "markdown",
   "metadata": {},
   "source": [
    "#### Load the dataset and do preprocessing\n",
    "\n",
    "The loadAllSubjects function does the following\n",
    "- Adds a column called 'subject', which contains the subject ID\n",
    "- Interpolates across NaNs\n",
    "- Removes segments of data at the start and end of each activity\n",
    "- Drops any remaining NaNs\n",
    "- Resets the index of the dataframe"
   ]
  },
  {
   "cell_type": "code",
   "execution_count": 19,
   "metadata": {},
   "outputs": [],
   "source": [
    "protocol_datadir = \"/Users/rmartinshort/Documents/Berkeley/GDSO/PAMAP2_data/PAMAP2_Dataset/Protocol\"\n",
    "optional_datadir = \"/Users/rmartinshort/Documents/Berkeley/GDSO/PAMAP2_data/PAMAP2_Dataset/Optional\""
   ]
  },
  {
   "cell_type": "code",
   "execution_count": 20,
   "metadata": {},
   "outputs": [
    {
     "name": "stdout",
     "output_type": "stream",
     "text": [
      "Subject 3: Duration of activity 0.000000 not long enough to redact data\n",
      "Subject 4: Duration of activity 5.000000 not long enough to redact data\n",
      "Subject 6: Duration of activity 24.000000 not long enough to redact data\n",
      "Subject 7: Duration of activity 0.000000 not long enough to redact data\n",
      "Subject 9: Duration of activity 0.000000 not long enough to redact data\n",
      "Subject 9: Duration of activity 0.000000 not long enough to redact data\n"
     ]
    }
   ],
   "source": [
    "all_data_protocol = loadAllSubjects(protocol_datadir)"
   ]
  },
  {
   "cell_type": "code",
   "execution_count": 21,
   "metadata": {},
   "outputs": [
    {
     "name": "stdout",
     "output_type": "stream",
     "text": [
      "Subject 6: Duration of activity 0.000000 not long enough to redact data\n",
      "Subject 8: Duration of activity 0.000000 not long enough to redact data\n",
      "Subject 8: Duration of activity 0.000000 not long enough to redact data\n",
      "Subject 9: Duration of activity 0.000000 not long enough to redact data\n"
     ]
    }
   ],
   "source": [
    "all_data_optional = loadAllSubjects(optional_datadir)"
   ]
  },
  {
   "cell_type": "code",
   "execution_count": 22,
   "metadata": {},
   "outputs": [],
   "source": [
    "all_data = pd.concat([all_data_protocol,all_data_optional])"
   ]
  },
  {
   "cell_type": "markdown",
   "metadata": {},
   "source": [
    "Write to file for ease of loading next time"
   ]
  },
  {
   "cell_type": "markdown",
   "metadata": {},
   "source": [
    "#### Saves time loading if we want to rerun this notebook"
   ]
  },
  {
   "cell_type": "code",
   "execution_count": 23,
   "metadata": {},
   "outputs": [],
   "source": [
    "all_data.to_csv(\"All_subject_data.csv\",index=False)"
   ]
  },
  {
   "cell_type": "code",
   "execution_count": 3,
   "metadata": {},
   "outputs": [],
   "source": [
    "all_data = pd.read_csv(\"All_subject_data.csv\")"
   ]
  },
  {
   "cell_type": "markdown",
   "metadata": {},
   "source": [
    "#### Do final preprocessing\n",
    "\n",
    "The select_data_to_process function does the following\n",
    "\n",
    "- Removes columns we know will not be useful\n",
    "- Removes activity 0 "
   ]
  },
  {
   "cell_type": "code",
   "execution_count": 4,
   "metadata": {},
   "outputs": [],
   "source": [
    "all_data = select_data_to_process(all_data)"
   ]
  },
  {
   "cell_type": "markdown",
   "metadata": {},
   "source": [
    "#### Calculate features (may take a long time)"
   ]
  },
  {
   "cell_type": "code",
   "execution_count": 50,
   "metadata": {},
   "outputs": [
    {
     "name": "stdout",
     "output_type": "stream",
     "text": [
      "\n",
      "-------------------------------\n",
      "Subject 1.0\n",
      "[(0, 25186), (25187, 46666), (46667, 66383), (66384, 87956), (87957, 108897), (108898, 115017), (115018, 120497), (120498, 126267), (126268, 131686), (131687, 151939), (151940, 170204), (170205, 191779), (191780, 211044), (211045, 221956), (221957, 274475), (274476, 356121), (356122, 408210), (408211, 433325)]\n",
      "Activity 1.000000\n",
      "Length of slice in samples: 25187\n",
      "Number of feature calculations to be done: 48\n",
      "Activity 2.000000\n",
      "Length of slice in samples: 21480\n",
      "Number of feature calculations to be done: 40\n",
      "Activity 3.000000\n",
      "Length of slice in samples: 19717\n",
      "Number of feature calculations to be done: 37\n",
      "Activity 17.000000\n",
      "Length of slice in samples: 21573\n",
      "Number of feature calculations to be done: 41\n",
      "Activity 16.000000\n",
      "Length of slice in samples: 20941\n",
      "Number of feature calculations to be done: 39\n",
      "Activity 12.000000\n",
      "Length of slice in samples: 6120\n",
      "Number of feature calculations to be done: 10\n",
      "Activity 13.000000\n",
      "Length of slice in samples: 5480\n",
      "Number of feature calculations to be done: 9\n",
      "Activity 12.000000\n",
      "Length of slice in samples: 5770\n",
      "Number of feature calculations to be done: 10\n",
      "Activity 13.000000\n",
      "Length of slice in samples: 5419\n",
      "Number of feature calculations to be done: 9\n",
      "Activity 4.000000\n",
      "Length of slice in samples: 20253\n",
      "Number of feature calculations to be done: 38\n",
      "Activity 7.000000\n",
      "Length of slice in samples: 18265\n",
      "Number of feature calculations to be done: 34\n",
      "Activity 6.000000\n",
      "Length of slice in samples: 21575\n",
      "Number of feature calculations to be done: 41\n",
      "Activity 5.000000\n",
      "Length of slice in samples: 19265\n",
      "Number of feature calculations to be done: 36\n",
      "Activity 24.000000\n",
      "Length of slice in samples: 10912\n",
      "Number of feature calculations to be done: 20\n",
      "Activity 11.000000\n",
      "Length of slice in samples: 52519\n",
      "Number of feature calculations to be done: 101\n",
      "Activity 9.000000\n",
      "Length of slice in samples: 81646\n",
      "Number of feature calculations to be done: 158\n",
      "Activity 19.000000\n",
      "Length of slice in samples: 52089\n",
      "Number of feature calculations to be done: 100\n",
      "Activity 18.000000\n",
      "Length of slice in samples: 25114\n",
      "Number of feature calculations to be done: 47\n",
      "\n",
      "-------------------------------\n",
      "Subject 2.0\n",
      "[(0, 21429), (21430, 41774), (41775, 65350), (65351, 92230), (92231, 110913), (110914, 117638), (117639, 123429), (123430, 130046), (130047, 135468), (135469, 166001), (166002, 193740), (193741, 216848), (216849, 224086), (224087, 235349)]\n",
      "Activity 1.000000\n",
      "Length of slice in samples: 21430\n",
      "Number of feature calculations to be done: 40\n",
      "Activity 2.000000\n",
      "Length of slice in samples: 20345\n",
      "Number of feature calculations to be done: 38\n",
      "Activity 3.000000\n",
      "Length of slice in samples: 23576\n",
      "Number of feature calculations to be done: 44\n",
      "Activity 17.000000\n",
      "Length of slice in samples: 26880\n",
      "Number of feature calculations to be done: 51\n",
      "Activity 16.000000\n",
      "Length of slice in samples: 18683\n",
      "Number of feature calculations to be done: 35\n",
      "Activity 12.000000\n",
      "Length of slice in samples: 6725\n",
      "Number of feature calculations to be done: 12\n",
      "Activity 13.000000\n",
      "Length of slice in samples: 5791\n",
      "Number of feature calculations to be done: 10\n",
      "Activity 12.000000\n",
      "Length of slice in samples: 6617\n",
      "Number of feature calculations to be done: 11\n",
      "Activity 13.000000\n",
      "Length of slice in samples: 5422\n",
      "Number of feature calculations to be done: 9\n",
      "Activity 4.000000\n",
      "Length of slice in samples: 30533\n",
      "Number of feature calculations to be done: 58\n",
      "Activity 7.000000\n",
      "Length of slice in samples: 27739\n",
      "Number of feature calculations to be done: 53\n",
      "Activity 6.000000\n",
      "Length of slice in samples: 23108\n",
      "Number of feature calculations to be done: 44\n",
      "Activity 5.000000\n",
      "Length of slice in samples: 7238\n",
      "Number of feature calculations to be done: 13\n",
      "Activity 24.000000\n",
      "Length of slice in samples: 11262\n",
      "Number of feature calculations to be done: 20\n",
      "\n",
      "-------------------------------\n",
      "Subject 3.0\n",
      "[(0, 20043), (20044, 46804), (46805, 65337), (65338, 91312), (91313, 109637), (109638, 113401), (113402, 116836), (116837, 119703), (119704, 122657), (122658, 125301), (125302, 152338)]\n",
      "Activity 1.000000\n",
      "Length of slice in samples: 20044\n",
      "Number of feature calculations to be done: 38\n",
      "Activity 2.000000\n",
      "Length of slice in samples: 26761\n",
      "Number of feature calculations to be done: 51\n",
      "Activity 3.000000\n",
      "Length of slice in samples: 18533\n",
      "Number of feature calculations to be done: 35\n",
      "Activity 17.000000\n",
      "Length of slice in samples: 25975\n",
      "Number of feature calculations to be done: 49\n",
      "Activity 16.000000\n",
      "Length of slice in samples: 18325\n",
      "Number of feature calculations to be done: 34\n",
      "Activity 13.000000\n",
      "Length of slice in samples: 3764\n",
      "Number of feature calculations to be done: 6\n",
      "Activity 12.000000\n",
      "Length of slice in samples: 3435\n",
      "Number of feature calculations to be done: 5\n",
      "Activity 13.000000\n",
      "Length of slice in samples: 2867\n",
      "Number of feature calculations to be done: 4\n",
      "Activity 12.000000\n",
      "Length of slice in samples: 2954\n",
      "Number of feature calculations to be done: 4\n",
      "Activity 13.000000\n",
      "Length of slice in samples: 2644\n",
      "Number of feature calculations to be done: 4\n",
      "Activity 4.000000\n",
      "Length of slice in samples: 27036\n",
      "Number of feature calculations to be done: 51\n",
      "\n",
      "-------------------------------\n",
      "Subject 4.0\n",
      "[(0, 21046), (21047, 44538), (44539, 67244), (67245, 90239), (90240, 108276), (108277, 114811), (114812, 120139), (120140, 126298), (126299, 131255), (131256, 161187), (161188, 186720), (186721, 207420)]\n",
      "Activity 1.000000\n",
      "Length of slice in samples: 21047\n",
      "Number of feature calculations to be done: 40\n",
      "Activity 2.000000\n",
      "Length of slice in samples: 23492\n",
      "Number of feature calculations to be done: 44\n",
      "Activity 3.000000\n",
      "Length of slice in samples: 22706\n",
      "Number of feature calculations to be done: 43\n",
      "Activity 17.000000\n",
      "Length of slice in samples: 22995\n",
      "Number of feature calculations to be done: 43\n",
      "Activity 16.000000\n",
      "Length of slice in samples: 18037\n",
      "Number of feature calculations to be done: 34\n",
      "Activity 12.000000\n",
      "Length of slice in samples: 6535\n",
      "Number of feature calculations to be done: 11\n",
      "Activity 13.000000\n",
      "Length of slice in samples: 5328\n",
      "Number of feature calculations to be done: 9\n",
      "Activity 12.000000\n",
      "Length of slice in samples: 6159\n",
      "Number of feature calculations to be done: 11\n",
      "Activity 13.000000\n",
      "Length of slice in samples: 4957\n",
      "Number of feature calculations to be done: 8\n",
      "Activity 4.000000\n",
      "Length of slice in samples: 29932\n",
      "Number of feature calculations to be done: 57\n",
      "Activity 7.000000\n",
      "Length of slice in samples: 25533\n",
      "Number of feature calculations to be done: 48\n",
      "Activity 6.000000\n",
      "Length of slice in samples: 20699\n",
      "Number of feature calculations to be done: 39\n",
      "\n",
      "-------------------------------\n",
      "Subject 5.0\n",
      "[(0, 21698), (21699, 46562), (46563, 66694), (66695, 97728), (97729, 120173), (120174, 124283), (124284, 129265), (129266, 135436), (135437, 139181), (139182, 169214), (169215, 193485), (193486, 216062), (216063, 238708), (238709, 244442), (244443, 353325), (353326, 379814)]\n",
      "Activity 1.000000\n",
      "Length of slice in samples: 21699\n",
      "Number of feature calculations to be done: 41\n",
      "Activity 2.000000\n",
      "Length of slice in samples: 24864\n",
      "Number of feature calculations to be done: 47\n",
      "Activity 3.000000\n",
      "Length of slice in samples: 20132\n",
      "Number of feature calculations to be done: 38\n",
      "Activity 17.000000\n",
      "Length of slice in samples: 31034\n",
      "Number of feature calculations to be done: 59\n",
      "Activity 16.000000\n",
      "Length of slice in samples: 22445\n",
      "Number of feature calculations to be done: 42\n",
      "Activity 12.000000\n",
      "Length of slice in samples: 4110\n",
      "Number of feature calculations to be done: 7\n",
      "Activity 13.000000\n",
      "Length of slice in samples: 4982\n",
      "Number of feature calculations to be done: 8\n",
      "Activity 12.000000\n",
      "Length of slice in samples: 6171\n",
      "Number of feature calculations to be done: 11\n",
      "Activity 13.000000\n",
      "Length of slice in samples: 3745\n",
      "Number of feature calculations to be done: 6\n",
      "Activity 4.000000\n",
      "Length of slice in samples: 30033\n",
      "Number of feature calculations to be done: 57\n",
      "Activity 7.000000\n",
      "Length of slice in samples: 24271\n",
      "Number of feature calculations to be done: 46\n",
      "Activity 6.000000\n",
      "Length of slice in samples: 22577\n",
      "Number of feature calculations to be done: 43\n",
      "Activity 5.000000\n",
      "Length of slice in samples: 22646\n",
      "Number of feature calculations to be done: 43\n",
      "Activity 24.000000\n",
      "Length of slice in samples: 5734\n",
      "Number of feature calculations to be done: 10\n",
      "Activity 10.000000\n",
      "Length of slice in samples: 108883\n",
      "Number of feature calculations to be done: 211\n",
      "Activity 19.000000\n",
      "Length of slice in samples: 26488\n",
      "Number of feature calculations to be done: 50\n",
      "\n",
      "-------------------------------\n",
      "Subject 6.0\n",
      "[(0, 21339), (21340, 42380), (42381, 64736), (64737, 100480), (100481, 119558), (119559, 123790), (123791, 127963), (127964, 133022), (133023, 136121), (136122, 159842), (159843, 184528), (184529, 203014), (203015, 223839), (223840, 283616), (283617, 310330), (310331, 330117)]\n",
      "Activity 1.000000\n",
      "Length of slice in samples: 21340\n",
      "Number of feature calculations to be done: 40\n",
      "Activity 2.000000\n",
      "Length of slice in samples: 21041\n",
      "Number of feature calculations to be done: 40\n",
      "Activity 3.000000\n",
      "Length of slice in samples: 22356\n",
      "Number of feature calculations to be done: 42\n",
      "Activity 17.000000\n",
      "Length of slice in samples: 35744\n",
      "Number of feature calculations to be done: 68\n",
      "Activity 16.000000\n",
      "Length of slice in samples: 19078\n",
      "Number of feature calculations to be done: 36\n",
      "Activity 12.000000\n",
      "Length of slice in samples: 4232\n",
      "Number of feature calculations to be done: 7\n",
      "Activity 13.000000\n",
      "Length of slice in samples: 4173\n",
      "Number of feature calculations to be done: 7\n",
      "Activity 12.000000\n",
      "Length of slice in samples: 5059\n",
      "Number of feature calculations to be done: 8\n",
      "Activity 13.000000\n",
      "Length of slice in samples: 3099\n",
      "Number of feature calculations to be done: 5\n",
      "Activity 4.000000\n",
      "Length of slice in samples: 23721\n",
      "Number of feature calculations to be done: 45\n",
      "Activity 7.000000\n",
      "Length of slice in samples: 24686\n",
      "Number of feature calculations to be done: 47\n",
      "Activity 6.000000\n",
      "Length of slice in samples: 18486\n",
      "Number of feature calculations to be done: 35\n",
      "Activity 5.000000\n",
      "Length of slice in samples: 20825\n",
      "Number of feature calculations to be done: 39\n",
      "Activity 10.000000\n",
      "Length of slice in samples: 59777\n",
      "Number of feature calculations to be done: 115\n",
      "Activity 19.000000\n",
      "Length of slice in samples: 26714\n",
      "Number of feature calculations to be done: 51\n",
      "Activity 18.000000\n",
      "Length of slice in samples: 19786\n",
      "Number of feature calculations to be done: 37\n",
      "\n",
      "-------------------------------\n",
      "Subject 7.0\n",
      "[(0, 23610), (23611, 33892), (33893, 57643), (57644, 85142), (85143, 104694), (104695, 111796), (111797, 116086), (116087, 122630), (122631, 125958), (125959, 157678), (157679, 184403), (184404, 205083), (205084, 206777)]\n",
      "Activity 1.000000\n",
      "Length of slice in samples: 23611\n",
      "Number of feature calculations to be done: 45\n",
      "Activity 2.000000\n",
      "Length of slice in samples: 10282\n",
      "Number of feature calculations to be done: 19\n",
      "Activity 3.000000\n",
      "Length of slice in samples: 23751\n",
      "Number of feature calculations to be done: 45\n",
      "Activity 17.000000\n",
      "Length of slice in samples: 27499\n",
      "Number of feature calculations to be done: 52\n",
      "Activity 16.000000\n",
      "Length of slice in samples: 19552\n",
      "Number of feature calculations to be done: 37\n",
      "Activity 12.000000\n",
      "Length of slice in samples: 7102\n",
      "Number of feature calculations to be done: 12\n",
      "Activity 13.000000\n",
      "Length of slice in samples: 4290\n",
      "Number of feature calculations to be done: 7\n",
      "Activity 12.000000\n",
      "Length of slice in samples: 6544\n",
      "Number of feature calculations to be done: 11\n",
      "Activity 13.000000\n",
      "Length of slice in samples: 3328\n",
      "Number of feature calculations to be done: 5\n",
      "Activity 4.000000\n",
      "Length of slice in samples: 31720\n",
      "Number of feature calculations to be done: 60\n",
      "Activity 7.000000\n",
      "Length of slice in samples: 26725\n",
      "Number of feature calculations to be done: 51\n",
      "Activity 6.000000\n",
      "Length of slice in samples: 20680\n",
      "Number of feature calculations to be done: 39\n",
      "Activity 5.000000\n",
      "Length of slice in samples: 1693\n",
      "Number of feature calculations to be done: 2\n",
      "\n",
      "-------------------------------\n",
      "Subject 8.0\n",
      "[(0, 22164), (22165, 43087), (43088, 66247), (66248, 97237), (97238, 119529), (119530, 123430), (123431, 126276), (126277, 130058), (130059, 132867), (132868, 162400), (162401, 185875), (185876, 212763), (212764, 227295), (227296, 234101), (234102, 300826), (300827, 340517), (340518, 362167), (362168, 376294)]\n",
      "Activity 1.000000\n",
      "Length of slice in samples: 22165\n",
      "Number of feature calculations to be done: 42\n",
      "Activity 2.000000\n",
      "Length of slice in samples: 20923\n",
      "Number of feature calculations to be done: 39\n",
      "Activity 3.000000\n",
      "Length of slice in samples: 23160\n",
      "Number of feature calculations to be done: 44\n",
      "Activity 17.000000\n",
      "Length of slice in samples: 30990\n",
      "Number of feature calculations to be done: 59\n",
      "Activity 16.000000\n",
      "Length of slice in samples: 22292\n",
      "Number of feature calculations to be done: 42\n",
      "Activity 12.000000\n",
      "Length of slice in samples: 3901\n",
      "Number of feature calculations to be done: 6\n",
      "Activity 13.000000\n",
      "Length of slice in samples: 2846\n",
      "Number of feature calculations to be done: 4\n",
      "Activity 12.000000\n",
      "Length of slice in samples: 3782\n",
      "Number of feature calculations to be done: 6\n",
      "Activity 13.000000\n",
      "Length of slice in samples: 2809\n",
      "Number of feature calculations to be done: 4\n",
      "Activity 4.000000\n",
      "Length of slice in samples: 29533\n",
      "Number of feature calculations to be done: 56\n",
      "Activity 6.000000\n",
      "Length of slice in samples: 23475\n",
      "Number of feature calculations to be done: 44\n",
      "Activity 7.000000\n",
      "Length of slice in samples: 26888\n",
      "Number of feature calculations to be done: 51\n",
      "Activity 5.000000\n",
      "Length of slice in samples: 14532\n",
      "Number of feature calculations to be done: 27\n",
      "Activity 24.000000\n",
      "Length of slice in samples: 6806\n",
      "Number of feature calculations to be done: 12\n",
      "Activity 10.000000\n",
      "Length of slice in samples: 66725\n",
      "Number of feature calculations to be done: 129\n",
      "Activity 19.000000\n",
      "Length of slice in samples: 39691\n",
      "Number of feature calculations to be done: 76\n",
      "Activity 18.000000\n",
      "Length of slice in samples: 21650\n",
      "Number of feature calculations to be done: 41\n",
      "Activity 20.000000\n",
      "Length of slice in samples: 14126\n",
      "Number of feature calculations to be done: 26\n",
      "Error in slicing gap indices! Data chunk is not sampled at constant dt!\n",
      "\n",
      "-------------------------------\n",
      "Subject 9.0\n",
      "[(0, 4390), (4391, 70940), (70941, 103146), (103147, 128474), (128475, 155264)]\n",
      "Activity 24.000000\n",
      "Length of slice in samples: 4391\n",
      "Number of feature calculations to be done: 7\n",
      "Activity 10.000000\n",
      "Length of slice in samples: 66550\n",
      "Number of feature calculations to be done: 128\n",
      "Activity 19.000000\n",
      "Length of slice in samples: 32206\n",
      "Number of feature calculations to be done: 61\n",
      "Activity 18.000000\n",
      "Length of slice in samples: 25328\n",
      "Number of feature calculations to be done: 48\n",
      "Activity 20.000000\n",
      "Length of slice in samples: 26789\n",
      "Number of feature calculations to be done: 51\n"
     ]
    }
   ],
   "source": [
    "st = time.time()\n",
    "feature_df = calculate_features(all_data,sliding_window_length=512,sliding_window_offset=513)\n",
    "ed = time.time()"
   ]
  },
  {
   "cell_type": "code",
   "execution_count": 36,
   "metadata": {},
   "outputs": [
    {
     "name": "stdout",
     "output_type": "stream",
     "text": [
      "24.178977966308594\n"
     ]
    }
   ],
   "source": [
    "print(ed-st)"
   ]
  },
  {
   "cell_type": "code",
   "execution_count": 62,
   "metadata": {},
   "outputs": [],
   "source": [
    "feature_df.to_csv(\"Test_feature_df.csv\",index=False)"
   ]
  },
  {
   "cell_type": "markdown",
   "metadata": {},
   "source": [
    "#### Only takes 120 seconds to calculate features for the database. Will take longer once more complex features are added "
   ]
  },
  {
   "cell_type": "markdown",
   "metadata": {},
   "source": [
    "### Now we can do some exploration of the feature timeseries "
   ]
  },
  {
   "cell_type": "code",
   "execution_count": 10,
   "metadata": {},
   "outputs": [],
   "source": [
    "import seaborn as sns\n",
    "import matplotlib.pyplot as plt\n",
    "import matplotlib.ticker as ticker\n",
    "%matplotlib inline "
   ]
  },
  {
   "cell_type": "code",
   "execution_count": 11,
   "metadata": {},
   "outputs": [
    {
     "data": {
      "text/plain": [
       "<matplotlib.legend.Legend at 0x109f1cbe0>"
      ]
     },
     "execution_count": 11,
     "metadata": {},
     "output_type": "execute_result"
    },
    {
     "data": {
      "image/png": "[encoded data removed]",
      "text/plain": [
       "<matplotlib.figure.Figure at 0x109e0c390>"
      ]
     },
     "metadata": {},
     "output_type": "display_data"
    }
   ],
   "source": [
    "fig, ax1 = plt.subplots(figsize=(15,10))\n",
    "X = np.array(feature_df.index)\n",
    "Y1 = feature_df['activityID_mean'].values\n",
    "Y2 = feature_df['ankle_acc16g_x_peak'].values\n",
    "ax1.plot(X,Y1,'r-',label='Acivities')\n",
    "ax1.legend(loc='upper left')\n",
    "\n",
    "ax2 = ax1.twinx()\n",
    "ax2.plot(X,Y2,label='Ankle_acceleration_x')\n",
    "ax2.legend(loc='upper right')"
   ]
  },
  {
   "cell_type": "markdown",
   "metadata": {},
   "source": [
    "We can see that the activity pattern across subjects is quite similar. But the plot is too zoomed out for us to see much of how this feature changes with activity. For that, lets look in more detail at one of the subjects"
   ]
  },
  {
   "cell_type": "markdown",
   "metadata": {},
   "source": [
    "#### How many samples in each activity?"
   ]
  },
  {
   "cell_type": "code",
   "execution_count": 50,
   "metadata": {},
   "outputs": [],
   "source": [
    "feature_df.dropna(inplace=True)"
   ]
  },
  {
   "cell_type": "code",
   "execution_count": 51,
   "metadata": {},
   "outputs": [
    {
     "name": "stdout",
     "output_type": "stream",
     "text": [
      "Activity 1. Count: 1720\n",
      "Activity 2. Count: 1647\n",
      "Activity 3. Count: 1695\n",
      "Activity 17. Count: 2181\n",
      "Activity 16. Count: 1549\n",
      "Activity 12. Count: 763\n",
      "Activity 13. Count: 614\n",
      "Activity 4. Count: 2185\n",
      "Activity 7. Count: 1702\n",
      "Activity 6. Count: 1465\n",
      "Activity 5. Count: 829\n",
      "Activity 24. Count: 363\n",
      "Activity 11. Count: 520\n",
      "Activity 9. Count: 811\n",
      "Activity 19. Count: 1743\n",
      "Activity 18. Count: 897\n",
      "Activity 10. Count: 2997\n",
      "Activity 20. Count: 393\n"
     ]
    }
   ],
   "source": [
    "for activityID_val in feature_df['activityID_mean'].unique():\n",
    "    print('Activity %i. Count: %i'%(activityID_val, len(feature_df[feature_df['activityID_mean']==activityID_val])))"
   ]
  },
  {
   "cell_type": "markdown",
   "metadata": {},
   "source": [
    "#### Here's a list of all the feature columns we have"
   ]
  },
  {
   "cell_type": "code",
   "execution_count": 12,
   "metadata": {},
   "outputs": [
    {
     "data": {
      "text/plain": [
       "['timestamp_mean',\n",
       " 'activityID_mean',\n",
       " 'heart_rate_mean',\n",
       " 'hand_temp_mean',\n",
       " 'hand_acc16g_x_mean',\n",
       " 'hand_acc16g_y_mean',\n",
       " 'hand_acc16g_z_mean',\n",
       " 'hand_gyro_x_mean',\n",
       " 'hand_gyro_y_mean',\n",
       " 'hand_gyro_z_mean',\n",
       " 'chest_temp_mean',\n",
       " 'chest_acc16g_x_mean',\n",
       " 'chest_acc16g_y_mean',\n",
       " 'chest_acc16g_z_mean',\n",
       " 'chest_gyro_x_mean',\n",
       " 'chest_gyro_y_mean',\n",
       " 'chest_gyro_z_mean',\n",
       " 'ankle_temp_mean',\n",
       " 'ankle_acc16g_x_mean',\n",
       " 'ankle_acc16g_y_mean',\n",
       " 'ankle_acc16g_z_mean',\n",
       " 'ankle_gyro_x_mean',\n",
       " 'ankle_gyro_y_mean',\n",
       " 'ankle_gyro_z_mean',\n",
       " 'subject_mean',\n",
       " 'heart_rate_median',\n",
       " 'hand_temp_median',\n",
       " 'hand_acc16g_x_median',\n",
       " 'hand_acc16g_y_median',\n",
       " 'hand_acc16g_z_median',\n",
       " 'hand_gyro_x_median',\n",
       " 'hand_gyro_y_median',\n",
       " 'hand_gyro_z_median',\n",
       " 'chest_temp_median',\n",
       " 'chest_acc16g_x_median',\n",
       " 'chest_acc16g_y_median',\n",
       " 'chest_acc16g_z_median',\n",
       " 'chest_gyro_x_median',\n",
       " 'chest_gyro_y_median',\n",
       " 'chest_gyro_z_median',\n",
       " 'ankle_temp_median',\n",
       " 'ankle_acc16g_x_median',\n",
       " 'ankle_acc16g_y_median',\n",
       " 'ankle_acc16g_z_median',\n",
       " 'ankle_gyro_x_median',\n",
       " 'ankle_gyro_y_median',\n",
       " 'ankle_gyro_z_median',\n",
       " 'heart_rate_std',\n",
       " 'hand_temp_std',\n",
       " 'hand_acc16g_x_std',\n",
       " 'hand_acc16g_y_std',\n",
       " 'hand_acc16g_z_std',\n",
       " 'hand_gyro_x_std',\n",
       " 'hand_gyro_y_std',\n",
       " 'hand_gyro_z_std',\n",
       " 'chest_temp_std',\n",
       " 'chest_acc16g_x_std',\n",
       " 'chest_acc16g_y_std',\n",
       " 'chest_acc16g_z_std',\n",
       " 'chest_gyro_x_std',\n",
       " 'chest_gyro_y_std',\n",
       " 'chest_gyro_z_std',\n",
       " 'ankle_temp_std',\n",
       " 'ankle_acc16g_x_std',\n",
       " 'ankle_acc16g_y_std',\n",
       " 'ankle_acc16g_z_std',\n",
       " 'ankle_gyro_x_std',\n",
       " 'ankle_gyro_y_std',\n",
       " 'ankle_gyro_z_std',\n",
       " 'heart_rate_peak',\n",
       " 'hand_temp_peak',\n",
       " 'hand_acc16g_x_peak',\n",
       " 'hand_acc16g_y_peak',\n",
       " 'hand_acc16g_z_peak',\n",
       " 'hand_gyro_x_peak',\n",
       " 'hand_gyro_y_peak',\n",
       " 'hand_gyro_z_peak',\n",
       " 'chest_temp_peak',\n",
       " 'chest_acc16g_x_peak',\n",
       " 'chest_acc16g_y_peak',\n",
       " 'chest_acc16g_z_peak',\n",
       " 'chest_gyro_x_peak',\n",
       " 'chest_gyro_y_peak',\n",
       " 'chest_gyro_z_peak',\n",
       " 'ankle_temp_peak',\n",
       " 'ankle_acc16g_x_peak',\n",
       " 'ankle_acc16g_y_peak',\n",
       " 'ankle_acc16g_z_peak',\n",
       " 'ankle_gyro_x_peak',\n",
       " 'ankle_gyro_y_peak',\n",
       " 'ankle_gyro_z_peak']"
      ]
     },
     "execution_count": 12,
     "metadata": {},
     "output_type": "execute_result"
    }
   ],
   "source": [
    "list(feature_df.columns)"
   ]
  },
  {
   "cell_type": "code",
   "execution_count": 17,
   "metadata": {},
   "outputs": [
    {
     "data": {
      "text/plain": [
       "91"
      ]
     },
     "execution_count": 17,
     "metadata": {},
     "output_type": "execute_result"
    }
   ],
   "source": [
    "len(list(feature_df.columns))"
   ]
  },
  {
   "cell_type": "code",
   "execution_count": 13,
   "metadata": {},
   "outputs": [],
   "source": [
    "subject_1 = feature_df[feature_df['subject_mean']==1]"
   ]
  },
  {
   "cell_type": "code",
   "execution_count": 14,
   "metadata": {},
   "outputs": [
    {
     "data": {
      "text/html": [
       "<div>\n",
       "<style scoped>\n",
       "    .dataframe tbody tr th:only-of-type {\n",
       "        vertical-align: middle;\n",
       "    }\n",
       "\n",
       "    .dataframe tbody tr th {\n",
       "        vertical-align: top;\n",
       "    }\n",
       "\n",
       "    .dataframe thead th {\n",
       "        text-align: right;\n",
       "    }\n",
       "</style>\n",
       "<table border=\"1\" class=\"dataframe\">\n",
       "  <thead>\n",
       "    <tr style=\"text-align: right;\">\n",
       "      <th></th>\n",
       "      <th>timestamp_mean</th>\n",
       "      <th>activityID_mean</th>\n",
       "      <th>heart_rate_mean</th>\n",
       "      <th>hand_temp_mean</th>\n",
       "      <th>hand_acc16g_x_mean</th>\n",
       "      <th>hand_acc16g_y_mean</th>\n",
       "      <th>hand_acc16g_z_mean</th>\n",
       "      <th>hand_gyro_x_mean</th>\n",
       "      <th>hand_gyro_y_mean</th>\n",
       "      <th>hand_gyro_z_mean</th>\n",
       "      <th>...</th>\n",
       "      <th>chest_gyro_x_peak</th>\n",
       "      <th>chest_gyro_y_peak</th>\n",
       "      <th>chest_gyro_z_peak</th>\n",
       "      <th>ankle_temp_peak</th>\n",
       "      <th>ankle_acc16g_x_peak</th>\n",
       "      <th>ankle_acc16g_y_peak</th>\n",
       "      <th>ankle_acc16g_z_peak</th>\n",
       "      <th>ankle_gyro_x_peak</th>\n",
       "      <th>ankle_gyro_y_peak</th>\n",
       "      <th>ankle_gyro_z_peak</th>\n",
       "    </tr>\n",
       "  </thead>\n",
       "  <tbody>\n",
       "    <tr>\n",
       "      <th>0</th>\n",
       "      <td>50.215</td>\n",
       "      <td>1.0</td>\n",
       "      <td>103.951172</td>\n",
       "      <td>30.523682</td>\n",
       "      <td>-1.879247</td>\n",
       "      <td>4.788385</td>\n",
       "      <td>6.990495</td>\n",
       "      <td>0.107901</td>\n",
       "      <td>-0.251155</td>\n",
       "      <td>0.211265</td>\n",
       "      <td>...</td>\n",
       "      <td>2.262240</td>\n",
       "      <td>0.875723</td>\n",
       "      <td>1.051120</td>\n",
       "      <td>30.9375</td>\n",
       "      <td>15.25270</td>\n",
       "      <td>29.7182</td>\n",
       "      <td>12.8712</td>\n",
       "      <td>2.60965</td>\n",
       "      <td>1.81331</td>\n",
       "      <td>3.461520</td>\n",
       "    </tr>\n",
       "    <tr>\n",
       "      <th>1</th>\n",
       "      <td>51.215</td>\n",
       "      <td>1.0</td>\n",
       "      <td>104.509766</td>\n",
       "      <td>30.535889</td>\n",
       "      <td>-0.185149</td>\n",
       "      <td>5.695728</td>\n",
       "      <td>7.785865</td>\n",
       "      <td>-0.009273</td>\n",
       "      <td>-0.113646</td>\n",
       "      <td>0.043581</td>\n",
       "      <td>...</td>\n",
       "      <td>1.451940</td>\n",
       "      <td>0.711847</td>\n",
       "      <td>0.884499</td>\n",
       "      <td>30.9375</td>\n",
       "      <td>3.66079</td>\n",
       "      <td>29.7182</td>\n",
       "      <td>12.8712</td>\n",
       "      <td>1.33341</td>\n",
       "      <td>1.22811</td>\n",
       "      <td>0.838442</td>\n",
       "    </tr>\n",
       "    <tr>\n",
       "      <th>2</th>\n",
       "      <td>52.215</td>\n",
       "      <td>1.0</td>\n",
       "      <td>105.253906</td>\n",
       "      <td>30.548096</td>\n",
       "      <td>0.319354</td>\n",
       "      <td>5.626324</td>\n",
       "      <td>7.950312</td>\n",
       "      <td>-0.037028</td>\n",
       "      <td>-0.016048</td>\n",
       "      <td>-0.029576</td>\n",
       "      <td>...</td>\n",
       "      <td>1.451940</td>\n",
       "      <td>0.611041</td>\n",
       "      <td>0.884499</td>\n",
       "      <td>30.9375</td>\n",
       "      <td>3.39096</td>\n",
       "      <td>29.7182</td>\n",
       "      <td>12.8712</td>\n",
       "      <td>0.94281</td>\n",
       "      <td>0.43463</td>\n",
       "      <td>0.838442</td>\n",
       "    </tr>\n",
       "    <tr>\n",
       "      <th>3</th>\n",
       "      <td>53.215</td>\n",
       "      <td>1.0</td>\n",
       "      <td>105.839844</td>\n",
       "      <td>30.555542</td>\n",
       "      <td>0.322273</td>\n",
       "      <td>5.483047</td>\n",
       "      <td>8.098098</td>\n",
       "      <td>0.029006</td>\n",
       "      <td>0.000316</td>\n",
       "      <td>-0.006781</td>\n",
       "      <td>...</td>\n",
       "      <td>0.681651</td>\n",
       "      <td>0.493050</td>\n",
       "      <td>0.327649</td>\n",
       "      <td>30.9375</td>\n",
       "      <td>3.39096</td>\n",
       "      <td>29.7182</td>\n",
       "      <td>12.8712</td>\n",
       "      <td>0.94281</td>\n",
       "      <td>0.43463</td>\n",
       "      <td>0.838442</td>\n",
       "    </tr>\n",
       "    <tr>\n",
       "      <th>4</th>\n",
       "      <td>54.215</td>\n",
       "      <td>1.0</td>\n",
       "      <td>106.339844</td>\n",
       "      <td>30.558350</td>\n",
       "      <td>0.316246</td>\n",
       "      <td>5.702229</td>\n",
       "      <td>7.966321</td>\n",
       "      <td>0.009624</td>\n",
       "      <td>0.001428</td>\n",
       "      <td>-0.010280</td>\n",
       "      <td>...</td>\n",
       "      <td>0.266649</td>\n",
       "      <td>0.208297</td>\n",
       "      <td>0.270963</td>\n",
       "      <td>30.9375</td>\n",
       "      <td>3.39096</td>\n",
       "      <td>29.7182</td>\n",
       "      <td>12.8712</td>\n",
       "      <td>0.94281</td>\n",
       "      <td>0.43463</td>\n",
       "      <td>0.838442</td>\n",
       "    </tr>\n",
       "  </tbody>\n",
       "</table>\n",
       "<p>5 rows × 91 columns</p>\n",
       "</div>"
      ],
      "text/plain": [
       "   timestamp_mean  activityID_mean  heart_rate_mean  hand_temp_mean  \\\n",
       "0          50.215              1.0       103.951172       30.523682   \n",
       "1          51.215              1.0       104.509766       30.535889   \n",
       "2          52.215              1.0       105.253906       30.548096   \n",
       "3          53.215              1.0       105.839844       30.555542   \n",
       "4          54.215              1.0       106.339844       30.558350   \n",
       "\n",
       "   hand_acc16g_x_mean  hand_acc16g_y_mean  hand_acc16g_z_mean  \\\n",
       "0           -1.879247            4.788385            6.990495   \n",
       "1           -0.185149            5.695728            7.785865   \n",
       "2            0.319354            5.626324            7.950312   \n",
       "3            0.322273            5.483047            8.098098   \n",
       "4            0.316246            5.702229            7.966321   \n",
       "\n",
       "   hand_gyro_x_mean  hand_gyro_y_mean  hand_gyro_z_mean        ...          \\\n",
       "0          0.107901         -0.251155          0.211265        ...           \n",
       "1         -0.009273         -0.113646          0.043581        ...           \n",
       "2         -0.037028         -0.016048         -0.029576        ...           \n",
       "3          0.029006          0.000316         -0.006781        ...           \n",
       "4          0.009624          0.001428         -0.010280        ...           \n",
       "\n",
       "   chest_gyro_x_peak  chest_gyro_y_peak  chest_gyro_z_peak  ankle_temp_peak  \\\n",
       "0           2.262240           0.875723           1.051120          30.9375   \n",
       "1           1.451940           0.711847           0.884499          30.9375   \n",
       "2           1.451940           0.611041           0.884499          30.9375   \n",
       "3           0.681651           0.493050           0.327649          30.9375   \n",
       "4           0.266649           0.208297           0.270963          30.9375   \n",
       "\n",
       "   ankle_acc16g_x_peak  ankle_acc16g_y_peak  ankle_acc16g_z_peak  \\\n",
       "0             15.25270              29.7182              12.8712   \n",
       "1              3.66079              29.7182              12.8712   \n",
       "2              3.39096              29.7182              12.8712   \n",
       "3              3.39096              29.7182              12.8712   \n",
       "4              3.39096              29.7182              12.8712   \n",
       "\n",
       "   ankle_gyro_x_peak  ankle_gyro_y_peak  ankle_gyro_z_peak  \n",
       "0            2.60965            1.81331           3.461520  \n",
       "1            1.33341            1.22811           0.838442  \n",
       "2            0.94281            0.43463           0.838442  \n",
       "3            0.94281            0.43463           0.838442  \n",
       "4            0.94281            0.43463           0.838442  \n",
       "\n",
       "[5 rows x 91 columns]"
      ]
     },
     "execution_count": 14,
     "metadata": {},
     "output_type": "execute_result"
    }
   ],
   "source": [
    "subject_1.head()"
   ]
  },
  {
   "cell_type": "code",
   "execution_count": 15,
   "metadata": {},
   "outputs": [],
   "source": [
    "subject_1.reset_index(inplace=True,drop=True)"
   ]
  },
  {
   "cell_type": "code",
   "execution_count": 16,
   "metadata": {},
   "outputs": [
    {
     "data": {
      "image/png": "[encoded data removed]",
      "text/plain": [
       "<matplotlib.figure.Figure at 0x109f38470>"
      ]
     },
     "metadata": {},
     "output_type": "display_data"
    }
   ],
   "source": [
    "fig, ax1 = plt.subplots(figsize=(15,10))\n",
    "X = np.array(subject_1.index)\n",
    "Y1 = subject_1['activityID_mean'].values\n",
    "Y2 = subject_1['ankle_acc16g_z_peak'].values\n",
    "ax1.plot(X,Y1,'r-',label='Acivities')\n",
    "ax1.yaxis.set_ticks(np.arange(0, 25, 1))\n",
    "ax1.legend(loc='upper left')\n",
    "\n",
    "ax2 = ax1.twinx()\n",
    "ax2.plot(X,Y2,label='Ankle_acceleration_z_peak')\n",
    "ax2.legend(loc='upper right')\n",
    "ax1.grid()"
   ]
  },
  {
   "cell_type": "markdown",
   "metadata": {},
   "source": [
    "We can definitely see some variation amongst activities, athough the situation is complicated! Some activities have much more variation than others, which suggests that frequency features might be useful here"
   ]
  },
  {
   "cell_type": "markdown",
   "metadata": {},
   "source": [
    "### Compare the distribution of feature values for different activities"
   ]
  },
  {
   "cell_type": "code",
   "execution_count": 7,
   "metadata": {},
   "outputs": [],
   "source": [
    "#dictionary converting activity id to activity name#dictiona \n",
    "activity_dict={0:'other',1:'lying',2:'sitting',3:'standing',4:'walking',5:'running',6:'cycling',7:'nordic walking',\n",
    "              9:'watching TV',10:'computer work',11:'car driving',12:'ascending stairs',13:'descending stairs',\n",
    "              16:'vacuum cleaning',17:'ironing',18:'folding laundry',19:'house cleaning',20:'playing_soccer',\n",
    "              24:'rope jumping'}"
   ]
  },
  {
   "cell_type": "markdown",
   "metadata": {},
   "source": [
    "### Start by comparing two very different activities: 'running' (5) vs 'sitting' (2)"
   ]
  },
  {
   "cell_type": "code",
   "execution_count": 37,
   "metadata": {},
   "outputs": [],
   "source": [
    "activity2 = feature_df[feature_df['activityID_mean'] == 2]\n",
    "activity5 = feature_df[feature_df['activityID_mean'] == 5]"
   ]
  },
  {
   "cell_type": "code",
   "execution_count": 38,
   "metadata": {},
   "outputs": [
    {
     "data": {
      "image/png": "[encoded data removed]",
      "text/plain": [
       "<matplotlib.figure.Figure at 0x114c566d8>"
      ]
     },
     "metadata": {},
     "output_type": "display_data"
    }
   ],
   "source": [
    "fig = plt.figure(figsize=[20, 6],facecolor='white')\n",
    "fig.add_subplot(141)\n",
    "plt.hist(activity2['hand_acc16g_x_mean'], bins=50, label='act2', alpha=0.5, normed=True)\n",
    "plt.hist(activity5['hand_acc16g_x_mean'], bins=50, label='act5', alpha=0.5, normed=True)\n",
    "plt.xlabel('mean')\n",
    "plt.ylabel('count')\n",
    "plt.legend()\n",
    "fig.add_subplot(142)\n",
    "plt.hist(activity2['hand_acc16g_x_median'], bins=50, alpha=0.5, normed=True)\n",
    "plt.hist(activity5['hand_acc16g_x_median'], bins=50, alpha=0.5, normed=True)\n",
    "plt.xlabel('median')\n",
    "fig.add_subplot(143)\n",
    "plt.hist(activity2['hand_acc16g_x_std'], bins=50, alpha=0.5, normed=True)\n",
    "plt.hist(activity5['hand_acc16g_x_std'], bins=50, alpha=0.5, normed=True)\n",
    "plt.xlabel('std')\n",
    "fig.add_subplot(144)\n",
    "plt.hist(activity2['hand_acc16g_x_peak'], bins=50, alpha=0.5, normed=True)\n",
    "plt.hist(activity5['hand_acc16g_x_peak'], bins=50, alpha=0.5, normed=True)\n",
    "plt.xlabel('peak')\n",
    "fig.suptitle('Hand acceleration x: Running (5) vs Sitting (2)')\n",
    "plt.show()\n"
   ]
  },
  {
   "cell_type": "code",
   "execution_count": 12,
   "metadata": {},
   "outputs": [
    {
     "data": {
      "image/png": "[encoded data removed]",
      "text/plain": [
       "<matplotlib.figure.Figure at 0x1146ecb38>"
      ]
     },
     "metadata": {},
     "output_type": "display_data"
    }
   ],
   "source": [
    "fig = plt.figure(figsize=[20, 6],facecolor='white')\n",
    "fig.add_subplot(141)\n",
    "plt.hist(activity2['heart_rate_mean'], bins=50, label='act2', alpha=0.5, normed=True)\n",
    "plt.hist(activity5['heart_rate_mean'], bins=50, label='act5', alpha=0.5, normed=True)\n",
    "plt.xlabel('mean')\n",
    "plt.ylabel('count')\n",
    "plt.legend()\n",
    "fig.add_subplot(142)\n",
    "plt.hist(activity2['heart_rate_median'], bins=50, alpha=0.5, normed=True)\n",
    "plt.hist(activity5['heart_rate_median'], bins=50, alpha=0.5, normed=True)\n",
    "plt.xlabel('median')\n",
    "fig.add_subplot(143)\n",
    "plt.hist(activity2['heart_rate_std'], bins=50, alpha=0.5, normed=True)\n",
    "plt.hist(activity5['heart_rate_std'], bins=50, alpha=0.5, normed=True)\n",
    "plt.xlabel('std')\n",
    "fig.add_subplot(144)\n",
    "plt.hist(activity2['heart_rate_peak'], bins=50, alpha=0.5, normed=True)\n",
    "plt.hist(activity5['heart_rate_peak'], bins=50, alpha=0.5, normed=True)\n",
    "plt.xlabel('peak')\n",
    "fig.suptitle('Heart_rate: Running (5) vs Sitting (2)')\n",
    "plt.show()"
   ]
  },
  {
   "cell_type": "markdown",
   "metadata": {},
   "source": [
    "### Now compare two similar activities: 'watching TV' (9) vs 'sitting' (2)"
   ]
  },
  {
   "cell_type": "code",
   "execution_count": 14,
   "metadata": {},
   "outputs": [],
   "source": [
    "activity9 = feature_df[feature_df['activityID_mean'] == 9]"
   ]
  },
  {
   "cell_type": "code",
   "execution_count": 15,
   "metadata": {},
   "outputs": [
    {
     "data": {
      "image/png": "[encoded data removed]",
      "text/plain": [
       "<matplotlib.figure.Figure at 0x115453f28>"
      ]
     },
     "metadata": {},
     "output_type": "display_data"
    }
   ],
   "source": [
    "fig = plt.figure(figsize=[20, 6],facecolor='white')\n",
    "fig.add_subplot(141)\n",
    "plt.hist(activity2['hand_acc16g_x_mean'], bins=50, label='act2', alpha=0.5, normed=True)\n",
    "plt.hist(activity9['hand_acc16g_x_mean'], bins=50, label='act9', alpha=0.5, normed=True)\n",
    "plt.xlabel('mean')\n",
    "plt.ylabel('count')\n",
    "plt.legend()\n",
    "fig.add_subplot(142)\n",
    "plt.hist(activity2['hand_acc16g_x_median'], bins=50, alpha=0.5, normed=True)\n",
    "plt.hist(activity9['hand_acc16g_x_median'], bins=50, alpha=0.5, normed=True)\n",
    "plt.xlabel('median')\n",
    "fig.add_subplot(143)\n",
    "plt.hist(activity2['hand_acc16g_x_std'], bins=50, alpha=0.5, normed=True)\n",
    "plt.hist(activity9['hand_acc16g_x_std'], bins=50, alpha=0.5, normed=True)\n",
    "plt.xlabel('std')\n",
    "fig.add_subplot(144)\n",
    "plt.hist(activity2['hand_acc16g_x_peak'], bins=50, alpha=0.5, normed=True)\n",
    "plt.hist(activity9['hand_acc16g_x_peak'], bins=50, alpha=0.5, normed=True)\n",
    "plt.xlabel('peak')\n",
    "fig.suptitle('Hand acceleration x: TV watching (9) vs Sitting (2)')\n",
    "plt.show()"
   ]
  },
  {
   "cell_type": "code",
   "execution_count": 16,
   "metadata": {},
   "outputs": [
    {
     "data": {
      "image/png": "[encoded data removed]",
      "text/plain": [
       "<matplotlib.figure.Figure at 0x115611e10>"
      ]
     },
     "metadata": {},
     "output_type": "display_data"
    }
   ],
   "source": [
    "fig = plt.figure(figsize=[20, 6],facecolor='white')\n",
    "fig.add_subplot(141)\n",
    "plt.hist(activity2['heart_rate_mean'], bins=50, label='act2', alpha=0.5, normed=True)\n",
    "plt.hist(activity9['heart_rate_mean'], bins=50, label='act9', alpha=0.5, normed=True)\n",
    "plt.xlabel('mean')\n",
    "plt.ylabel('count')\n",
    "plt.legend()\n",
    "fig.add_subplot(142)\n",
    "plt.hist(activity2['heart_rate_median'], bins=50, alpha=0.5, normed=True)\n",
    "plt.hist(activity9['heart_rate_median'], bins=50, alpha=0.5, normed=True)\n",
    "plt.xlabel('median')\n",
    "fig.add_subplot(143)\n",
    "plt.hist(activity2['heart_rate_std'], bins=50, alpha=0.5, normed=True)\n",
    "plt.hist(activity9['heart_rate_std'], bins=50, alpha=0.5, normed=True)\n",
    "plt.xlabel('std')\n",
    "fig.add_subplot(144)\n",
    "plt.hist(activity2['heart_rate_peak'], bins=50, alpha=0.5, normed=True)\n",
    "plt.hist(activity9['heart_rate_peak'], bins=50, alpha=0.5, normed=True)\n",
    "plt.xlabel('peak')\n",
    "fig.suptitle('Heart_rate: TV watching (9) vs Sitting (2)')\n",
    "plt.show()"
   ]
  },
  {
   "cell_type": "markdown",
   "metadata": {},
   "source": [
    "Its interesting (and makes sense) that TV watchers have slightly elevated heart rates to 'sitters'"
   ]
  },
  {
   "cell_type": "code",
   "execution_count": null,
   "metadata": {},
   "outputs": [],
   "source": []
  },
  {
   "cell_type": "markdown",
   "metadata": {},
   "source": [
    "### An example classification problem"
   ]
  },
  {
   "cell_type": "code",
   "execution_count": 51,
   "metadata": {},
   "outputs": [],
   "source": [
    "from sklearn.model_selection import train_test_split\n",
    "from sklearn.tree import DecisionTreeClassifier"
   ]
  },
  {
   "cell_type": "code",
   "execution_count": 52,
   "metadata": {},
   "outputs": [],
   "source": [
    "feature_df.dropna(inplace=True)"
   ]
  },
  {
   "cell_type": "code",
   "execution_count": 53,
   "metadata": {},
   "outputs": [],
   "source": [
    "activities = pd.get_dummies(feature_df['activityID_mean'],drop_first=True)"
   ]
  },
  {
   "cell_type": "code",
   "execution_count": 54,
   "metadata": {},
   "outputs": [],
   "source": [
    "X = feature_df.drop(['timestamp_mean','activityID_mean'],axis=1)"
   ]
  },
  {
   "cell_type": "code",
   "execution_count": 55,
   "metadata": {},
   "outputs": [
    {
     "data": {
      "text/plain": [
       "Index(['heart_rate_mean', 'hand_temp_mean', 'hand_acc16g_x_mean',\n",
       "       'hand_acc16g_y_mean', 'hand_acc16g_z_mean', 'hand_gyro_x_mean',\n",
       "       'hand_gyro_y_mean', 'hand_gyro_z_mean', 'chest_temp_mean',\n",
       "       'chest_acc16g_x_mean', 'chest_acc16g_y_mean', 'chest_acc16g_z_mean',\n",
       "       'chest_gyro_x_mean', 'chest_gyro_y_mean', 'chest_gyro_z_mean',\n",
       "       'ankle_temp_mean', 'ankle_acc16g_x_mean', 'ankle_acc16g_y_mean',\n",
       "       'ankle_acc16g_z_mean', 'ankle_gyro_x_mean', 'ankle_gyro_y_mean',\n",
       "       'ankle_gyro_z_mean', 'subject_mean', 'heart_rate_median',\n",
       "       'hand_temp_median', 'hand_acc16g_x_median', 'hand_acc16g_y_median',\n",
       "       'hand_acc16g_z_median', 'hand_gyro_x_median', 'hand_gyro_y_median',\n",
       "       'hand_gyro_z_median', 'chest_temp_median', 'chest_acc16g_x_median',\n",
       "       'chest_acc16g_y_median', 'chest_acc16g_z_median', 'chest_gyro_x_median',\n",
       "       'chest_gyro_y_median', 'chest_gyro_z_median', 'ankle_temp_median',\n",
       "       'ankle_acc16g_x_median', 'ankle_acc16g_y_median',\n",
       "       'ankle_acc16g_z_median', 'ankle_gyro_x_median', 'ankle_gyro_y_median',\n",
       "       'ankle_gyro_z_median', 'heart_rate_std', 'hand_temp_std',\n",
       "       'hand_acc16g_x_std', 'hand_acc16g_y_std', 'hand_acc16g_z_std',\n",
       "       'hand_gyro_x_std', 'hand_gyro_y_std', 'hand_gyro_z_std',\n",
       "       'chest_temp_std', 'chest_acc16g_x_std', 'chest_acc16g_y_std',\n",
       "       'chest_acc16g_z_std', 'chest_gyro_x_std', 'chest_gyro_y_std',\n",
       "       'chest_gyro_z_std', 'ankle_temp_std', 'ankle_acc16g_x_std',\n",
       "       'ankle_acc16g_y_std', 'ankle_acc16g_z_std', 'ankle_gyro_x_std',\n",
       "       'ankle_gyro_y_std', 'ankle_gyro_z_std', 'heart_rate_peak',\n",
       "       'hand_temp_peak', 'hand_acc16g_x_peak', 'hand_acc16g_y_peak',\n",
       "       'hand_acc16g_z_peak', 'hand_gyro_x_peak', 'hand_gyro_y_peak',\n",
       "       'hand_gyro_z_peak', 'chest_temp_peak', 'chest_acc16g_x_peak',\n",
       "       'chest_acc16g_y_peak', 'chest_acc16g_z_peak', 'chest_gyro_x_peak',\n",
       "       'chest_gyro_y_peak', 'chest_gyro_z_peak', 'ankle_temp_peak',\n",
       "       'ankle_acc16g_x_peak', 'ankle_acc16g_y_peak', 'ankle_acc16g_z_peak',\n",
       "       'ankle_gyro_x_peak', 'ankle_gyro_y_peak', 'ankle_gyro_z_peak'],\n",
       "      dtype='object')"
      ]
     },
     "execution_count": 55,
     "metadata": {},
     "output_type": "execute_result"
    }
   ],
   "source": [
    "X.columns"
   ]
  },
  {
   "cell_type": "code",
   "execution_count": 56,
   "metadata": {},
   "outputs": [],
   "source": [
    "X_train, X_test, y_train, y_test = train_test_split(X,activities,test_size=0.3)"
   ]
  },
  {
   "cell_type": "code",
   "execution_count": 57,
   "metadata": {},
   "outputs": [],
   "source": [
    "dtree = DecisionTreeClassifier(min_samples_leaf=1)"
   ]
  },
  {
   "cell_type": "code",
   "execution_count": 58,
   "metadata": {},
   "outputs": [
    {
     "data": {
      "text/plain": [
       "DecisionTreeClassifier(class_weight=None, criterion='gini', max_depth=None,\n",
       "            max_features=None, max_leaf_nodes=None,\n",
       "            min_impurity_decrease=0.0, min_impurity_split=None,\n",
       "            min_samples_leaf=1, min_samples_split=2,\n",
       "            min_weight_fraction_leaf=0.0, presort=False, random_state=None,\n",
       "            splitter='best')"
      ]
     },
     "execution_count": 58,
     "metadata": {},
     "output_type": "execute_result"
    }
   ],
   "source": [
    "dtree.fit(X_train,y_train)"
   ]
  },
  {
   "cell_type": "code",
   "execution_count": 59,
   "metadata": {},
   "outputs": [],
   "source": [
    "predictions = dtree.predict(X_test)"
   ]
  },
  {
   "cell_type": "code",
   "execution_count": 60,
   "metadata": {},
   "outputs": [],
   "source": [
    "from sklearn.metrics import classification_report"
   ]
  },
  {
   "cell_type": "code",
   "execution_count": 61,
   "metadata": {},
   "outputs": [
    {
     "name": "stdout",
     "output_type": "stream",
     "text": [
      "             precision    recall  f1-score   support\n",
      "\n",
      "          0     0.8990    0.9271    0.9128        96\n",
      "          1     0.9140    0.9444    0.9290        90\n",
      "          2     0.9643    0.9783    0.9712       138\n",
      "          3     0.9216    0.9216    0.9216        51\n",
      "          4     0.9419    0.9000    0.9205        90\n",
      "          5     0.9604    0.9798    0.9700        99\n",
      "          6     1.0000    0.9474    0.9730        38\n",
      "          7     0.9882    0.9941    0.9912       169\n",
      "          8     0.9000    0.9643    0.9310        28\n",
      "          9     0.8421    0.9412    0.8889        34\n",
      "         10     0.8438    0.9310    0.8852        29\n",
      "         11     0.8557    0.9022    0.8783        92\n",
      "         12     0.8934    0.8385    0.8651       130\n",
      "         13     0.7059    0.8571    0.7742        42\n",
      "         14     0.8947    0.8173    0.8543       104\n",
      "         15     0.8077    0.6774    0.7368        31\n",
      "         16     1.0000    0.8000    0.8889        25\n",
      "\n",
      "avg / total     0.9171    0.9160    0.9154      1286\n",
      "\n"
     ]
    }
   ],
   "source": [
    "print(classification_report(y_test,predictions,digits=4))"
   ]
  },
  {
   "cell_type": "markdown",
   "metadata": {},
   "source": [
    "#### A really basic case of LOSO - remove one subject, train on the rest and then test"
   ]
  },
  {
   "cell_type": "code",
   "execution_count": 143,
   "metadata": {},
   "outputs": [],
   "source": [
    "s1 = X[X['subject_mean']==1]"
   ]
  },
  {
   "cell_type": "code",
   "execution_count": 144,
   "metadata": {},
   "outputs": [],
   "source": [
    "X_without  = X[X['subject_mean'] != 1]\n",
    "fdf_without = feature_df[feature_df['subject_mean'] != 1]\n",
    "activities = pd.get_dummies(fdf_without['activityID_mean'],drop_first=True)"
   ]
  },
  {
   "cell_type": "code",
   "execution_count": 145,
   "metadata": {},
   "outputs": [
    {
     "data": {
      "text/plain": [
       "DecisionTreeClassifier(class_weight=None, criterion='gini', max_depth=None,\n",
       "            max_features=None, max_leaf_nodes=None,\n",
       "            min_impurity_decrease=0.0, min_impurity_split=None,\n",
       "            min_samples_leaf=1, min_samples_split=2,\n",
       "            min_weight_fraction_leaf=0.0, presort=False, random_state=None,\n",
       "            splitter='best')"
      ]
     },
     "execution_count": 145,
     "metadata": {},
     "output_type": "execute_result"
    }
   ],
   "source": [
    "dtree.fit(X_without,activities)"
   ]
  },
  {
   "cell_type": "code",
   "execution_count": 146,
   "metadata": {},
   "outputs": [],
   "source": [
    "predictions = dtree.predict(s1)"
   ]
  },
  {
   "cell_type": "code",
   "execution_count": 148,
   "metadata": {},
   "outputs": [],
   "source": [
    "a1 = feature_df[feature_df['subject_mean'] == 1]\n",
    "test_activities = pd.get_dummies(a1['activityID_mean'],drop_first=True)"
   ]
  },
  {
   "cell_type": "code",
   "execution_count": 149,
   "metadata": {},
   "outputs": [
    {
     "name": "stdout",
     "output_type": "stream",
     "text": [
      "             precision    recall  f1-score   support\n",
      "\n",
      "          0     0.1980    0.4689    0.2784       209\n",
      "          1     0.5261    0.5781    0.5509       192\n",
      "          2     0.8455    0.9442    0.8921       197\n",
      "          3     1.0000    1.0000    1.0000       187\n",
      "          4     0.5517    0.6857    0.6115       210\n",
      "          5     1.0000    0.7175    0.8355       177\n",
      "          6     0.0000    0.0000    0.0000       811\n",
      "          7     0.0000    0.0000    0.0000       520\n",
      "          8     0.0000    0.0000    0.0000       108\n",
      "          9     0.0000    0.0000    0.0000        98\n",
      "         10     0.0000    0.0000    0.0000       204\n",
      "         11     0.8587    0.7524    0.8020       210\n",
      "         12     0.0000    0.0000    0.0000       246\n",
      "         13     0.0000    0.0000    0.0000       515\n",
      "         14     1.0000    1.0000    1.0000       104\n",
      "\n",
      "avg / total     0.2691    0.2796    0.2697      3988\n",
      "\n"
     ]
    }
   ],
   "source": [
    "print(classification_report(test_activities,predictions,digits=4))"
   ]
  },
  {
   "cell_type": "markdown",
   "metadata": {},
   "source": [
    "The mean of the non-zero components here is 0.75"
   ]
  },
  {
   "cell_type": "markdown",
   "metadata": {},
   "source": [
    "There could be an issue with the features having been calculated on overlapping segments of timeseries - should investiage what happens in the case of nonoverlapping segments"
   ]
  },
  {
   "cell_type": "code",
   "execution_count": null,
   "metadata": {},
   "outputs": [],
   "source": []
  }
 ],
 "metadata": {
  "kernelspec": {
   "display_name": "Python 3",
   "language": "python",
   "name": "python3"
  },
  "language_info": {
   "codemirror_mode": {
    "name": "ipython",
    "version": 3
   },
   "file_extension": ".py",
   "mimetype": "text/x-python",
   "name": "python",
   "nbconvert_exporter": "python",
   "pygments_lexer": "ipython3",
   "version": "3.6.4"
  }
 },
 "nbformat": 4,
 "nbformat_minor": 2
}
