{
 "cells": [
  {
   "cell_type": "markdown",
   "metadata": {},
   "source": [
    "# Tuning hyperparameters to find the best classification model"
   ]
  },
  {
   "cell_type": "markdown",
   "metadata": {},
   "source": [
    "## This study is based off of [Chiu-Yun Lin's Classification.ipynb](https://github.com/kcmeehan/BiometricsActivityClassification/blob/master/Classification.ipynb)"
   ]
  },
  {
   "cell_type": "markdown",
   "metadata": {},
   "source": [
    "Import the necessary libraries:"
   ]
  },
  {
   "cell_type": "code",
   "execution_count": 10,
   "metadata": {},
   "outputs": [],
   "source": [
    "import numpy as np\n",
    "import pandas as pd\n",
    "from sklearn.tree import DecisionTreeClassifier\n",
    "from sklearn.model_selection import train_test_split, GridSearchCV, RandomizedSearchCV\n",
    "import DataProcess as DP"
   ]
  },
  {
   "cell_type": "markdown",
   "metadata": {},
   "source": [
    "Load the pre-processed, segmented, feature-extracted data:"
   ]
  },
  {
   "cell_type": "code",
   "execution_count": 11,
   "metadata": {},
   "outputs": [],
   "source": [
    "for subj_n in range(1,10):\n",
    "    #load the data\n",
    "    subj_filename='../PAMAP2_Dataset/Protocol/subject10'+str(subj_n)+'.dat'\n",
    "    dp = DP.dataprocess(subj_filename)\n",
    "    np.save('data'+str(subj_n)+'.npy', (dp.feat_labels,dp.data_segmented))"
   ]
  },
  {
   "cell_type": "code",
   "execution_count": 12,
   "metadata": {},
   "outputs": [],
   "source": [
    "datalabels=[]\n",
    "for i in range(1,10):\n",
    "    feature_names,datalabelsi=np.load('data'+str(i)+'.npy')\n",
    "    datalabels.append(datalabelsi)"
   ]
  },
  {
   "cell_type": "code",
   "execution_count": 13,
   "metadata": {},
   "outputs": [],
   "source": [
    "# Stack data from different subjects into one chunk:\n",
    "dataset=np.vstack(datalabels)"
   ]
  },
  {
   "cell_type": "markdown",
   "metadata": {},
   "source": [
    "# Decision Tree Classifier"
   ]
  },
  {
   "cell_type": "code",
   "execution_count": 14,
   "metadata": {},
   "outputs": [],
   "source": [
    "# Instantiate a Decision Tree classifier: tree\n",
    "tree = DecisionTreeClassifier()"
   ]
  },
  {
   "cell_type": "code",
   "execution_count": 15,
   "metadata": {},
   "outputs": [],
   "source": [
    "# Set up the hyperparameter parameterspace\n",
    "max_depth = np.arange(3,11)\n",
    "max_feat = np.arange(50, 151)\n",
    "min_samples_leaf = np.arange(1,11)\n",
    "min_imp_decrease = np.arange(0.0,0.05,0.005)\n",
    "max_leaf_nodes = np.arange(10,20)\n",
    "\n",
    "param_dist = {\"max_depth\": max_depth,\n",
    "              \"max_features\": max_feat,\n",
    "              \"min_samples_leaf\": min_samples_leaf,\n",
    "              \"criterion\": [\"gini\", \"entropy\"],\n",
    "              \"min_impurity_decrease\": min_imp_decrease,\n",
    "              \"max_leaf_nodes\": max_leaf_nodes}"
   ]
  },
  {
   "cell_type": "code",
   "execution_count": 16,
   "metadata": {},
   "outputs": [],
   "source": [
    "# Instatiate Classifier\n",
    "tree = DecisionTreeClassifier()"
   ]
  },
  {
   "cell_type": "code",
   "execution_count": 17,
   "metadata": {},
   "outputs": [],
   "source": [
    "# Split data into training and test set\n",
    "X = dataset[:,:-1]\n",
    "y = dataset[:,-1]\n",
    "X_train, X_test, y_train, y_test = train_test_split(X, y, test_size=0.3, random_state=42)"
   ]
  },
  {
   "cell_type": "code",
   "execution_count": 32,
   "metadata": {},
   "outputs": [],
   "source": [
    "# Instantiate grid search object- first I will try the Randomized method to see how\n",
    "# time-consuming it is\n",
    "tree_rcv = RandomizedSearchCV(tree, param_dist, cv=9, random_state=42) # 9-fold cv for now"
   ]
  },
  {
   "cell_type": "code",
   "execution_count": 34,
   "metadata": {},
   "outputs": [
    {
     "name": "stdout",
     "output_type": "stream",
     "text": [
      "CPU times: user 24.1 s, sys: 4 ms, total: 24.1 s\n",
      "Wall time: 24.1 s\n"
     ]
    },
    {
     "data": {
      "text/plain": [
       "RandomizedSearchCV(cv=9, error_score='raise',\n",
       "          estimator=DecisionTreeClassifier(class_weight=None, criterion='gini', max_depth=None,\n",
       "            max_features=None, max_leaf_nodes=None,\n",
       "            min_impurity_decrease=0.0, min_impurity_split=None,\n",
       "            min_samples_leaf=1, min_samples_split=2,\n",
       "            min_weight_fraction_leaf=0.0, presort=False, random_state=None,\n",
       "            splitter='best'),\n",
       "          fit_params=None, iid=True, n_iter=10, n_jobs=1,\n",
       "          param_distributions={'min_impurity_decrease': array([ 0.   ,  0.005,  0.01 ,  0.015,  0.02 ,  0.025,  0.03 ,  0.035,\n",
       "        0.04 ,  0.045]), 'max_leaf_nodes': array([10, 11, 12, 13, 14, 15, 16, 17, 18, 19]), 'min_samples_leaf': array([ 1,  2,  3,  4,  5,  6,  7,  8,  9, 10]), 'criterion': ['gini', 'entropy'], 'max_features': array([ 50,  51, ..., 149, 150]), 'max_depth': array([ 3,  4,  5,  6,  7,  8,  9, 10])},\n",
       "          pre_dispatch='2*n_jobs', random_state=42, refit=True,\n",
       "          return_train_score='warn', scoring=None, verbose=0)"
      ]
     },
     "execution_count": 34,
     "metadata": {},
     "output_type": "execute_result"
    }
   ],
   "source": [
    "# Fit model to the training data\n",
    "%time tree_rcv.fit(X_train, y_train)"
   ]
  },
  {
   "cell_type": "code",
   "execution_count": null,
   "metadata": {},
   "outputs": [],
   "source": [
    "# Print the tuned parameters and score\n",
    "print(\"RCV Tuned Decision Tree Parameters: {}\".format(tree_rcv.best_params_))\n",
    "print(\"RCV Best score is {}\".format(tree_rcv.best_score_))"
   ]
  },
  {
   "cell_type": "code",
   "execution_count": null,
   "metadata": {},
   "outputs": [],
   "source": [
    "# Now I will try with regular grid search\n",
    "tree_cv = GridSearchCV(tree, param_dist, cv=9)\n",
    "%time tree_cv.fit(X_train, y_train)"
   ]
  },
  {
   "cell_type": "code",
   "execution_count": null,
   "metadata": {},
   "outputs": [],
   "source": [
    "print(\"Tuned Decision Tree Parameters: {}\".format(tree_cv.best_params_))\n",
    "print(\"Best score is {}\".format(tree_cv.best_score_))"
   ]
  }
 ],
 "metadata": {
  "kernelspec": {
   "display_name": "Python 2",
   "language": "python",
   "name": "python2"
  },
  "language_info": {
   "codemirror_mode": {
    "name": "ipython",
    "version": 2
   },
   "file_extension": ".py",
   "mimetype": "text/x-python",
   "name": "python",
   "nbconvert_exporter": "python",
   "pygments_lexer": "ipython2",
   "version": "2.7.12"
  }
 },
 "nbformat": 4,
 "nbformat_minor": 2
}
