{
 "cells": [
  {
   "cell_type": "markdown",
   "metadata": {},
   "source": [
    "# Tuning hyperparameters to find the best classification model"
   ]
  },
  {
   "cell_type": "markdown",
   "metadata": {},
   "source": [
    "Import the necessary libraries:"
   ]
  },
  {
   "cell_type": "code",
   "execution_count": 1,
   "metadata": {},
   "outputs": [],
   "source": [
    "import numpy as np\n",
    "import pandas as pd\n",
    "from sklearn.tree import DecisionTreeClassifier\n",
    "from sklearn.linear_model import LogisticRegression\n",
    "from sklearn.neighbors import KNeighborsClassifier\n",
    "from sklearn.ensemble import RandomForestClassifier\n",
    "from sklearn.model_selection import train_test_split, GridSearchCV, RandomizedSearchCV\n",
    "from sklearn.metrics import classification_report, confusion_matrix\n",
    "import DataProcess as DP"
   ]
  },
  {
   "cell_type": "markdown",
   "metadata": {},
   "source": [
    "Load the pre-processed, segmented, feature-extracted data:"
   ]
  },
  {
   "cell_type": "code",
   "execution_count": 2,
   "metadata": {},
   "outputs": [],
   "source": [
    "for subj_n in range(1,10):\n",
    "    subj_filename='../PAMAP2_Dataset/Protocol/subject10'+str(subj_n)+'.dat'\n",
    "    dp = DP.dataprocess(subj_filename)\n",
    "    np.save('data'+str(subj_n)+'.npy', (dp.feat_labels,dp.data_segmented))"
   ]
  },
  {
   "cell_type": "code",
   "execution_count": 3,
   "metadata": {},
   "outputs": [],
   "source": [
    "datalabels=[]\n",
    "for i in range(1,10):\n",
    "    feature_names,datalabelsi=np.load('data'+str(i)+'.npy')\n",
    "    datalabels.append(datalabelsi)"
   ]
  },
  {
   "cell_type": "code",
   "execution_count": 4,
   "metadata": {},
   "outputs": [],
   "source": [
    "# Stack data from different subjects into one chunk:\n",
    "dataset=np.vstack(datalabels)"
   ]
  },
  {
   "cell_type": "markdown",
   "metadata": {},
   "source": [
    "Split the data into training and test sets."
   ]
  },
  {
   "cell_type": "code",
   "execution_count": 5,
   "metadata": {},
   "outputs": [],
   "source": [
    "X = dataset[:,:-1]\n",
    "y = dataset[:,-1]\n",
    "X_train, X_test, y_train, y_test = train_test_split(X, y, test_size=0.3, random_state=42)"
   ]
  },
  {
   "cell_type": "markdown",
   "metadata": {},
   "source": [
    "# 1) Decision Tree Classifier"
   ]
  },
  {
   "cell_type": "code",
   "execution_count": 12,
   "metadata": {},
   "outputs": [],
   "source": [
    "# Instantiate a Decision Tree classifier: tree\n",
    "tree = DecisionTreeClassifier()"
   ]
  },
  {
   "cell_type": "code",
   "execution_count": 13,
   "metadata": {},
   "outputs": [],
   "source": [
    "# Set up the hyperparameter parameterspace\n",
    "max_depth = np.arange(3,11)\n",
    "max_feat = np.arange(50, 151)\n",
    "min_samples_leaf = np.arange(1,11)\n",
    "min_imp_decrease = np.arange(0.0,0.05,0.005)\n",
    "max_leaf_nodes = np.arange(10,20)\n",
    "\n",
    "param_dist = {\"max_depth\": max_depth,\n",
    "              \"max_features\": max_feat,\n",
    "              \"min_samples_leaf\": min_samples_leaf,\n",
    "              \"criterion\": [\"gini\", \"entropy\"],\n",
    "              \"min_impurity_decrease\": min_imp_decrease,\n",
    "              \"max_leaf_nodes\": max_leaf_nodes}"
   ]
  },
  {
   "cell_type": "code",
   "execution_count": 14,
   "metadata": {},
   "outputs": [],
   "source": [
    "# Instantiate Classifier\n",
    "tree = DecisionTreeClassifier()"
   ]
  },
  {
   "cell_type": "markdown",
   "metadata": {},
   "source": [
    "## 1.1 Randomized Search"
   ]
  },
  {
   "cell_type": "code",
   "execution_count": 15,
   "metadata": {},
   "outputs": [],
   "source": [
    "# Instantiate grid search object- first I will try the Randomized method to see how\n",
    "# time-consuming it is\n",
    "tree_rcv = RandomizedSearchCV(tree, param_dist, cv=9, random_state=42) # 9-fold cv for now"
   ]
  },
  {
   "cell_type": "code",
   "execution_count": 16,
   "metadata": {},
   "outputs": [
    {
     "name": "stdout",
     "output_type": "stream",
     "text": [
      "CPU times: user 16.8 s, sys: 4 ms, total: 16.8 s\n",
      "Wall time: 16.8 s\n"
     ]
    },
    {
     "data": {
      "text/plain": [
       "RandomizedSearchCV(cv=9, error_score='raise',\n",
       "          estimator=DecisionTreeClassifier(class_weight=None, criterion='gini', max_depth=None,\n",
       "            max_features=None, max_leaf_nodes=None,\n",
       "            min_impurity_decrease=0.0, min_impurity_split=None,\n",
       "            min_samples_leaf=1, min_samples_split=2,\n",
       "            min_weight_fraction_leaf=0.0, presort=False, random_state=None,\n",
       "            splitter='best'),\n",
       "          fit_params=None, iid=True, n_iter=10, n_jobs=1,\n",
       "          param_distributions={'min_impurity_decrease': array([ 0.   ,  0.005,  0.01 ,  0.015,  0.02 ,  0.025,  0.03 ,  0.035,\n",
       "        0.04 ,  0.045]), 'max_leaf_nodes': array([10, 11, 12, 13, 14, 15, 16, 17, 18, 19]), 'min_samples_leaf': array([ 1,  2,  3,  4,  5,  6,  7,  8,  9, 10]), 'criterion': ['gini', 'entropy'], 'max_features': array([ 50,  51, ..., 149, 150]), 'max_depth': array([ 3,  4,  5,  6,  7,  8,  9, 10])},\n",
       "          pre_dispatch='2*n_jobs', random_state=42, refit=True,\n",
       "          return_train_score='warn', scoring=None, verbose=0)"
      ]
     },
     "execution_count": 16,
     "metadata": {},
     "output_type": "execute_result"
    }
   ],
   "source": [
    "# Fit model to the training data\n",
    "%time tree_rcv.fit(X_train, y_train)"
   ]
  },
  {
   "cell_type": "code",
   "execution_count": 17,
   "metadata": {},
   "outputs": [
    {
     "name": "stdout",
     "output_type": "stream",
     "text": [
      "RCV Tuned Decision Tree Parameters: {'min_impurity_decrease': 0.029999999999999999, 'max_leaf_nodes': 14, 'min_samples_leaf': 3, 'criterion': 'entropy', 'max_features': 143, 'max_depth': 5}\n",
      "RCV Best score is 0.903045903046\n"
     ]
    }
   ],
   "source": [
    "# Print the tuned parameters and score\n",
    "print(\"RCV Tuned Decision Tree Parameters: {}\".format(tree_rcv.best_params_))\n",
    "print(\"RCV Best score is {}\".format(tree_rcv.best_score_))"
   ]
  },
  {
   "cell_type": "code",
   "execution_count": 18,
   "metadata": {},
   "outputs": [],
   "source": [
    "y_pred_rand = tree_rcv.predict(X_test)"
   ]
  },
  {
   "cell_type": "code",
   "execution_count": 19,
   "metadata": {},
   "outputs": [
    {
     "name": "stdout",
     "output_type": "stream",
     "text": [
      "[[108   3   0   0   0   0   0   0   0   0   0   0]\n",
      " [  0  83  11   0   0   1   0   0   0   1   1   0]\n",
      " [  0   0  81   0   0   2   0   0   0   4   2   0]\n",
      " [  0   0   0 125   0   0   0   1   3   0   0   0]\n",
      " [  0   0   0   0  40   0   0   0   0   0   0   1]\n",
      " [  0   0   0   0   0  81   0   0   0   4   3   0]\n",
      " [  0   0   0   2   0   0  92   0   0   0   0   0]\n",
      " [  0   0   0   2   0   1   1  49   0   0   0   0]\n",
      " [  0   0   0   5   0   0   2   0  34   0   0   2]\n",
      " [  0   2   0   0   0   5   0   4   0  75   6   1]\n",
      " [  0   0   7   0   0   1   0   0   0   6 117   0]\n",
      " [  0   0   0   0   8   0   0   7   2   0   0  13]]\n",
      "             precision    recall  f1-score   support\n",
      "\n",
      "        1.0       1.00      0.97      0.99       111\n",
      "        2.0       0.94      0.86      0.90        97\n",
      "        3.0       0.82      0.91      0.86        89\n",
      "        4.0       0.93      0.97      0.95       129\n",
      "        5.0       0.83      0.98      0.90        41\n",
      "        6.0       0.89      0.92      0.91        88\n",
      "        7.0       0.97      0.98      0.97        94\n",
      "       12.0       0.80      0.92      0.86        53\n",
      "       13.0       0.87      0.79      0.83        43\n",
      "       16.0       0.83      0.81      0.82        93\n",
      "       17.0       0.91      0.89      0.90       131\n",
      "       24.0       0.76      0.43      0.55        30\n",
      "\n",
      "avg / total       0.90      0.90      0.90       999\n",
      "\n"
     ]
    }
   ],
   "source": [
    "print(confusion_matrix(y_test, y_pred_rand))\n",
    "print(classification_report(y_test, y_pred_rand))"
   ]
  },
  {
   "cell_type": "markdown",
   "metadata": {},
   "source": [
    "## 1.2 Regular grid search"
   ]
  },
  {
   "cell_type": "code",
   "execution_count": 35,
   "metadata": {},
   "outputs": [],
   "source": [
    "params = {\"max_depth\": max_depth,\n",
    "              \"max_features\": max_feat,\n",
    "              \"min_samples_leaf\": min_samples_leaf,\n",
    "              \"criterion\": [\"gini\", \"entropy\"]}\n",
    "              #\"min_impurity_decrease\": min_imp_decrease,\n",
    "              #\"max_leaf_nodes\": max_leaf_nodes}\n",
    "tree_cv = GridSearchCV(tree, params, cv=9)"
   ]
  },
  {
   "cell_type": "code",
   "execution_count": null,
   "metadata": {},
   "outputs": [],
   "source": [
    "%time tree_cv.fit(X_train, y_train)"
   ]
  },
  {
   "cell_type": "code",
   "execution_count": null,
   "metadata": {},
   "outputs": [],
   "source": [
    "print(\"Tuned Decision Tree Parameters: {}\".format(tree_cv.best_params_))\n",
    "print(\"Best score is {}\".format(tree_cv.best_score_))"
   ]
  },
  {
   "cell_type": "code",
   "execution_count": null,
   "metadata": {},
   "outputs": [],
   "source": [
    "y_pred = tree_cv.predict(X_test)"
   ]
  },
  {
   "cell_type": "code",
   "execution_count": null,
   "metadata": {},
   "outputs": [],
   "source": [
    "print(confusion_matrix(y_test, y_pred))\n",
    "print(classification_report(y_test, y_pred))"
   ]
  },
  {
   "cell_type": "markdown",
   "metadata": {},
   "source": [
    "# 2) Logistic Regression Classifier"
   ]
  },
  {
   "cell_type": "code",
   "execution_count": 20,
   "metadata": {},
   "outputs": [],
   "source": [
    "logreg = LogisticRegression()"
   ]
  },
  {
   "cell_type": "code",
   "execution_count": 21,
   "metadata": {},
   "outputs": [],
   "source": [
    "c_space =  np.logspace(-5, 8, 15)\n",
    "logreg_param_grid = {'C': c_space, \n",
    "                     'penalty' : [\"l1\", \"l2\"],\n",
    "                     'class_weight': [\"balanced\", None]}\n",
    "logreg_rcv = RandomizedSearchCV(logreg, logreg_param_grid, cv=9)\n",
    "logreg_cv  = GridSearchCV(logreg, logreg_param_grid, cv=9)"
   ]
  },
  {
   "cell_type": "code",
   "execution_count": 22,
   "metadata": {},
   "outputs": [
    {
     "name": "stdout",
     "output_type": "stream",
     "text": [
      "CPU times: user 2min 11s, sys: 12 ms, total: 2min 11s\n",
      "Wall time: 2min 11s\n"
     ]
    },
    {
     "data": {
      "text/plain": [
       "RandomizedSearchCV(cv=9, error_score='raise',\n",
       "          estimator=LogisticRegression(C=1.0, class_weight=None, dual=False, fit_intercept=True,\n",
       "          intercept_scaling=1, max_iter=100, multi_class='ovr', n_jobs=1,\n",
       "          penalty='l2', random_state=None, solver='liblinear', tol=0.0001,\n",
       "          verbose=0, warm_start=False),\n",
       "          fit_params=None, iid=True, n_iter=10, n_jobs=1,\n",
       "          param_distributions={'penalty': ['l1', 'l2'], 'C': array([  1.00000e-05,   8.48343e-05,   7.19686e-04,   6.10540e-03,\n",
       "         5.17947e-02,   4.39397e-01,   3.72759e+00,   3.16228e+01,\n",
       "         2.68270e+02,   2.27585e+03,   1.93070e+04,   1.63789e+05,\n",
       "         1.38950e+06,   1.17877e+07,   1.00000e+08]), 'class_weight': ['balanced', None]},\n",
       "          pre_dispatch='2*n_jobs', random_state=None, refit=True,\n",
       "          return_train_score='warn', scoring=None, verbose=0)"
      ]
     },
     "execution_count": 22,
     "metadata": {},
     "output_type": "execute_result"
    }
   ],
   "source": [
    "%time logreg_rcv.fit(X_train, y_train)"
   ]
  },
  {
   "cell_type": "code",
   "execution_count": 23,
   "metadata": {},
   "outputs": [
    {
     "name": "stdout",
     "output_type": "stream",
     "text": [
      "Tuned Parameters: {'penalty': 'l1', 'C': 3.7275937203149381, 'class_weight': None}\n",
      "Best score is 0.980694980695\n"
     ]
    }
   ],
   "source": [
    "print(\"Tuned Parameters: {}\".format(logreg_rcv.best_params_))\n",
    "print(\"Best score is {}\".format(logreg_rcv.best_score_))"
   ]
  },
  {
   "cell_type": "code",
   "execution_count": 24,
   "metadata": {},
   "outputs": [],
   "source": [
    "y_pred_logreg_rand = logreg_rcv.predict(X_test)"
   ]
  },
  {
   "cell_type": "code",
   "execution_count": 25,
   "metadata": {},
   "outputs": [
    {
     "name": "stdout",
     "output_type": "stream",
     "text": [
      "[[110   0   0   0   0   0   0   0   1   0   0   0]\n",
      " [  0  96   1   0   0   0   0   0   0   0   0   0]\n",
      " [  0   2  83   0   0   0   0   0   0   1   3   0]\n",
      " [  0   0   0 129   0   0   0   0   0   0   0   0]\n",
      " [  0   0   0   0  41   0   0   0   0   0   0   0]\n",
      " [  0   0   0   0   0  88   0   0   0   0   0   0]\n",
      " [  0   0   0   0   0   0  94   0   0   0   0   0]\n",
      " [  0   0   0   0   0   0   0  53   0   0   0   0]\n",
      " [  0   0   0   0   0   0   1   0  42   0   0   0]\n",
      " [  0   0   0   0   0   1   0   0   0  91   1   0]\n",
      " [  0   0   0   0   0   0   0   0   0   1 130   0]\n",
      " [  0   0   0   0   0   0   0   0   0   0   0  30]]\n",
      "             precision    recall  f1-score   support\n",
      "\n",
      "        1.0       1.00      0.99      1.00       111\n",
      "        2.0       0.98      0.99      0.98        97\n",
      "        3.0       0.99      0.93      0.96        89\n",
      "        4.0       1.00      1.00      1.00       129\n",
      "        5.0       1.00      1.00      1.00        41\n",
      "        6.0       0.99      1.00      0.99        88\n",
      "        7.0       0.99      1.00      0.99        94\n",
      "       12.0       1.00      1.00      1.00        53\n",
      "       13.0       0.98      0.98      0.98        43\n",
      "       16.0       0.98      0.98      0.98        93\n",
      "       17.0       0.97      0.99      0.98       131\n",
      "       24.0       1.00      1.00      1.00        30\n",
      "\n",
      "avg / total       0.99      0.99      0.99       999\n",
      "\n"
     ]
    }
   ],
   "source": [
    "print(confusion_matrix(y_test, y_pred_logreg_rand))\n",
    "print(classification_report(y_test, y_pred_logreg_rand))"
   ]
  },
  {
   "cell_type": "code",
   "execution_count": 30,
   "metadata": {},
   "outputs": [
    {
     "name": "stdout",
     "output_type": "stream",
     "text": [
      "CPU times: user 13min 44s, sys: 328 ms, total: 13min 44s\n",
      "Wall time: 13min 45s\n"
     ]
    },
    {
     "data": {
      "text/plain": [
       "GridSearchCV(cv=9, error_score='raise',\n",
       "       estimator=LogisticRegression(C=1.0, class_weight=None, dual=False, fit_intercept=True,\n",
       "          intercept_scaling=1, max_iter=100, multi_class='ovr', n_jobs=1,\n",
       "          penalty='l2', random_state=None, solver='liblinear', tol=0.0001,\n",
       "          verbose=0, warm_start=False),\n",
       "       fit_params=None, iid=True, n_jobs=1,\n",
       "       param_grid={'penalty': ['l1', 'l2'], 'C': array([  1.00000e-05,   8.48343e-05,   7.19686e-04,   6.10540e-03,\n",
       "         5.17947e-02,   4.39397e-01,   3.72759e+00,   3.16228e+01,\n",
       "         2.68270e+02,   2.27585e+03,   1.93070e+04,   1.63789e+05,\n",
       "         1.38950e+06,   1.17877e+07,   1.00000e+08]), 'class_weight': ['balanced', None]},\n",
       "       pre_dispatch='2*n_jobs', refit=True, return_train_score='warn',\n",
       "       scoring=None, verbose=0)"
      ]
     },
     "execution_count": 30,
     "metadata": {},
     "output_type": "execute_result"
    }
   ],
   "source": [
    "%time logreg_cv.fit(X_train, y_train)"
   ]
  },
  {
   "cell_type": "code",
   "execution_count": 31,
   "metadata": {},
   "outputs": [
    {
     "name": "stdout",
     "output_type": "stream",
     "text": [
      "Tuned Parameters: {'penalty': 'l1', 'C': 31.622776601683793, 'class_weight': 'balanced'}\n",
      "Best score is 0.98283998284\n"
     ]
    }
   ],
   "source": [
    "print(\"Tuned Parameters: {}\".format(logreg_cv.best_params_))\n",
    "print(\"Best score is {}\".format(logreg_cv.best_score_))"
   ]
  },
  {
   "cell_type": "code",
   "execution_count": 32,
   "metadata": {},
   "outputs": [],
   "source": [
    "y_pred_logreg = logreg_cv.predict(X_test)"
   ]
  },
  {
   "cell_type": "code",
   "execution_count": 33,
   "metadata": {},
   "outputs": [
    {
     "name": "stdout",
     "output_type": "stream",
     "text": [
      "[[110   0   1   0   0   0   0   0   0   0   0   0]\n",
      " [  0  96   0   0   0   0   0   0   0   0   1   0]\n",
      " [  0   2  82   0   0   0   0   0   0   1   4   0]\n",
      " [  0   0   0 129   0   0   0   0   0   0   0   0]\n",
      " [  0   0   0   0  41   0   0   0   0   0   0   0]\n",
      " [  0   0   0   0   0  88   0   0   0   0   0   0]\n",
      " [  0   0   0   0   0   0  94   0   0   0   0   0]\n",
      " [  0   0   0   0   0   0   0  53   0   0   0   0]\n",
      " [  0   0   0   0   0   0   0   0  43   0   0   0]\n",
      " [  0   0   1   0   0   0   0   0   0  91   1   0]\n",
      " [  0   0   0   0   0   1   0   0   0   1 129   0]\n",
      " [  0   0   0   1   0   0   0   0   0   0   0  29]]\n",
      "             precision    recall  f1-score   support\n",
      "\n",
      "        1.0       1.00      0.99      1.00       111\n",
      "        2.0       0.98      0.99      0.98        97\n",
      "        3.0       0.98      0.92      0.95        89\n",
      "        4.0       0.99      1.00      1.00       129\n",
      "        5.0       1.00      1.00      1.00        41\n",
      "        6.0       0.99      1.00      0.99        88\n",
      "        7.0       1.00      1.00      1.00        94\n",
      "       12.0       1.00      1.00      1.00        53\n",
      "       13.0       1.00      1.00      1.00        43\n",
      "       16.0       0.98      0.98      0.98        93\n",
      "       17.0       0.96      0.98      0.97       131\n",
      "       24.0       1.00      0.97      0.98        30\n",
      "\n",
      "avg / total       0.99      0.99      0.99       999\n",
      "\n"
     ]
    }
   ],
   "source": [
    "print(confusion_matrix(y_test, y_pred_logreg))\n",
    "print(classification_report(y_test, y_pred_logreg))"
   ]
  },
  {
   "cell_type": "markdown",
   "metadata": {},
   "source": [
    "# 3) KNN Classifier"
   ]
  },
  {
   "cell_type": "code",
   "execution_count": 8,
   "metadata": {},
   "outputs": [],
   "source": [
    "knn = KNeighborsClassifier()"
   ]
  },
  {
   "cell_type": "code",
   "execution_count": 9,
   "metadata": {},
   "outputs": [],
   "source": [
    "knn_param_grid = {'n_neighbors': np.arange(5,100,5)}\n",
    "knn_cv = GridSearchCV(knn, knn_param_grid, cv=9)"
   ]
  },
  {
   "cell_type": "code",
   "execution_count": 26,
   "metadata": {},
   "outputs": [
    {
     "name": "stdout",
     "output_type": "stream",
     "text": [
      "CPU times: user 4min 20s, sys: 72 ms, total: 4min 20s\n",
      "Wall time: 4min 20s\n"
     ]
    },
    {
     "data": {
      "text/plain": [
       "GridSearchCV(cv=9, error_score='raise',\n",
       "       estimator=KNeighborsClassifier(algorithm='auto', leaf_size=30, metric='minkowski',\n",
       "           metric_params=None, n_jobs=1, n_neighbors=5, p=2,\n",
       "           weights='uniform'),\n",
       "       fit_params=None, iid=True, n_jobs=1,\n",
       "       param_grid={'n_neighbors': array([ 5, 10, 15, 20, 25, 30, 35, 40, 45, 50, 55, 60, 65, 70, 75, 80, 85,\n",
       "       90, 95])},\n",
       "       pre_dispatch='2*n_jobs', refit=True, return_train_score='warn',\n",
       "       scoring=None, verbose=0)"
      ]
     },
     "execution_count": 26,
     "metadata": {},
     "output_type": "execute_result"
    }
   ],
   "source": [
    "%time knn_cv.fit(X_train, y_train)"
   ]
  },
  {
   "cell_type": "code",
   "execution_count": 27,
   "metadata": {},
   "outputs": [
    {
     "name": "stdout",
     "output_type": "stream",
     "text": [
      "Tuned Parameters: {'n_neighbors': 5}\n",
      "Best score is 0.953238953239\n"
     ]
    }
   ],
   "source": [
    "print(\"Tuned Parameters: {}\".format(knn_cv.best_params_))\n",
    "print(\"Best score is {}\".format(knn_cv.best_score_))"
   ]
  },
  {
   "cell_type": "code",
   "execution_count": 28,
   "metadata": {},
   "outputs": [],
   "source": [
    "y_pred_knn = knn_cv.predict(X_test)"
   ]
  },
  {
   "cell_type": "code",
   "execution_count": 29,
   "metadata": {},
   "outputs": [
    {
     "name": "stdout",
     "output_type": "stream",
     "text": [
      "[[111   0   0   0   0   0   0   0   0   0   0   0]\n",
      " [  2  95   0   0   0   0   0   0   0   0   0   0]\n",
      " [  1   2  84   0   0   0   0   0   0   1   1   0]\n",
      " [  1   0   0 128   0   0   0   0   0   0   0   0]\n",
      " [  0   0   0   0  41   0   0   0   0   0   0   0]\n",
      " [  0   0   0   1   0  87   0   0   0   0   0   0]\n",
      " [  0   0   0   1   0   0  93   0   0   0   0   0]\n",
      " [  0   0   0   7   0   0   0  46   0   0   0   0]\n",
      " [  0   0   0   7   0   0   0   7  29   0   0   0]\n",
      " [  0   0   0   2   0   4   0   0   0  86   1   0]\n",
      " [  0   1   0   0   0   0   0   0   0   0 130   0]\n",
      " [  0   0   0   0   1   0   0   0   0   0   0  29]]\n",
      "             precision    recall  f1-score   support\n",
      "\n",
      "        1.0       0.97      1.00      0.98       111\n",
      "        2.0       0.97      0.98      0.97        97\n",
      "        3.0       1.00      0.94      0.97        89\n",
      "        4.0       0.88      0.99      0.93       129\n",
      "        5.0       0.98      1.00      0.99        41\n",
      "        6.0       0.96      0.99      0.97        88\n",
      "        7.0       1.00      0.99      0.99        94\n",
      "       12.0       0.87      0.87      0.87        53\n",
      "       13.0       1.00      0.67      0.81        43\n",
      "       16.0       0.99      0.92      0.96        93\n",
      "       17.0       0.98      0.99      0.99       131\n",
      "       24.0       1.00      0.97      0.98        30\n",
      "\n",
      "avg / total       0.96      0.96      0.96       999\n",
      "\n"
     ]
    }
   ],
   "source": [
    "print(confusion_matrix(y_test, y_pred_knn))\n",
    "print(classification_report(y_test, y_pred_knn))"
   ]
  },
  {
   "cell_type": "markdown",
   "metadata": {},
   "source": [
    "# Random Forest "
   ]
  },
  {
   "cell_type": "code",
   "execution_count": 6,
   "metadata": {},
   "outputs": [],
   "source": [
    "rf = RandomForestClassifier()"
   ]
  },
  {
   "cell_type": "code",
   "execution_count": 7,
   "metadata": {},
   "outputs": [],
   "source": [
    "rf_param_grid = {'n_estimators': 100,\n",
    "                 'min_samples_split': 2,\n",
    "                 'min_samples_leaf': 1,\n",
    "                 'max_depth': 12,\n",
    "                 'oob_score': True,\n",
    "                 'class_weight': ['balanced', 'balanced_subsample', None]}"
   ]
  },
  {
   "cell_type": "code",
   "execution_count": null,
   "metadata": {},
   "outputs": [],
   "source": [
    "rf"
   ]
  }
 ],
 "metadata": {
  "kernelspec": {
   "display_name": "Python 2",
   "language": "python",
   "name": "python2"
  },
  "language_info": {
   "codemirror_mode": {
    "name": "ipython",
    "version": 2
   },
   "file_extension": ".py",
   "mimetype": "text/x-python",
   "name": "python",
   "nbconvert_exporter": "python",
   "pygments_lexer": "ipython2",
   "version": "2.7.12"
  }
 },
 "nbformat": 4,
 "nbformat_minor": 2
}
