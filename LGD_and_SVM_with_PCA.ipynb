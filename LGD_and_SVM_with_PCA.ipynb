{
 "cells": [
  {
   "cell_type": "markdown",
   "metadata": {},
   "source": [
    "# Classification workflow:\n",
    "\n",
    "1) Load and normalize (by Standard and MinMax sclaer) all protocol data\n",
    "\n",
    "2) Segregate spectra and extract features: segment duration=5.12sec, data length after flattening=16070\n",
    "\n",
    "3) Train-validation-test split\n",
    "\n",
    "4) PCA: figure out the number of component to keep by using train and validation set\n",
    "\n",
    "5) PCA transformation\n",
    "\n",
    "6) Logistic Regression Classification: do grid-search to optimize the classifier parameter\n",
    "\n",
    "7) SVM Classification: do grid-search to optimize the classifier parameter"
   ]
  },
  {
   "cell_type": "code",
   "execution_count": 12,
   "metadata": {},
   "outputs": [],
   "source": [
    "import numpy as np\n",
    "import DataProcess as DP\n",
    "import FeatureCalculate as FC\n",
    "import DataProcessForPCA as DPpca\n",
    "import pandas as pd\n",
    "from sklearn.preprocessing import StandardScaler, MinMaxScaler\n",
    "from sklearn.model_selection import cross_val_score, train_test_split, GridSearchCV\n",
    "\n",
    "from sklearn.decomposition import PCA\n",
    "from sklearn.linear_model import LogisticRegression\n",
    "from sklearn.metrics import confusion_matrix, classification_report\n",
    "from sklearn.svm import SVC"
   ]
  },
  {
   "cell_type": "markdown",
   "metadata": {},
   "source": [
    "## 1) Load and Normalize Data:"
   ]
  },
  {
   "cell_type": "code",
   "execution_count": 2,
   "metadata": {},
   "outputs": [],
   "source": [
    "# Use StandardScaler:\n",
    "specchunks=[]\n",
    "for i in DP.protocol_list:\n",
    "    X_std, specchunk = DPpca.preprocess(i, 1000, rescale=True, scaler='standard')\n",
    "    specchunks.append(np.array(specchunk))\n",
    "\n",
    "# Use MinMaxScaler:\n",
    "specchunks2=[]\n",
    "for i in DP.protocol_list:\n",
    "    X_std, specchunk2 = DPpca.preprocess(i, 1000, rescale=True, scaler='minmax')\n",
    "    specchunks2.append(np.array(specchunk2))"
   ]
  },
  {
   "cell_type": "markdown",
   "metadata": {},
   "source": [
    "## 2) Data segmentation + Feature extraction + Flattening:"
   ]
  },
  {
   "cell_type": "code",
   "execution_count": 3,
   "metadata": {
    "collapsed": true
   },
   "outputs": [],
   "source": [
    "chunks=[]\n",
    "for i in range(len(specchunks)):\n",
    "    chunks.append(DPpca.segmentation(specchunks[i],T=512,stride=512))\n",
    "\n",
    "chunks2=[]\n",
    "for i in range(len(specchunks2)):\n",
    "    chunks2.append(DPpca.segmentation(specchunks2[i],T=512,stride=512))"
   ]
  },
  {
   "cell_type": "code",
   "execution_count": 9,
   "metadata": {},
   "outputs": [
    {
     "name": "stdout",
     "output_type": "stream",
     "text": [
      "(426, 16070)\n",
      "(453, 16070)\n",
      "(292, 16070)\n",
      "(399, 16070)\n",
      "(472, 16070)\n",
      "(432, 16070)\n",
      "(398, 16070)\n",
      "(450, 16070)\n",
      "(8, 16070)\n"
     ]
    }
   ],
   "source": [
    "for i in range(len(chunks)):\n",
    "    print(chunks[i].shape)"
   ]
  },
  {
   "cell_type": "markdown",
   "metadata": {},
   "source": [
    "## 3) Train-validation-test split (0.7: 0.12: 0.18)"
   ]
  },
  {
   "cell_type": "code",
   "execution_count": 5,
   "metadata": {
    "collapsed": true
   },
   "outputs": [],
   "source": [
    "# Stack data from different subjects into one chunk:\n",
    "data = np.vstack(chunks)\n",
    "data2 = np.vstack(chunks2)\n",
    "\n",
    "#shuffle data\n",
    "np.random.shuffle(data)\n",
    "np.random.shuffle(data2)\n",
    "\n",
    "X = data[:,:-1]\n",
    "y = data[:,-1]\n",
    "X2 = data2[:,:-1]\n",
    "y2 = data2[:,-1]"
   ]
  },
  {
   "cell_type": "code",
   "execution_count": 6,
   "metadata": {},
   "outputs": [
    {
     "data": {
      "text/plain": [
       "{1.0: 0.10270270270270271,\n",
       " 2.0: 0.097897897897897893,\n",
       " 3.0: 0.1012012012012012,\n",
       " 4.0: 0.12912912912912913,\n",
       " 5.0: 0.049849849849849852,\n",
       " 6.0: 0.087687687687687685,\n",
       " 7.0: 0.1012012012012012,\n",
       " 12.0: 0.047447447447447451,\n",
       " 13.0: 0.039339339339339342,\n",
       " 16.0: 0.092192192192192199,\n",
       " 17.0: 0.12912912912912913,\n",
       " 24.0: 0.022222222222222223}"
      ]
     },
     "execution_count": 6,
     "metadata": {},
     "output_type": "execute_result"
    }
   ],
   "source": [
    "# Calculate class_weight of activities:\n",
    "actID, counts = np.unique(y, return_counts=True)\n",
    "weight = counts/np.sum(counts)\n",
    "act_weight = dict(zip(actID, weight))\n",
    "act_weight"
   ]
  },
  {
   "cell_type": "code",
   "execution_count": 7,
   "metadata": {
    "collapsed": true
   },
   "outputs": [],
   "source": [
    "X_train, X_test, y_train, y_test = train_test_split(X, y, test_size=0.18, random_state=42)\n",
    "X_train, X_val, y_train, y_val = train_test_split(X_train, y_train, test_size=0.12, random_state=42)\n",
    "\n",
    "X2_train, X2_test, y2_train, y2_test = train_test_split(X2, y2, test_size=0.18, random_state=42)\n",
    "X2_train, X2_val, y2_train, y2_val = train_test_split(X2_train, y2_train, test_size=0.12, random_state=42)"
   ]
  },
  {
   "cell_type": "markdown",
   "metadata": {},
   "source": [
    "## 4) PCA: find out ideal n_components by using train and validation set"
   ]
  },
  {
   "cell_type": "markdown",
   "metadata": {},
   "source": [
    "**Eigen-values:**"
   ]
  },
  {
   "cell_type": "code",
   "execution_count": 10,
   "metadata": {},
   "outputs": [],
   "source": [
    "#Perform eigendecomposition on covariance matrix\n",
    "cov_mat = np.cov(X_train.T)\n",
    "eig_vals, eig_vecs = np.linalg.eig(cov_mat)\n",
    "\n",
    "cov_mat2 = np.cov(X2_train.T)\n",
    "eig_vals2, eig_vecs2 = np.linalg.eig(cov_mat2)"
   ]
  },
  {
   "cell_type": "code",
   "execution_count": 11,
   "metadata": {},
   "outputs": [
    {
     "data": {
      "image/png": "[encoded data removed]",
      "text/plain": [
       "<matplotlib.figure.Figure at 0x12595cc0>"
      ]
     },
     "metadata": {},
     "output_type": "display_data"
    }
   ],
   "source": [
    "n = len(np.abs(eig_vals))\n",
    "plt.plot(np.linspace(0, n-1, n), np.abs(eig_vals), label='Standard', marker='o', ms=3)\n",
    "plt.plot(np.linspace(0, n-1, n), np.abs(eig_vals2), label='MinMax', marker='o', ms=3)\n",
    "plt.yscale('log')\n",
    "plt.xscale('log')\n",
    "plt.xlabel('index')\n",
    "plt.ylabel('eigenvalue')\n",
    "plt.legend();"
   ]
  },
  {
   "cell_type": "markdown",
   "metadata": {},
   "source": [
    "### Scree plot:"
   ]
  },
  {
   "cell_type": "code",
   "execution_count": 13,
   "metadata": {},
   "outputs": [],
   "source": [
    "pca = PCA().fit(X_train)\n",
    "pca2 = PCA().fit(X2_train)"
   ]
  },
  {
   "cell_type": "code",
   "execution_count": 14,
   "metadata": {},
   "outputs": [
    {
     "data": {
      "image/png": "[encoded data removed]",
      "text/plain": [
       "<matplotlib.figure.Figure at 0x124fa400>"
      ]
     },
     "metadata": {},
     "output_type": "display_data"
    }
   ],
   "source": [
    "plt.figure(figsize=[11, 4])\n",
    "plt.subplot(121)\n",
    "plt.plot(np.cumsum(pca.explained_variance_ratio_), label='Standard')\n",
    "plt.plot(np.cumsum(pca2.explained_variance_ratio_), label='MinMax')\n",
    "plt.xlabel('number of components')\n",
    "plt.ylabel('cumulative explained variance')\n",
    "plt.legend()\n",
    "\n",
    "plt.subplot(122)\n",
    "plt.plot(np.cumsum(pca.explained_variance_ratio_), label='Standard')\n",
    "plt.plot(np.cumsum(pca2.explained_variance_ratio_), label='MinMax')\n",
    "plt.xlabel('number of components')\n",
    "plt.ylabel('cumulative explained variance')\n",
    "plt.xscale('log')\n",
    "plt.legend();"
   ]
  },
  {
   "cell_type": "markdown",
   "metadata": {},
   "source": [
    "### Find optimal n_components:"
   ]
  },
  {
   "cell_type": "code",
   "execution_count": 15,
   "metadata": {},
   "outputs": [],
   "source": [
    "train_scores = []\n",
    "train_scores2 = []\n",
    "val_scores = []\n",
    "val_scores2 = []\n",
    "components = [2,4,6,8,10,15,20,25,40,70,100,150,200,300,400,500,600]\n",
    "for i in components:\n",
    "    pca = PCA(n_components=i)\n",
    "    pca2 = PCA(n_components=i)\n",
    "    X_tr = pca.fit_transform(X_train)\n",
    "    X2_tr = pca2.fit_transform(X2_train)\n",
    "    X_v = pca.transform(X_val)\n",
    "    X2_v = pca2.transform(X2_val)\n",
    "    \n",
    "    # Use parameters from Kathryn's test:\n",
    "    cls = LogisticRegression(penalty='l1', C=30, class_weight=act_weight)\n",
    "    cls2 = LogisticRegression(penalty='l1', C=30, class_weight=act_weight)\n",
    "    cls.fit(X_tr,y_train)\n",
    "    cls2.fit(X2_tr,y2_train)\n",
    "    train_scores.append(cls.score(X_tr,y_train))\n",
    "    train_scores2.append(cls2.score(X2_tr,y2_train))\n",
    "    val_scores.append(cls.score(X_v,y_val))\n",
    "    val_scores2.append(cls2.score(X2_v,y2_val))"
   ]
  },
  {
   "cell_type": "code",
   "execution_count": 16,
   "metadata": {},
   "outputs": [
    {
     "data": {
      "image/png": "[encoded data removed]",
      "text/plain": [
       "<matplotlib.figure.Figure at 0x136f0d30>"
      ]
     },
     "metadata": {},
     "output_type": "display_data"
    }
   ],
   "source": [
    "plt.figure(figsize=[10, 4])\n",
    "plt.subplot(121)\n",
    "plt.plot(components, train_scores, label='training')\n",
    "plt.plot(components, val_scores, label='validation')\n",
    "plt.xlabel('number of components')\n",
    "plt.ylabel('Score')\n",
    "plt.title('Standard Scaler')\n",
    "plt.legend()\n",
    "\n",
    "plt.subplot(122)\n",
    "plt.plot(components, train_scores2, label='training')\n",
    "plt.plot(components, val_scores2, label='validation')\n",
    "plt.xlabel('number of components')\n",
    "plt.title('MinMax Scaler')\n",
    "plt.legend()\n",
    "plt.show()"
   ]
  },
  {
   "cell_type": "code",
   "execution_count": 18,
   "metadata": {},
   "outputs": [
    {
     "name": "stdout",
     "output_type": "stream",
     "text": [
      "Optimal n_components & validation score:\n",
      "Standard Scaler: 40,\tScore = 0.9664634146341463\n",
      "MinMax Scaler:200,\tScore = 0.975609756097561\n"
     ]
    }
   ],
   "source": [
    "print('Optimal n_components & validation score:')\n",
    "n1 = components[np.argmax(val_scores)]\n",
    "n2 = components[np.argmax(val_scores2)]\n",
    "print('Standard Scaler: {},\\tScore = {}'.format(components[np.argmax(val_scores)], val_scores[np.argmax(val_scores)]))\n",
    "print('MinMax Scaler:{},\\tScore = {}'.format(components[np.argmax(val_scores2)], val_scores2[np.argmax(val_scores2)]))"
   ]
  },
  {
   "cell_type": "markdown",
   "metadata": {},
   "source": [
    "**MinMax scaler needs more components than standard scaler.**"
   ]
  },
  {
   "cell_type": "markdown",
   "metadata": {},
   "source": [
    "## 5) PCA Transformation: "
   ]
  },
  {
   "cell_type": "code",
   "execution_count": 19,
   "metadata": {},
   "outputs": [],
   "source": [
    "pca = PCA(n_components=n1)\n",
    "X_train_pca = pca.fit_transform(np.vstack((X_train, X_val)))\n",
    "X_test_pca = pca.transform(X_test)\n",
    "y_train_pca = np.append(y_train, y_val)\n",
    "\n",
    "pca2 = PCA(n_components=n2)\n",
    "X2_train_pca = pca2.fit_transform(np.vstack((X2_train, X2_val)))\n",
    "X2_test_pca = pca2.transform(X2_test)\n",
    "y2_train_pca = np.append(y2_train, y2_val)"
   ]
  },
  {
   "cell_type": "markdown",
   "metadata": {},
   "source": [
    "## 6) Logistic Regression:\n",
    "\n",
    "**Quick peek: Test score of using logistic regression is 0.9517 (Standard) and 0.9783 (MinMax).**\n",
    "\n",
    "### Grid Search Parameters:\n",
    "**Standard Scaler:**"
   ]
  },
  {
   "cell_type": "code",
   "execution_count": 20,
   "metadata": {
    "collapsed": true
   },
   "outputs": [],
   "source": [
    "# Set up the hyperparameter parameterspace\n",
    "logreg_param_grid = {'C': [0.1, 0.3, 1, 3, 10], \n",
    "                     'penalty' : [\"l1\", \"l2\"],\n",
    "                     'class_weight': [\"balanced\", act_weight, None]}"
   ]
  },
  {
   "cell_type": "code",
   "execution_count": 21,
   "metadata": {},
   "outputs": [
    {
     "name": "stdout",
     "output_type": "stream",
     "text": [
      "Wall time: 3min 35s\n"
     ]
    },
    {
     "data": {
      "text/plain": [
       "GridSearchCV(cv=5, error_score='raise',\n",
       "       estimator=LogisticRegression(C=1.0, class_weight=None, dual=False, fit_intercept=True,\n",
       "          intercept_scaling=1, max_iter=100, multi_class='ovr', n_jobs=1,\n",
       "          penalty='l2', random_state=None, solver='liblinear', tol=0.0001,\n",
       "          verbose=0, warm_start=False),\n",
       "       fit_params=None, iid=True, n_jobs=1,\n",
       "       param_grid={'C': [0.1, 0.3, 1, 3, 10], 'penalty': ['l1', 'l2'], 'class_weight': ['balanced', {1.0: 0.10270270270270271, 2.0: 0.097897897897897893, 3.0: 0.1012012012012012, 4.0: 0.12912912912912913, 5.0: 0.049849849849849852, 6.0: 0.087687687687687685, 7.0: 0.1012012012012012, 12.0: 0.047447447447447451, 13.0: 0.039339339339339342, 16.0: 0.092192192192192199, 17.0: 0.12912912912912913, 24.0: 0.022222222222222223}, None]},\n",
       "       pre_dispatch='2*n_jobs', refit=True, return_train_score='warn',\n",
       "       scoring=None, verbose=0)"
      ]
     },
     "execution_count": 21,
     "metadata": {},
     "output_type": "execute_result"
    }
   ],
   "source": [
    "logreg = LogisticRegression()\n",
    "logreg_gs = GridSearchCV(logreg, logreg_param_grid, cv=5)\n",
    "%time logreg_gs.fit(X_train_pca, y_train_pca)"
   ]
  },
  {
   "cell_type": "code",
   "execution_count": 22,
   "metadata": {},
   "outputs": [
    {
     "name": "stdout",
     "output_type": "stream",
     "text": [
      "Optimal Parameters: {'C': 0.3, 'class_weight': 'balanced', 'penalty': 'l1'}\n",
      "Best score: 0.9538461538461539\n"
     ]
    }
   ],
   "source": [
    "print(\"Optimal Parameters: {}\".format(logreg_gs.best_params_))\n",
    "print(\"Best score: {}\".format(logreg_gs.best_score_))"
   ]
  },
  {
   "cell_type": "code",
   "execution_count": 23,
   "metadata": {},
   "outputs": [
    {
     "name": "stdout",
     "output_type": "stream",
     "text": [
      "test score= 0.951666666667\n",
      "[[58  0  0  0  0  0  0  0  0  0  0  0]\n",
      " [ 1 55  2  0  0  0  0  0  0  0  0  0]\n",
      " [ 0  3 56  0  0  0  0  0  0  0  3  0]\n",
      " [ 0  0  0 82  0  0  2  0  1  0  1  0]\n",
      " [ 0  0  0  0 29  0  0  0  0  0  0  0]\n",
      " [ 0  0  0  0  0 38  1  0  0  1  0  0]\n",
      " [ 0  0  0  1  0  0 61  3  0  0  0  0]\n",
      " [ 0  0  0  0  0  0  0 23  0  1  0  0]\n",
      " [ 0  0  0  0  0  0  1  0 23  0  0  0]\n",
      " [ 0  0  0  0  0  0  0  0  0 51  5  0]\n",
      " [ 0  0  0  0  0  0  0  0  0  1 80  0]\n",
      " [ 1  0  0  0  1  0  0  0  0  0  0 15]]\n",
      "             precision    recall  f1-score   support\n",
      "\n",
      "        1.0       0.97      1.00      0.98        58\n",
      "        2.0       0.95      0.95      0.95        58\n",
      "        3.0       0.97      0.90      0.93        62\n",
      "        4.0       0.99      0.95      0.97        86\n",
      "        5.0       0.97      1.00      0.98        29\n",
      "        6.0       1.00      0.95      0.97        40\n",
      "        7.0       0.94      0.94      0.94        65\n",
      "       12.0       0.88      0.96      0.92        24\n",
      "       13.0       0.96      0.96      0.96        24\n",
      "       16.0       0.94      0.91      0.93        56\n",
      "       17.0       0.90      0.99      0.94        81\n",
      "       24.0       1.00      0.88      0.94        17\n",
      "\n",
      "avg / total       0.95      0.95      0.95       600\n",
      "\n"
     ]
    }
   ],
   "source": [
    "y_pred_log = logreg_gs.predict(X_test_pca)\n",
    "print('test score=', logreg_gs.score(X_test_pca, y_test))\n",
    "print(confusion_matrix(y_test, y_pred_log))\n",
    "print(classification_report(y_test, y_pred_log))"
   ]
  },
  {
   "cell_type": "markdown",
   "metadata": {},
   "source": [
    "**MinMax Scaler:**"
   ]
  },
  {
   "cell_type": "code",
   "execution_count": 24,
   "metadata": {},
   "outputs": [
    {
     "name": "stdout",
     "output_type": "stream",
     "text": [
      "Wall time: 15min 29s\n"
     ]
    },
    {
     "data": {
      "text/plain": [
       "GridSearchCV(cv=5, error_score='raise',\n",
       "       estimator=LogisticRegression(C=1.0, class_weight=None, dual=False, fit_intercept=True,\n",
       "          intercept_scaling=1, max_iter=100, multi_class='ovr', n_jobs=1,\n",
       "          penalty='l2', random_state=None, solver='liblinear', tol=0.0001,\n",
       "          verbose=0, warm_start=False),\n",
       "       fit_params=None, iid=True, n_jobs=1,\n",
       "       param_grid={'C': [0.1, 0.3, 1, 3, 10], 'penalty': ['l1', 'l2'], 'class_weight': ['balanced', {1.0: 0.10270270270270271, 2.0: 0.097897897897897893, 3.0: 0.1012012012012012, 4.0: 0.12912912912912913, 5.0: 0.049849849849849852, 6.0: 0.087687687687687685, 7.0: 0.1012012012012012, 12.0: 0.047447447447447451, 13.0: 0.039339339339339342, 16.0: 0.092192192192192199, 17.0: 0.12912912912912913, 24.0: 0.022222222222222223}, None]},\n",
       "       pre_dispatch='2*n_jobs', refit=True, return_train_score='warn',\n",
       "       scoring=None, verbose=0)"
      ]
     },
     "execution_count": 24,
     "metadata": {},
     "output_type": "execute_result"
    }
   ],
   "source": [
    "logreg = LogisticRegression()\n",
    "logreg_gs2 = GridSearchCV(logreg, logreg_param_grid, cv=5)\n",
    "%time logreg_gs2.fit(X2_train_pca, y2_train_pca)"
   ]
  },
  {
   "cell_type": "code",
   "execution_count": 25,
   "metadata": {},
   "outputs": [
    {
     "name": "stdout",
     "output_type": "stream",
     "text": [
      "Optimal Parameters: {'C': 1, 'class_weight': 'balanced', 'penalty': 'l1'}\n",
      "Best score: 0.9681318681318681\n"
     ]
    }
   ],
   "source": [
    "print(\"Optimal Parameters: {}\".format(logreg_gs2.best_params_))\n",
    "print(\"Best score: {}\".format(logreg_gs2.best_score_))"
   ]
  },
  {
   "cell_type": "code",
   "execution_count": 26,
   "metadata": {},
   "outputs": [
    {
     "name": "stdout",
     "output_type": "stream",
     "text": [
      "test score= 0.978333333333\n",
      "[[62  0  0  0  0  0  0  0  0  0  0  0]\n",
      " [ 0 48  3  0  0  0  0  0  0  1  0  0]\n",
      " [ 0  1 46  0  0  0  0  0  0  0  0  0]\n",
      " [ 0  0  0 77  0  0  0  0  0  0  0  0]\n",
      " [ 0  0  1  0 33  0  0  0  0  0  0  0]\n",
      " [ 0  0  0  0  0 52  0  0  0  0  0  0]\n",
      " [ 0  0  0  0  0  0 52  0  0  0  0  0]\n",
      " [ 0  0  0  1  0  0  0 30  0  0  0  0]\n",
      " [ 0  0  0  0  1  0  0  0 23  0  0  0]\n",
      " [ 0  0  0  0  0  0  0  2  0 64  2  0]\n",
      " [ 0  1  0  0  0  0  0  0  0  0 84  0]\n",
      " [ 0  0  0  0  0  0  0  0  0  0  0 16]]\n",
      "             precision    recall  f1-score   support\n",
      "\n",
      "        1.0       1.00      1.00      1.00        62\n",
      "        2.0       0.96      0.92      0.94        52\n",
      "        3.0       0.92      0.98      0.95        47\n",
      "        4.0       0.99      1.00      0.99        77\n",
      "        5.0       0.97      0.97      0.97        34\n",
      "        6.0       1.00      1.00      1.00        52\n",
      "        7.0       1.00      1.00      1.00        52\n",
      "       12.0       0.94      0.97      0.95        31\n",
      "       13.0       1.00      0.96      0.98        24\n",
      "       16.0       0.98      0.94      0.96        68\n",
      "       17.0       0.98      0.99      0.98        85\n",
      "       24.0       1.00      1.00      1.00        16\n",
      "\n",
      "avg / total       0.98      0.98      0.98       600\n",
      "\n"
     ]
    }
   ],
   "source": [
    "y2_pred_log = logreg_gs2.predict(X2_test_pca)\n",
    "print('test score=', logreg_gs2.score(X2_test_pca, y2_test))\n",
    "print(confusion_matrix(y2_test, y2_pred_log))\n",
    "print(classification_report(y2_test, y2_pred_log))"
   ]
  },
  {
   "cell_type": "markdown",
   "metadata": {},
   "source": [
    "## 7) SVM:\n",
    "**Quick peek: Test score of using SVM is 0.9817 (Standard) and 0.9867 (MinMax).**\n",
    "\n",
    "### Grid Search Parameters:\n",
    "**Standard Scaler:**"
   ]
  },
  {
   "cell_type": "code",
   "execution_count": 27,
   "metadata": {
    "collapsed": true
   },
   "outputs": [],
   "source": [
    "# Set up the hyperparameter parameterspace\n",
    "svm_param_grid = {'C': [0.05, 0.1, 0.3, 0.5, 1], \n",
    "                  'kernel' : [\"linear\", \"poly\"],\n",
    "                  'tol': [1, 5e-1, 3e-1, 1e-1, 3e-2, 1e-2],\n",
    "                  'class_weight': [\"balanced\", act_weight, None]}"
   ]
  },
  {
   "cell_type": "code",
   "execution_count": 28,
   "metadata": {},
   "outputs": [
    {
     "name": "stdout",
     "output_type": "stream",
     "text": [
      "Wall time: 2min 4s\n"
     ]
    },
    {
     "data": {
      "text/plain": [
       "GridSearchCV(cv=5, error_score='raise',\n",
       "       estimator=SVC(C=1.0, cache_size=200, class_weight=None, coef0=0.0,\n",
       "  decision_function_shape='ovr', degree=3, gamma='auto', kernel='rbf',\n",
       "  max_iter=-1, probability=False, random_state=None, shrinking=True,\n",
       "  tol=0.001, verbose=False),\n",
       "       fit_params=None, iid=True, n_jobs=1,\n",
       "       param_grid={'C': [0.05, 0.1, 0.3, 0.5, 1], 'kernel': ['linear', 'poly'], 'tol': [1, 0.5, 0.3, 0.1, 0.03, 0.01], 'class_weight': ['balanced', {1.0: 0.10270270270270271, 2.0: 0.097897897897897893, 3.0: 0.1012012012012012, 4.0: 0.12912912912912913, 5.0: 0.049849849849849852, 6.0: 0.087687687687687685, 7.0: 0.1012012012012012, 12.0: 0.047447447447447451, 13.0: 0.039339339339339342, 16.0: 0.092192192192192199, 17.0: 0.12912912912912913, 24.0: 0.022222222222222223}, None]},\n",
       "       pre_dispatch='2*n_jobs', refit=True, return_train_score='warn',\n",
       "       scoring=None, verbose=0)"
      ]
     },
     "execution_count": 28,
     "metadata": {},
     "output_type": "execute_result"
    }
   ],
   "source": [
    "svm = SVC()\n",
    "svm_gs = GridSearchCV(svm, svm_param_grid, cv=5)\n",
    "%time svm_gs.fit(X_train_pca, y_train_pca)"
   ]
  },
  {
   "cell_type": "code",
   "execution_count": 29,
   "metadata": {},
   "outputs": [
    {
     "name": "stdout",
     "output_type": "stream",
     "text": [
      "Optimal Parameters: {'C': 0.05, 'class_weight': {1.0: 0.10270270270270271, 2.0: 0.097897897897897893, 3.0: 0.1012012012012012, 4.0: 0.12912912912912913, 5.0: 0.049849849849849852, 6.0: 0.087687687687687685, 7.0: 0.1012012012012012, 12.0: 0.047447447447447451, 13.0: 0.039339339339339342, 16.0: 0.092192192192192199, 17.0: 0.12912912912912913, 24.0: 0.022222222222222223}, 'kernel': 'linear', 'tol': 0.1}\n",
      "Best score: 0.9787545787545787\n"
     ]
    }
   ],
   "source": [
    "print(\"Optimal Parameters: {}\".format(svm_gs.best_params_))\n",
    "print(\"Best score: {}\".format(svm_gs.best_score_))"
   ]
  },
  {
   "cell_type": "code",
   "execution_count": 30,
   "metadata": {},
   "outputs": [
    {
     "name": "stdout",
     "output_type": "stream",
     "text": [
      "test score= 0.981666666667\n",
      "[[58  0  0  0  0  0  0  0  0  0  0  0]\n",
      " [ 0 56  2  0  0  0  0  0  0  0  0  0]\n",
      " [ 0  0 60  0  0  0  0  0  0  0  2  0]\n",
      " [ 0  0  0 85  0  0  0  0  1  0  0  0]\n",
      " [ 0  0  0  0 29  0  0  0  0  0  0  0]\n",
      " [ 0  0  0  0  0 40  0  0  0  0  0  0]\n",
      " [ 0  0  0  0  0  0 65  0  0  0  0  0]\n",
      " [ 0  0  0  0  0  0  0 23  0  1  0  0]\n",
      " [ 0  0  0  1  0  1  0  0 22  0  0  0]\n",
      " [ 0  1  0  0  0  0  0  0  0 55  0  0]\n",
      " [ 0  0  0  0  0  0  0  0  0  2 79  0]\n",
      " [ 0  0  0  0  0  0  0  0  0  0  0 17]]\n",
      "             precision    recall  f1-score   support\n",
      "\n",
      "        1.0       1.00      1.00      1.00        58\n",
      "        2.0       0.98      0.97      0.97        58\n",
      "        3.0       0.97      0.97      0.97        62\n",
      "        4.0       0.99      0.99      0.99        86\n",
      "        5.0       1.00      1.00      1.00        29\n",
      "        6.0       0.98      1.00      0.99        40\n",
      "        7.0       1.00      1.00      1.00        65\n",
      "       12.0       1.00      0.96      0.98        24\n",
      "       13.0       0.96      0.92      0.94        24\n",
      "       16.0       0.95      0.98      0.96        56\n",
      "       17.0       0.98      0.98      0.98        81\n",
      "       24.0       1.00      1.00      1.00        17\n",
      "\n",
      "avg / total       0.98      0.98      0.98       600\n",
      "\n"
     ]
    }
   ],
   "source": [
    "y_pred_svm = svm_gs.predict(X_test_pca)\n",
    "print('test score=', svm_gs.score(X_test_pca, y_test))\n",
    "print(confusion_matrix(y_test, y_pred_svm))\n",
    "print(classification_report(y_test, y_pred_svm))"
   ]
  },
  {
   "cell_type": "markdown",
   "metadata": {},
   "source": [
    "**MinMax Scaler:**"
   ]
  },
  {
   "cell_type": "code",
   "execution_count": 31,
   "metadata": {},
   "outputs": [
    {
     "name": "stdout",
     "output_type": "stream",
     "text": [
      "Wall time: 10min 46s\n"
     ]
    },
    {
     "data": {
      "text/plain": [
       "GridSearchCV(cv=5, error_score='raise',\n",
       "       estimator=SVC(C=1.0, cache_size=200, class_weight=None, coef0=0.0,\n",
       "  decision_function_shape='ovr', degree=3, gamma='auto', kernel='rbf',\n",
       "  max_iter=-1, probability=False, random_state=None, shrinking=True,\n",
       "  tol=0.001, verbose=False),\n",
       "       fit_params=None, iid=True, n_jobs=1,\n",
       "       param_grid={'C': [0.05, 0.1, 0.3, 0.5, 1], 'kernel': ['linear', 'poly'], 'tol': [1, 0.5, 0.3, 0.1, 0.03, 0.01], 'class_weight': ['balanced', {1.0: 0.10270270270270271, 2.0: 0.097897897897897893, 3.0: 0.1012012012012012, 4.0: 0.12912912912912913, 5.0: 0.049849849849849852, 6.0: 0.087687687687687685, 7.0: 0.1012012012012012, 12.0: 0.047447447447447451, 13.0: 0.039339339339339342, 16.0: 0.092192192192192199, 17.0: 0.12912912912912913, 24.0: 0.022222222222222223}, None]},\n",
       "       pre_dispatch='2*n_jobs', refit=True, return_train_score='warn',\n",
       "       scoring=None, verbose=0)"
      ]
     },
     "execution_count": 31,
     "metadata": {},
     "output_type": "execute_result"
    }
   ],
   "source": [
    "svm = SVC()\n",
    "svm_gs2 = GridSearchCV(svm, svm_param_grid, cv=5)\n",
    "%time svm_gs2.fit(X2_train_pca, y2_train_pca)"
   ]
  },
  {
   "cell_type": "code",
   "execution_count": 32,
   "metadata": {},
   "outputs": [
    {
     "name": "stdout",
     "output_type": "stream",
     "text": [
      "Optimal Parameters: {'C': 0.05, 'class_weight': {1.0: 0.10270270270270271, 2.0: 0.097897897897897893, 3.0: 0.1012012012012012, 4.0: 0.12912912912912913, 5.0: 0.049849849849849852, 6.0: 0.087687687687687685, 7.0: 0.1012012012012012, 12.0: 0.047447447447447451, 13.0: 0.039339339339339342, 16.0: 0.092192192192192199, 17.0: 0.12912912912912913, 24.0: 0.022222222222222223}, 'kernel': 'linear', 'tol': 0.3}\n",
      "Best score: 0.9769230769230769\n"
     ]
    }
   ],
   "source": [
    "print(\"Optimal Parameters: {}\".format(svm_gs2.best_params_))\n",
    "print(\"Best score: {}\".format(svm_gs2.best_score_))"
   ]
  },
  {
   "cell_type": "code",
   "execution_count": 33,
   "metadata": {},
   "outputs": [
    {
     "name": "stdout",
     "output_type": "stream",
     "text": [
      "test score= 0.986666666667\n",
      "[[62  0  0  0  0  0  0  0  0  0  0  0]\n",
      " [ 0 50  2  0  0  0  0  0  0  0  0  0]\n",
      " [ 0  2 45  0  0  0  0  0  0  0  0  0]\n",
      " [ 0  0  0 77  0  0  0  0  0  0  0  0]\n",
      " [ 0  0  0  0 34  0  0  0  0  0  0  0]\n",
      " [ 0  0  0  0  0 52  0  0  0  0  0  0]\n",
      " [ 0  0  0  0  0  0 52  0  0  0  0  0]\n",
      " [ 0  0  0  0  0  0  0 30  1  0  0  0]\n",
      " [ 0  0  0  0  0  0  0  0 24  0  0  0]\n",
      " [ 0  0  0  0  0  0  0  0  0 66  2  0]\n",
      " [ 0  0  0  0  0  0  0  0  0  0 85  0]\n",
      " [ 0  0  0  0  0  0  1  0  0  0  0 15]]\n",
      "             precision    recall  f1-score   support\n",
      "\n",
      "        1.0       1.00      1.00      1.00        62\n",
      "        2.0       0.96      0.96      0.96        52\n",
      "        3.0       0.96      0.96      0.96        47\n",
      "        4.0       1.00      1.00      1.00        77\n",
      "        5.0       1.00      1.00      1.00        34\n",
      "        6.0       1.00      1.00      1.00        52\n",
      "        7.0       0.98      1.00      0.99        52\n",
      "       12.0       1.00      0.97      0.98        31\n",
      "       13.0       0.96      1.00      0.98        24\n",
      "       16.0       1.00      0.97      0.99        68\n",
      "       17.0       0.98      1.00      0.99        85\n",
      "       24.0       1.00      0.94      0.97        16\n",
      "\n",
      "avg / total       0.99      0.99      0.99       600\n",
      "\n"
     ]
    }
   ],
   "source": [
    "y2_pred_svm = svm_gs2.predict(X2_test_pca)\n",
    "print('test score=', svm_gs2.score(X2_test_pca, y2_test))\n",
    "print(confusion_matrix(y2_test, y2_pred_svm))\n",
    "print(classification_report(y2_test, y2_pred_svm))"
   ]
  },
  {
   "cell_type": "code",
   "execution_count": null,
   "metadata": {
    "collapsed": true
   },
   "outputs": [],
   "source": []
  }
 ],
 "metadata": {
  "kernelspec": {
   "display_name": "Python 3",
   "language": "python",
   "name": "python3"
  },
  "language_info": {
   "codemirror_mode": {
    "name": "ipython",
    "version": 3
   },
   "file_extension": ".py",
   "mimetype": "text/x-python",
   "name": "python",
   "nbconvert_exporter": "python",
   "pygments_lexer": "ipython3",
   "version": "3.6.6"
  }
 },
 "nbformat": 4,
 "nbformat_minor": 2
}
