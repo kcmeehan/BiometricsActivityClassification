{
 "cells": [
  {
   "cell_type": "code",
   "execution_count": 217,
   "metadata": {},
   "outputs": [],
   "source": [
    "#performs feature extraction\n",
    "\n",
    "import numpy as np\n",
    "import pandas as pd\n",
    "import matplotlib.pyplot as plt\n",
    "%matplotlib inline"
   ]
  },
  {
   "cell_type": "code",
   "execution_count": 218,
   "metadata": {},
   "outputs": [],
   "source": [
    "#read data for subject 101 from file, coplied mostly from cylin\n",
    "\n",
    "IMUlabels=['temp']+[x+y for x in ['a16_','a6_','gyro_','B_'] for y in ['x','y','z']]+['orient_'+x for x in ['1','2','3','4']]\n",
    "col_labels=['time','activity_ID','heart_rate']+[x+y for x in ['hand_','chest_','ankle_'] for y in IMUlabels]\n",
    "data=pd.read_csv('./PAMAP2_Dataset/Protocol/subject101.dat',sep=' ',names=col_labels,header=None)"
   ]
  },
  {
   "cell_type": "code",
   "execution_count": 219,
   "metadata": {},
   "outputs": [],
   "source": [
    "#linear interpolate missing data\n",
    "dataint=data.interpolate(method='linear')"
   ]
  },
  {
   "cell_type": "code",
   "execution_count": 220,
   "metadata": {},
   "outputs": [],
   "source": [
    "#dictionary converting activity id to activity name\n",
    "activity_dict={0:'other',1:'lying',2:'sitting',3:'standing',4:'walking',5:'running',6:'cycling',7:'nordic walking',\n",
    "              9:'watching TV',10:'computer work',11:'car driving',12:'ascending stairs',13:'descending stairs',\n",
    "              16:'vacuum cleaning',17:'ironing',18:'folding laundry',19:'house cleaning',20:'playing_soccer',\n",
    "              24:'rope jumping'}\n",
    "\n",
    "#sub column labels to be retained\n",
    "IMUsublabels=[x+y for x in ['a16_','gyro_','B_'] for y in ['x','y','z']]\n",
    "col_sublabels=['time','activity_ID','heart_rate']+[x+y for x in ['hand_','chest_','ankle_'] for y in ['temp']+IMUsublabels]\n",
    "\n",
    "#dictionary converting column name to column index\n",
    "col_dict={col_sublabels[i]:i for i in range(len(col_sublabels))}\n",
    "\n",
    "#drop columns for orientation and a_6\n",
    "data_sub=pd.DataFrame(dataint,columns=col_sublabels)\n",
    "\n",
    "#drop activity 0\n",
    "data_nz=data_sub.loc[lambda x:x['activity_ID']!=0]\n",
    "\n",
    "#convert to numpy: I am not familiar with pandas enough...\n",
    "data_ar=np.array(data_nz)\n",
    "\n",
    "#split data into maximal chunks of time, with same activity ids\n",
    "x=np.arange(len(data_ar))\n",
    "split_ind=np.argwhere(data_ar[x,1]!=data_ar[x-1,1])[:,0]\n",
    "split_ind=np.append(split_ind,len(data_ar+1))\n",
    "chunks=[data_ar[split_ind[i]:split_ind[i+1]] for i in range(len(split_ind)-1)]\n",
    "\n",
    "#drop the first and last 10 seconds\n",
    "chunks_chopped=[x[1000:-1000] for x in chunks]"
   ]
  },
  {
   "cell_type": "code",
   "execution_count": 221,
   "metadata": {},
   "outputs": [
    {
     "name": "stdout",
     "output_type": "stream",
     "text": [
      "['time', 'activity_ID', 'heart_rate', 'hand_temp', 'hand_a16_x', 'hand_a16_y', 'hand_a16_z', 'hand_gyro_x', 'hand_gyro_y', 'hand_gyro_z', 'hand_B_x', 'hand_B_y', 'hand_B_z', 'chest_temp', 'chest_a16_x', 'chest_a16_y', 'chest_a16_z', 'chest_gyro_x', 'chest_gyro_y', 'chest_gyro_z', 'chest_B_x', 'chest_B_y', 'chest_B_z', 'ankle_temp', 'ankle_a16_x', 'ankle_a16_y', 'ankle_a16_z', 'ankle_gyro_x', 'ankle_gyro_y', 'ankle_gyro_z', 'ankle_B_x', 'ankle_B_y', 'ankle_B_z']\n"
     ]
    }
   ],
   "source": [
    "print(col_sublabels)"
   ]
  },
  {
   "cell_type": "code",
   "execution_count": 222,
   "metadata": {},
   "outputs": [
    {
     "data": {
      "text/plain": [
       "[('lying', (25187, 33)),\n",
       " ('sitting', (21480, 33)),\n",
       " ('standing', (19717, 33)),\n",
       " ('ironing', (21573, 33)),\n",
       " ('vacuum cleaning', (20941, 33)),\n",
       " ('ascending stairs', (6120, 33)),\n",
       " ('descending stairs', (5480, 33)),\n",
       " ('ascending stairs', (5770, 33)),\n",
       " ('descending stairs', (5419, 33)),\n",
       " ('walking', (20253, 33)),\n",
       " ('nordic walking', (18265, 33)),\n",
       " ('cycling', (21575, 33)),\n",
       " ('running', (19265, 33)),\n",
       " ('rope jumping', (10912, 33))]"
      ]
     },
     "execution_count": 222,
     "metadata": {},
     "output_type": "execute_result"
    }
   ],
   "source": [
    "[(activity_dict[x[0,1]],x.shape) for x in chunks_chopped]"
   ]
  },
  {
   "cell_type": "code",
   "execution_count": 223,
   "metadata": {},
   "outputs": [],
   "source": [
    "def feat1(blocki):\n",
    "    #given blocki, a T-dim array, computes mean and std\n",
    "    mean=np.mean(blocki)\n",
    "    std=np.std(blocki)\n",
    "#    peak=np.max(blocki)\n",
    "    return mean,std"
   ]
  },
  {
   "cell_type": "code",
   "execution_count": 224,
   "metadata": {},
   "outputs": [
    {
     "data": {
      "text/plain": [
       "(103.951171875, 0.8054294919368868)"
      ]
     },
     "execution_count": 224,
     "metadata": {},
     "output_type": "execute_result"
    }
   ],
   "source": [
    "block=chunks_chopped[0][:512]\n",
    "feat1(block[:,2])"
   ]
  },
  {
   "cell_type": "code",
   "execution_count": 225,
   "metadata": {},
   "outputs": [],
   "source": [
    "def integral(series,imax=None):\n",
    "    #given array with positive entries, compute integral along axis 0 up to entry i, normalized such that the integral is 1 when i reaches the end\n",
    "    if imax==None:\n",
    "        imax=len(series)\n",
    "        tot=np.sum(series)\n",
    "    return np.array([np.sum(series[:i]) for i in range(imax)])/tot"
   ]
  },
  {
   "cell_type": "code",
   "execution_count": 226,
   "metadata": {},
   "outputs": [],
   "source": [
    "def feat2(blocki,ulist):\n",
    "    #ulist is a list of numbers {u_i} from 0 to 1. Computes at what frequency omega does the power spectrum integrated from 0 to omega gives u_i of the total.\n",
    "    T=len(blocki)\n",
    "    fourier=np.fft.rfft(blocki)\n",
    "    power_int=integral(abs(fourier)**2)\n",
    "    freq_list=[np.searchsorted(power_int,u) for u in ulist]\n",
    "    #peak frequency\n",
    "#    peak_freq=(np.argmax(abs(fourier)[freq_list[0]:])+freq_list[0])\n",
    "#    return np.array([peak_freq]+freq_list)*100/T\n",
    "    return np.array(freq_list)*100/T"
   ]
  },
  {
   "cell_type": "code",
   "execution_count": 227,
   "metadata": {},
   "outputs": [],
   "source": [
    "def feat3(blockixyz,ulist):\n",
    "    #similar to feat2, but the power is summed over x,y,z\n",
    "    T=len(blockixyz[0])\n",
    "    fourierx=np.fft.rfft(blockixyz[0])\n",
    "    fouriery=np.fft.rfft(blockixyz[1])\n",
    "    fourierz=np.fft.rfft(blockixyz[2])\n",
    "    \n",
    "    power_int=integral(abs(fourierx)**2+abs(fouriery)**2+abs(fourierz)**2)\n",
    "    freq_list=[np.searchsorted(power_int,u) for u in ulist]\n",
    "    return np.array(freq_list)*100/T"
   ]
  },
  {
   "cell_type": "code",
   "execution_count": 228,
   "metadata": {},
   "outputs": [
    {
     "data": {
      "image/png": "[encoded data removed]",
      "text/plain": [
       "<Figure size 432x288 with 2 Axes>"
      ]
     },
     "metadata": {},
     "output_type": "display_data"
    },
    {
     "name": "stdout",
     "output_type": "stream",
     "text": [
      "[1.3671875 2.34375   2.734375  3.90625   5.2734375]\n"
     ]
    }
   ],
   "source": [
    "#plot of fourier transform of hand_a16_x, and the power spectrum integral. block 5 seconds long. x-axis labels frequency\n",
    "\n",
    "block=chunks_chopped[-2][:512]\n",
    "ulist=[0.5,0.7,0.8,0.9,0.95]\n",
    "\n",
    "T=len(block)\n",
    "i=block[0,1]\n",
    "omega=np.arange(T//10)*100/T\n",
    "fourier=np.fft.rfft(block[:,col_dict['hand_a16_x']])\n",
    "power_int=integral(abs(fourier)**2)\n",
    "\n",
    "fig, ax1 = plt.subplots()\n",
    "ax1.plot(omega, abs(fourier)[:T//10])\n",
    "ax1.set_xlabel(activity_dict[i])\n",
    "\n",
    "ax2 = ax1.twinx()\n",
    "ax2.plot(omega, power_int[:T//10],'r')\n",
    "\n",
    "fig.tight_layout()\n",
    "plt.show()\n",
    "print(feat2(block[:,4],ulist))"
   ]
  },
  {
   "cell_type": "code",
   "execution_count": 229,
   "metadata": {},
   "outputs": [
    {
     "data": {
      "image/png": "[encoded data removed]",
      "text/plain": [
       "<Figure size 432x288 with 2 Axes>"
      ]
     },
     "metadata": {},
     "output_type": "display_data"
    },
    {
     "name": "stdout",
     "output_type": "stream",
     "text": [
      "[0.1953125 2.734375  3.90625   5.2734375]\n"
     ]
    }
   ],
   "source": [
    "#plot of \\sum_i(fourier transform of hand_a16_i)^2, and the power spectrum integral. block 5 seconds long. x-axis labels frequency\n",
    "block=chunks_chopped[-2][:512]\n",
    "ulist=[0.5,0.75,0.9,0.95]\n",
    "\n",
    "T=len(block)\n",
    "i=block[0,1]\n",
    "omega=np.arange(T//10)*100/T\n",
    "\n",
    "nx,ny,nz=[col_dict['hand_a16_'+i] for i in ['x','y','z']]\n",
    "\n",
    "fourierx=np.fft.rfft(block[:,nx])\n",
    "fouriery=np.fft.rfft(block[:,ny])\n",
    "fourierz=np.fft.rfft(block[:,nz])\n",
    "power_int=integral(abs(fourierx)**2+abs(fouriery)**2+abs(fourierz)**2)\n",
    "\n",
    "fig, ax1 = plt.subplots()\n",
    "ax1.plot(omega, (abs(fourierx)**2+abs(fouriery)**2+abs(fourierz)**2)[:T//10])\n",
    "ax1.set_xlabel(activity_dict[i])\n",
    "\n",
    "ax2 = ax1.twinx()\n",
    "ax2.plot(omega, power_int[:T//10],'r')\n",
    "\n",
    "fig.tight_layout()\n",
    "plt.show()\n",
    "print(feat3((block[:,nx],block[:,ny],block[:,nz]),ulist))"
   ]
  },
  {
   "cell_type": "code",
   "execution_count": 230,
   "metadata": {},
   "outputs": [
    {
     "data": {
      "image/png": "[encoded data removed]",
      "text/plain": [
       "<Figure size 432x288 with 2 Axes>"
      ]
     },
     "metadata": {},
     "output_type": "display_data"
    },
    {
     "name": "stdout",
     "output_type": "stream",
     "text": [
      "[1.3671875 1.5625    2.734375  4.6875   ]\n"
     ]
    }
   ],
   "source": [
    "#same plot for hand_gyro\n",
    "block=chunks_chopped[-2][:512]\n",
    "ulist=[0.5,0.75,0.9,0.95]\n",
    "\n",
    "T=len(block)\n",
    "i=block[0,1]\n",
    "omega=np.arange(T//10)*100/T\n",
    "\n",
    "nx,ny,nz=[col_dict['hand_gyro_'+i] for i in ['x','y','z']]\n",
    "\n",
    "fourierx=np.fft.rfft(block[:,nx])\n",
    "fouriery=np.fft.rfft(block[:,ny])\n",
    "fourierz=np.fft.rfft(block[:,nz])\n",
    "power_int=integral(abs(fourierx)**2+abs(fouriery)**2+abs(fourierz)**2)\n",
    "\n",
    "fig, ax1 = plt.subplots()\n",
    "ax1.plot(omega, (abs(fourierx)**2+abs(fouriery)**2+abs(fourierz)**2)[:T//10])\n",
    "ax1.set_xlabel(activity_dict[i])\n",
    "\n",
    "ax2 = ax1.twinx()\n",
    "ax2.plot(omega, power_int[:T//10],'r')\n",
    "\n",
    "fig.tight_layout()\n",
    "plt.show()\n",
    "print(feat3((block[:,nx],block[:,ny],block[:,nz]),[0.5,0.75,0.9,0.95]))"
   ]
  },
  {
   "cell_type": "code",
   "execution_count": 231,
   "metadata": {},
   "outputs": [
    {
     "data": {
      "image/png": "[encoded data removed]",
      "text/plain": [
       "<Figure size 432x288 with 2 Axes>"
      ]
     },
     "metadata": {},
     "output_type": "display_data"
    },
    {
     "name": "stdout",
     "output_type": "stream",
     "text": [
      "[0.06666667 0.06666667 1.26666667 1.33333333]\n"
     ]
    }
   ],
   "source": [
    "#same plot for hand_B\n",
    "\n",
    "block=chunks_chopped[-2][:1500]\n",
    "ulist=[0.5,0.75,0.9,0.95]\n",
    "\n",
    "T=len(block)\n",
    "i=block[0,1]\n",
    "omega=np.arange(T//10)*100/T\n",
    "\n",
    "nx,ny,nz=[col_dict['hand_B_'+i] for i in ['x','y','z']]\n",
    "\n",
    "fourierx=np.fft.rfft(block[:,nx])\n",
    "fouriery=np.fft.rfft(block[:,ny])\n",
    "fourierz=np.fft.rfft(block[:,nz])\n",
    "power_int=integral(abs(fourierx)**2+abs(fouriery)**2+abs(fourierz)**2)\n",
    "\n",
    "fig, ax1 = plt.subplots()\n",
    "ax1.plot(omega, (abs(fourierx)**2+abs(fouriery)**2+abs(fourierz)**2)[:T//10])\n",
    "ax1.set_xlabel(activity_dict[i])\n",
    "\n",
    "ax2 = ax1.twinx()\n",
    "ax2.plot(omega, power_int[:T//10],'r')\n",
    "\n",
    "fig.tight_layout()\n",
    "plt.show()\n",
    "print(feat3((block[:,nx],block[:,ny],block[:,nz]),ulist))"
   ]
  },
  {
   "cell_type": "code",
   "execution_count": 232,
   "metadata": {},
   "outputs": [],
   "source": [
    "#feature names\n",
    "\n",
    "def feat1name(s):\n",
    "    return [s+x for x in ['mean','std']]\n",
    "\n",
    "def feat2name(s,ulist):\n",
    "    return [s+'freq_'+str(x) for x in ulist]\n",
    "\n",
    "def feat_names(ulist):\n",
    "    names=feat1name('heart_rate_')\n",
    "    for part in ['hand_','chest_','ankle_']:\n",
    "        names+=feat1name(part+'temp_')\n",
    "        for subl1 in ['a16_','gyro_','B_']:\n",
    "            for subl2 in ['x_','y_','z_']:\n",
    "                names+=feat1name(part+subl1+subl2)\n",
    "            names+=feat2name(part+subl1,ulist)\n",
    "    return names"
   ]
  },
  {
   "cell_type": "code",
   "execution_count": 233,
   "metadata": {},
   "outputs": [
    {
     "data": {
      "text/plain": [
       "['heart_rate_mean',\n",
       " 'heart_rate_std',\n",
       " 'hand_temp_mean',\n",
       " 'hand_temp_std',\n",
       " 'hand_a16_x_mean',\n",
       " 'hand_a16_x_std',\n",
       " 'hand_a16_y_mean',\n",
       " 'hand_a16_y_std',\n",
       " 'hand_a16_z_mean',\n",
       " 'hand_a16_z_std',\n",
       " 'hand_a16_freq_0.5',\n",
       " 'hand_a16_freq_0.75',\n",
       " 'hand_a16_freq_0.9',\n",
       " 'hand_a16_freq_0.95',\n",
       " 'hand_gyro_x_mean',\n",
       " 'hand_gyro_x_std',\n",
       " 'hand_gyro_y_mean',\n",
       " 'hand_gyro_y_std',\n",
       " 'hand_gyro_z_mean',\n",
       " 'hand_gyro_z_std',\n",
       " 'hand_gyro_freq_0.5',\n",
       " 'hand_gyro_freq_0.75',\n",
       " 'hand_gyro_freq_0.9',\n",
       " 'hand_gyro_freq_0.95',\n",
       " 'hand_B_x_mean',\n",
       " 'hand_B_x_std',\n",
       " 'hand_B_y_mean',\n",
       " 'hand_B_y_std',\n",
       " 'hand_B_z_mean',\n",
       " 'hand_B_z_std',\n",
       " 'hand_B_freq_0.5',\n",
       " 'hand_B_freq_0.75',\n",
       " 'hand_B_freq_0.9',\n",
       " 'hand_B_freq_0.95',\n",
       " 'chest_temp_mean',\n",
       " 'chest_temp_std',\n",
       " 'chest_a16_x_mean',\n",
       " 'chest_a16_x_std',\n",
       " 'chest_a16_y_mean',\n",
       " 'chest_a16_y_std',\n",
       " 'chest_a16_z_mean',\n",
       " 'chest_a16_z_std',\n",
       " 'chest_a16_freq_0.5',\n",
       " 'chest_a16_freq_0.75',\n",
       " 'chest_a16_freq_0.9',\n",
       " 'chest_a16_freq_0.95',\n",
       " 'chest_gyro_x_mean',\n",
       " 'chest_gyro_x_std',\n",
       " 'chest_gyro_y_mean',\n",
       " 'chest_gyro_y_std',\n",
       " 'chest_gyro_z_mean',\n",
       " 'chest_gyro_z_std',\n",
       " 'chest_gyro_freq_0.5',\n",
       " 'chest_gyro_freq_0.75',\n",
       " 'chest_gyro_freq_0.9',\n",
       " 'chest_gyro_freq_0.95',\n",
       " 'chest_B_x_mean',\n",
       " 'chest_B_x_std',\n",
       " 'chest_B_y_mean',\n",
       " 'chest_B_y_std',\n",
       " 'chest_B_z_mean',\n",
       " 'chest_B_z_std',\n",
       " 'chest_B_freq_0.5',\n",
       " 'chest_B_freq_0.75',\n",
       " 'chest_B_freq_0.9',\n",
       " 'chest_B_freq_0.95',\n",
       " 'ankle_temp_mean',\n",
       " 'ankle_temp_std',\n",
       " 'ankle_a16_x_mean',\n",
       " 'ankle_a16_x_std',\n",
       " 'ankle_a16_y_mean',\n",
       " 'ankle_a16_y_std',\n",
       " 'ankle_a16_z_mean',\n",
       " 'ankle_a16_z_std',\n",
       " 'ankle_a16_freq_0.5',\n",
       " 'ankle_a16_freq_0.75',\n",
       " 'ankle_a16_freq_0.9',\n",
       " 'ankle_a16_freq_0.95',\n",
       " 'ankle_gyro_x_mean',\n",
       " 'ankle_gyro_x_std',\n",
       " 'ankle_gyro_y_mean',\n",
       " 'ankle_gyro_y_std',\n",
       " 'ankle_gyro_z_mean',\n",
       " 'ankle_gyro_z_std',\n",
       " 'ankle_gyro_freq_0.5',\n",
       " 'ankle_gyro_freq_0.75',\n",
       " 'ankle_gyro_freq_0.9',\n",
       " 'ankle_gyro_freq_0.95',\n",
       " 'ankle_B_x_mean',\n",
       " 'ankle_B_x_std',\n",
       " 'ankle_B_y_mean',\n",
       " 'ankle_B_y_std',\n",
       " 'ankle_B_z_mean',\n",
       " 'ankle_B_z_std',\n",
       " 'ankle_B_freq_0.5',\n",
       " 'ankle_B_freq_0.75',\n",
       " 'ankle_B_freq_0.9',\n",
       " 'ankle_B_freq_0.95']"
      ]
     },
     "execution_count": 233,
     "metadata": {},
     "output_type": "execute_result"
    }
   ],
   "source": [
    "ulist=[0.5,0.75,0.9,0.95]\n",
    "feat_names(ulist)"
   ]
  },
  {
   "cell_type": "code",
   "execution_count": 234,
   "metadata": {},
   "outputs": [],
   "source": [
    "def feat_row(block,ulist):\n",
    "    #extract features from block. uses feat1 for all variables, uses feat3 for a16,gyro and B data\n",
    "    heart_feat=feat1(block[:,col_dict['heart_rate']])\n",
    "    all_feat=heart_feat\n",
    "    for part in ['hand_','chest_','ankle_']:\n",
    "        part_feat=feat1(block[:,col_dict[part+'temp']])\n",
    "        for subl1 in ['a16_','gyro_','B_']:\n",
    "            for subl2 in ['x','y','z']:\n",
    "                part_feat=np.concatenate((part_feat,feat1(block[:,col_dict[part+subl1+subl2]])))\n",
    "            nx,ny,nz=[col_dict[part+subl1+i] for i in ['x','y','z']]\n",
    "            part_feat=np.concatenate((part_feat,feat3((block[:,nx],block[:,ny],block[:,nz]),ulist)))\n",
    "        all_feat=np.concatenate((all_feat,part_feat))\n",
    "    return all_feat"
   ]
  },
  {
   "cell_type": "code",
   "execution_count": 235,
   "metadata": {},
   "outputs": [
    {
     "data": {
      "text/plain": [
       "(98,)"
      ]
     },
     "execution_count": 235,
     "metadata": {},
     "output_type": "execute_result"
    }
   ],
   "source": [
    "#total no of features: 98=( 2*(1+3*(1+3*3))=62 from feat1, plus 4*(3*3)=36 from feat3 )\n",
    "feat_row(block,ulist).shape"
   ]
  },
  {
   "cell_type": "code",
   "execution_count": 236,
   "metadata": {},
   "outputs": [],
   "source": [
    "#collect data into traindata and trainlabels\n",
    "\n",
    "traindata=np.empty((0,98))\n",
    "trainlabels=np.empty((0))\n",
    "T=512\n",
    "stride=100\n",
    "for chunki in chunks_chopped:\n",
    "    imax=(len(chunki)-T)//stride\n",
    "    for i in range(imax):\n",
    "        feat_rowi=feat_row(chunki[i*stride:i*stride+T],ulist)\n",
    "        traindata=np.append(traindata,[feat_rowi],axis=0)\n",
    "        trainlabels=np.append(trainlabels,chunki[0,1])"
   ]
  },
  {
   "cell_type": "code",
   "execution_count": 248,
   "metadata": {},
   "outputs": [],
   "source": [
    "#very clumsy way to attach label column to data matrix. sorry\n",
    "datalabels=np.hstack((traindata,np.reshape(trainlabels,(len(trainlabels),1))))\n",
    "\n",
    "np.save('data1.npy', (feat_names(ulist),datalabels))"
   ]
  },
  {
   "cell_type": "code",
   "execution_count": null,
   "metadata": {},
   "outputs": [],
   "source": []
  }
 ],
 "metadata": {
  "kernelspec": {
   "display_name": "Python 3",
   "language": "python",
   "name": "python3"
  },
  "language_info": {
   "codemirror_mode": {
    "name": "ipython",
    "version": 3
   },
   "file_extension": ".py",
   "mimetype": "text/x-python",
   "name": "python",
   "nbconvert_exporter": "python",
   "pygments_lexer": "ipython3",
   "version": "3.6.5"
  }
 },
 "nbformat": 4,
 "nbformat_minor": 2
}
